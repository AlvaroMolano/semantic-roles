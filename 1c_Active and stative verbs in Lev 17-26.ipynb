{
 "cells": [
  {
   "cell_type": "markdown",
   "metadata": {},
   "source": [
    "# 1c Active and stative verbs in Leviticus 17-26"
   ]
  },
  {
   "cell_type": "code",
   "execution_count": null,
   "metadata": {},
   "outputs": [],
   "source": [
    "#Dataset path\n",
    "PATH = \"datasets/\"\n",
    "\n",
    "import pandas as pd\n",
    "import numpy as np\n",
    "import collections\n",
    "from IPython.display import clear_output\n",
    "from tf.app import use"
   ]
  },
  {
   "cell_type": "code",
   "execution_count": null,
   "metadata": {},
   "outputs": [],
   "source": [
    "A = use('bhsa', hoist=globals())"
   ]
  },
  {
   "cell_type": "code",
   "execution_count": null,
   "metadata": {},
   "outputs": [],
   "source": [
    "verbs_qal = '''\n",
    "book book=Leviticus\n",
    " chapter chapter=17|18|19|20|21|22|23|24|25|26\n",
    "   phrase function=Pred|PreO|PreS|PreC|PtcO\n",
    "     word pdp=verb vs=qal\n",
    "'''\n",
    "\n",
    "verbs_qal = A.search(verbs_qal)"
   ]
  },
  {
   "cell_type": "code",
   "execution_count": null,
   "metadata": {},
   "outputs": [],
   "source": [
    "unique_verbs_qal = set()\n",
    "\n",
    "for r in verbs_qal:\n",
    "    unique_verbs_qal.add(F.lex.v(r[3]))\n",
    "    \n",
    "len(unique_verbs_qal)"
   ]
  },
  {
   "cell_type": "markdown",
   "metadata": {},
   "source": [
    "## Compare with active/stative verbs"
   ]
  },
  {
   "cell_type": "code",
   "execution_count": null,
   "metadata": {},
   "outputs": [],
   "source": [
    "data = pd.read_csv(f'{PATH}active_stative_verbs_pca_evaluated.csv')\n",
    "data = data[['lex','Aktionsart', '0']]\n",
    "data.columns = ['lex','Aktionsart', 'evaluation']\n",
    "data.head()"
   ]
  },
  {
   "cell_type": "code",
   "execution_count": null,
   "metadata": {},
   "outputs": [],
   "source": [
    "data['lexemes'] = [r[:r.index('#')] for r in list(data.lex)]"
   ]
  },
  {
   "cell_type": "code",
   "execution_count": null,
   "metadata": {},
   "outputs": [],
   "source": [
    "data.head()"
   ]
  },
  {
   "cell_type": "code",
   "execution_count": null,
   "metadata": {},
   "outputs": [],
   "source": [
    "identified_verbs = set()\n",
    "\n",
    "for lex in unique_verbs_qal:\n",
    "    if lex in list(data.lexemes):\n",
    "        identified_verbs.add(lex)\n",
    "        \n",
    "len(identified_verbs)"
   ]
  },
  {
   "cell_type": "code",
   "execution_count": null,
   "metadata": {},
   "outputs": [],
   "source": [
    "#identified_verbs"
   ]
  },
  {
   "cell_type": "markdown",
   "metadata": {},
   "source": [
    "How many of the verbs are analyzed correctly according to previous manual validation?"
   ]
  },
  {
   "cell_type": "code",
   "execution_count": null,
   "metadata": {},
   "outputs": [],
   "source": [
    "Lev_df = data[data.lexemes.isin(identified_verbs)]"
   ]
  },
  {
   "cell_type": "code",
   "execution_count": null,
   "metadata": {},
   "outputs": [],
   "source": [
    "pd.crosstab(index=Lev_df.evaluation, columns='count')"
   ]
  },
  {
   "cell_type": "markdown",
   "metadata": {},
   "source": [
    "### Review expected verbs"
   ]
  },
  {
   "cell_type": "code",
   "execution_count": null,
   "metadata": {},
   "outputs": [],
   "source": [
    "Lev_df[Lev_df.evaluation == 'EXP']"
   ]
  },
  {
   "cell_type": "markdown",
   "metadata": {},
   "source": [
    "### Review cases marked with question-mark\n",
    "\n",
    "We will explore the annotations marked as ? (unexpected) and review the annotation. The lexemes in question are:"
   ]
  },
  {
   "cell_type": "code",
   "execution_count": null,
   "metadata": {
    "scrolled": true
   },
   "outputs": [],
   "source": [
    "sur_lex = list(Lev_df[Lev_df.evaluation == '?'].lexemes)\n",
    "sur_lex"
   ]
  },
  {
   "cell_type": "markdown",
   "metadata": {},
   "source": [
    "A number of the surprising cases involve so-called transfer verbs, such as \"give\" (NTN), \"take\" (LQX), \"put\" (FJM). Transfer verbs are inherently causative because the agent of the transfer causes the object to be somewhere else, or a patient to become in possesion of the object. Therefore, transfer verbs combine activity and stativity features because there is an active causation and the caused, stative situation. All transferverbs should be marked as stative and causative.\n",
    "\n",
    "The verbs and their aspect is added to a dictionary for storage:"
   ]
  },
  {
   "cell_type": "code",
   "execution_count": null,
   "metadata": {},
   "outputs": [],
   "source": [
    "Aktionsart_upd = {}"
   ]
  },
  {
   "cell_type": "code",
   "execution_count": null,
   "metadata": {},
   "outputs": [],
   "source": [
    "Aktionsart_upd['LQX['] = 'stative'\n",
    "Aktionsart_upd['NTN['] = 'stative'"
   ]
  },
  {
   "cell_type": "markdown",
   "metadata": {},
   "source": [
    "The other cases will be reviewed one by one by means of exploring all instances in Lev 17-26:"
   ]
  },
  {
   "cell_type": "code",
   "execution_count": null,
   "metadata": {
    "scrolled": false
   },
   "outputs": [],
   "source": [
    "query = '''\n",
    "book book=Leviticus\n",
    " chapter chapter=17|18|19|20|21|22|23|24|25|26\n",
    "  clause\n",
    "   phrase function=Pred|PreO|PreS|PreC|PtcO\n",
    "    word lex={} vs=qal\n",
    "'''\n",
    "\n",
    "def display(lex):\n",
    "    results = A.search(query.format(lex))\n",
    "    A.show(results)"
   ]
  },
  {
   "cell_type": "markdown",
   "metadata": {},
   "source": [
    "#### <BD \"work, serve\""
   ]
  },
  {
   "cell_type": "code",
   "execution_count": null,
   "metadata": {
    "scrolled": true
   },
   "outputs": [],
   "source": [
    "display(sur_lex[0])"
   ]
  },
  {
   "cell_type": "markdown",
   "metadata": {},
   "source": [
    "The first example is difficult because it denotes a causative situation: \"You may not have him work as a slave\". The other examples are more straight-forward and simply means \"to work/serve\". However, the most general aspect of this verb is activity."
   ]
  },
  {
   "cell_type": "code",
   "execution_count": null,
   "metadata": {},
   "outputs": [],
   "source": [
    "Aktionsart_upd['<BD['] = 'active'"
   ]
  },
  {
   "cell_type": "markdown",
   "metadata": {},
   "source": [
    "#### <BR \"pass\""
   ]
  },
  {
   "cell_type": "code",
   "execution_count": null,
   "metadata": {
    "scrolled": true
   },
   "outputs": [],
   "source": [
    "display(sur_lex[1])"
   ]
  },
  {
   "cell_type": "markdown",
   "metadata": {},
   "source": [
    "One of the meanings of <BR is to \"pass through\", that is, an activity. We can explore the verb with adverbial modifiers in the rest of the corpus:"
   ]
  },
  {
   "cell_type": "code",
   "execution_count": null,
   "metadata": {
    "scrolled": true
   },
   "outputs": [],
   "source": [
    "A.show(A.search(query_corpus.format('<BR[', 'Time'), sets=sets))"
   ]
  },
  {
   "cell_type": "markdown",
   "metadata": {},
   "source": [
    "We annotate the verb as an active verb."
   ]
  },
  {
   "cell_type": "code",
   "execution_count": null,
   "metadata": {},
   "outputs": [],
   "source": [
    "Aktionsart_upd['<BR['] = 'active'"
   ]
  },
  {
   "cell_type": "markdown",
   "metadata": {},
   "source": [
    "#### HLK \"walk\""
   ]
  },
  {
   "cell_type": "code",
   "execution_count": null,
   "metadata": {},
   "outputs": [],
   "source": [
    "display(sur_lex[2])"
   ]
  },
  {
   "cell_type": "code",
   "execution_count": null,
   "metadata": {},
   "outputs": [],
   "source": [
    "Aktionsart_upd['HLK['] = 'active'"
   ]
  },
  {
   "cell_type": "markdown",
   "metadata": {},
   "source": [
    "#### JR> \"fear\""
   ]
  },
  {
   "cell_type": "code",
   "execution_count": null,
   "metadata": {},
   "outputs": [],
   "source": [
    "display(sur_lex[3])"
   ]
  },
  {
   "cell_type": "code",
   "execution_count": null,
   "metadata": {},
   "outputs": [],
   "source": [
    "Aktionsart_upd['JR>['] = 'stative'"
   ]
  },
  {
   "cell_type": "markdown",
   "metadata": {},
   "source": [
    "#### NG< \"touch\""
   ]
  },
  {
   "cell_type": "code",
   "execution_count": null,
   "metadata": {},
   "outputs": [],
   "source": [
    "display(sur_lex[5])"
   ]
  },
  {
   "cell_type": "code",
   "execution_count": null,
   "metadata": {},
   "outputs": [],
   "source": [
    "Aktionsart_upd['NG<['] = 'active'"
   ]
  },
  {
   "cell_type": "markdown",
   "metadata": {},
   "source": [
    "#### NPL \"fall\""
   ]
  },
  {
   "cell_type": "code",
   "execution_count": null,
   "metadata": {},
   "outputs": [],
   "source": [
    "display(sur_lex[6])"
   ]
  },
  {
   "cell_type": "code",
   "execution_count": null,
   "metadata": {},
   "outputs": [],
   "source": [
    "Aktionsart_upd['NPL['] = 'stative'"
   ]
  },
  {
   "cell_type": "markdown",
   "metadata": {},
   "source": [
    "#### RXY \"wash\""
   ]
  },
  {
   "cell_type": "code",
   "execution_count": null,
   "metadata": {},
   "outputs": [],
   "source": [
    "display(sur_lex[8])"
   ]
  },
  {
   "cell_type": "code",
   "execution_count": null,
   "metadata": {},
   "outputs": [],
   "source": [
    "Aktionsart_upd['RXY['] = 'stative'"
   ]
  },
  {
   "cell_type": "markdown",
   "metadata": {},
   "source": [
    "#### XV> \"miss\""
   ]
  },
  {
   "cell_type": "code",
   "execution_count": null,
   "metadata": {},
   "outputs": [],
   "source": [
    "display(sur_lex[9])"
   ]
  },
  {
   "cell_type": "code",
   "execution_count": null,
   "metadata": {},
   "outputs": [],
   "source": [
    "Aktionsart_upd['XV>['] = 'stative'"
   ]
  },
  {
   "cell_type": "markdown",
   "metadata": {},
   "source": [
    "#### ZBX \"slaughter\""
   ]
  },
  {
   "cell_type": "code",
   "execution_count": null,
   "metadata": {},
   "outputs": [],
   "source": [
    "display(sur_lex[10])"
   ]
  },
  {
   "cell_type": "markdown",
   "metadata": {},
   "source": [
    "Both CXV \"slaughter\" and ZBX \"slaughter\" are generally used for ritual slaughter. According to Snaith, HRG \"kill\" is used in non-ritual contexts. Probably all terms imply causation of being dead, although with a focus on the process rather than the induced state of being.\n",
    "\n",
    "For this reason, we retain CXV as stative and change ZBX into stative:"
   ]
  },
  {
   "cell_type": "code",
   "execution_count": null,
   "metadata": {},
   "outputs": [],
   "source": [
    "Lev_df[Lev_df.lexemes == 'ZBX[']"
   ]
  },
  {
   "cell_type": "code",
   "execution_count": null,
   "metadata": {
    "scrolled": false
   },
   "outputs": [],
   "source": [
    "#A.show(A.search(query.format('ZBX[')))"
   ]
  },
  {
   "cell_type": "code",
   "execution_count": null,
   "metadata": {},
   "outputs": [],
   "source": [
    "Aktionsart_upd['ZBX['] = 'stative'"
   ]
  },
  {
   "cell_type": "markdown",
   "metadata": {},
   "source": [
    "### Summary\n",
    "\n",
    "We have now reviewed all unexpected cases. Some annotations have been retained, while the most annoations have been changed according to closer scrutiny.\n",
    "\n",
    "We verify that all explored verbs are added to the new dictionary:"
   ]
  },
  {
   "cell_type": "code",
   "execution_count": null,
   "metadata": {},
   "outputs": [],
   "source": [
    "print(f'Missing cases: {len([lex for lex in sur_lex if lex not in Aktionsart_upd])}')"
   ]
  },
  {
   "cell_type": "markdown",
   "metadata": {},
   "source": [
    "Accordingly, the following updates are made to the dataset:"
   ]
  },
  {
   "cell_type": "code",
   "execution_count": null,
   "metadata": {},
   "outputs": [],
   "source": [
    "new_Aktionsart = [] #We create a list of all Aktionsart - changes or not - and add this list as a new column\n",
    "no_changes = [] #We collect those cases where the lexeme under investigation has had its Aktionsart changed\n",
    "\n",
    "for row in Lev_df.iterrows():    \n",
    "    old_Aktionsart = row[1].Aktionsart\n",
    "    lex = row[1].lexemes\n",
    "\n",
    "    if lex in Aktionsart_upd:\n",
    "        new_Aktionsart.append(Aktionsart_upd[lex])\n",
    "        \n",
    "        if old_Aktionsart != Aktionsart_upd[lex]:\n",
    "            print(f'{lex}: {old_Aktionsart} >> {Aktionsart_upd[lex]}')\n",
    "            \n",
    "        else:\n",
    "            no_changes.append(lex)\n",
    "    \n",
    "    else:\n",
    "        new_Aktionsart.append(old_Aktionsart)\n",
    "        \n",
    "print('\\n---------------------------------')\n",
    "print('No changes made:\\n')\n",
    "for lex in no_changes:\n",
    "    print(lex)\n",
    "\n",
    "Lev_df['new_Aktionsart'] = new_Aktionsart"
   ]
  },
  {
   "cell_type": "code",
   "execution_count": null,
   "metadata": {},
   "outputs": [],
   "source": [
    "Lev_df.head()"
   ]
  },
  {
   "cell_type": "code",
   "execution_count": null,
   "metadata": {},
   "outputs": [],
   "source": [
    "Lev_df.to_csv(f'{PATH}Lev17-26_Aktionsart_qal_pca_corrected.csv', index=None)"
   ]
  },
  {
   "cell_type": "markdown",
   "metadata": {},
   "source": [
    "## Annotating remaining *Qal*-verbs\n",
    "\n",
    "We apt for a simple annotation procedure. Possible annotations for each verb is \"stative\", \"active\", or \"?\" if the verb is difficult. Difficult verbs will be futher scrutinized later but there is no need to spend too much time on relatively straight-forward verbs."
   ]
  },
  {
   "cell_type": "code",
   "execution_count": null,
   "metadata": {},
   "outputs": [],
   "source": [
    "annotations = 'STA ACT ?'.split()\n",
    "\n",
    "STOP = 'stop'\n",
    "error_message = \"Input is invalid\""
   ]
  },
  {
   "cell_type": "code",
   "execution_count": null,
   "metadata": {},
   "outputs": [],
   "source": [
    "def input_loop(question, right_answer):\n",
    "    '''\n",
    "    input_loop is used when the user is required to make an input. Question has to be a string,\n",
    "    while right_answer is a list of accepted answer(s).\n",
    "    '''\n",
    "    while True:\n",
    "        test = input(f'{question} ({\",\".join(right_answer)})') #The user is required to respond to message.\n",
    "        if test in right_answer:\n",
    "            return test\n",
    "        elif test in [STOP]: #Input is accepted\n",
    "            return test\n",
    "        else: #Input is wrong and the user has respond again.\n",
    "            print(error_message)"
   ]
  },
  {
   "cell_type": "code",
   "execution_count": null,
   "metadata": {},
   "outputs": [],
   "source": [
    "def user_input(verbs, query):\n",
    "    answers = {}\n",
    "    \n",
    "    for v in verbs:\n",
    "        clear_output()\n",
    "        \n",
    "        examples = A.search(query.format(v), sets=sets)\n",
    "        A.show(examples, end=5)\n",
    "        \n",
    "        question = f'Aktionsart?'\n",
    "\n",
    "        Aktionsart = input_loop(question, annotations)\n",
    "        \n",
    "        if Aktionsart != STOP:\n",
    "            \n",
    "            category = input('Assign catogory (e.g. motion, speech, cognitive, etc.)')\n",
    "            \n",
    "            comment = input('Make comment')\n",
    "\n",
    "        if Aktionsart == STOP:\n",
    "            return answers\n",
    "        else:\n",
    "            answers[v] = Aktionsart, category, comment\n",
    "    return answers"
   ]
  },
  {
   "cell_type": "code",
   "execution_count": null,
   "metadata": {},
   "outputs": [],
   "source": [
    "prev_runs = []\n",
    "\n",
    "def getVerbs(orig_data, prev_runs):\n",
    "   \n",
    "    annotated_verbs = []\n",
    "    remaining_verbs = []\n",
    "         \n",
    "    ##1. Check previous runs (dictionaries with annotations)\n",
    "    for r in prev_runs:\n",
    "        for verb in r:\n",
    "            annotated_verbs.append(verb)\n",
    "            \n",
    "    ##2. Determine the remaining clauses\n",
    "    for verb in orig_data:\n",
    "        if not verb in annotated_verbs:\n",
    "            remaining_verbs.append(verb)\n",
    "    \n",
    "    return remaining_verbs\n",
    "        \n",
    "verbs = getVerbs(remaining_verbs,prev_runs)"
   ]
  },
  {
   "cell_type": "code",
   "execution_count": null,
   "metadata": {},
   "outputs": [],
   "source": [
    "len(verbs)"
   ]
  },
  {
   "cell_type": "code",
   "execution_count": null,
   "metadata": {
    "scrolled": false
   },
   "outputs": [],
   "source": [
    "run4 = user_input(verbs)"
   ]
  },
  {
   "cell_type": "markdown",
   "metadata": {},
   "source": [
    "### Merge outputs"
   ]
  },
  {
   "cell_type": "code",
   "execution_count": null,
   "metadata": {},
   "outputs": [],
   "source": [
    "outputs = [run1, run2, run3, run4]\n",
    "\n",
    "new_dict = {}\n",
    "for r in outputs:\n",
    "    for lex in r:\n",
    "        new_dict[lex] = r[lex]\n",
    "        \n",
    "df = pd.DataFrame(new_dict).T\n",
    "df.head()"
   ]
  },
  {
   "cell_type": "code",
   "execution_count": null,
   "metadata": {},
   "outputs": [],
   "source": [
    "df.to_csv(f'{PATH}Lev17-26_Aktionsart_qal.csv')"
   ]
  },
  {
   "cell_type": "markdown",
   "metadata": {},
   "source": [
    "### Reviewing *Aktionsart* of *Qal*-verbs"
   ]
  },
  {
   "cell_type": "code",
   "execution_count": null,
   "metadata": {},
   "outputs": [],
   "source": [
    "data = pd.read_csv(f'{PATH}Lev17-26_Aktionsart_qal.csv')\n",
    "data.columns = ['lex','Aktionsart','class','comment']\n",
    "data.head()"
   ]
  },
  {
   "cell_type": "markdown",
   "metadata": {},
   "source": [
    "We are going to review those verbs that have been question-marked as ambigious cases:"
   ]
  },
  {
   "cell_type": "code",
   "execution_count": null,
   "metadata": {},
   "outputs": [],
   "source": [
    "pd.crosstab(index=data.Aktionsart, columns='count')"
   ]
  },
  {
   "cell_type": "code",
   "execution_count": null,
   "metadata": {},
   "outputs": [],
   "source": [
    "rev_lex = list(data[data.Aktionsart == '?'].lex)\n",
    "rev_lex.sort()"
   ]
  },
  {
   "cell_type": "code",
   "execution_count": null,
   "metadata": {},
   "outputs": [],
   "source": [
    "#rev_lex"
   ]
  },
  {
   "cell_type": "code",
   "execution_count": null,
   "metadata": {},
   "outputs": [],
   "source": [
    "Aktionsart_upd1 = {}"
   ]
  },
  {
   "cell_type": "code",
   "execution_count": null,
   "metadata": {},
   "outputs": [],
   "source": [
    "corpus = [book for book in F.otype.s('book') if book < T.nodeFromSection(('Isaiah',))]\n",
    "sets={'corpus':corpus} # make set for searching\n",
    "\n",
    "query_corpus = '''\n",
    "corpus\n",
    " clause\n",
    "   phrase function=Pred|PreO|PreS\n",
    "     word lex={} vs={}\n",
    "   phrase function={}\n",
    "'''\n",
    "\n",
    "def displayCorpus(lex, stem='qal', function='Cmpl|Modi|Time'):\n",
    "    results = A.search(query_corpus.format(lex, stem, function), sets=sets)\n",
    "    A.show(results)"
   ]
  },
  {
   "cell_type": "markdown",
   "metadata": {},
   "source": [
    "#### <CQ \"oppress\""
   ]
  },
  {
   "cell_type": "code",
   "execution_count": null,
   "metadata": {
    "scrolled": true
   },
   "outputs": [],
   "source": [
    "display(rev_lex[0])"
   ]
  },
  {
   "cell_type": "code",
   "execution_count": null,
   "metadata": {},
   "outputs": [],
   "source": [
    "displayCorpus(rev_lex[1],'Cmpl|Time|Loca|Adju|Objc')"
   ]
  },
  {
   "cell_type": "markdown",
   "metadata": {},
   "source": [
    "In the corpus the verb occurs rarely with modifiers and never with temporal modifiers. It may signal a weakened situation on behalf of the object, a human being, who is being oppressed. Therefore with a new, stative end result."
   ]
  },
  {
   "cell_type": "code",
   "execution_count": null,
   "metadata": {},
   "outputs": [],
   "source": [
    "Aktionsart_upd1['<CQ['] = 'stative'"
   ]
  },
  {
   "cell_type": "markdown",
   "metadata": {},
   "source": [
    "#### <ZB \"leave\""
   ]
  },
  {
   "cell_type": "code",
   "execution_count": null,
   "metadata": {},
   "outputs": [],
   "source": [
    "display(rev_lex[1])"
   ]
  },
  {
   "cell_type": "markdown",
   "metadata": {},
   "source": [
    "\"leave\" can refer to the subject who is to depart or leave, but it can also refer to the object that is to be left. This is the sense in Leviticus. The difference is between \"leave\" and \"leave behind\". Here, the verb should be annotated causative stative"
   ]
  },
  {
   "cell_type": "code",
   "execution_count": null,
   "metadata": {},
   "outputs": [],
   "source": [
    "Aktionsart_upd1['<ZB['] = 'stative'"
   ]
  },
  {
   "cell_type": "markdown",
   "metadata": {},
   "source": [
    "#### >BD \"perish\""
   ]
  },
  {
   "cell_type": "code",
   "execution_count": null,
   "metadata": {
    "scrolled": true
   },
   "outputs": [],
   "source": [
    "display(rev_lex[2])"
   ]
  },
  {
   "cell_type": "code",
   "execution_count": null,
   "metadata": {},
   "outputs": [],
   "source": [
    "displayCorpus(rev_lex[0], 'Cmpl')"
   ]
  },
  {
   "cell_type": "markdown",
   "metadata": {},
   "source": [
    "The verb >BD occurs several time with modifiers denoting duration (\"quicly\") and endpoint (\"until your are/become perished\"). It is probably an accomplishment of a stative verb."
   ]
  },
  {
   "cell_type": "code",
   "execution_count": null,
   "metadata": {},
   "outputs": [],
   "source": [
    "Aktionsart_upd1['>BD['] = 'stative'"
   ]
  },
  {
   "cell_type": "markdown",
   "metadata": {},
   "source": [
    "#### FMX \"rejoice\""
   ]
  },
  {
   "cell_type": "code",
   "execution_count": null,
   "metadata": {
    "scrolled": true
   },
   "outputs": [],
   "source": [
    "display(rev_lex[4])"
   ]
  },
  {
   "cell_type": "markdown",
   "metadata": {},
   "source": [
    "Rejoice denotes an activity that can take place over a course of time at a specific location."
   ]
  },
  {
   "cell_type": "code",
   "execution_count": null,
   "metadata": {},
   "outputs": [],
   "source": [
    "Lev_df[Lev_df.lexemes == 'FMX[']"
   ]
  },
  {
   "cell_type": "code",
   "execution_count": null,
   "metadata": {},
   "outputs": [],
   "source": [
    "Aktionsart_upd1['FMX['] = 'active'"
   ]
  },
  {
   "cell_type": "markdown",
   "metadata": {},
   "source": [
    "#### FRP \"burn\""
   ]
  },
  {
   "cell_type": "code",
   "execution_count": null,
   "metadata": {
    "scrolled": true
   },
   "outputs": [],
   "source": [
    "display(rev_lex[5])"
   ]
  },
  {
   "cell_type": "markdown",
   "metadata": {},
   "source": [
    "\"To burn\" is an activity. The complement \"in/with (ב) fire\" denotes the instrument of this activity. Winther-Nielsen analyzes the verb as a consumption verb (active). However, it seems to involve a termination of being - and the Actor (the fire) is not affected by event, therefore stative."
   ]
  },
  {
   "cell_type": "code",
   "execution_count": null,
   "metadata": {},
   "outputs": [],
   "source": [
    "Aktionsart_upd1['FRP['] = 'stative'"
   ]
  },
  {
   "cell_type": "markdown",
   "metadata": {},
   "source": [
    "#### GZL \"tear away\""
   ]
  },
  {
   "cell_type": "code",
   "execution_count": null,
   "metadata": {
    "scrolled": true
   },
   "outputs": [],
   "source": [
    "displayCorpus(rev_lex[6], 'Time|Cmpl|Modi')"
   ]
  },
  {
   "cell_type": "markdown",
   "metadata": {},
   "source": [
    "The verb has the sense of removing, that is, causative of not being at a location."
   ]
  },
  {
   "cell_type": "code",
   "execution_count": null,
   "metadata": {},
   "outputs": [],
   "source": [
    "Aktionsart_upd1['GZL['] = 'stative'"
   ]
  },
  {
   "cell_type": "markdown",
   "metadata": {},
   "source": [
    "#### HDR \"honour\""
   ]
  },
  {
   "cell_type": "code",
   "execution_count": null,
   "metadata": {
    "scrolled": true
   },
   "outputs": [],
   "source": [
    "displayCorpus(rev_lex[7], 'Time|Modi|Cmpl')"
   ]
  },
  {
   "cell_type": "markdown",
   "metadata": {},
   "source": [
    "Given the example in Exodus 23:3 the verb seems to denote something that can happen to the object, in the sense of preference. The example in Leviticus is different, because \"to honour\" is here a positive case. Nevertheless, the verb may be decomposed as causative of being, independent of this \"being\" being interpreted positively or negatively:"
   ]
  },
  {
   "cell_type": "code",
   "execution_count": null,
   "metadata": {},
   "outputs": [],
   "source": [
    "Aktionsart_upd1['HDR['] = 'stative'"
   ]
  },
  {
   "cell_type": "markdown",
   "metadata": {},
   "source": [
    "#### JRC \"trample down\""
   ]
  },
  {
   "cell_type": "code",
   "execution_count": null,
   "metadata": {},
   "outputs": [],
   "source": [
    "display(rev_lex[8])"
   ]
  },
  {
   "cell_type": "code",
   "execution_count": null,
   "metadata": {},
   "outputs": [],
   "source": [
    "displayCorpus('JRC[','Time|Cmpl|Loca')"
   ]
  },
  {
   "cell_type": "markdown",
   "metadata": {},
   "source": [
    "Literally, the verb means \"take possesion of\" or \"inherit\", whether it is land or slaves. It is used with locative modifiers describing the geographical extent of domonion. It can also be modifyed by temporal adverbials, such as \"for eternity\" and \"at that time\". Perhaps the verb is a causative of possesion because the subject causes someone not to have possesion of the object. However, the examples above does not seem to have this negative meaning. All of them describe a positive view of possesion. It is the subjects who inherits or takes into possession. Moreover, in neither case is the source from which the object is taken, described. Therefore, I would suggest to see the verb as a transfer of possession, the subject causing itself to become into possession of the object."
   ]
  },
  {
   "cell_type": "code",
   "execution_count": null,
   "metadata": {},
   "outputs": [],
   "source": [
    "Aktionsart_upd1['JRC['] = 'stative'"
   ]
  },
  {
   "cell_type": "markdown",
   "metadata": {},
   "source": [
    "#### JSP \"continue/add\""
   ]
  },
  {
   "cell_type": "code",
   "execution_count": null,
   "metadata": {
    "scrolled": true
   },
   "outputs": [],
   "source": [
    "display(rev_lex[9])"
   ]
  },
  {
   "cell_type": "markdown",
   "metadata": {},
   "source": [
    "In Leviticus, the verb JSP generally has two meanings: To continue and to add. These two meanings cannot easily be reconciled in one lexical decomposition. Perhaps the verb should be understood as a causative where the object is the thing to be added or be continued. Therefore stative:"
   ]
  },
  {
   "cell_type": "code",
   "execution_count": null,
   "metadata": {},
   "outputs": [],
   "source": [
    "Aktionsart_upd1['JSP['] = 'stative'"
   ]
  },
  {
   "cell_type": "markdown",
   "metadata": {},
   "source": [
    "#### LBC \"dress\""
   ]
  },
  {
   "cell_type": "code",
   "execution_count": null,
   "metadata": {
    "scrolled": true
   },
   "outputs": [],
   "source": [
    "display(rev_lex[10])"
   ]
  },
  {
   "cell_type": "code",
   "execution_count": null,
   "metadata": {},
   "outputs": [],
   "source": [
    "displayCorpus(rev_lex[10])"
   ]
  },
  {
   "cell_type": "markdown",
   "metadata": {},
   "source": [
    "LBC \"clothe\" carries a notion of both stativity and activity, because one can be clothed for seven days, but one can also put on clothes, an activity with an inherent endgoal. The example from Lev 6:3 is revealing because a locative complement is used \"upon his body\", that is, the subject \"causes a linnentunic to be upon his body\". In Leviticus 21:10 the verb is just stative and there is no hint at a causative sense."
   ]
  },
  {
   "cell_type": "code",
   "execution_count": null,
   "metadata": {},
   "outputs": [],
   "source": [
    "Aktionsart_upd1['LBC['] = 'stative'"
   ]
  },
  {
   "cell_type": "markdown",
   "metadata": {},
   "source": [
    "#### M>S \"reject\""
   ]
  },
  {
   "cell_type": "code",
   "execution_count": null,
   "metadata": {},
   "outputs": [],
   "source": [
    "display(rev_lex[11])"
   ]
  },
  {
   "cell_type": "code",
   "execution_count": null,
   "metadata": {},
   "outputs": [],
   "source": [
    "displayCorpus('M>S[', 'Time|Cmpl|Modi')"
   ]
  },
  {
   "cell_type": "markdown",
   "metadata": {},
   "source": [
    "The verb can mean \"refuse\" or \"reject\", both of which refer to a psychological attitude. In other places it can mean \"despise\" which is emotional. The verb is probably stative."
   ]
  },
  {
   "cell_type": "code",
   "execution_count": null,
   "metadata": {},
   "outputs": [],
   "source": [
    "Aktionsart_upd1['M>S['] = 'stative'"
   ]
  },
  {
   "cell_type": "markdown",
   "metadata": {},
   "source": [
    "#### MY> \"find\""
   ]
  },
  {
   "cell_type": "code",
   "execution_count": null,
   "metadata": {},
   "outputs": [],
   "source": [
    "display(rev_lex[12])"
   ]
  },
  {
   "cell_type": "markdown",
   "metadata": {},
   "source": [
    "\"To find\" is likely an achievement because there is sudden change of affairs. What about temporal modyfiers in the corpus?"
   ]
  },
  {
   "cell_type": "code",
   "execution_count": null,
   "metadata": {},
   "outputs": [],
   "source": [
    "A.show(A.search(query_corpus.format('MY>[', 'Time'), sets=sets))"
   ]
  },
  {
   "cell_type": "markdown",
   "metadata": {},
   "source": [
    "1 Sam 29:3 poses an interesting case: \"I have not found anything about him from the day he fell until today\". This example shows that MY> can be used as expressing a continous inquery or investigation with an implied culmination, namely the sudden change of state (cf. also 1 Sam 29:6, 8). We therefore treat the verb as an activity:"
   ]
  },
  {
   "cell_type": "code",
   "execution_count": null,
   "metadata": {},
   "outputs": [],
   "source": [
    "Aktionsart_upd1['MY>['] = 'active'"
   ]
  },
  {
   "cell_type": "markdown",
   "metadata": {},
   "source": [
    "#### N>P \"commit adultery\""
   ]
  },
  {
   "cell_type": "code",
   "execution_count": null,
   "metadata": {
    "scrolled": true
   },
   "outputs": [],
   "source": [
    "displayCorpus(rev_lex[13], 'Time|Modi|Cmpl|Objc')"
   ]
  },
  {
   "cell_type": "markdown",
   "metadata": {},
   "source": [
    "The examples are scarse so it is hard to get a clear sense of the verb. It is probably an active verb denoting an activity that is denounced in the text."
   ]
  },
  {
   "cell_type": "code",
   "execution_count": null,
   "metadata": {},
   "outputs": [],
   "source": [
    "Aktionsart_upd1['N>P['] = 'active'"
   ]
  },
  {
   "cell_type": "markdown",
   "metadata": {},
   "source": [
    "#### NQM \"avenge\""
   ]
  },
  {
   "cell_type": "code",
   "execution_count": null,
   "metadata": {},
   "outputs": [],
   "source": [
    "display(rev_lex[14])"
   ]
  },
  {
   "cell_type": "code",
   "execution_count": null,
   "metadata": {
    "scrolled": true
   },
   "outputs": [],
   "source": [
    "displayCorpus(rev_lex[14], 'Time|Modi|Cmpl')"
   ]
  },
  {
   "cell_type": "markdown",
   "metadata": {},
   "source": [
    "The verb is difficult because it does not occur with many modifiers. However, it may be interpreted as an activity, e.g. \"doing revenge\"."
   ]
  },
  {
   "cell_type": "code",
   "execution_count": null,
   "metadata": {},
   "outputs": [],
   "source": [
    "Aktionsart_upd1['NQM['] = 'active'"
   ]
  },
  {
   "cell_type": "markdown",
   "metadata": {},
   "source": [
    "#### NV< \"plant\""
   ]
  },
  {
   "cell_type": "code",
   "execution_count": null,
   "metadata": {
    "scrolled": true
   },
   "outputs": [],
   "source": [
    "display(rev_lex[15])"
   ]
  },
  {
   "cell_type": "markdown",
   "metadata": {},
   "source": [
    "NT< \"plant\" denotes an activity but may also assume an aspect of transfer, that is, to cause something to be in the soil. We can explore the verb with its complements by including other cases from the corpus:"
   ]
  },
  {
   "cell_type": "code",
   "execution_count": null,
   "metadata": {
    "scrolled": true
   },
   "outputs": [],
   "source": [
    "displayCorpus('NV<[', 'Loca|Time|Cmpl')"
   ]
  },
  {
   "cell_type": "markdown",
   "metadata": {},
   "source": [
    "NV< comes with very few adverbial modifiers. In fact, the verb takes neither time phrases nor complement phrases. There are four examples of NV< with locative phrases."
   ]
  },
  {
   "cell_type": "code",
   "execution_count": null,
   "metadata": {},
   "outputs": [],
   "source": [
    "Lev_df[Lev_df.lexemes == 'NV<[']"
   ]
  },
  {
   "cell_type": "markdown",
   "metadata": {},
   "source": [
    "ZR<, on the other hand, seems to be an activity because the object is usually a field:"
   ]
  },
  {
   "cell_type": "code",
   "execution_count": null,
   "metadata": {},
   "outputs": [],
   "source": [
    "Lev_df[Lev_df.lexemes == 'ZR<[']"
   ]
  },
  {
   "cell_type": "code",
   "execution_count": null,
   "metadata": {},
   "outputs": [],
   "source": [
    "Aktionsart_upd1['NV<['] = 'stative'\n",
    "Aktionsart_upd1['ZR<['] = 'active'"
   ]
  },
  {
   "cell_type": "markdown",
   "metadata": {},
   "source": [
    "#### PQD \"visit\""
   ]
  },
  {
   "cell_type": "code",
   "execution_count": null,
   "metadata": {
    "scrolled": true
   },
   "outputs": [],
   "source": [
    "display(rev_lex[16])"
   ]
  },
  {
   "cell_type": "markdown",
   "metadata": {},
   "source": [
    "Curiously, the verb is causative: \"I will cause its sin to be upon it\". Normally the verb is active, meaning \"visit\", \"instruct\", \"summon\", \"call to account\". We take the verb as active in the sense of avenging sin."
   ]
  },
  {
   "cell_type": "code",
   "execution_count": null,
   "metadata": {},
   "outputs": [],
   "source": [
    "Lev_df[Lev_df.lexemes == rev_lex[16]]"
   ]
  },
  {
   "cell_type": "code",
   "execution_count": null,
   "metadata": {},
   "outputs": [],
   "source": [
    "Aktionsart_upd1['PQD['] = 'active'"
   ]
  },
  {
   "cell_type": "markdown",
   "metadata": {},
   "source": [
    "#### PRC \"explain\""
   ]
  },
  {
   "cell_type": "code",
   "execution_count": null,
   "metadata": {
    "scrolled": true
   },
   "outputs": [],
   "source": [
    "display(rev_lex[17])"
   ]
  },
  {
   "cell_type": "code",
   "execution_count": null,
   "metadata": {
    "scrolled": true
   },
   "outputs": [],
   "source": [
    "displayCorpus('PRC[', 'Time|Cmpl|Modi|Objc')"
   ]
  },
  {
   "cell_type": "markdown",
   "metadata": {},
   "source": [
    "The example from Leviticus is the only instance of this verb in the *Qal*. It could be understood as a speech verb with a complement of addresees and the adjunct phrase expressing the theme of the of speech, cf. Num 21:1:"
   ]
  },
  {
   "cell_type": "code",
   "execution_count": null,
   "metadata": {},
   "outputs": [],
   "source": [
    "query1 = '''\n",
    "clause\n",
    "  phrase function=Pred\n",
    "    word lex=DBR[|>MR[|YBH[\n",
    "  phrase function=Adju\n",
    "    =: word lex=<L\n",
    "'''\n",
    "\n",
    "results = A.search(query1)\n",
    "A.show(results)"
   ]
  },
  {
   "cell_type": "code",
   "execution_count": null,
   "metadata": {},
   "outputs": [],
   "source": [
    "Aktionsart_upd1['PRC['] = 'active'"
   ]
  },
  {
   "cell_type": "markdown",
   "metadata": {},
   "source": [
    "#### PRM \"rent\""
   ]
  },
  {
   "cell_type": "code",
   "execution_count": null,
   "metadata": {
    "scrolled": true
   },
   "outputs": [],
   "source": [
    "display(rev_lex[18])"
   ]
  },
  {
   "cell_type": "code",
   "execution_count": null,
   "metadata": {},
   "outputs": [],
   "source": [
    "displayCorpus('PRM[', 'Time|Modi|Cmpl|Adju')"
   ]
  },
  {
   "cell_type": "markdown",
   "metadata": {},
   "source": [
    "The verb probably means \"to tear to pieces\" and is in this sense similar to \"break\", a causative accomplishment, hence stative"
   ]
  },
  {
   "cell_type": "code",
   "execution_count": null,
   "metadata": {},
   "outputs": [],
   "source": [
    "Aktionsart_upd1['PRM['] = 'stative'"
   ]
  },
  {
   "cell_type": "markdown",
   "metadata": {},
   "source": [
    "#### QRX \"make bald\""
   ]
  },
  {
   "cell_type": "code",
   "execution_count": null,
   "metadata": {
    "scrolled": true
   },
   "outputs": [],
   "source": [
    "displayCorpus(rev_lex[19], 'Time|Modi|Cmpl')"
   ]
  },
  {
   "cell_type": "markdown",
   "metadata": {},
   "source": [
    "The verb seems to denote an activity, the object being the theme."
   ]
  },
  {
   "cell_type": "code",
   "execution_count": null,
   "metadata": {},
   "outputs": [],
   "source": [
    "Aktionsart_upd1['QRX['] = 'active'"
   ]
  },
  {
   "cell_type": "markdown",
   "metadata": {},
   "source": [
    "#### QYR \"harvest\""
   ]
  },
  {
   "cell_type": "code",
   "execution_count": null,
   "metadata": {},
   "outputs": [],
   "source": [
    "display(rev_lex[20])"
   ]
  },
  {
   "cell_type": "code",
   "execution_count": null,
   "metadata": {
    "scrolled": true
   },
   "outputs": [],
   "source": [
    "displayCorpus('QYR=[', 'Cmpl|Time|Loca|Adju')"
   ]
  },
  {
   "cell_type": "markdown",
   "metadata": {},
   "source": [
    "QYR \"to harvest\" does not have many modifyers in the corpus. ֹ One can interpret the verb as the activity of cutting grain, but it seems also to imply the notion of gathering the grain because the harvester is supposed to leave some of the harvest in the field.\n",
    "Therefore, it is a verb of transfer, that is, causing oneself to have the grain.\n",
    "\n",
    "The same is true of other verbs for harvesting, namely ZMR \"gather\" and BYR \"gather grapes\":"
   ]
  },
  {
   "cell_type": "code",
   "execution_count": null,
   "metadata": {},
   "outputs": [],
   "source": [
    "Aktionsart_upd1['QYR=['] = 'stative'\n",
    "Aktionsart_upd1['ZMR=['] = 'stative'\n",
    "Aktionsart_upd1['BYR['] = 'stative'"
   ]
  },
  {
   "cell_type": "markdown",
   "metadata": {},
   "source": [
    "#### RB< \"lie down\""
   ]
  },
  {
   "cell_type": "code",
   "execution_count": null,
   "metadata": {
    "scrolled": true
   },
   "outputs": [],
   "source": [
    "displayCorpus(rev_lex[21], 'Time|Modi|Cmpl|Objc|Adju')"
   ]
  },
  {
   "cell_type": "markdown",
   "metadata": {},
   "source": [
    "The verb probably denotes an actitivy of some sort."
   ]
  },
  {
   "cell_type": "code",
   "execution_count": null,
   "metadata": {},
   "outputs": [],
   "source": [
    "Aktionsart_upd1['RB<=['] = 'active'"
   ]
  },
  {
   "cell_type": "markdown",
   "metadata": {},
   "source": [
    "#### RYH \"pay off\""
   ]
  },
  {
   "cell_type": "code",
   "execution_count": null,
   "metadata": {},
   "outputs": [],
   "source": [
    "display(rev_lex[22])"
   ]
  },
  {
   "cell_type": "code",
   "execution_count": null,
   "metadata": {},
   "outputs": [],
   "source": [
    "displayCorpus(rev_lex[7], 'Time|Cmpl|Loca|Adju|Objc')"
   ]
  },
  {
   "cell_type": "markdown",
   "metadata": {},
   "source": [
    "The temporal adverbials in Lev 26:34 shows that the verb RYH \"pay off\" describes a situation or event that can occur over a course of time. Curiously, some translations translate the verb differently depending on the subject. The \"land\" is described as being paid compensation, while the \"people\" is described as paying off their debt. Other translations choose the more common meaning of the verb in *qal*, namely \"enjoy\", a stative verb of emotions. The problem is, of course, that this translation does not fit 26:43 where the people are supposed to repay their sins, certainly not enjoy their sins. That case may be an exception. "
   ]
  },
  {
   "cell_type": "code",
   "execution_count": null,
   "metadata": {},
   "outputs": [],
   "source": [
    "Aktionsart_upd1['RYH=['] = 'stative'"
   ]
  },
  {
   "cell_type": "markdown",
   "metadata": {},
   "source": [
    "#### YWD \"hunt\""
   ]
  },
  {
   "cell_type": "code",
   "execution_count": null,
   "metadata": {
    "scrolled": true
   },
   "outputs": [],
   "source": [
    "display(rev_lex[23])"
   ]
  },
  {
   "cell_type": "code",
   "execution_count": null,
   "metadata": {
    "scrolled": true
   },
   "outputs": [],
   "source": [
    "displayCorpus(rev_lex[23], 'Time|Modi|Cmpl')"
   ]
  },
  {
   "cell_type": "markdown",
   "metadata": {},
   "source": [
    "The verb does not occur with many adverbials. The example from Genesis, however, suggests seeing hunting as some kind of capture and transfer: \"Get me some game\". Therefore, it seems reasonable to treat the verb as a causative of possession, that is, \"to cause someone to have game\""
   ]
  },
  {
   "cell_type": "code",
   "execution_count": null,
   "metadata": {},
   "outputs": [],
   "source": [
    "Aktionsart_upd1['YWD['] = 'stative'"
   ]
  },
  {
   "cell_type": "markdown",
   "metadata": {},
   "source": [
    "### Summary\n",
    "\n",
    "We are now ready to summarize the annotations made for all *Qal*-verbs in Leviticus 17-26. First, we verify that all verbs for review have indeed been reviewed:"
   ]
  },
  {
   "cell_type": "code",
   "execution_count": null,
   "metadata": {},
   "outputs": [],
   "source": [
    "print(f'Missing cases: {len([lex for lex in rev_lex if lex not in Aktionsart_upd1])}')"
   ]
  },
  {
   "cell_type": "markdown",
   "metadata": {},
   "source": [
    "Now, we can add the changes to the dataset:"
   ]
  },
  {
   "cell_type": "code",
   "execution_count": null,
   "metadata": {},
   "outputs": [],
   "source": [
    "data.head()"
   ]
  },
  {
   "cell_type": "code",
   "execution_count": null,
   "metadata": {},
   "outputs": [],
   "source": [
    "new_Aktionsart = [] #We create a list of all Aktionsart - changes or not - and add this list as a new column\n",
    "no_changes = [] #We collect those cases where the lexeme under investigation has had its Aktionsart changed\n",
    "\n",
    "for row in data.iterrows():    \n",
    "    old_Aktionsart = row[1].Aktionsart.lower()\n",
    "    lex = row[1].lex\n",
    "\n",
    "    if lex in Aktionsart_upd1:\n",
    "        new_Aktionsart.append(Aktionsart_upd1[lex][:3])\n",
    "        \n",
    "        if old_Aktionsart != Aktionsart_upd1[lex]:\n",
    "            print(f'{lex}: {old_Aktionsart} >> {Aktionsart_upd1[lex][:3]}')\n",
    "            \n",
    "        else:\n",
    "            no_changes.append(lex)\n",
    "    \n",
    "    else:\n",
    "        new_Aktionsart.append(old_Aktionsart)\n",
    "        \n",
    "print('\\n---------------------------------')\n",
    "print('No changes made:\\n')\n",
    "for lex in no_changes:\n",
    "    print(lex)\n",
    "\n",
    "data['new_Aktionsart'] = new_Aktionsart"
   ]
  },
  {
   "cell_type": "code",
   "execution_count": null,
   "metadata": {},
   "outputs": [],
   "source": [
    "data = data[['lex','new_Aktionsart','class','comment']]\n",
    "data.head()"
   ]
  },
  {
   "cell_type": "code",
   "execution_count": null,
   "metadata": {},
   "outputs": [],
   "source": [
    "data.to_csv(f'{PATH}Lev17-26_Aktionsart_qal_corrected.csv', index=None)"
   ]
  },
  {
   "cell_type": "markdown",
   "metadata": {},
   "source": [
    "## Annotating *Aktionsart* for all other verbs in Lev 17-26\n",
    "\n",
    "Having dealt with all relevant verbs in the *Qal* we can now expand our focus to verbs in other stem formations. We exclude lexemes that also occur in the *Qal* because we assume that the *Aktionsart* of those verbs can be derived from the *Qal*. Whether this is indeed true will be verified later.\n",
    "\n",
    "We first extract all relevant lexemes irrespective of stem:"
   ]
  },
  {
   "cell_type": "code",
   "execution_count": null,
   "metadata": {},
   "outputs": [],
   "source": [
    "all_verbs = '''\n",
    "book book=Leviticus\n",
    " chapter chapter=17|18|19|20|21|22|23|24|25|26\n",
    "   phrase function=Pred|PreO|PreS|PreC|PtcO\n",
    "     word sp=verb\n",
    "'''\n",
    "\n",
    "all_verbs = A.search(all_verbs)"
   ]
  },
  {
   "cell_type": "code",
   "execution_count": null,
   "metadata": {},
   "outputs": [],
   "source": [
    "all_unique_verbs = set()\n",
    "\n",
    "for r in all_verbs:\n",
    "    all_unique_verbs.add(F.lex.v(r[3]))\n",
    "    \n",
    "len(all_unique_verbs)"
   ]
  },
  {
   "cell_type": "markdown",
   "metadata": {},
   "source": [
    "We remove those lexemes that have already been annotated:"
   ]
  },
  {
   "cell_type": "code",
   "execution_count": null,
   "metadata": {},
   "outputs": [],
   "source": [
    "#Previous datasets\n",
    "data_pca = f'{PATH}Lev17-26_Aktionsart_qal_pca_corrected.csv'\n",
    "data_qal_manual = f'{PATH}Lev17-26_Aktionsart_qal_corrected.csv'\n",
    "\n",
    "#The lexemes are extracted from each file and added to the same list:\n",
    "lexemes = list(pd.read_csv(data_pca).lexemes) + list(pd.read_csv(data_qal_manual).lex)\n",
    "len(lexemes)"
   ]
  },
  {
   "cell_type": "code",
   "execution_count": null,
   "metadata": {},
   "outputs": [],
   "source": [
    "remaining_verbs1 = set()\n",
    "\n",
    "for lex in all_unique_verbs:\n",
    "    if lex not in lexemes:\n",
    "        remaining_verbs1.add(lex)\n",
    "        \n",
    "len(remaining_verbs1)"
   ]
  },
  {
   "cell_type": "markdown",
   "metadata": {},
   "source": [
    "### Annotation\n",
    "\n",
    "Like for the *Qal* verbs, we opt for the same kind of simple annotation, namely \"stative\", \"active\", or \"?\" if the lexeme is difficult and need further study:"
   ]
  },
  {
   "cell_type": "code",
   "execution_count": null,
   "metadata": {},
   "outputs": [],
   "source": [
    "query1 = '''\n",
    "book book=Leviticus\n",
    " chapter chapter=17|18|19|20|21|22|23|24|25|26\n",
    "  clause\n",
    "   phrase function=Pred|PreO|PreS|PreC|PtcO\n",
    "    word lex={}\n",
    "'''"
   ]
  },
  {
   "cell_type": "code",
   "execution_count": null,
   "metadata": {},
   "outputs": [],
   "source": [
    "verbs = getVerbs(remaining_verbs1, [run1, run2, run3])"
   ]
  },
  {
   "cell_type": "code",
   "execution_count": null,
   "metadata": {},
   "outputs": [],
   "source": [
    "len(verbs)"
   ]
  },
  {
   "cell_type": "code",
   "execution_count": null,
   "metadata": {
    "scrolled": false
   },
   "outputs": [],
   "source": [
    "run3 = user_input(verbs, query1)"
   ]
  },
  {
   "cell_type": "code",
   "execution_count": null,
   "metadata": {},
   "outputs": [],
   "source": [
    "outputs = [run1, run2, run3]\n",
    "\n",
    "new_dict = {}\n",
    "for r in outputs:\n",
    "    for lex in r:\n",
    "        new_dict[lex] = r[lex]\n",
    "        \n",
    "df = pd.DataFrame(new_dict).T\n",
    "df.head()"
   ]
  },
  {
   "cell_type": "code",
   "execution_count": null,
   "metadata": {},
   "outputs": [],
   "source": [
    "df.to_csv(f'{PATH}Lev17-26_Aktionsart_other_stems.csv')"
   ]
  },
  {
   "cell_type": "markdown",
   "metadata": {},
   "source": [
    "### Reviewing ambigious cases\n",
    "\n",
    "Like before, we are going to review ambigious cases to complete the analysis of stativity/activity for verbs in Lev 17-26:"
   ]
  },
  {
   "cell_type": "code",
   "execution_count": null,
   "metadata": {},
   "outputs": [],
   "source": [
    "data = pd.read_csv(f'{PATH}Lev17-26_Aktionsart_other_stems.csv')\n",
    "data.columns = ['lex','Aktionsart','class','comment']\n",
    "data.Aktionsart = data.Aktionsart.astype('str')"
   ]
  },
  {
   "cell_type": "code",
   "execution_count": null,
   "metadata": {},
   "outputs": [],
   "source": [
    "data.head()"
   ]
  },
  {
   "cell_type": "markdown",
   "metadata": {},
   "source": [
    "There are 30 cases for review:"
   ]
  },
  {
   "cell_type": "code",
   "execution_count": null,
   "metadata": {},
   "outputs": [],
   "source": [
    "pd.crosstab(index=data.Aktionsart, columns='count')"
   ]
  },
  {
   "cell_type": "code",
   "execution_count": null,
   "metadata": {},
   "outputs": [],
   "source": [
    "Aktionsart_upd2 = {}"
   ]
  },
  {
   "cell_type": "code",
   "execution_count": null,
   "metadata": {},
   "outputs": [],
   "source": [
    "rev_lex = list(data[data.Aktionsart == '?'].lex)\n",
    "rev_lex.sort()"
   ]
  },
  {
   "cell_type": "markdown",
   "metadata": {},
   "source": [
    "Basically, there are two types of lexemes to be reviewed:\n",
    "1. One the hand, some verbs do also occur in the *Qal* in other parts of the corpus and may be derived morphologically as well as semantically from the *Qal* stem. This group of verbs should be reviewed on its own with an eye to the meaning in Leviticus and the *Qal* meaning elsewhere.\n",
    "2. The other group consists of verbs not occuring in the *Qal*. The meaning in the *Piel*, *Hiphil*, or others, should not - or at least cannot - be derived from a *Qal* derivative and should be treated on its own.\n",
    "\n",
    "We therefore split the group into these two categories:"
   ]
  },
  {
   "cell_type": "code",
   "execution_count": null,
   "metadata": {
    "scrolled": true
   },
   "outputs": [],
   "source": [
    "query2 = '''\n",
    "corpus\n",
    "  clause\n",
    "     phrase function=Pred|PreO|PreS|PreC|ptcO\n",
    "       word sp=verb vs=qal lex={}\n",
    "'''\n",
    "\n",
    "Qal_deriv = []\n",
    "no_Qal_deriv = []\n",
    "\n",
    "for lex in rev_lex:\n",
    "    results = A.search(query2.format(lex), sets=sets, silent=True)\n",
    "    \n",
    "    if len(results) == 0:\n",
    "        no_Qal_deriv.append(lex)\n",
    "    else:\n",
    "        Qal_deriv.append(lex)"
   ]
  },
  {
   "cell_type": "code",
   "execution_count": null,
   "metadata": {},
   "outputs": [],
   "source": [
    "print(f'Number of lexemes with a possible Qal equivalent: {len(Qal_deriv)}')\n",
    "print(f'Number of lexemes with no Qal equivalent: {len(no_Qal_deriv)}')"
   ]
  },
  {
   "cell_type": "markdown",
   "metadata": {},
   "source": [
    "#### Reviewing lexemes with possible *Qal* derivatives"
   ]
  },
  {
   "cell_type": "code",
   "execution_count": null,
   "metadata": {},
   "outputs": [],
   "source": [
    "query = '''\n",
    "book book=Leviticus\n",
    " chapter chapter=17|18|19|20|21|22|23|24|25|26\n",
    "  clause\n",
    "   phrase function=Pred|PreO|PreS|PreC|PtcO\n",
    "    word lex={}\n",
    "'''\n",
    "\n",
    "def display(lex):\n",
    "    results = A.search(query.format(lex))\n",
    "    A.show(results)"
   ]
  },
  {
   "cell_type": "markdown",
   "metadata": {},
   "source": [
    "##### CKL \"be bereaved of children\""
   ]
  },
  {
   "cell_type": "code",
   "execution_count": null,
   "metadata": {
    "scrolled": true
   },
   "outputs": [],
   "source": [
    "display(Qal_deriv[0])"
   ]
  },
  {
   "cell_type": "code",
   "execution_count": null,
   "metadata": {},
   "outputs": [],
   "source": [
    "displayCorpus(Qal_deriv[0])"
   ]
  },
  {
   "cell_type": "markdown",
   "metadata": {},
   "source": [
    "The *Piel* of CKL is semantically derivable from the *Qal* as a factive: \"cause someone to be bereaved of children\". The verb is therefore inherently stative, while the *Piel* adds a factitive/causative meaning:"
   ]
  },
  {
   "cell_type": "code",
   "execution_count": null,
   "metadata": {},
   "outputs": [],
   "source": [
    "Aktionsart_upd2['CKL['] = ('stative', 'derivable')"
   ]
  },
  {
   "cell_type": "markdown",
   "metadata": {},
   "source": [
    "##### GLH \"uncover\""
   ]
  },
  {
   "cell_type": "code",
   "execution_count": null,
   "metadata": {},
   "outputs": [],
   "source": [
    "display(Qal_deriv[1])"
   ]
  },
  {
   "cell_type": "code",
   "execution_count": null,
   "metadata": {},
   "outputs": [],
   "source": [
    "displayCorpus(Qal_deriv[5])"
   ]
  },
  {
   "cell_type": "code",
   "execution_count": null,
   "metadata": {
    "scrolled": true
   },
   "outputs": [],
   "source": [
    "displayCorpus(Qal_deriv[5], stem='piel')"
   ]
  },
  {
   "cell_type": "markdown",
   "metadata": {},
   "source": [
    "The verb is not derivable from the *Qal* meaning. In *Qal* the verb can mean \"to go into exile\" or \"to disappear\". In the *Piel*, the verb means to expose or uncover. There are not many complements or other adverbial modifyers to help decomposing the lexeme. It is an activity that does something to the \"nakedness\" of a womanּ. It is used with \"openening someone's eyes\", thus it is a causative event, resulting in a stative situation of \"being open\" or \"being exposed\" or \"being ashamed\":"
   ]
  },
  {
   "cell_type": "code",
   "execution_count": null,
   "metadata": {},
   "outputs": [],
   "source": [
    "Aktionsart_upd2['GLH['] = ('stative','not derivable')"
   ]
  },
  {
   "cell_type": "markdown",
   "metadata": {},
   "source": [
    "##### KPR \"cover\""
   ]
  },
  {
   "cell_type": "code",
   "execution_count": null,
   "metadata": {},
   "outputs": [],
   "source": [
    "display(Qal_deriv[2])"
   ]
  },
  {
   "cell_type": "markdown",
   "metadata": {},
   "source": [
    "Curiously, in the examples in Leviticus both the priest and the blood are presented as subjects of \"cover\", that is, \"to atone\". What is the meaning in the *Qal*?"
   ]
  },
  {
   "cell_type": "code",
   "execution_count": null,
   "metadata": {
    "scrolled": true
   },
   "outputs": [],
   "source": [
    "displayCorpus(Qal_deriv[2])"
   ]
  },
  {
   "cell_type": "markdown",
   "metadata": {},
   "source": [
    "The *Qal* is also used to describe covering of an object. Therefore, the *Piel* sense is not derivable from the *Qal*. The *Piel* sense, \"to make atonement\" may simply be interpreted as an activity because we don't have much clue about how the verb can be modified by adverbials."
   ]
  },
  {
   "cell_type": "code",
   "execution_count": null,
   "metadata": {},
   "outputs": [],
   "source": [
    "Aktionsart_upd2['KPR['] = ('active', 'not derivable')"
   ]
  },
  {
   "cell_type": "markdown",
   "metadata": {},
   "source": [
    "##### NGP \"hurt\""
   ]
  },
  {
   "cell_type": "code",
   "execution_count": null,
   "metadata": {
    "scrolled": true
   },
   "outputs": [],
   "source": [
    "display(Qal_deriv[3])"
   ]
  },
  {
   "cell_type": "code",
   "execution_count": null,
   "metadata": {},
   "outputs": [],
   "source": [
    "displayCorpus(Qal_deriv[3], stem='nif')"
   ]
  },
  {
   "cell_type": "markdown",
   "metadata": {},
   "source": [
    "The verb is derivable from the *Qal*, meaning \"to hurt\" or \"to strike/hit\". It is apparently punctual, because it can be used with the modifyer \"to day\", and also \"there\", describing a precise time and location for the event."
   ]
  },
  {
   "cell_type": "code",
   "execution_count": null,
   "metadata": {},
   "outputs": [],
   "source": [
    "Aktionsart_upd2['NGP['] = ('active','derivable')"
   ]
  },
  {
   "cell_type": "markdown",
   "metadata": {},
   "source": [
    "##### RWX \"be spacious\""
   ]
  },
  {
   "cell_type": "code",
   "execution_count": null,
   "metadata": {
    "scrolled": true
   },
   "outputs": [],
   "source": [
    "display(Qal_deriv[4])"
   ]
  },
  {
   "cell_type": "code",
   "execution_count": null,
   "metadata": {
    "scrolled": true
   },
   "outputs": [],
   "source": [
    "displayCorpus(Qal_deriv[3], function='Cmpl|Objc|Modi|Adju|Time|Loca')"
   ]
  },
  {
   "cell_type": "markdown",
   "metadata": {},
   "source": [
    "The verb in *Hiphil* does not seem to be derivable from the *Qal* where it apparently means \"to amuse\" or \"to play\". In the *Hiphil*, the meaning seems to \"enjoy\", or perhaps \"scent\", an activity of directed perception:"
   ]
  },
  {
   "cell_type": "code",
   "execution_count": null,
   "metadata": {},
   "outputs": [],
   "source": [
    "Aktionsart_upd2['RWX['] = ('active', 'not derivable')"
   ]
  },
  {
   "cell_type": "markdown",
   "metadata": {},
   "source": [
    "##### SLX \"forgive\""
   ]
  },
  {
   "cell_type": "code",
   "execution_count": null,
   "metadata": {
    "scrolled": true
   },
   "outputs": [],
   "source": [
    "display(Qal_deriv[5])"
   ]
  },
  {
   "cell_type": "code",
   "execution_count": null,
   "metadata": {
    "scrolled": true
   },
   "outputs": [],
   "source": [
    "displayCorpus(Qal_deriv[4], stem='nif')"
   ]
  },
  {
   "cell_type": "markdown",
   "metadata": {},
   "source": [
    "The verb in *Niphal* is not easialy derivable from the *Qal*, because even in *Niphal* the object to be forgiven is not the subject but the complement, as in the *Qal*. In *Niphal* the verb is stative:"
   ]
  },
  {
   "cell_type": "code",
   "execution_count": null,
   "metadata": {},
   "outputs": [],
   "source": [
    "Aktionsart_upd2['SLX['] = ('stative', 'not derivable')"
   ]
  },
  {
   "cell_type": "markdown",
   "metadata": {},
   "source": [
    "##### XCB \"account\""
   ]
  },
  {
   "cell_type": "code",
   "execution_count": null,
   "metadata": {
    "scrolled": true
   },
   "outputs": [],
   "source": [
    "display(Qal_deriv[6])"
   ]
  },
  {
   "cell_type": "code",
   "execution_count": null,
   "metadata": {},
   "outputs": [],
   "source": [
    "displayCorpus(Qal_deriv[6])"
   ]
  },
  {
   "cell_type": "code",
   "execution_count": null,
   "metadata": {},
   "outputs": [],
   "source": [
    "displayCorpus(Qal_deriv[6], stem='piel')"
   ]
  },
  {
   "cell_type": "markdown",
   "metadata": {},
   "source": [
    "To \"consider\" or \"compute\" in the *Piel* sense is not easily derivable from the *Qal* meaning as a causative or factitive:"
   ]
  },
  {
   "cell_type": "code",
   "execution_count": null,
   "metadata": {},
   "outputs": [],
   "source": [
    "Aktionsart_upd2['XCB['] = ('active', 'not derivable')"
   ]
  },
  {
   "cell_type": "markdown",
   "metadata": {},
   "source": [
    "##### XZQ \"be strong\""
   ]
  },
  {
   "cell_type": "code",
   "execution_count": null,
   "metadata": {
    "scrolled": true
   },
   "outputs": [],
   "source": [
    "display(Qal_deriv[7])"
   ]
  },
  {
   "cell_type": "markdown",
   "metadata": {},
   "source": [
    "The verb has a special meaning in the *Hiphil* where it means \"seize\" or \"grasp\". In that case, the verb is an activity, perhaps even an achievement because the change of state takes place in an instant of time."
   ]
  },
  {
   "cell_type": "code",
   "execution_count": null,
   "metadata": {},
   "outputs": [],
   "source": [
    "Aktionsart_upd2['XZQ['] = ('stative', 'derivable')"
   ]
  },
  {
   "cell_type": "markdown",
   "metadata": {},
   "source": [
    "#### Review of lexemes with no *Qal* derivative"
   ]
  },
  {
   "cell_type": "code",
   "execution_count": null,
   "metadata": {},
   "outputs": [],
   "source": [
    "Aktionsart_upd3 = {}"
   ]
  },
  {
   "cell_type": "markdown",
   "metadata": {},
   "source": [
    "##### <LM \"hide\""
   ]
  },
  {
   "cell_type": "code",
   "execution_count": null,
   "metadata": {
    "scrolled": true
   },
   "outputs": [],
   "source": [
    "display(no_Qal_deriv[0])"
   ]
  },
  {
   "cell_type": "code",
   "execution_count": null,
   "metadata": {},
   "outputs": [],
   "source": [
    "displayCorpus(no_Qal_deriv[6], stem='hif')"
   ]
  },
  {
   "cell_type": "markdown",
   "metadata": {},
   "source": [
    "The example from Leviticus is the most revealing of the examples given since it comes with an emphasizing phrase, an object and a complement. Literaly, the clause could be translated as \"causing their eyes not to be on this man\", therefore causative stative."
   ]
  },
  {
   "cell_type": "code",
   "execution_count": null,
   "metadata": {},
   "outputs": [],
   "source": [
    "Aktionsart_upd3['<LM['] = 'stative'"
   ]
  },
  {
   "cell_type": "markdown",
   "metadata": {},
   "source": [
    "##### <NN \"appear\""
   ]
  },
  {
   "cell_type": "code",
   "execution_count": null,
   "metadata": {},
   "outputs": [],
   "source": [
    "display(no_Qal_deriv[1])"
   ]
  },
  {
   "cell_type": "code",
   "execution_count": null,
   "metadata": {
    "scrolled": true
   },
   "outputs": [],
   "source": [
    "displayCorpus(no_Qal_deriv[7], stem='piel')"
   ]
  },
  {
   "cell_type": "markdown",
   "metadata": {},
   "source": [
    "The verb can be used as making/bringing a cloud, as in Gen 9:14. In Leviticus, the verb is used as parallel to divine, suggesting that some cultic activity is going on. We can interpret the verb as an activity:"
   ]
  },
  {
   "cell_type": "code",
   "execution_count": null,
   "metadata": {},
   "outputs": [],
   "source": [
    "Aktionsart_upd3['<NN['] = 'active'"
   ]
  },
  {
   "cell_type": "markdown",
   "metadata": {},
   "source": [
    "##### <RH \"pour out\""
   ]
  },
  {
   "cell_type": "code",
   "execution_count": null,
   "metadata": {
    "scrolled": true
   },
   "outputs": [],
   "source": [
    "displayCorpus(no_Qal_deriv[2], stem='hif|piel', function='Objc')"
   ]
  },
  {
   "cell_type": "markdown",
   "metadata": {},
   "source": [
    "The verb is difficult because it is very infrequent and is rarely modified by adverbials. In Genesis the verb is apparently used for emptying a bucket (although there is a text-critical issue), but in Leviticus the objects are different. Here, the objects are \"well\" and \"body\", neither of them can hardly be thought of as something that can be emptied, except perhaps for the well. We shall probably understand the expression as parallel to the common expression GLH \"uncover\", because a well and a body can be laid bare or uncovered. Therefore, we decompose the lexeme similar to GLH, that is, causative accomplishment:"
   ]
  },
  {
   "cell_type": "code",
   "execution_count": null,
   "metadata": {},
   "outputs": [],
   "source": [
    "Aktionsart_upd3['<RH['] = 'stative'"
   ]
  },
  {
   "cell_type": "markdown",
   "metadata": {},
   "source": [
    "##### BQC \"search\""
   ]
  },
  {
   "cell_type": "code",
   "execution_count": null,
   "metadata": {
    "scrolled": true
   },
   "outputs": [],
   "source": [
    "display(no_Qal_deriv[3])"
   ]
  },
  {
   "cell_type": "code",
   "execution_count": null,
   "metadata": {},
   "outputs": [],
   "source": [
    "displayCorpus(no_Qal_deriv[0], stem='piel')"
   ]
  },
  {
   "cell_type": "markdown",
   "metadata": {},
   "source": [
    "The various examples show that BQC \"search\" does not neccessarily has an endgoal, since the search can be in vain. 1 Sam 27:1 shows that the verb can be modified by the adverbial עוד \"still\" which implies duration. In short, the verb is an activity of movement although involving cognition:"
   ]
  },
  {
   "cell_type": "code",
   "execution_count": null,
   "metadata": {},
   "outputs": [],
   "source": [
    "Aktionsart_upd3['BQC['] = 'active'"
   ]
  },
  {
   "cell_type": "markdown",
   "metadata": {},
   "source": [
    "##### CXT \"destroy\""
   ]
  },
  {
   "cell_type": "code",
   "execution_count": null,
   "metadata": {
    "scrolled": true
   },
   "outputs": [],
   "source": [
    "display(no_Qal_deriv[4])"
   ]
  },
  {
   "cell_type": "code",
   "execution_count": null,
   "metadata": {},
   "outputs": [],
   "source": [
    "displayCorpus(no_Qal_deriv[1], stem='hif')"
   ]
  },
  {
   "cell_type": "markdown",
   "metadata": {},
   "source": [
    "The example from Judg 20:21 is revealing because includes a quantitative object, a punctual time phrase and a directional spatial phrase. The event is probably stative with a resulting event of extermination, also explaining the case from Leviticus. Therefore causative stative, like other verbs of extinction:"
   ]
  },
  {
   "cell_type": "code",
   "execution_count": null,
   "metadata": {},
   "outputs": [],
   "source": [
    "Aktionsart_upd3['CXT['] = 'stative'"
   ]
  },
  {
   "cell_type": "markdown",
   "metadata": {},
   "source": [
    "##### DWB \"pine away\""
   ]
  },
  {
   "cell_type": "code",
   "execution_count": null,
   "metadata": {
    "scrolled": true
   },
   "outputs": [],
   "source": [
    "display(no_Qal_deriv[5])"
   ]
  },
  {
   "cell_type": "code",
   "execution_count": null,
   "metadata": {},
   "outputs": [],
   "source": [
    "displayCorpus(no_Qal_deriv[18], stem='hif|hof|piel|pual|nif', function='Objc')"
   ]
  },
  {
   "cell_type": "markdown",
   "metadata": {},
   "source": [
    "The lexeme is probably causative and describes something that happens to the object, in this case \"soul\". We can assume that it is a psychological condition. Therefore, causative stative."
   ]
  },
  {
   "cell_type": "code",
   "execution_count": null,
   "metadata": {},
   "outputs": [],
   "source": [
    "Aktionsart_upd3['DWB['] = 'stative'"
   ]
  },
  {
   "cell_type": "markdown",
   "metadata": {},
   "source": [
    "##### GLX \"shave\""
   ]
  },
  {
   "cell_type": "code",
   "execution_count": null,
   "metadata": {
    "scrolled": true
   },
   "outputs": [],
   "source": [
    "display(no_Qal_deriv[6])"
   ]
  },
  {
   "cell_type": "code",
   "execution_count": null,
   "metadata": {},
   "outputs": [],
   "source": [
    "displayCorpus(no_Qal_deriv[5], stem='piel')"
   ]
  },
  {
   "cell_type": "markdown",
   "metadata": {},
   "source": [
    "The examples do not help much in decomposing the verb. Basically, the verb means \"shave\" and is probably a simple activity"
   ]
  },
  {
   "cell_type": "code",
   "execution_count": null,
   "metadata": {},
   "outputs": [],
   "source": [
    "Aktionsart_upd3['GLX['] = 'active'"
   ]
  },
  {
   "cell_type": "markdown",
   "metadata": {},
   "source": [
    "##### JDH \"praise\""
   ]
  },
  {
   "cell_type": "code",
   "execution_count": null,
   "metadata": {
    "scrolled": true
   },
   "outputs": [],
   "source": [
    "display(no_Qal_deriv[7])"
   ]
  },
  {
   "cell_type": "code",
   "execution_count": null,
   "metadata": {},
   "outputs": [],
   "source": [
    "displayCorpus(no_Qal_deriv[20], stem='nif|piel|pual|hif|hof', function='Objc|Cmpl|Modi|Time')"
   ]
  },
  {
   "cell_type": "markdown",
   "metadata": {},
   "source": [
    "The verb usually refers to \"praising God\", a communicative situation where the object is the one being praised and not the actual performance. In Leviticus, the lexeme refers to a confession and the object is not the addressee but the content of the confession. We can therefore treat the lexeme as active:"
   ]
  },
  {
   "cell_type": "code",
   "execution_count": null,
   "metadata": {},
   "outputs": [],
   "source": [
    "Aktionsart_upd3['JDH['] = 'active'"
   ]
  },
  {
   "cell_type": "markdown",
   "metadata": {},
   "source": [
    "##### JKX \"reprove\""
   ]
  },
  {
   "cell_type": "code",
   "execution_count": null,
   "metadata": {
    "scrolled": true
   },
   "outputs": [],
   "source": [
    "display(no_Qal_deriv[8])"
   ]
  },
  {
   "cell_type": "code",
   "execution_count": null,
   "metadata": {},
   "outputs": [],
   "source": [
    "displayCorpus(no_Qal_deriv[19], stem='nif|hif|hof|piel|pual')"
   ]
  },
  {
   "cell_type": "markdown",
   "metadata": {},
   "source": [
    "The verb has many meanings but is commonly used for physical or verbal discplin/chastice. It can also refer to an argument between two parties. It refers to a communicative or social activity where tools can be used as instruments. Therefore, an an activity:"
   ]
  },
  {
   "cell_type": "code",
   "execution_count": null,
   "metadata": {},
   "outputs": [],
   "source": [
    "Aktionsart_upd3['JKX['] = 'active'"
   ]
  },
  {
   "cell_type": "markdown",
   "metadata": {},
   "source": [
    "##### JSR \"admonish\""
   ]
  },
  {
   "cell_type": "code",
   "execution_count": null,
   "metadata": {},
   "outputs": [],
   "source": [
    "displayCorpus(no_Qal_deriv[9], stem='nif|piel|pual|hif|hof')"
   ]
  },
  {
   "cell_type": "markdown",
   "metadata": {},
   "source": [
    "The verb occurs both in *Niphal* and in *Piel*, the former referring to the cognitive status of the subject, apparently \"learn\" or \"let oneself be instructed\" (cf. HALOT). The Piel may be a causative use, that is, causing someone to undergo a cognitive process; therefore causative accomplishment (stative).\n",
    "\n",
    "NB: Because the *Piel* can reasonably be derived from the *Niphal* we add it to Aktionsart_upd2 which deals with derivable relationships between stems:"
   ]
  },
  {
   "cell_type": "code",
   "execution_count": null,
   "metadata": {},
   "outputs": [],
   "source": [
    "Aktionsart_upd2['JSR['] = ('stative', 'derivable')"
   ]
  },
  {
   "cell_type": "markdown",
   "metadata": {},
   "source": [
    "##### KSH \"cover\""
   ]
  },
  {
   "cell_type": "code",
   "execution_count": null,
   "metadata": {
    "scrolled": true
   },
   "outputs": [],
   "source": [
    "display(no_Qal_deriv[10])"
   ]
  },
  {
   "cell_type": "code",
   "execution_count": null,
   "metadata": {},
   "outputs": [],
   "source": [
    "displayCorpus(no_Qal_deriv[9], stem='piel|pual')"
   ]
  },
  {
   "cell_type": "markdown",
   "metadata": {},
   "source": [
    "The basic meaning of the verb is \"to cover something with something\", that is, the verb often occurs with an object to be covered but also an instrument by which the object is covered. We can therefore treat the verb as inherently causative and also stative because the event of covering causes a stative situation that can last \"for seven days\"."
   ]
  },
  {
   "cell_type": "code",
   "execution_count": null,
   "metadata": {},
   "outputs": [],
   "source": [
    "Aktionsart_upd3['KSH['] = 'stative'"
   ]
  },
  {
   "cell_type": "markdown",
   "metadata": {},
   "source": [
    "##### KXC \"grow lean\""
   ]
  },
  {
   "cell_type": "code",
   "execution_count": null,
   "metadata": {
    "scrolled": true
   },
   "outputs": [],
   "source": [
    "display(no_Qal_deriv[11])"
   ]
  },
  {
   "cell_type": "code",
   "execution_count": null,
   "metadata": {},
   "outputs": [],
   "source": [
    "displayCorpus(no_Qal_deriv[4], stem='piel')"
   ]
  },
  {
   "cell_type": "markdown",
   "metadata": {},
   "source": [
    "The verb in *Piel* commonly means to keep secret or to deny or lie, the preposition starting with B expressing the theme to be kept secret or lied about. We can reasonably treat the verb as a communicative event, therefore active: "
   ]
  },
  {
   "cell_type": "code",
   "execution_count": null,
   "metadata": {},
   "outputs": [],
   "source": [
    "Aktionsart_upd3['KXC['] = 'active'"
   ]
  },
  {
   "cell_type": "markdown",
   "metadata": {},
   "source": [
    "##### MQQ \"putrefy\""
   ]
  },
  {
   "cell_type": "code",
   "execution_count": null,
   "metadata": {
    "scrolled": true
   },
   "outputs": [],
   "source": [
    "displayCorpus(no_Qal_deriv[14], stem='nif|piel|pual|hif|hof|hitp', function='Objc|Cmpl|Modi|Time')"
   ]
  },
  {
   "cell_type": "markdown",
   "metadata": {},
   "source": [
    "The verb only occurs in Leviticus in this corpus. However, it also occurs in the prophetic and poetic literature of the Hebrew Bible with the meaning \"melt/decay/rot\". Therefore, we may treat the the verb as an accomplishment of a stative verb; in Leviticus describing a psychological process."
   ]
  },
  {
   "cell_type": "code",
   "execution_count": null,
   "metadata": {},
   "outputs": [],
   "source": [
    "Aktionsart_upd3['MQQ['] = 'stative'"
   ]
  },
  {
   "cell_type": "markdown",
   "metadata": {},
   "source": [
    "##### NFG \"overtake\""
   ]
  },
  {
   "cell_type": "code",
   "execution_count": null,
   "metadata": {},
   "outputs": [],
   "source": [
    "display(no_Qal_deriv[13])"
   ]
  },
  {
   "cell_type": "markdown",
   "metadata": {},
   "source": [
    "In Leviticus the verb is used in two different ways, that is, 1) to afford, and 2) to reach/extend. We can explore the verb in the larger corpus:"
   ]
  },
  {
   "cell_type": "code",
   "execution_count": null,
   "metadata": {},
   "outputs": [],
   "source": [
    "displayCorpus(no_Qal_deriv[8], stem='hif|hof|piel|nif')"
   ]
  },
  {
   "cell_type": "markdown",
   "metadata": {},
   "source": [
    "The corpus is not of much help. Implied in the verb, however, seems to be a notion of endgoal, something to be achieved or reached, perhaps over a course of time. Therefore stative in the meaning \"be sufficient/enough\"."
   ]
  },
  {
   "cell_type": "code",
   "execution_count": null,
   "metadata": {},
   "outputs": [],
   "source": [
    "Aktionsart_upd3['NFG['] = 'stative'"
   ]
  },
  {
   "cell_type": "markdown",
   "metadata": {},
   "source": [
    "##### NQP \"go around\""
   ]
  },
  {
   "cell_type": "code",
   "execution_count": null,
   "metadata": {
    "scrolled": true
   },
   "outputs": [],
   "source": [
    "displayCorpus(no_Qal_deriv[12], stem='piel|pual|hif|hof', function='Objc|Cmpl|Modi|Time')"
   ]
  },
  {
   "cell_type": "markdown",
   "metadata": {},
   "source": [
    "While the lexeme is normally used with the verb SBB \"go around\" to express an encircling or surrounding of a city, the lexeme is used rather differently in Leviticus, as it means to trim the hair. The normal aspect is therefore an active accomplishment."
   ]
  },
  {
   "cell_type": "code",
   "execution_count": null,
   "metadata": {},
   "outputs": [],
   "source": [
    "Aktionsart_upd3['NQP['] = 'active'"
   ]
  },
  {
   "cell_type": "markdown",
   "metadata": {},
   "source": [
    "##### NXC \"divine\""
   ]
  },
  {
   "cell_type": "code",
   "execution_count": null,
   "metadata": {
    "scrolled": true
   },
   "outputs": [],
   "source": [
    "display(no_Qal_deriv[17])"
   ]
  },
  {
   "cell_type": "code",
   "execution_count": null,
   "metadata": {},
   "outputs": [],
   "source": [
    "displayCorpus(no_Qal_deriv[17], stem='piel|pual')"
   ]
  },
  {
   "cell_type": "markdown",
   "metadata": {},
   "source": [
    "The verb is difficult to parse because it occurs infrequently and without any temporal indicators. However, it occurs with an intensive modifier, suggesting that the verb is active:"
   ]
  },
  {
   "cell_type": "code",
   "execution_count": null,
   "metadata": {},
   "outputs": [],
   "source": [
    "Aktionsart_upd3['NXC['] = 'active'"
   ]
  },
  {
   "cell_type": "markdown",
   "metadata": {},
   "source": [
    "##### NYH \"decay\""
   ]
  },
  {
   "cell_type": "code",
   "execution_count": null,
   "metadata": {
    "scrolled": true
   },
   "outputs": [],
   "source": [
    "display(no_Qal_deriv[16])"
   ]
  },
  {
   "cell_type": "code",
   "execution_count": null,
   "metadata": {
    "scrolled": true
   },
   "outputs": [],
   "source": [
    "displayCorpus(no_Qal_deriv[16], stem='nif|piel|pual|hif|hof', function='Objc|Cmpl|Modi|Time')"
   ]
  },
  {
   "cell_type": "markdown",
   "metadata": {},
   "source": [
    "The verb is used to express a violent fighting. For that reason, it is curious that the verb occurs in the *Niphal* which is regularly used to express passive. Perhaps, *Niphal* here expresses the reciprocal sense because the fight necessarily involves two parties. The verb is active:"
   ]
  },
  {
   "cell_type": "code",
   "execution_count": null,
   "metadata": {},
   "outputs": [],
   "source": [
    "Aktionsart_upd3['NYH['] = 'active'"
   ]
  },
  {
   "cell_type": "markdown",
   "metadata": {},
   "source": [
    "##### NZR \"dedicate\""
   ]
  },
  {
   "cell_type": "code",
   "execution_count": null,
   "metadata": {
    "scrolled": true
   },
   "outputs": [],
   "source": [
    "display(no_Qal_deriv[17])"
   ]
  },
  {
   "cell_type": "code",
   "execution_count": null,
   "metadata": {},
   "outputs": [],
   "source": [
    "displayCorpus(no_Qal_deriv[3], stem='hif')"
   ]
  },
  {
   "cell_type": "markdown",
   "metadata": {},
   "source": [
    "The basic meaning of NZR is to \"restrain\" or withdraw from a certain practice. The meaning of the verb in Leviticus is dubious. Perhaps it denotes an attitude, or perhaps it means to refrain from eating the gifts of the Israelites. One possible interpreation is simply to \"be away from\", also accounting for one of the meanings in *Hiphil*, namely to cause others to be away from... The stative would also support an interpretation of NZR as denoting an attitude (stative)."
   ]
  },
  {
   "cell_type": "code",
   "execution_count": null,
   "metadata": {},
   "outputs": [],
   "source": [
    "Aktionsart_upd3['NZR['] = 'stative'"
   ]
  },
  {
   "cell_type": "markdown",
   "metadata": {},
   "source": [
    "##### PL> \"be miraculous\""
   ]
  },
  {
   "cell_type": "code",
   "execution_count": null,
   "metadata": {
    "scrolled": true
   },
   "outputs": [],
   "source": [
    "display(no_Qal_deriv[18])"
   ]
  },
  {
   "cell_type": "code",
   "execution_count": null,
   "metadata": {},
   "outputs": [],
   "source": [
    "displayCorpus(no_Qal_deriv[21], stem='piel', function='Objc')"
   ]
  },
  {
   "cell_type": "markdown",
   "metadata": {},
   "source": [
    "In the *Piel* the verb is used in conjunction with \"vow\" and refers to fulfilling the vow by the means of a sacrifice. It is certainly causative because it is the object that becomes fulfilled. Therefore causative stative:"
   ]
  },
  {
   "cell_type": "code",
   "execution_count": null,
   "metadata": {},
   "outputs": [],
   "source": [
    "Aktionsart_upd3['PL>['] = 'stative'"
   ]
  },
  {
   "cell_type": "markdown",
   "metadata": {},
   "source": [
    "##### QVR \"burn\""
   ]
  },
  {
   "cell_type": "code",
   "execution_count": null,
   "metadata": {
    "scrolled": true
   },
   "outputs": [],
   "source": [
    "display(no_Qal_deriv[19])"
   ]
  },
  {
   "cell_type": "code",
   "execution_count": null,
   "metadata": {
    "scrolled": true
   },
   "outputs": [],
   "source": [
    "displayCorpus(no_Qal_deriv[2], stem='hif')"
   ]
  },
  {
   "cell_type": "markdown",
   "metadata": {},
   "source": [
    "The verb is often modified by a locative phrase describing the place of the event as well as a benefactor to whom the sacrifice is addressed. We may deduce that the verb is inherently causative, the subject causing the object to go to the benefactor by smoke. Therefore causative stative: \"to cause an object to be/belong\""
   ]
  },
  {
   "cell_type": "code",
   "execution_count": null,
   "metadata": {},
   "outputs": [],
   "source": [
    "Aktionsart_upd3['QVR['] = 'stative'"
   ]
  },
  {
   "cell_type": "markdown",
   "metadata": {},
   "source": [
    "##### RJG \"be empty\""
   ]
  },
  {
   "cell_type": "code",
   "execution_count": null,
   "metadata": {
    "scrolled": true
   },
   "outputs": [],
   "source": [
    "displayCorpus(no_Qal_deriv[13], stem='hif|hof', function='Objc|Cmpl|Modi|Time')"
   ]
  },
  {
   "cell_type": "markdown",
   "metadata": {},
   "source": [
    "The verb is exclusively used in a military context, two of the three times with \"sword\" as object. The Genesis text is disputed. The verb may be derived from the adjective RJQ \"empty\", so it should probably be translated as \"drawing my sword\". The complement \"after them\" suggests a direction of the sword, that is \"cause the sword to go after them\"; therefore, causative active accomplishment. This interpretation is supported by the fact that the >XR \"after\" usually appears with verbs of motion:"
   ]
  },
  {
   "cell_type": "code",
   "execution_count": null,
   "metadata": {},
   "outputs": [],
   "source": [
    "AXR = '''\n",
    "corpus\n",
    " clause\n",
    "  phrase function=Pred|PreO|PreS\n",
    "    word\n",
    "  phrase function=Cmpl\n",
    "    =: word lex=>XR/\n",
    "'''\n",
    "\n",
    "AXR = A.search(AXR, sets=sets)\n",
    "\n",
    "verb_list = []\n",
    "for r in AXR:\n",
    "    verb = F.lex.v(r[3])\n",
    "    verb_list.append(verb)\n",
    "    \n",
    "pd.DataFrame([collections.Counter(verb_list)]).T.sort_values(by=0, ascending=False)[:10]"
   ]
  },
  {
   "cell_type": "code",
   "execution_count": null,
   "metadata": {},
   "outputs": [],
   "source": [
    "Aktionsart_upd3['RJQ['] = 'active'"
   ]
  },
  {
   "cell_type": "markdown",
   "metadata": {},
   "source": [
    "##### XRP \"spend autumn\""
   ]
  },
  {
   "cell_type": "code",
   "execution_count": null,
   "metadata": {},
   "outputs": [],
   "source": [
    "display(no_Qal_deriv[21])"
   ]
  },
  {
   "cell_type": "code",
   "execution_count": null,
   "metadata": {},
   "outputs": [],
   "source": [
    "displayCorpus(no_Qal_deriv[10], stem='nif|piel|pual|hif|hof', function='Cmpl|Objc')"
   ]
  },
  {
   "cell_type": "markdown",
   "metadata": {},
   "source": [
    "The verb is a *hapax* and is obviously difficult to parse. It has been suggested that the verb means \"be engaged\"; therefore stative"
   ]
  },
  {
   "cell_type": "code",
   "execution_count": null,
   "metadata": {},
   "outputs": [],
   "source": [
    "Aktionsart_upd3['XRP=['] = 'stative'"
   ]
  },
  {
   "cell_type": "markdown",
   "metadata": {},
   "source": [
    "#### Summary"
   ]
  },
  {
   "cell_type": "markdown",
   "metadata": {},
   "source": [
    "To check whether all lexemes have been reviewed, we collocate the two lists of lexemes (with and without possible *Qal*-\n",
    "derivaties) and check whether they occur in the two dictionaries:"
   ]
  },
  {
   "cell_type": "code",
   "execution_count": null,
   "metadata": {},
   "outputs": [],
   "source": [
    "combined_lex = Qal_deriv + no_Qal_deriv"
   ]
  },
  {
   "cell_type": "code",
   "execution_count": null,
   "metadata": {},
   "outputs": [],
   "source": [
    "print(f'Missing cases: {len([lex for lex in combined_lex if lex not in Aktionsart_upd2 and lex not in Aktionsart_upd3])}')"
   ]
  },
  {
   "cell_type": "code",
   "execution_count": null,
   "metadata": {},
   "outputs": [],
   "source": [
    "data.head()"
   ]
  },
  {
   "cell_type": "code",
   "execution_count": null,
   "metadata": {},
   "outputs": [],
   "source": [
    "new_Aktionsart = [] #We create a list of all Aktionsart - changes or not - and add this list as a new column\n",
    "no_changes = [] #We collect those cases where the lexeme under investigation has had its Aktionsart changed\n",
    "\n",
    "for row in data.iterrows():    \n",
    "    old_Aktionsart = row[1].Aktionsart.lower()\n",
    "    lex = row[1].lex\n",
    "\n",
    "    if lex in Aktionsart_upd2:       \n",
    "        if old_Aktionsart != Aktionsart_upd2[lex]:\n",
    "            \n",
    "            if type(Aktionsart_upd2[lex]) != 'str':\n",
    "                new_Aktionsart.append(Aktionsart_upd2[lex][0][:3])\n",
    "                print(f'{lex}: {old_Aktionsart} >> {Aktionsart_upd2[lex][0][:3]}')\n",
    "            \n",
    "            else:\n",
    "                new_Aktionsart.append(Aktionsart_upd2[lex][:3])\n",
    "                print(f'{lex}: {old_Aktionsart} >> {Aktionsart_upd2[lex][:3]}')\n",
    "            \n",
    "        else:\n",
    "            no_changes.append(lex)\n",
    "            \n",
    "    elif lex in Aktionsart_upd3:\n",
    "        new_Aktionsart.append(Aktionsart_upd3[lex][:3])\n",
    "        \n",
    "        if old_Aktionsart != Aktionsart_upd3[lex]:\n",
    "            print(f'{lex}: {old_Aktionsart} >> {Aktionsart_upd3[lex][:3]}')\n",
    "            \n",
    "        else:\n",
    "            no_changes.append(lex)\n",
    "    \n",
    "    else:\n",
    "        new_Aktionsart.append(old_Aktionsart)\n",
    "        \n",
    "print('\\n---------------------------------')\n",
    "print('No changes made:\\n')\n",
    "for lex in no_changes:\n",
    "    print(lex)\n",
    "\n",
    "data['new_Aktionsart'] = new_Aktionsart"
   ]
  },
  {
   "cell_type": "code",
   "execution_count": null,
   "metadata": {},
   "outputs": [],
   "source": [
    "data.head()"
   ]
  },
  {
   "cell_type": "code",
   "execution_count": null,
   "metadata": {},
   "outputs": [],
   "source": [
    "data_upd = data[['lex','new_Aktionsart','class','comment']]"
   ]
  },
  {
   "cell_type": "code",
   "execution_count": null,
   "metadata": {},
   "outputs": [],
   "source": [
    "data_upd.to_csv(f'{PATH}Lev17-26_Aktionsart_other_stems_corrected.csv', index=None)"
   ]
  },
  {
   "cell_type": "markdown",
   "metadata": {},
   "source": [
    "## Prepare data for CSV-export\n",
    "\n",
    "Because lexemes may be used to express several meanings, it is pointless to assign *Aktionsart* to the glosses, as if one lexeme had only one meaning irrespective of stem.\n",
    "\n",
    "For that reason the *Aktionsart* is assigned to concrete word nodes in the corpus based on two parameters, lex and stem. Some lexemes may have different meanings even with the same stem, and the only solution will be to manually correct those cases. For the most part, lexemes generally have the same meaning in the same stem and some meanings in non-*Qal* stems can even be derived from the *Qal* correlate."
   ]
  },
  {
   "cell_type": "markdown",
   "metadata": {},
   "source": [
    "First, we collect all data according to lex and stem. The two first files contain only information about lexemes in the *Qal*. We collocate lexeme and stem to be able to disambiguate word senses according to this combination:"
   ]
  },
  {
   "cell_type": "code",
   "execution_count": null,
   "metadata": {},
   "outputs": [],
   "source": [
    "file1 = f'{PATH}Lev17-26_Aktionsart_qal_pca_corrected.csv'\n",
    "file2 = f'{PATH}Lev17-26_Aktionsart_qal_corrected.csv'\n",
    "file3 = f'{PATH}Lev17-26_Aktionsart_other_stems_corrected.csv'"
   ]
  },
  {
   "cell_type": "code",
   "execution_count": null,
   "metadata": {},
   "outputs": [],
   "source": [
    "#Extracting data from data1:\n",
    "data1 = pd.read_csv(file1)\n",
    "data1.new_Aktionsart = [n[:3] for n in list(data1.new_Aktionsart)]\n",
    "data1['lex'] = [n+'_qal' for n in list(data1.lexemes)]\n",
    "data1 = data1[['lex','new_Aktionsart']]\n",
    "\n",
    "#Extracting data from data2:\n",
    "data2 = pd.read_csv(file2)\n",
    "data2 = data2[['lex','new_Aktionsart']]\n",
    "data2['lex'] = [n+'_qal' for n in list(data2.lex)]"
   ]
  },
  {
   "cell_type": "markdown",
   "metadata": {},
   "source": [
    "The third file is more difficult because it contains the *Aktionsart* of lexemes in non-*Qal* stems."
   ]
  },
  {
   "cell_type": "code",
   "execution_count": null,
   "metadata": {
    "scrolled": true
   },
   "outputs": [],
   "source": [
    "data3 = pd.read_csv(file3)\n",
    "data3 = data3[['lex','new_Aktionsart']]\n",
    "data3"
   ]
  },
  {
   "cell_type": "code",
   "execution_count": null,
   "metadata": {},
   "outputs": [],
   "source": [
    "non_qal_lex = list(data3.lex)\n",
    "\n",
    "verbs_non_qal = '''\n",
    "book book=Leviticus\n",
    " chapter chapter=17|18|19|20|21|22|23|24|25|26\n",
    "   phrase function=Pred|PreO|PreS|PreC|PtcO\n",
    "     word sp=verb lex={}\n",
    "'''\n",
    "\n",
    "verbs_non_qal = A.search(verbs_non_qal.format('|'.join(non_qal_lex)))"
   ]
  },
  {
   "cell_type": "code",
   "execution_count": null,
   "metadata": {},
   "outputs": [],
   "source": [
    "lex_stem = set()\n",
    "\n",
    "for r in verbs_non_qal:\n",
    "    lex = F.lex.v(r[3])\n",
    "    stem = F.vs.v(r[3])\n",
    "    lex_stem.add(f'{lex}_{stem}')\n",
    "    \n",
    "print(f'{len(lex_stem)} lexeme-stem combinations found')"
   ]
  },
  {
   "cell_type": "code",
   "execution_count": null,
   "metadata": {},
   "outputs": [],
   "source": [
    "lex_stem_dict = {}\n",
    "\n",
    "for c in lex_stem:\n",
    "    lex = c[:c.index('_')] #Isolating lexeme from lex_stem combination\n",
    "    \n",
    "    Aktionsart = data3[data3.lex == lex].new_Aktionsart.item()\n",
    "    lex_stem_dict[c] = Aktionsart\n",
    "    \n",
    "data3a = pd.DataFrame([lex_stem_dict]).T\n",
    "data3a['lex'] = data3a.index\n",
    "data3a.columns = ['new_Aktionsart','lex']"
   ]
  },
  {
   "cell_type": "code",
   "execution_count": null,
   "metadata": {},
   "outputs": [],
   "source": [
    "data3a = data3a[['lex','new_Aktionsart']]\n",
    "data3a.head()"
   ]
  },
  {
   "cell_type": "code",
   "execution_count": null,
   "metadata": {},
   "outputs": [],
   "source": [
    "comb_df = pd.concat([data1, data2, data3a])\n",
    "comb_df.head()"
   ]
  },
  {
   "cell_type": "code",
   "execution_count": null,
   "metadata": {},
   "outputs": [],
   "source": [
    "comb_df[comb_df.lex=='GRC[_qal']"
   ]
  },
  {
   "cell_type": "markdown",
   "metadata": {},
   "source": [
    "### Combining lexemes, stems and annotation for CSC-export"
   ]
  },
  {
   "cell_type": "code",
   "execution_count": null,
   "metadata": {},
   "outputs": [],
   "source": [
    "comb_df['stem'] = [n[n.index('_')+1:] for n in list(comb_df.lex)]\n",
    "comb_df['lex'] = [n[:n.index('_')] for n in list(comb_df.lex)]"
   ]
  },
  {
   "cell_type": "code",
   "execution_count": null,
   "metadata": {},
   "outputs": [],
   "source": [
    "Aktionsart_upd2"
   ]
  },
  {
   "cell_type": "markdown",
   "metadata": {},
   "source": [
    "The procedure is three-fold:\n",
    "1. If the lexeme is in the *Qal*-stem, the other stems of the lexemes are annotated with the *Aktionsart*\n",
    "2. If the lexeme is not in the *Qal*-stem but is annotated as derivable in Aktionsart_upd2, then the *Qal* stem is also\n",
    "annotated with the *Aktionsart*\n",
    "3. If the lexeme is not in the *Qal*-stem and not derivable, then only this particular stem will be annotated"
   ]
  },
  {
   "cell_type": "code",
   "execution_count": null,
   "metadata": {},
   "outputs": [],
   "source": [
    "comb_df[comb_df.lex == 'GRC[']"
   ]
  },
  {
   "cell_type": "code",
   "execution_count": null,
   "metadata": {},
   "outputs": [],
   "source": [
    "Aktionsart_dict = {}\n",
    "\n",
    "lexemes = list(comb_df.lex)\n",
    "\n",
    "last_word = L.d(T.nodeFromSection(('2_Kings',25,30)), 'word')[-1]\n",
    "\n",
    "for n in range(1,last_word+1):\n",
    "    if F.pdp.v(n) == 'verb' and F.function.v(L.u(n, 'phrase')[0]) in ['Pred','PreS','PreO','PreC','PtcO']:\n",
    "        lex = F.lex.v(n)\n",
    "        stem = F.vs.v(n)\n",
    "        \n",
    "        if lex in lexemes:\n",
    "            \n",
    "            df_sub = comb_df[comb_df.lex==lex]\n",
    "            stems = list(df_sub.stem)\n",
    "            \n",
    "            #1. If Qal\n",
    "            if 'qal' in stems:\n",
    "                Aktionsart_dict[f'{lex}_{stem}'] = df_sub.new_Aktionsart.item()\n",
    "                \n",
    "            #2. If not Qal but derivable\n",
    "            else:\n",
    "                if lex in Aktionsart_upd2 and Aktionsart_upd2[lex][1] == 'derivable':\n",
    "                    stems.append('qal')\n",
    "                    \n",
    "                    if stem in stems:\n",
    "                        Aktionsart_dict[f'{lex}_{stem}'] = df_sub[df_sub.stem==stems[0]].new_Aktionsart.item()\n",
    "                        \n",
    "                elif lex in Aktionsart_upd2 and Aktionsart_upd2[lex][1] != 'derivable':\n",
    "                    if stem in stems:\n",
    "                        Aktionsart_dict[f'{lex}_{stem}'] = df_sub[df_sub.stem==stem].new_Aktionsart.item()\n",
    "                        \n",
    "                #3. If not Qal and not derivable\n",
    "                elif stem in stems:\n",
    "                    Aktionsart_dict[f'{lex}_{stem}'] = df_sub[df_sub.stem==stem].new_Aktionsart.item()"
   ]
  },
  {
   "cell_type": "code",
   "execution_count": null,
   "metadata": {},
   "outputs": [],
   "source": [
    "Aktionsart_df = pd.DataFrame([Aktionsart_dict]).T\n",
    "Aktionsart_df.head()"
   ]
  },
  {
   "cell_type": "code",
   "execution_count": null,
   "metadata": {},
   "outputs": [],
   "source": [
    "Aktionsart_df.to_csv(f'{PATH}Lev17-26.Aktionsart_sta_act_final_1.csv')"
   ]
  },
  {
   "cell_type": "markdown",
   "metadata": {},
   "source": [
    "#### ͏͏͏Final check:"
   ]
  },
  {
   "cell_type": "code",
   "execution_count": null,
   "metadata": {},
   "outputs": [],
   "source": [
    "data1 = pd.read_csv(f'{PATH}Lev17-26.Aktionsart_sta_act_final.csv')\n",
    "data2 = pd.read_csv(f'{PATH}Lev17-26.Aktionsart_sta_act_final_1.csv')\n",
    "\n",
    "data1.columns = ['lex','Aktionsart']\n",
    "data2.columns = ['lex','Aktionsart']"
   ]
  },
  {
   "cell_type": "code",
   "execution_count": null,
   "metadata": {},
   "outputs": [],
   "source": [
    "data1.head()"
   ]
  },
  {
   "cell_type": "code",
   "execution_count": null,
   "metadata": {},
   "outputs": [],
   "source": [
    "data2.head()"
   ]
  },
  {
   "cell_type": "code",
   "execution_count": null,
   "metadata": {},
   "outputs": [],
   "source": [
    "for n, row in data1.iterrows():\n",
    "    lex = row.lex\n",
    "    Aktionsart = row.Aktionsart\n",
    "    \n",
    "    Aktionsart2 = data2[data2.lex == lex].Aktionsart.item()\n",
    "    \n",
    "    if not Aktionsart == Aktionsart2:\n",
    "        print(lex, Aktionsart, Aktionsart2)"
   ]
  }
 ],
 "metadata": {
  "kernelspec": {
   "display_name": "Python 3",
   "language": "python",
   "name": "python3"
  },
  "language_info": {
   "codemirror_mode": {
    "name": "ipython",
    "version": 3
   },
   "file_extension": ".py",
   "mimetype": "text/x-python",
   "name": "python",
   "nbconvert_exporter": "python",
   "pygments_lexer": "ipython3",
   "version": "3.7.3"
  }
 },
 "nbformat": 4,
 "nbformat_minor": 2
}

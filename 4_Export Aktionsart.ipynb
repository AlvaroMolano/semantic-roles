{
 "cells": [
  {
   "cell_type": "markdown",
   "metadata": {},
   "source": [
    "# Export *Aktionsart*\n",
    "\n",
    "This notebook combines annotations created in previous notebooks for a final review and export as TF-features. The annotations in question are \"stative/active\" and \"causative/non-causative\" which divide the Hebrew verbs into four groups:\n",
    "\n",
    "1. Stative verbs: *fear, see*\n",
    "2. Active verbs: *run, eat*\n",
    "3. Causative stative verbs: *give, put*\n",
    "4. Causative active verbs: *bring, pour*"
   ]
  },
  {
   "cell_type": "markdown",
   "metadata": {},
   "source": [
    "## Import"
   ]
  },
  {
   "cell_type": "code",
   "execution_count": 1,
   "metadata": {},
   "outputs": [],
   "source": [
    "import os, sys\n",
    "\n",
    "#Data analysis\n",
    "import collections\n",
    "import pandas as pd\n",
    "import numpy as np\n",
    "\n",
    "#Text-fabric\n",
    "from tf.app import use"
   ]
  },
  {
   "cell_type": "code",
   "execution_count": 2,
   "metadata": {
    "scrolled": false
   },
   "outputs": [
    {
     "name": "stdout",
     "output_type": "stream",
     "text": [
      "rate limit is 60 requests per hour, with 45 left for this hour\n"
     ]
    },
    {
     "name": "stderr",
     "output_type": "stream",
     "text": [
      "To increase the rate,see https://annotation.github.io/text-fabric/Api/Repo/\n"
     ]
    },
    {
     "name": "stdout",
     "output_type": "stream",
     "text": [
      "\tconnecting to online GitHub repo annotation/app-bhsa ... connected\n",
      "Using TF-app in C:\\Users\\Ejer/text-fabric-data/annotation/app-bhsa/code:\n",
      "\trv1.3=#f38d56bd757e87fe12d0c125e1ca52ee4376127b (latest release)\n",
      "rate limit is 60 requests per hour, with 40 left for this hour\n"
     ]
    },
    {
     "name": "stderr",
     "output_type": "stream",
     "text": [
      "To increase the rate,see https://annotation.github.io/text-fabric/Api/Repo/\n"
     ]
    },
    {
     "name": "stdout",
     "output_type": "stream",
     "text": [
      "\tconnecting to online GitHub repo etcbc/bhsa ... connected\n",
      "Using data in C:\\Users\\Ejer/text-fabric-data/etcbc/bhsa/tf/c:\n",
      "\trv1.6=#bac4a9f5a2bbdede96ba6caea45e762fe88f88c5 (latest release)\n",
      "rate limit is 60 requests per hour, with 35 left for this hour\n"
     ]
    },
    {
     "name": "stderr",
     "output_type": "stream",
     "text": [
      "To increase the rate,see https://annotation.github.io/text-fabric/Api/Repo/\n"
     ]
    },
    {
     "name": "stdout",
     "output_type": "stream",
     "text": [
      "\tconnecting to online GitHub repo etcbc/phono ... connected\n",
      "Using data in C:\\Users\\Ejer/text-fabric-data/etcbc/phono/tf/c:\n",
      "\tr1.2=#1ac68e976ee4a7f23eb6bb4c6f401a033d0ec169 (latest release)\n",
      "rate limit is 60 requests per hour, with 30 left for this hour\n"
     ]
    },
    {
     "name": "stderr",
     "output_type": "stream",
     "text": [
      "To increase the rate,see https://annotation.github.io/text-fabric/Api/Repo/\n"
     ]
    },
    {
     "name": "stdout",
     "output_type": "stream",
     "text": [
      "\tconnecting to online GitHub repo etcbc/parallels ... connected\n",
      "Using data in C:\\Users\\Ejer/text-fabric-data/etcbc/parallels/tf/c:\n",
      "\tr1.2=#395dfe2cb69c261862fab9f0289e594a52121d5c (latest release)\n",
      "   |     0.00s No structure info in otext, the structure part of the T-API cannot be used\n"
     ]
    },
    {
     "data": {
      "text/html": [
       "<b>Documentation:</b> <a target=\"_blank\" href=\"https://etcbc.github.io/bhsa\" title=\"provenance of BHSA = Biblia Hebraica Stuttgartensia Amstelodamensis\">BHSA</a> <a target=\"_blank\" href=\"https://annotation.github.io/text-fabric/Writing/Hebrew\" title=\"('Hebrew characters and transcriptions',)\">Character table</a> <a target=\"_blank\" href=\"https://etcbc.github.io/bhsa/features/0_home\" title=\"BHSA feature documentation\">Feature docs</a> <a target=\"_blank\" href=\"https://github.com/annotation/app-bhsa\" title=\"bhsa API documentation\">bhsa API</a> <a target=\"_blank\" href=\"https://annotation.github.io/text-fabric/Api/Fabric/\" title=\"text-fabric-api\">Text-Fabric API 7.11.0</a> <a target=\"_blank\" href=\"https://annotation.github.io/text-fabric/Use/Search/\" title=\"Search Templates Introduction and Reference\">Search Reference</a><details open><summary><b>Loaded features</b>:</summary>\n",
       "<p><b>BHSA = Biblia Hebraica Stuttgartensia Amstelodamensis</b>: <a target=\"_blank\" href=\"https://etcbc.github.io/bhsa/features/book\" title=\"C:\\Users\\Ejer/text-fabric-data/etcbc/bhsa/tf/c/book.tf\">book</a>  <a target=\"_blank\" href=\"https://etcbc.github.io/bhsa/features/book@ll\" title=\"C:\\Users\\Ejer/text-fabric-data/etcbc/bhsa/tf/c/book@am.tf\">book@ll</a>  <a target=\"_blank\" href=\"https://etcbc.github.io/bhsa/features/chapter\" title=\"C:\\Users\\Ejer/text-fabric-data/etcbc/bhsa/tf/c/chapter.tf\">chapter</a>  <a target=\"_blank\" href=\"https://etcbc.github.io/bhsa/features/code\" title=\"C:\\Users\\Ejer/text-fabric-data/etcbc/bhsa/tf/c/code.tf\">code</a>  <a target=\"_blank\" href=\"https://etcbc.github.io/bhsa/features/det\" title=\"C:\\Users\\Ejer/text-fabric-data/etcbc/bhsa/tf/c/det.tf\">det</a>  <a target=\"_blank\" href=\"https://etcbc.github.io/bhsa/features/domain\" title=\"C:\\Users\\Ejer/text-fabric-data/etcbc/bhsa/tf/c/domain.tf\">domain</a>  <a target=\"_blank\" href=\"https://etcbc.github.io/bhsa/features/freq_lex\" title=\"C:\\Users\\Ejer/text-fabric-data/etcbc/bhsa/tf/c/freq_lex.tf\">freq_lex</a>  <a target=\"_blank\" href=\"https://etcbc.github.io/bhsa/features/function\" title=\"C:\\Users\\Ejer/text-fabric-data/etcbc/bhsa/tf/c/function.tf\">function</a>  <a target=\"_blank\" href=\"https://etcbc.github.io/bhsa/features/g_cons\" title=\"C:\\Users\\Ejer/text-fabric-data/etcbc/bhsa/tf/c/g_cons.tf\">g_cons</a>  <a target=\"_blank\" href=\"https://etcbc.github.io/bhsa/features/g_cons_utf8\" title=\"C:\\Users\\Ejer/text-fabric-data/etcbc/bhsa/tf/c/g_cons_utf8.tf\">g_cons_utf8</a>  <a target=\"_blank\" href=\"https://etcbc.github.io/bhsa/features/g_lex\" title=\"C:\\Users\\Ejer/text-fabric-data/etcbc/bhsa/tf/c/g_lex.tf\">g_lex</a>  <a target=\"_blank\" href=\"https://etcbc.github.io/bhsa/features/g_lex_utf8\" title=\"C:\\Users\\Ejer/text-fabric-data/etcbc/bhsa/tf/c/g_lex_utf8.tf\">g_lex_utf8</a>  <a target=\"_blank\" href=\"https://etcbc.github.io/bhsa/features/g_word\" title=\"C:\\Users\\Ejer/text-fabric-data/etcbc/bhsa/tf/c/g_word.tf\">g_word</a>  <a target=\"_blank\" href=\"https://etcbc.github.io/bhsa/features/g_word_utf8\" title=\"C:\\Users\\Ejer/text-fabric-data/etcbc/bhsa/tf/c/g_word_utf8.tf\">g_word_utf8</a>  <a target=\"_blank\" href=\"https://etcbc.github.io/bhsa/features/gloss\" title=\"C:\\Users\\Ejer/text-fabric-data/etcbc/bhsa/tf/c/gloss.tf\">gloss</a>  <a target=\"_blank\" href=\"https://etcbc.github.io/bhsa/features/gn\" title=\"C:\\Users\\Ejer/text-fabric-data/etcbc/bhsa/tf/c/gn.tf\">gn</a>  <a target=\"_blank\" href=\"https://etcbc.github.io/bhsa/features/label\" title=\"C:\\Users\\Ejer/text-fabric-data/etcbc/bhsa/tf/c/label.tf\">label</a>  <a target=\"_blank\" href=\"https://etcbc.github.io/bhsa/features/language\" title=\"C:\\Users\\Ejer/text-fabric-data/etcbc/bhsa/tf/c/language.tf\">language</a>  <a target=\"_blank\" href=\"https://etcbc.github.io/bhsa/features/lex\" title=\"C:\\Users\\Ejer/text-fabric-data/etcbc/bhsa/tf/c/lex.tf\">lex</a>  <a target=\"_blank\" href=\"https://etcbc.github.io/bhsa/features/lex_utf8\" title=\"C:\\Users\\Ejer/text-fabric-data/etcbc/bhsa/tf/c/lex_utf8.tf\">lex_utf8</a>  <a target=\"_blank\" href=\"https://etcbc.github.io/bhsa/features/ls\" title=\"C:\\Users\\Ejer/text-fabric-data/etcbc/bhsa/tf/c/ls.tf\">ls</a>  <a target=\"_blank\" href=\"https://etcbc.github.io/bhsa/features/nametype\" title=\"C:\\Users\\Ejer/text-fabric-data/etcbc/bhsa/tf/c/nametype.tf\">nametype</a>  <a target=\"_blank\" href=\"https://etcbc.github.io/bhsa/features/nme\" title=\"C:\\Users\\Ejer/text-fabric-data/etcbc/bhsa/tf/c/nme.tf\">nme</a>  <a target=\"_blank\" href=\"https://etcbc.github.io/bhsa/features/nu\" title=\"C:\\Users\\Ejer/text-fabric-data/etcbc/bhsa/tf/c/nu.tf\">nu</a>  <a target=\"_blank\" href=\"https://etcbc.github.io/bhsa/features/number\" title=\"C:\\Users\\Ejer/text-fabric-data/etcbc/bhsa/tf/c/number.tf\">number</a>  <a target=\"_blank\" href=\"https://etcbc.github.io/bhsa/features/otype\" title=\"C:\\Users\\Ejer/text-fabric-data/etcbc/bhsa/tf/c/otype.tf\">otype</a>  <a target=\"_blank\" href=\"https://etcbc.github.io/bhsa/features/pargr\" title=\"C:\\Users\\Ejer/text-fabric-data/etcbc/bhsa/tf/c/pargr.tf\">pargr</a>  <a target=\"_blank\" href=\"https://etcbc.github.io/bhsa/features/pdp\" title=\"C:\\Users\\Ejer/text-fabric-data/etcbc/bhsa/tf/c/pdp.tf\">pdp</a>  <a target=\"_blank\" href=\"https://etcbc.github.io/bhsa/features/pfm\" title=\"C:\\Users\\Ejer/text-fabric-data/etcbc/bhsa/tf/c/pfm.tf\">pfm</a>  <a target=\"_blank\" href=\"https://etcbc.github.io/bhsa/features/prs\" title=\"C:\\Users\\Ejer/text-fabric-data/etcbc/bhsa/tf/c/prs.tf\">prs</a>  <a target=\"_blank\" href=\"https://etcbc.github.io/bhsa/features/prs_gn\" title=\"C:\\Users\\Ejer/text-fabric-data/etcbc/bhsa/tf/c/prs_gn.tf\">prs_gn</a>  <a target=\"_blank\" href=\"https://etcbc.github.io/bhsa/features/prs_nu\" title=\"C:\\Users\\Ejer/text-fabric-data/etcbc/bhsa/tf/c/prs_nu.tf\">prs_nu</a>  <a target=\"_blank\" href=\"https://etcbc.github.io/bhsa/features/prs_ps\" title=\"C:\\Users\\Ejer/text-fabric-data/etcbc/bhsa/tf/c/prs_ps.tf\">prs_ps</a>  <a target=\"_blank\" href=\"https://etcbc.github.io/bhsa/features/ps\" title=\"C:\\Users\\Ejer/text-fabric-data/etcbc/bhsa/tf/c/ps.tf\">ps</a>  <a target=\"_blank\" href=\"https://etcbc.github.io/bhsa/features/qere\" title=\"C:\\Users\\Ejer/text-fabric-data/etcbc/bhsa/tf/c/qere.tf\">qere</a>  <a target=\"_blank\" href=\"https://etcbc.github.io/bhsa/features/qere_trailer\" title=\"C:\\Users\\Ejer/text-fabric-data/etcbc/bhsa/tf/c/qere_trailer.tf\">qere_trailer</a>  <a target=\"_blank\" href=\"https://etcbc.github.io/bhsa/features/qere_trailer_utf8\" title=\"C:\\Users\\Ejer/text-fabric-data/etcbc/bhsa/tf/c/qere_trailer_utf8.tf\">qere_trailer_utf8</a>  <a target=\"_blank\" href=\"https://etcbc.github.io/bhsa/features/qere_utf8\" title=\"C:\\Users\\Ejer/text-fabric-data/etcbc/bhsa/tf/c/qere_utf8.tf\">qere_utf8</a>  <a target=\"_blank\" href=\"https://etcbc.github.io/bhsa/features/rank_lex\" title=\"C:\\Users\\Ejer/text-fabric-data/etcbc/bhsa/tf/c/rank_lex.tf\">rank_lex</a>  <a target=\"_blank\" href=\"https://etcbc.github.io/bhsa/features/rela\" title=\"C:\\Users\\Ejer/text-fabric-data/etcbc/bhsa/tf/c/rela.tf\">rela</a>  <a target=\"_blank\" href=\"https://etcbc.github.io/bhsa/features/sp\" title=\"C:\\Users\\Ejer/text-fabric-data/etcbc/bhsa/tf/c/sp.tf\">sp</a>  <a target=\"_blank\" href=\"https://etcbc.github.io/bhsa/features/st\" title=\"C:\\Users\\Ejer/text-fabric-data/etcbc/bhsa/tf/c/st.tf\">st</a>  <a target=\"_blank\" href=\"https://etcbc.github.io/bhsa/features/tab\" title=\"C:\\Users\\Ejer/text-fabric-data/etcbc/bhsa/tf/c/tab.tf\">tab</a>  <a target=\"_blank\" href=\"https://etcbc.github.io/bhsa/features/trailer\" title=\"C:\\Users\\Ejer/text-fabric-data/etcbc/bhsa/tf/c/trailer.tf\">trailer</a>  <a target=\"_blank\" href=\"https://etcbc.github.io/bhsa/features/trailer_utf8\" title=\"C:\\Users\\Ejer/text-fabric-data/etcbc/bhsa/tf/c/trailer_utf8.tf\">trailer_utf8</a>  <a target=\"_blank\" href=\"https://etcbc.github.io/bhsa/features/txt\" title=\"C:\\Users\\Ejer/text-fabric-data/etcbc/bhsa/tf/c/txt.tf\">txt</a>  <a target=\"_blank\" href=\"https://etcbc.github.io/bhsa/features/typ\" title=\"C:\\Users\\Ejer/text-fabric-data/etcbc/bhsa/tf/c/typ.tf\">typ</a>  <a target=\"_blank\" href=\"https://etcbc.github.io/bhsa/features/uvf\" title=\"C:\\Users\\Ejer/text-fabric-data/etcbc/bhsa/tf/c/uvf.tf\">uvf</a>  <a target=\"_blank\" href=\"https://etcbc.github.io/bhsa/features/vbe\" title=\"C:\\Users\\Ejer/text-fabric-data/etcbc/bhsa/tf/c/vbe.tf\">vbe</a>  <a target=\"_blank\" href=\"https://etcbc.github.io/bhsa/features/vbs\" title=\"C:\\Users\\Ejer/text-fabric-data/etcbc/bhsa/tf/c/vbs.tf\">vbs</a>  <a target=\"_blank\" href=\"https://etcbc.github.io/bhsa/features/verse\" title=\"C:\\Users\\Ejer/text-fabric-data/etcbc/bhsa/tf/c/verse.tf\">verse</a>  <a target=\"_blank\" href=\"https://etcbc.github.io/bhsa/features/voc_lex\" title=\"C:\\Users\\Ejer/text-fabric-data/etcbc/bhsa/tf/c/voc_lex.tf\">voc_lex</a>  <a target=\"_blank\" href=\"https://etcbc.github.io/bhsa/features/voc_lex_utf8\" title=\"C:\\Users\\Ejer/text-fabric-data/etcbc/bhsa/tf/c/voc_lex_utf8.tf\">voc_lex_utf8</a>  <a target=\"_blank\" href=\"https://etcbc.github.io/bhsa/features/vs\" title=\"C:\\Users\\Ejer/text-fabric-data/etcbc/bhsa/tf/c/vs.tf\">vs</a>  <a target=\"_blank\" href=\"https://etcbc.github.io/bhsa/features/vt\" title=\"C:\\Users\\Ejer/text-fabric-data/etcbc/bhsa/tf/c/vt.tf\">vt</a>  <b><i><a target=\"_blank\" href=\"https://etcbc.github.io/bhsa/features/mother\" title=\"C:\\Users\\Ejer/text-fabric-data/etcbc/bhsa/tf/c/mother.tf\">mother</a></i></b>  <b><i><a target=\"_blank\" href=\"https://etcbc.github.io/bhsa/features/oslots\" title=\"C:\\Users\\Ejer/text-fabric-data/etcbc/bhsa/tf/c/oslots.tf\">oslots</a></i></b> </p><p><b>Parallel Passages</b>: <b><i><a target=\"_blank\" href=\"https://nbviewer.jupyter.org/github/etcbc/parallels/blob/master/programs/parallels.ipynb\" title=\"C:\\Users\\Ejer/text-fabric-data/etcbc/parallels/tf/c/crossref.tf\">crossref</a></i></b> </p><p><b>Phonetic Transcriptions</b>: <a target=\"_blank\" href=\"https://nbviewer.jupyter.org/github/etcbc/phono/blob/master/programs/phono.ipynb\" title=\"C:\\Users\\Ejer/text-fabric-data/etcbc/phono/tf/c/phono.tf\">phono</a>  <a target=\"_blank\" href=\"https://nbviewer.jupyter.org/github/etcbc/phono/blob/master/programs/phono.ipynb\" title=\"C:\\Users\\Ejer/text-fabric-data/etcbc/phono/tf/c/phono_trailer.tf\">phono_trailer</a> </p><p><b>Aktionsart/tf/c</b>: <span title=\"Aktionsart/tf/c/caus.tf\">caus</span>  <span title=\"Aktionsart/tf/c/dyna.tf\">dyna</span> </p></details>"
      ],
      "text/plain": [
       "<IPython.core.display.HTML object>"
      ]
     },
     "metadata": {},
     "output_type": "display_data"
    },
    {
     "data": {
      "text/html": [
       "<style>\n",
       "@font-face {\n",
       "  font-family: \"Ezra SIL\";\n",
       "  src:\n",
       "    local(\"SILEOT.ttf\"),\n",
       "    url(\"https://github.com/annotation/text-fabric/blob/master/tf/server/static/fonts/SILEOT.woff?raw=true\");\n",
       "}\n",
       ".features {\n",
       "    font-family: monospace;\n",
       "    font-size: medium;\n",
       "    font-weight: bold;\n",
       "    color: #0a6611;\n",
       "    display: flex;\n",
       "    flex-flow: column nowrap;\n",
       "    padding: 0.1em;\n",
       "    margin: 0.1em;\n",
       "    direction: ltr;\n",
       "}\n",
       ".features div,.features span {\n",
       "    padding: 0;\n",
       "    margin: -0.1rem 0;\n",
       "}\n",
       ".features .f {\n",
       "    font-family: sans-serif;\n",
       "    font-size: x-small;\n",
       "    font-weight: normal;\n",
       "    color: #5555bb;\n",
       "}\n",
       ".features .xft {\n",
       "  color: #000000;\n",
       "  background-color: #eeeeee;\n",
       "  font-size: medium;\n",
       "  margin: 0.1em 0em;\n",
       "}\n",
       ".features .xft .f {\n",
       "  color: #000000;\n",
       "  background-color: #eeeeee;\n",
       "  font-style: italic;\n",
       "  font-size: small;\n",
       "  font-weight: normal;\n",
       "}\n",
       ".ltr {\n",
       "    direction: ltr ! important;\n",
       "}\n",
       ".verse {\n",
       "    display: flex;\n",
       "    flex-flow: row wrap;\n",
       "    direction: rtl;\n",
       "}\n",
       ".vl {\n",
       "    display: flex;\n",
       "    flex-flow: column nowrap;\n",
       "    justify-content: flex-end;\n",
       "    align-items: flex-end;\n",
       "    direction: ltr;\n",
       "    width: 100%;\n",
       "}\n",
       ".outeritem {\n",
       "    display: flex;\n",
       "    flex-flow: row wrap;\n",
       "    direction: rtl;\n",
       "}\n",
       ".sentence,.clause,.phrase {\n",
       "    margin-top: -1.2em;\n",
       "    margin-left: 1em;\n",
       "    background: #ffffff none repeat scroll 0 0;\n",
       "    padding: 0 0.3em;\n",
       "    border-style: solid;\n",
       "    border-radius: 0.2em;\n",
       "    font-size: small;\n",
       "    display: block;\n",
       "    width: fit-content;\n",
       "    max-width: fit-content;\n",
       "    direction: ltr;\n",
       "}\n",
       ".atoms {\n",
       "    display: flex;\n",
       "    flex-flow: row wrap;\n",
       "    margin: 0.3em;\n",
       "    padding: 0.3em;\n",
       "    direction: rtl;\n",
       "    background-color: #ffffff;\n",
       "}\n",
       ".satom,.catom,.patom {\n",
       "    margin: 0.3em;\n",
       "    padding: 0.3em;\n",
       "    border-radius: 0.3em;\n",
       "    border-style: solid;\n",
       "    display: flex;\n",
       "    flex-flow: column nowrap;\n",
       "    direction: rtl;\n",
       "    background-color: #ffffff;\n",
       "}\n",
       ".sentence {\n",
       "    border-color: #aa3333;\n",
       "    border-width: 1px;\n",
       "}\n",
       ".clause {\n",
       "    border-color: #aaaa33;\n",
       "    border-width: 1px;\n",
       "}\n",
       ".phrase {\n",
       "    border-color: #33aaaa;\n",
       "    border-width: 1px;\n",
       "}\n",
       ".satom {\n",
       "    border-color: #aa3333;\n",
       "    border-width: 4px;\n",
       "}\n",
       ".catom {\n",
       "    border-color: #aaaa33;\n",
       "    border-width: 3px;\n",
       "}\n",
       ".patom {\n",
       "    border-color: #33aaaa;\n",
       "    border-width: 3px;\n",
       "}\n",
       ".word {\n",
       "    padding: 0.1em;\n",
       "    margin: 0.1em;\n",
       "    border-radius: 0.1em;\n",
       "    border: 1px solid #cccccc;\n",
       "    display: flex;\n",
       "    flex-flow: column nowrap;\n",
       "    direction: rtl;\n",
       "    background-color: #ffffff;\n",
       "}\n",
       ".lextp {\n",
       "    padding: 0.1em;\n",
       "    margin: 0.1em;\n",
       "    border-radius: 0.1em;\n",
       "    border: 2px solid #888888;\n",
       "    width: fit-content;\n",
       "    display: flex;\n",
       "    flex-flow: column nowrap;\n",
       "    direction: rtl;\n",
       "    background-color: #ffffff;\n",
       "}\n",
       ".occs {\n",
       "    font-size: x-small;\n",
       "}\n",
       ".satom.l,.catom.l,.patom.l {\n",
       "    border-left-style: dotted\n",
       "}\n",
       ".satom.r,.catom.r,.patom.r {\n",
       "    border-right-style: dotted\n",
       "}\n",
       ".satom.lno,.catom.lno,.patom.lno {\n",
       "    border-left-style: none\n",
       "}\n",
       ".satom.rno,.catom.rno,.patom.rno {\n",
       "    border-right-style: none\n",
       "}\n",
       ".tr,.tr a:visited,.tr a:link {\n",
       "    font-family: sans-serif;\n",
       "    font-size: large;\n",
       "    color: #000044;\n",
       "    direction: ltr;\n",
       "    text-decoration: none;\n",
       "}\n",
       ".trb,.trb a:visited,.trb a:link {\n",
       "    font-family: sans-serif;\n",
       "    font-size: normal;\n",
       "    direction: ltr;\n",
       "    text-decoration: none;\n",
       "}\n",
       ".prb,.prb a:visited,.prb a:link {\n",
       "    font-family: sans-serif;\n",
       "    font-size: large;\n",
       "    direction: ltr;\n",
       "    text-decoration: none;\n",
       "}\n",
       ".h,.h a:visited,.h a:link {\n",
       "    font-family: \"Ezra SIL\", \"SBL Hebrew\", sans-serif;\n",
       "    font-size: large;\n",
       "    color: #000044;\n",
       "    direction: rtl;\n",
       "    text-decoration: none;\n",
       "}\n",
       ".hb,.hb a:visited,.hb a:link {\n",
       "    font-family: \"Ezra SIL\", \"SBL Hebrew\", sans-serif;\n",
       "    font-size: large;\n",
       "    line-height: 2;\n",
       "    direction: rtl;\n",
       "    text-decoration: none;\n",
       "}\n",
       ".vn {\n",
       "  font-size: small !important;\n",
       "  padding-right: 1em;\n",
       "}\n",
       ".rela,.function,.typ {\n",
       "    font-family: monospace;\n",
       "    font-size: small;\n",
       "    color: #0000bb;\n",
       "}\n",
       ".pdp,.pdp a:visited,.pdp a:link {\n",
       "    font-family: monospace;\n",
       "    font-size: medium;\n",
       "    color: #0000bb;\n",
       "    text-decoration: none;\n",
       "}\n",
       ".voc_lex {\n",
       "    font-family: monospace;\n",
       "    font-size: medium;\n",
       "    color: #0000bb;\n",
       "}\n",
       ".vs {\n",
       "    font-family: monospace;\n",
       "    font-size: medium;\n",
       "    font-weight: bold;\n",
       "    color: #0000bb;\n",
       "}\n",
       ".vt {\n",
       "    font-family: monospace;\n",
       "    font-size: medium;\n",
       "    font-weight: bold;\n",
       "    color: #0000bb;\n",
       "}\n",
       ".gloss {\n",
       "    font-family: sans-serif;\n",
       "    font-size: small;\n",
       "    font-weight: normal;\n",
       "    color: #444444;\n",
       "}\n",
       ".vrs {\n",
       "    font-family: sans-serif;\n",
       "    font-size: small;\n",
       "    font-weight: bold;\n",
       "    color: #444444;\n",
       "}\n",
       ".nd {\n",
       "    font-family: monospace;\n",
       "    font-size: x-small;\n",
       "    color: #999999;\n",
       "}\n",
       ".hl {\n",
       "    background-color: #ffee66;\n",
       "}\n",
       "\n",
       "tr.tf, td.tf, th.tf {\n",
       "  text-align: left;\n",
       "}\n",
       "\n",
       "span.hldot {\n",
       "\tbackground-color: var(--hl-strong);\n",
       "\tborder: 0.2rem solid var(--hl-rim);\n",
       "\tborder-radius: 0.4rem;\n",
       "\t/*\n",
       "\tdisplay: inline-block;\n",
       "\twidth: 0.8rem;\n",
       "\theight: 0.8rem;\n",
       "\t*/\n",
       "}\n",
       "span.hl {\n",
       "\tbackground-color: var(--hl-strong);\n",
       "\tborder-width: 0;\n",
       "\tborder-radius: 0.1rem;\n",
       "\tborder-style: solid;\n",
       "}\n",
       "\n",
       "span.hlup {\n",
       "\tborder-color: var(--hl-dark);\n",
       "\tborder-width: 0.1rem;\n",
       "\tborder-style: solid;\n",
       "\tborder-radius: 0.2rem;\n",
       "  padding: 0.2rem;\n",
       "}\n",
       "\n",
       ":root {\n",
       "\t--hl-strong:        hsla( 60, 100%,  70%, 0.9  );\n",
       "\t--hl-rim:           hsla( 55, 100%,  60%, 0.9  );\n",
       "\t--hl-dark:          hsla( 55, 100%,  40%, 0.9  );\n",
       "}\n",
       "</style>"
      ],
      "text/plain": [
       "<IPython.core.display.HTML object>"
      ]
     },
     "metadata": {},
     "output_type": "display_data"
    },
    {
     "data": {
      "text/html": [
       "<details open><summary><b>API members</b>:</summary>\n",
       "<a target=\"_blank\" href=\"https://annotation.github.io/text-fabric/Api/Computed/#computed-data\" title=\"doc\">C Computed</a>, <a target=\"_blank\" href=\"https://annotation.github.io/text-fabric/Api/Computed/#computed-data\" title=\"doc\">Call AllComputeds</a>, <a target=\"_blank\" href=\"https://annotation.github.io/text-fabric/Api/Computed/#computed-data\" title=\"doc\">Cs ComputedString</a><br/>\n",
       "<a target=\"_blank\" href=\"https://annotation.github.io/text-fabric/Api/Features/#edge-features\" title=\"doc\">E Edge</a>, <a target=\"_blank\" href=\"https://annotation.github.io/text-fabric/Api/Features/#edge-features\" title=\"doc\">Eall AllEdges</a>, <a target=\"_blank\" href=\"https://annotation.github.io/text-fabric/Api/Features/#edge-features\" title=\"doc\">Es EdgeString</a><br/>\n",
       "<a target=\"_blank\" href=\"https://annotation.github.io/text-fabric/Api/Fabric/#loading\" title=\"doc\">ensureLoaded</a>, <a target=\"_blank\" href=\"https://annotation.github.io/text-fabric/Api/Fabric/#loading\" title=\"doc\">TF</a>, <a target=\"_blank\" href=\"https://annotation.github.io/text-fabric/Api/Fabric/#loading\" title=\"doc\">ignored</a>, <a target=\"_blank\" href=\"https://annotation.github.io/text-fabric/Api/Fabric/#loading\" title=\"doc\">loadLog</a><br/>\n",
       "<a target=\"_blank\" href=\"https://annotation.github.io/text-fabric/Api/Locality/#locality\" title=\"doc\">L Locality</a><br/>\n",
       "<a target=\"_blank\" href=\"https://annotation.github.io/text-fabric/Api/Misc/#messaging\" title=\"doc\">cache</a>, <a target=\"_blank\" href=\"https://annotation.github.io/text-fabric/Api/Misc/#messaging\" title=\"doc\">error</a>, <a target=\"_blank\" href=\"https://annotation.github.io/text-fabric/Api/Misc/#messaging\" title=\"doc\">indent</a>, <a target=\"_blank\" href=\"https://annotation.github.io/text-fabric/Api/Misc/#messaging\" title=\"doc\">info</a>, <a target=\"_blank\" href=\"https://annotation.github.io/text-fabric/Api/Misc/#messaging\" title=\"doc\">isSilent</a>, <a target=\"_blank\" href=\"https://annotation.github.io/text-fabric/Api/Misc/#messaging\" title=\"doc\">reset</a>, <a target=\"_blank\" href=\"https://annotation.github.io/text-fabric/Api/Misc/#messaging\" title=\"doc\">setSilent</a>, <a target=\"_blank\" href=\"https://annotation.github.io/text-fabric/Api/Misc/#messaging\" title=\"doc\">silentOff</a>, <a target=\"_blank\" href=\"https://annotation.github.io/text-fabric/Api/Misc/#messaging\" title=\"doc\">silentOn</a>, <a target=\"_blank\" href=\"https://annotation.github.io/text-fabric/Api/Misc/#messaging\" title=\"doc\">warning</a><br/>\n",
       "<a target=\"_blank\" href=\"https://annotation.github.io/text-fabric/Api/Nodes/#navigating-nodes\" title=\"doc\">N Nodes</a>, <a target=\"_blank\" href=\"https://annotation.github.io/text-fabric/Api/Nodes/#navigating-nodes\" title=\"doc\">sortKey</a>, <a target=\"_blank\" href=\"https://annotation.github.io/text-fabric/Api/Nodes/#navigating-nodes\" title=\"doc\">sortKeyTuple</a>, <a target=\"_blank\" href=\"https://annotation.github.io/text-fabric/Api/Nodes/#navigating-nodes\" title=\"doc\">otypeRank</a>, <a target=\"_blank\" href=\"https://annotation.github.io/text-fabric/Api/Nodes/#navigating-nodes\" title=\"doc\">sortNodes</a><br/>\n",
       "<a target=\"_blank\" href=\"https://annotation.github.io/text-fabric/Api/Features/#node-features\" title=\"doc\">F Feature</a>, <a target=\"_blank\" href=\"https://annotation.github.io/text-fabric/Api/Features/#node-features\" title=\"doc\">Fall AllFeatures</a>, <a target=\"_blank\" href=\"https://annotation.github.io/text-fabric/Api/Features/#node-features\" title=\"doc\">Fs FeatureString</a><br/>\n",
       "<a target=\"_blank\" href=\"https://annotation.github.io/text-fabric/Api/Search/#search\" title=\"doc\">S Search</a><br/>\n",
       "<a target=\"_blank\" href=\"https://annotation.github.io/text-fabric/Api/Text/#text\" title=\"doc\">T Text</a></details>"
      ],
      "text/plain": [
       "<IPython.core.display.HTML object>"
      ]
     },
     "metadata": {},
     "output_type": "display_data"
    }
   ],
   "source": [
    "A = use('bhsa', hoist=globals(), locations='Aktionsart/tf')"
   ]
  },
  {
   "cell_type": "markdown",
   "metadata": {},
   "source": [
    "Three datasets are imported: The stative/active dataset, the morphological causative dataset, and the lexical causative dataset."
   ]
  },
  {
   "cell_type": "code",
   "execution_count": 3,
   "metadata": {},
   "outputs": [],
   "source": [
    "#Dataset path\n",
    "PATH = 'datasets/'\n",
    "\n",
    "dyna = pd.read_csv(f'{PATH}Lev17-26.Aktionsart_sta_act_final_1.csv')\n",
    "dyna.columns = ['lex_stem','anno']\n",
    "\n",
    "morph_caus = pd.read_csv(f'{PATH}Lev17-26_morphological_causitive.csv')\n",
    "morph_caus.columns = ['lex_stem','anno']\n",
    "\n",
    "lex_caus = pd.read_csv(f'{PATH}Lev17-26_lexical_causative.csv')\n",
    "lex_caus.columns = ['lex_stem','anno']"
   ]
  },
  {
   "cell_type": "markdown",
   "metadata": {},
   "source": [
    "For each dataset two additional columns containing lexeme and stem, respectively, are added:"
   ]
  },
  {
   "cell_type": "code",
   "execution_count": 4,
   "metadata": {},
   "outputs": [],
   "source": [
    "def getLexStem(string, trans=True):\n",
    "    \n",
    "    if trans:\n",
    "        lex = string[:string.index('_')]\n",
    "        stem = string[string.index('_')+1:]\n",
    "    else:\n",
    "        lex = string[string.index('_')+1:]\n",
    "        stem = string[:string.index('_')]\n",
    "    return lex, stem\n",
    "\n",
    "for d in [dyna, morph_caus, lex_caus]:\n",
    "    d['stem'] = [getLexStem(n)[1] for n in list(d.lex_stem)]\n",
    "    d['lex'] = [getLexStem(n)[0] for n in list(d.lex_stem)]"
   ]
  },
  {
   "cell_type": "markdown",
   "metadata": {},
   "source": [
    "## Final review\n",
    "\n",
    "### Preparing dataset\n",
    "\n",
    "The annotations are combined for each verb to perform a final review:"
   ]
  },
  {
   "cell_type": "code",
   "execution_count": 5,
   "metadata": {},
   "outputs": [],
   "source": [
    "anno_dict = collections.defaultdict(lambda: collections.defaultdict(lambda: collections.defaultdict()))\n",
    "\n",
    "for row in dyna.iterrows():\n",
    "    lex = row[1].lex\n",
    "    stem = row[1].stem\n",
    "    lex_stem = row[1].lex_stem\n",
    "    \n",
    "    anno_dict[lex][stem]['dyn'] = row[1].anno\n",
    "    \n",
    "    if lex_stem in list(morph_caus.lex_stem):\n",
    "        anno_dict[lex][stem]['caus'] = morph_caus[morph_caus.lex_stem == lex_stem].anno.item()\n",
    "        \n",
    "    elif lex_stem in list(lex_caus.lex_stem):\n",
    "        anno_dict[lex][stem]['caus'] = lex_caus[lex_caus.lex_stem == lex_stem].anno.item()\n",
    "        \n",
    "    else:\n",
    "        anno_dict[lex][stem]['caus'] = '?'\n",
    "        \n",
    "#anno_dict"
   ]
  },
  {
   "cell_type": "code",
   "execution_count": 6,
   "metadata": {},
   "outputs": [
    {
     "data": {
      "text/html": [
       "<div>\n",
       "<style scoped>\n",
       "    .dataframe tbody tr th:only-of-type {\n",
       "        vertical-align: middle;\n",
       "    }\n",
       "\n",
       "    .dataframe tbody tr th {\n",
       "        vertical-align: top;\n",
       "    }\n",
       "\n",
       "    .dataframe thead th {\n",
       "        text-align: right;\n",
       "    }\n",
       "</style>\n",
       "<table border=\"1\" class=\"dataframe\">\n",
       "  <thead>\n",
       "    <tr style=\"text-align: right;\">\n",
       "      <th></th>\n",
       "      <th></th>\n",
       "      <th>caus</th>\n",
       "      <th>dyn</th>\n",
       "    </tr>\n",
       "  </thead>\n",
       "  <tbody>\n",
       "    <tr>\n",
       "      <th rowspan=\"5\" valign=\"top\">&lt;BD[</th>\n",
       "      <th>hif</th>\n",
       "      <td>?</td>\n",
       "      <td>act</td>\n",
       "    </tr>\n",
       "    <tr>\n",
       "      <th>hof</th>\n",
       "      <td>?</td>\n",
       "      <td>act</td>\n",
       "    </tr>\n",
       "    <tr>\n",
       "      <th>nif</th>\n",
       "      <td>?</td>\n",
       "      <td>act</td>\n",
       "    </tr>\n",
       "    <tr>\n",
       "      <th>pual</th>\n",
       "      <td>?</td>\n",
       "      <td>act</td>\n",
       "    </tr>\n",
       "    <tr>\n",
       "      <th>qal</th>\n",
       "      <td>nan</td>\n",
       "      <td>act</td>\n",
       "    </tr>\n",
       "    <tr>\n",
       "      <th rowspan=\"3\" valign=\"top\">&lt;BR[</th>\n",
       "      <th>hif</th>\n",
       "      <td>caus</td>\n",
       "      <td>act</td>\n",
       "    </tr>\n",
       "    <tr>\n",
       "      <th>piel</th>\n",
       "      <td>?</td>\n",
       "      <td>act</td>\n",
       "    </tr>\n",
       "    <tr>\n",
       "      <th>qal</th>\n",
       "      <td>nan</td>\n",
       "      <td>act</td>\n",
       "    </tr>\n",
       "    <tr>\n",
       "      <th>&lt;CQ[</th>\n",
       "      <th>qal</th>\n",
       "      <td>caus</td>\n",
       "      <td>sta</td>\n",
       "    </tr>\n",
       "    <tr>\n",
       "      <th>&lt;FH[</th>\n",
       "      <th>nif</th>\n",
       "      <td>nan</td>\n",
       "      <td>act</td>\n",
       "    </tr>\n",
       "  </tbody>\n",
       "</table>\n",
       "</div>"
      ],
      "text/plain": [
       "           caus  dyn\n",
       "<BD[ hif      ?  act\n",
       "     hof      ?  act\n",
       "     nif      ?  act\n",
       "     pual     ?  act\n",
       "     qal    nan  act\n",
       "<BR[ hif   caus  act\n",
       "     piel     ?  act\n",
       "     qal    nan  act\n",
       "<CQ[ qal   caus  sta\n",
       "<FH[ nif    nan  act"
      ]
     },
     "execution_count": 6,
     "metadata": {},
     "output_type": "execute_result"
    }
   ],
   "source": [
    "anno_df = pd.concat({\n",
    "        k: pd.DataFrame.from_dict(v, 'index') for k, v in anno_dict.items()\n",
    "    }, \n",
    "    axis=0, sort=True)\n",
    "\n",
    "anno_df.caus = anno_df.caus.astype('str')\n",
    "anno_df[:10]"
   ]
  },
  {
   "cell_type": "markdown",
   "metadata": {},
   "source": [
    "We create a new column by combining the aspects of dynamicity and causativity:"
   ]
  },
  {
   "cell_type": "code",
   "execution_count": 7,
   "metadata": {},
   "outputs": [],
   "source": [
    "Aktionsart = []\n",
    "\n",
    "for r in anno_df.iterrows():\n",
    "    caus = r[1].caus\n",
    "    dyn = r[1].dyn\n",
    "    \n",
    "    if dyn == 'sta' and caus != 'caus':\n",
    "        Akt = 'sta'\n",
    "    elif dyn== 'act' and caus != 'caus':\n",
    "        Akt = 'act'\n",
    "    elif dyn == 'sta' and caus == 'caus':\n",
    "        Akt = 'caus sta'\n",
    "    elif dyn == 'act' and caus == 'caus':\n",
    "        Akt = 'caus act'\n",
    "    else:\n",
    "        print(error)\n",
    "\n",
    "    Aktionsart.append(Akt)\n",
    "    \n",
    "anno_df['Aktionsart'] = Aktionsart"
   ]
  },
  {
   "cell_type": "markdown",
   "metadata": {},
   "source": [
    "For review, we filter out cases where the causative aspect has not been determined:"
   ]
  },
  {
   "cell_type": "code",
   "execution_count": 8,
   "metadata": {},
   "outputs": [],
   "source": [
    "review_df = anno_df[anno_df.caus != '?']"
   ]
  },
  {
   "cell_type": "code",
   "execution_count": 9,
   "metadata": {},
   "outputs": [
    {
     "data": {
      "text/html": [
       "<div>\n",
       "<style scoped>\n",
       "    .dataframe tbody tr th:only-of-type {\n",
       "        vertical-align: middle;\n",
       "    }\n",
       "\n",
       "    .dataframe tbody tr th {\n",
       "        vertical-align: top;\n",
       "    }\n",
       "\n",
       "    .dataframe thead th {\n",
       "        text-align: right;\n",
       "    }\n",
       "</style>\n",
       "<table border=\"1\" class=\"dataframe\">\n",
       "  <thead>\n",
       "    <tr style=\"text-align: right;\">\n",
       "      <th></th>\n",
       "      <th></th>\n",
       "      <th>caus</th>\n",
       "      <th>dyn</th>\n",
       "      <th>Aktionsart</th>\n",
       "    </tr>\n",
       "  </thead>\n",
       "  <tbody>\n",
       "    <tr>\n",
       "      <th>&lt;BD[</th>\n",
       "      <th>qal</th>\n",
       "      <td>nan</td>\n",
       "      <td>act</td>\n",
       "      <td>act</td>\n",
       "    </tr>\n",
       "    <tr>\n",
       "      <th rowspan=\"2\" valign=\"top\">&lt;BR[</th>\n",
       "      <th>hif</th>\n",
       "      <td>caus</td>\n",
       "      <td>act</td>\n",
       "      <td>caus act</td>\n",
       "    </tr>\n",
       "    <tr>\n",
       "      <th>qal</th>\n",
       "      <td>nan</td>\n",
       "      <td>act</td>\n",
       "      <td>act</td>\n",
       "    </tr>\n",
       "    <tr>\n",
       "      <th>&lt;CQ[</th>\n",
       "      <th>qal</th>\n",
       "      <td>caus</td>\n",
       "      <td>sta</td>\n",
       "      <td>caus sta</td>\n",
       "    </tr>\n",
       "    <tr>\n",
       "      <th>&lt;FH[</th>\n",
       "      <th>nif</th>\n",
       "      <td>nan</td>\n",
       "      <td>act</td>\n",
       "      <td>act</td>\n",
       "    </tr>\n",
       "  </tbody>\n",
       "</table>\n",
       "</div>"
      ],
      "text/plain": [
       "          caus  dyn Aktionsart\n",
       "<BD[ qal   nan  act        act\n",
       "<BR[ hif  caus  act   caus act\n",
       "     qal   nan  act        act\n",
       "<CQ[ qal  caus  sta   caus sta\n",
       "<FH[ nif   nan  act        act"
      ]
     },
     "execution_count": 9,
     "metadata": {},
     "output_type": "execute_result"
    }
   ],
   "source": [
    "review_df.head()"
   ]
  },
  {
   "cell_type": "code",
   "execution_count": 13,
   "metadata": {},
   "outputs": [
    {
     "data": {
      "text/html": [
       "<div>\n",
       "<style scoped>\n",
       "    .dataframe tbody tr th:only-of-type {\n",
       "        vertical-align: middle;\n",
       "    }\n",
       "\n",
       "    .dataframe tbody tr th {\n",
       "        vertical-align: top;\n",
       "    }\n",
       "\n",
       "    .dataframe thead th {\n",
       "        text-align: right;\n",
       "    }\n",
       "</style>\n",
       "<table border=\"1\" class=\"dataframe\">\n",
       "  <thead>\n",
       "    <tr style=\"text-align: right;\">\n",
       "      <th></th>\n",
       "      <th></th>\n",
       "      <th>caus</th>\n",
       "      <th>dyn</th>\n",
       "      <th>Aktionsart</th>\n",
       "    </tr>\n",
       "  </thead>\n",
       "  <tbody>\n",
       "    <tr>\n",
       "      <th rowspan=\"2\" valign=\"top\">JTR[</th>\n",
       "      <th>hif</th>\n",
       "      <td>nan</td>\n",
       "      <td>sta</td>\n",
       "      <td>sta</td>\n",
       "    </tr>\n",
       "    <tr>\n",
       "      <th>nif</th>\n",
       "      <td>nan</td>\n",
       "      <td>sta</td>\n",
       "      <td>sta</td>\n",
       "    </tr>\n",
       "  </tbody>\n",
       "</table>\n",
       "</div>"
      ],
      "text/plain": [
       "         caus  dyn Aktionsart\n",
       "JTR[ hif  nan  sta        sta\n",
       "     nif  nan  sta        sta"
      ]
     },
     "execution_count": 13,
     "metadata": {},
     "output_type": "execute_result"
    }
   ],
   "source": [
    "review_df[review_df.index.get_level_values(0) == 'JTR[']"
   ]
  },
  {
   "cell_type": "markdown",
   "metadata": {},
   "source": [
    "### Review"
   ]
  },
  {
   "cell_type": "markdown",
   "metadata": {},
   "source": [
    "The first test regards whether all verbs and stems in Leviticus 17-26 are accounted for:"
   ]
  },
  {
   "cell_type": "code",
   "execution_count": 10,
   "metadata": {},
   "outputs": [
    {
     "name": "stdout",
     "output_type": "stream",
     "text": [
      "  1.87s 936 results\n"
     ]
    }
   ],
   "source": [
    "query = '''\n",
    "book book=Leviticus\n",
    " chapter chapter=17|18|19|20|21|22|23|24|25|26\n",
    "  clause\n",
    "   phrase function=Pred|PreO|PreS|PreC|PtcO\n",
    "     word pdp=verb\n",
    "'''\n",
    "Lev_verbs = A.search(query)"
   ]
  },
  {
   "cell_type": "code",
   "execution_count": 11,
   "metadata": {},
   "outputs": [],
   "source": [
    "lexemes = collections.defaultdict(list)\n",
    "\n",
    "for r in Lev_verbs:\n",
    "    if (F.lex.v(r[4]), F.vs.v(r[4])) not in review_df.index:\n",
    "        lexemes[(F.lex.v(r[4]), F.vs.v(r[4]))].append(r[2])"
   ]
  },
  {
   "cell_type": "code",
   "execution_count": 12,
   "metadata": {},
   "outputs": [
    {
     "name": "stdout",
     "output_type": "stream",
     "text": [
      "Number of lexemes to annotate: 6\n"
     ]
    }
   ],
   "source": [
    "print(f'Number of lexemes to annotate: {len(lexemes)}')"
   ]
  },
  {
   "cell_type": "markdown",
   "metadata": {},
   "source": [
    "#### Annotating remaining lexemes"
   ]
  },
  {
   "cell_type": "code",
   "execution_count": 13,
   "metadata": {},
   "outputs": [],
   "source": [
    "annotation = {}"
   ]
  },
  {
   "cell_type": "code",
   "execution_count": 14,
   "metadata": {
    "scrolled": true
   },
   "outputs": [],
   "source": [
    "lex = [lex for lex in lexemes.keys()]\n",
    "\n",
    "def show(lex, clause_dict=lexemes):\n",
    "    clauses = clause_dict[lex]\n",
    "    \n",
    "    for cl in clauses:\n",
    "        A.pretty(cl)"
   ]
  },
  {
   "cell_type": "markdown",
   "metadata": {},
   "source": [
    "##### KRT \"cut\" (*Niphal*)"
   ]
  },
  {
   "cell_type": "code",
   "execution_count": 20,
   "metadata": {},
   "outputs": [],
   "source": [
    "#show(lex[0])"
   ]
  },
  {
   "cell_type": "code",
   "execution_count": 16,
   "metadata": {},
   "outputs": [],
   "source": [
    "annotation['KRT[_nif'] = ('caus','sta')"
   ]
  },
  {
   "cell_type": "markdown",
   "metadata": {},
   "source": [
    "##### VM> \"be unclean\" (*Hitpael*)"
   ]
  },
  {
   "cell_type": "code",
   "execution_count": 17,
   "metadata": {
    "scrolled": true
   },
   "outputs": [],
   "source": [
    "#show(lex[1])"
   ]
  },
  {
   "cell_type": "code",
   "execution_count": 18,
   "metadata": {},
   "outputs": [],
   "source": [
    "annotation['VM>[_hit'] = ('caus','sta')"
   ]
  },
  {
   "cell_type": "markdown",
   "metadata": {},
   "source": [
    "##### QDC \"be holy\" (*Hitpael*)"
   ]
  },
  {
   "cell_type": "code",
   "execution_count": 19,
   "metadata": {},
   "outputs": [],
   "source": [
    "#show(lex[2])"
   ]
  },
  {
   "cell_type": "code",
   "execution_count": 20,
   "metadata": {},
   "outputs": [],
   "source": [
    "annotation['QDC[_hit'] = ('caus','sta')"
   ]
  },
  {
   "cell_type": "markdown",
   "metadata": {},
   "source": [
    "##### JLD \"bear\" (Niphal)"
   ]
  },
  {
   "cell_type": "code",
   "execution_count": 21,
   "metadata": {},
   "outputs": [],
   "source": [
    "#show(lex[3])"
   ]
  },
  {
   "cell_type": "code",
   "execution_count": 22,
   "metadata": {},
   "outputs": [],
   "source": [
    "annotation['JLD[_nif'] = ('nan','sta')"
   ]
  },
  {
   "cell_type": "markdown",
   "metadata": {},
   "source": [
    "##### HLK \"walk\" (*Hitpael*)"
   ]
  },
  {
   "cell_type": "code",
   "execution_count": 23,
   "metadata": {},
   "outputs": [],
   "source": [
    "#show(lex[4])"
   ]
  },
  {
   "cell_type": "code",
   "execution_count": 24,
   "metadata": {},
   "outputs": [],
   "source": [
    "annotation['HLK[_hit'] = ('nan','act')"
   ]
  },
  {
   "cell_type": "markdown",
   "metadata": {},
   "source": [
    "##### CLX \"send\" (*Hiphil*)"
   ]
  },
  {
   "cell_type": "code",
   "execution_count": 25,
   "metadata": {},
   "outputs": [],
   "source": [
    "#show(lex[5])"
   ]
  },
  {
   "cell_type": "code",
   "execution_count": 26,
   "metadata": {},
   "outputs": [],
   "source": [
    "annotation['CLX[_hif'] = ('caus','act')"
   ]
  },
  {
   "cell_type": "markdown",
   "metadata": {},
   "source": [
    "The annotations will be added to the original data later."
   ]
  },
  {
   "cell_type": "markdown",
   "metadata": {},
   "source": [
    "#### Review"
   ]
  },
  {
   "cell_type": "code",
   "execution_count": 27,
   "metadata": {},
   "outputs": [
    {
     "name": "stdout",
     "output_type": "stream",
     "text": [
      "Number of cases to review: 231\n"
     ]
    }
   ],
   "source": [
    "cases = list(review_df.index)\n",
    "print(f'Number of cases to review: {len(cases)}')"
   ]
  },
  {
   "cell_type": "code",
   "execution_count": 26,
   "metadata": {},
   "outputs": [],
   "source": [
    "n=0"
   ]
  },
  {
   "cell_type": "code",
   "execution_count": 44,
   "metadata": {},
   "outputs": [],
   "source": [
    "query = '''\n",
    "book book=Leviticus\n",
    " chapter chapter=17|18|19|20|21|22|23|24|25|26\n",
    "  clause\n",
    "    phrase function=Pred|PreO|PreS|PreC|PtcO\n",
    "     word pdp=verb lex={}\n",
    "'''\n",
    "\n",
    "def show(lex_stem, df=review_df):\n",
    "    lex=lex_stem[0]\n",
    "    stem=lex_stem[1]\n",
    "    \n",
    "    print(df[(df.index.get_level_values(0) == lex) & (df.index.get_level_values(1) == stem)].Aktionsart.item())\n",
    "    \n",
    "    results = A.search(query.format(lex))\n",
    "    clause_verbs = {r[2]:r[4] for r in results if F.vs.v(r[4]) == stem}\n",
    "    \n",
    "    for cl in clause_verbs:\n",
    "        print(clause_verbs[cl])\n",
    "        A.pretty(cl, highlights={r[4]:'gold' for r in results})"
   ]
  },
  {
   "cell_type": "code",
   "execution_count": 28,
   "metadata": {
    "scrolled": true
   },
   "outputs": [
    {
     "name": "stdout",
     "output_type": "stream",
     "text": [
      "0\n",
      "act\n",
      "  1.18s 3 results\n",
      "67871\n"
     ]
    },
    {
     "data": {
      "text/html": [
       "<a href=\"https://shebanq.ancient-data.org/hebrew/text?book=Leviticus&amp;chapter=25&amp;verse=39&amp;version=c&amp;mr=m&amp;qw=q&amp;tp=txt_p&amp;tr=hb&amp;wget=v&amp;qget=v&amp;nget=vt\" title=\"show this passage in SHEBANQ\" sec=\"Leviticus 25:39\">Leviticus 25:39</a>\n",
       "<div class=\"atoms  \" >\n",
       "\n",
       "\n",
       "\n",
       "<div class=\"catom  \" >\n",
       "\n",
       "    <div class=\"clause \" >\n",
       "        <a href=\"https://shebanq.ancient-data.org/hebrew/text?book=Leviticus&amp;chapter=25&amp;verse=39&amp;version=c&amp;mr=m&amp;qw=q&amp;tp=txt_p&amp;tr=hb&amp;wget=v&amp;qget=v&amp;nget=vt\" title=\"Leviticus 25:39\" sec=\"Leviticus 25:39\">clause</a>   <span class=\"typ\">xYq0</span>\n",
       "    </div>\n",
       "    <div class=\"atoms\">\n",
       "\n",
       "<div class=\"patom  \" >\n",
       "\n",
       "    <div class=\"phrase \" >\n",
       "        <a href=\"https://shebanq.ancient-data.org/hebrew/text?book=Leviticus&amp;chapter=25&amp;verse=39&amp;version=c&amp;mr=m&amp;qw=q&amp;tp=txt_p&amp;tr=hb&amp;wget=v&amp;qget=v&amp;nget=vt\" title=\"Leviticus 25:39\" sec=\"Leviticus 25:39\">phrase</a>   <span class=\"function\">Nega</span> <span class=\"typ\">NegP</span>\n",
       "    </div>\n",
       "    <div class=\"atoms\">\n",
       "\n",
       "<div class=\"word  \" >\n",
       "<div class=\"h\"><a target=\"_blank\" href=\"https://shebanq.ancient-data.org/hebrew/word?version=c&amp;id=1LA\" title=\"show this lexeme in SHEBANQ\">לֹא־</a></div>\n",
       "<div class=\"features\"> <span class=\"pdp\"><a href=\"https://shebanq.ancient-data.org/hebrew/text?book=Leviticus&amp;chapter=25&amp;verse=39&amp;version=c&amp;mr=m&amp;qw=q&amp;tp=txt_p&amp;tr=hb&amp;wget=v&amp;qget=v&amp;nget=vt\" title=\"Leviticus 25:39\" sec=\"Leviticus 25:39\">nega</a></span> <span class=\"gloss\">not</span> <span class=\"lex xft\"><span class=\"f\">lex=</span>L></span></div>\n",
       "\n",
       "\n",
       "</div>\n",
       "\n",
       "\n",
       "    </div>\n",
       "\n",
       "\n",
       "</div>\n",
       "\n",
       "<div class=\"patom  \" >\n",
       "\n",
       "    <div class=\"phrase \" >\n",
       "        <a href=\"https://shebanq.ancient-data.org/hebrew/text?book=Leviticus&amp;chapter=25&amp;verse=39&amp;version=c&amp;mr=m&amp;qw=q&amp;tp=txt_p&amp;tr=hb&amp;wget=v&amp;qget=v&amp;nget=vt\" title=\"Leviticus 25:39\" sec=\"Leviticus 25:39\">phrase</a>   <span class=\"function\">Pred</span> <span class=\"typ\">VP</span>\n",
       "    </div>\n",
       "    <div class=\"atoms\">\n",
       "\n",
       "<div class=\"word  hl\"  style=\"background-color: gold;\" >\n",
       "<div class=\"h\"><a target=\"_blank\" href=\"https://shebanq.ancient-data.org/hebrew/word?version=c&amp;id=1OBDv\" title=\"show this lexeme in SHEBANQ\">תַעֲבֹ֥ד </a></div>\n",
       "<div class=\"features\"> <span class=\"pdp\"><a href=\"https://shebanq.ancient-data.org/hebrew/text?book=Leviticus&amp;chapter=25&amp;verse=39&amp;version=c&amp;mr=m&amp;qw=q&amp;tp=txt_p&amp;tr=hb&amp;wget=v&amp;qget=v&amp;nget=vt\" title=\"Leviticus 25:39\" sec=\"Leviticus 25:39\">verb</a></span> <span class=\"gloss\">work, serve</span> <span class=\"vs\">qal</span> <span class=\"vt\">impf</span> <span class=\"lex xft\"><span class=\"f\">lex=</span>&lt;BD[</span></div>\n",
       "\n",
       "\n",
       "</div>\n",
       "\n",
       "\n",
       "    </div>\n",
       "\n",
       "\n",
       "</div>\n",
       "\n",
       "<div class=\"patom  \" >\n",
       "\n",
       "    <div class=\"phrase \" >\n",
       "        <a href=\"https://shebanq.ancient-data.org/hebrew/text?book=Leviticus&amp;chapter=25&amp;verse=39&amp;version=c&amp;mr=m&amp;qw=q&amp;tp=txt_p&amp;tr=hb&amp;wget=v&amp;qget=v&amp;nget=vt\" title=\"Leviticus 25:39\" sec=\"Leviticus 25:39\">phrase</a>   <span class=\"function\">Cmpl</span> <span class=\"typ\">PP</span>\n",
       "    </div>\n",
       "    <div class=\"atoms\">\n",
       "\n",
       "<div class=\"word  \" >\n",
       "<div class=\"h\"><a target=\"_blank\" href=\"https://shebanq.ancient-data.org/hebrew/word?version=c&amp;id=1B\" title=\"show this lexeme in SHEBANQ\">בֹּ֖ו </a></div>\n",
       "<div class=\"features\"> <span class=\"pdp\"><a href=\"https://shebanq.ancient-data.org/hebrew/text?book=Leviticus&amp;chapter=25&amp;verse=39&amp;version=c&amp;mr=m&amp;qw=q&amp;tp=txt_p&amp;tr=hb&amp;wget=v&amp;qget=v&amp;nget=vt\" title=\"Leviticus 25:39\" sec=\"Leviticus 25:39\">prep</a></span> <span class=\"gloss\">in</span> <span class=\"lex xft\"><span class=\"f\">lex=</span>B</span></div>\n",
       "\n",
       "\n",
       "</div>\n",
       "\n",
       "\n",
       "    </div>\n",
       "\n",
       "\n",
       "</div>\n",
       "\n",
       "<div class=\"patom  \" >\n",
       "\n",
       "    <div class=\"phrase \" >\n",
       "        <a href=\"https://shebanq.ancient-data.org/hebrew/text?book=Leviticus&amp;chapter=25&amp;verse=39&amp;version=c&amp;mr=m&amp;qw=q&amp;tp=txt_p&amp;tr=hb&amp;wget=v&amp;qget=v&amp;nget=vt\" title=\"Leviticus 25:39\" sec=\"Leviticus 25:39\">phrase</a>   <span class=\"function\">Objc</span> <span class=\"typ\">NP</span>\n",
       "    </div>\n",
       "    <div class=\"atoms\">\n",
       "\n",
       "<div class=\"word  \" >\n",
       "<div class=\"h\"><a target=\"_blank\" href=\"https://shebanq.ancient-data.org/hebrew/word?version=c&amp;id=1OBDHn\" title=\"show this lexeme in SHEBANQ\">עֲבֹ֥דַת </a></div>\n",
       "<div class=\"features\"> <span class=\"pdp\"><a href=\"https://shebanq.ancient-data.org/hebrew/text?book=Leviticus&amp;chapter=25&amp;verse=39&amp;version=c&amp;mr=m&amp;qw=q&amp;tp=txt_p&amp;tr=hb&amp;wget=v&amp;qget=v&amp;nget=vt\" title=\"Leviticus 25:39\" sec=\"Leviticus 25:39\">subs</a></span> <span class=\"gloss\">work</span> <span class=\"lex xft\"><span class=\"f\">lex=</span>&lt;BDH/</span></div>\n",
       "\n",
       "\n",
       "</div>\n",
       "\n",
       "<div class=\"word  \" >\n",
       "<div class=\"h\"><a target=\"_blank\" href=\"https://shebanq.ancient-data.org/hebrew/word?version=c&amp;id=1OBDn\" title=\"show this lexeme in SHEBANQ\">עָֽבֶד׃ </a></div>\n",
       "<div class=\"features\"> <span class=\"pdp\"><a href=\"https://shebanq.ancient-data.org/hebrew/text?book=Leviticus&amp;chapter=25&amp;verse=39&amp;version=c&amp;mr=m&amp;qw=q&amp;tp=txt_p&amp;tr=hb&amp;wget=v&amp;qget=v&amp;nget=vt\" title=\"Leviticus 25:39\" sec=\"Leviticus 25:39\">subs</a></span> <span class=\"gloss\">servant</span> <span class=\"lex xft\"><span class=\"f\">lex=</span>&lt;BD/</span></div>\n",
       "\n",
       "\n",
       "</div>\n",
       "\n",
       "\n",
       "    </div>\n",
       "\n",
       "\n",
       "</div>\n",
       "\n",
       "\n",
       "    </div>\n",
       "\n",
       "\n",
       "</div>\n",
       "\n",
       "\n",
       "</div>\n"
      ],
      "text/plain": [
       "<IPython.core.display.HTML object>"
      ]
     },
     "metadata": {},
     "output_type": "display_data"
    },
    {
     "name": "stdout",
     "output_type": "stream",
     "text": [
      "67885\n"
     ]
    },
    {
     "data": {
      "text/html": [
       "<a href=\"https://shebanq.ancient-data.org/hebrew/text?book=Leviticus&amp;chapter=25&amp;verse=40&amp;version=c&amp;mr=m&amp;qw=q&amp;tp=txt_p&amp;tr=hb&amp;wget=v&amp;qget=v&amp;nget=vt\" title=\"show this passage in SHEBANQ\" sec=\"Leviticus 25:40\">Leviticus 25:40</a>\n",
       "<div class=\"atoms  \" >\n",
       "\n",
       "\n",
       "\n",
       "<div class=\"catom  \" >\n",
       "\n",
       "    <div class=\"clause \" >\n",
       "        <a href=\"https://shebanq.ancient-data.org/hebrew/text?book=Leviticus&amp;chapter=25&amp;verse=40&amp;version=c&amp;mr=m&amp;qw=q&amp;tp=txt_p&amp;tr=hb&amp;wget=v&amp;qget=v&amp;nget=vt\" title=\"Leviticus 25:40\" sec=\"Leviticus 25:40\">clause</a>   <span class=\"typ\">xYq0</span>\n",
       "    </div>\n",
       "    <div class=\"atoms\">\n",
       "\n",
       "<div class=\"patom  \" >\n",
       "\n",
       "    <div class=\"phrase \" >\n",
       "        <a href=\"https://shebanq.ancient-data.org/hebrew/text?book=Leviticus&amp;chapter=25&amp;verse=40&amp;version=c&amp;mr=m&amp;qw=q&amp;tp=txt_p&amp;tr=hb&amp;wget=v&amp;qget=v&amp;nget=vt\" title=\"Leviticus 25:40\" sec=\"Leviticus 25:40\">phrase</a>   <span class=\"function\">Time</span> <span class=\"typ\">PP</span>\n",
       "    </div>\n",
       "    <div class=\"atoms\">\n",
       "\n",
       "<div class=\"word  \" >\n",
       "<div class=\"h\"><a target=\"_blank\" href=\"https://shebanq.ancient-data.org/hebrew/word?version=c&amp;id=1OD\" title=\"show this lexeme in SHEBANQ\">עַד־</a></div>\n",
       "<div class=\"features\"> <span class=\"pdp\"><a href=\"https://shebanq.ancient-data.org/hebrew/text?book=Leviticus&amp;chapter=25&amp;verse=40&amp;version=c&amp;mr=m&amp;qw=q&amp;tp=txt_p&amp;tr=hb&amp;wget=v&amp;qget=v&amp;nget=vt\" title=\"Leviticus 25:40\" sec=\"Leviticus 25:40\">prep</a></span> <span class=\"gloss\">unto</span> <span class=\"lex xft\"><span class=\"f\">lex=</span>&lt;D</span></div>\n",
       "\n",
       "\n",
       "</div>\n",
       "\n",
       "<div class=\"word  \" >\n",
       "<div class=\"h\"><a target=\"_blank\" href=\"https://shebanq.ancient-data.org/hebrew/word?version=c&amp;id=1CNHn\" title=\"show this lexeme in SHEBANQ\">שְׁנַ֥ת </a></div>\n",
       "<div class=\"features\"> <span class=\"pdp\"><a href=\"https://shebanq.ancient-data.org/hebrew/text?book=Leviticus&amp;chapter=25&amp;verse=40&amp;version=c&amp;mr=m&amp;qw=q&amp;tp=txt_p&amp;tr=hb&amp;wget=v&amp;qget=v&amp;nget=vt\" title=\"Leviticus 25:40\" sec=\"Leviticus 25:40\">subs</a></span> <span class=\"gloss\">year</span> <span class=\"lex xft\"><span class=\"f\">lex=</span>CNH/</span></div>\n",
       "\n",
       "\n",
       "</div>\n",
       "\n",
       "<div class=\"word  \" >\n",
       "<div class=\"h\"><a target=\"_blank\" href=\"https://shebanq.ancient-data.org/hebrew/word?version=c&amp;id=1H\" title=\"show this lexeme in SHEBANQ\">הַ</a></div>\n",
       "<div class=\"features\"> <span class=\"pdp\"><a href=\"https://shebanq.ancient-data.org/hebrew/text?book=Leviticus&amp;chapter=25&amp;verse=40&amp;version=c&amp;mr=m&amp;qw=q&amp;tp=txt_p&amp;tr=hb&amp;wget=v&amp;qget=v&amp;nget=vt\" title=\"Leviticus 25:40\" sec=\"Leviticus 25:40\">art</a></span> <span class=\"gloss\">the</span> <span class=\"lex xft\"><span class=\"f\">lex=</span>H</span></div>\n",
       "\n",
       "\n",
       "</div>\n",
       "\n",
       "<div class=\"word  \" >\n",
       "<div class=\"h\"><a target=\"_blank\" href=\"https://shebanq.ancient-data.org/hebrew/word?version=c&amp;id=1JWBLn\" title=\"show this lexeme in SHEBANQ\">יֹּבֵ֖ל </a></div>\n",
       "<div class=\"features\"> <span class=\"pdp\"><a href=\"https://shebanq.ancient-data.org/hebrew/text?book=Leviticus&amp;chapter=25&amp;verse=40&amp;version=c&amp;mr=m&amp;qw=q&amp;tp=txt_p&amp;tr=hb&amp;wget=v&amp;qget=v&amp;nget=vt\" title=\"Leviticus 25:40\" sec=\"Leviticus 25:40\">subs</a></span> <span class=\"gloss\">ram</span> <span class=\"lex xft\"><span class=\"f\">lex=</span>JWBL/</span></div>\n",
       "\n",
       "\n",
       "</div>\n",
       "\n",
       "\n",
       "    </div>\n",
       "\n",
       "\n",
       "</div>\n",
       "\n",
       "<div class=\"patom  \" >\n",
       "\n",
       "    <div class=\"phrase \" >\n",
       "        <a href=\"https://shebanq.ancient-data.org/hebrew/text?book=Leviticus&amp;chapter=25&amp;verse=40&amp;version=c&amp;mr=m&amp;qw=q&amp;tp=txt_p&amp;tr=hb&amp;wget=v&amp;qget=v&amp;nget=vt\" title=\"Leviticus 25:40\" sec=\"Leviticus 25:40\">phrase</a>   <span class=\"function\">Pred</span> <span class=\"typ\">VP</span>\n",
       "    </div>\n",
       "    <div class=\"atoms\">\n",
       "\n",
       "<div class=\"word  hl\"  style=\"background-color: gold;\" >\n",
       "<div class=\"h\"><a target=\"_blank\" href=\"https://shebanq.ancient-data.org/hebrew/word?version=c&amp;id=1OBDv\" title=\"show this lexeme in SHEBANQ\">יַעֲבֹ֥ד </a></div>\n",
       "<div class=\"features\"> <span class=\"pdp\"><a href=\"https://shebanq.ancient-data.org/hebrew/text?book=Leviticus&amp;chapter=25&amp;verse=40&amp;version=c&amp;mr=m&amp;qw=q&amp;tp=txt_p&amp;tr=hb&amp;wget=v&amp;qget=v&amp;nget=vt\" title=\"Leviticus 25:40\" sec=\"Leviticus 25:40\">verb</a></span> <span class=\"gloss\">work, serve</span> <span class=\"vs\">qal</span> <span class=\"vt\">impf</span> <span class=\"lex xft\"><span class=\"f\">lex=</span>&lt;BD[</span></div>\n",
       "\n",
       "\n",
       "</div>\n",
       "\n",
       "\n",
       "    </div>\n",
       "\n",
       "\n",
       "</div>\n",
       "\n",
       "<div class=\"patom  \" >\n",
       "\n",
       "    <div class=\"phrase \" >\n",
       "        <a href=\"https://shebanq.ancient-data.org/hebrew/text?book=Leviticus&amp;chapter=25&amp;verse=40&amp;version=c&amp;mr=m&amp;qw=q&amp;tp=txt_p&amp;tr=hb&amp;wget=v&amp;qget=v&amp;nget=vt\" title=\"Leviticus 25:40\" sec=\"Leviticus 25:40\">phrase</a>   <span class=\"function\">Cmpl</span> <span class=\"typ\">PP</span>\n",
       "    </div>\n",
       "    <div class=\"atoms\">\n",
       "\n",
       "<div class=\"word  \" >\n",
       "<div class=\"h\"><a target=\"_blank\" href=\"https://shebanq.ancient-data.org/hebrew/word?version=c&amp;id=1OM\" title=\"show this lexeme in SHEBANQ\">עִמָּֽךְ׃ </a></div>\n",
       "<div class=\"features\"> <span class=\"pdp\"><a href=\"https://shebanq.ancient-data.org/hebrew/text?book=Leviticus&amp;chapter=25&amp;verse=40&amp;version=c&amp;mr=m&amp;qw=q&amp;tp=txt_p&amp;tr=hb&amp;wget=v&amp;qget=v&amp;nget=vt\" title=\"Leviticus 25:40\" sec=\"Leviticus 25:40\">prep</a></span> <span class=\"gloss\">with</span> <span class=\"lex xft\"><span class=\"f\">lex=</span>&lt;M</span></div>\n",
       "\n",
       "\n",
       "</div>\n",
       "\n",
       "\n",
       "    </div>\n",
       "\n",
       "\n",
       "</div>\n",
       "\n",
       "\n",
       "    </div>\n",
       "\n",
       "\n",
       "</div>\n",
       "\n",
       "\n",
       "</div>\n"
      ],
      "text/plain": [
       "<IPython.core.display.HTML object>"
      ]
     },
     "metadata": {},
     "output_type": "display_data"
    },
    {
     "name": "stdout",
     "output_type": "stream",
     "text": [
      "67981\n"
     ]
    },
    {
     "data": {
      "text/html": [
       "<a href=\"https://shebanq.ancient-data.org/hebrew/text?book=Leviticus&amp;chapter=25&amp;verse=46&amp;version=c&amp;mr=m&amp;qw=q&amp;tp=txt_p&amp;tr=hb&amp;wget=v&amp;qget=v&amp;nget=vt\" title=\"show this passage in SHEBANQ\" sec=\"Leviticus 25:46\">Leviticus 25:46</a>\n",
       "<div class=\"atoms  \" >\n",
       "\n",
       "\n",
       "\n",
       "<div class=\"catom  \" >\n",
       "\n",
       "    <div class=\"clause \" >\n",
       "        <a href=\"https://shebanq.ancient-data.org/hebrew/text?book=Leviticus&amp;chapter=25&amp;verse=46&amp;version=c&amp;mr=m&amp;qw=q&amp;tp=txt_p&amp;tr=hb&amp;wget=v&amp;qget=v&amp;nget=vt\" title=\"Leviticus 25:46\" sec=\"Leviticus 25:46\">clause</a>   <span class=\"typ\">xYq0</span>\n",
       "    </div>\n",
       "    <div class=\"atoms\">\n",
       "\n",
       "<div class=\"patom  \" >\n",
       "\n",
       "    <div class=\"phrase \" >\n",
       "        <a href=\"https://shebanq.ancient-data.org/hebrew/text?book=Leviticus&amp;chapter=25&amp;verse=46&amp;version=c&amp;mr=m&amp;qw=q&amp;tp=txt_p&amp;tr=hb&amp;wget=v&amp;qget=v&amp;nget=vt\" title=\"Leviticus 25:46\" sec=\"Leviticus 25:46\">phrase</a>   <span class=\"function\">Cmpl</span> <span class=\"typ\">PP</span>\n",
       "    </div>\n",
       "    <div class=\"atoms\">\n",
       "\n",
       "<div class=\"word  \" >\n",
       "<div class=\"h\"><a target=\"_blank\" href=\"https://shebanq.ancient-data.org/hebrew/word?version=c&amp;id=1B\" title=\"show this lexeme in SHEBANQ\">בָּהֶ֣ם </a></div>\n",
       "<div class=\"features\"> <span class=\"pdp\"><a href=\"https://shebanq.ancient-data.org/hebrew/text?book=Leviticus&amp;chapter=25&amp;verse=46&amp;version=c&amp;mr=m&amp;qw=q&amp;tp=txt_p&amp;tr=hb&amp;wget=v&amp;qget=v&amp;nget=vt\" title=\"Leviticus 25:46\" sec=\"Leviticus 25:46\">prep</a></span> <span class=\"gloss\">in</span> <span class=\"lex xft\"><span class=\"f\">lex=</span>B</span></div>\n",
       "\n",
       "\n",
       "</div>\n",
       "\n",
       "\n",
       "    </div>\n",
       "\n",
       "\n",
       "</div>\n",
       "\n",
       "<div class=\"patom  \" >\n",
       "\n",
       "    <div class=\"phrase \" >\n",
       "        <a href=\"https://shebanq.ancient-data.org/hebrew/text?book=Leviticus&amp;chapter=25&amp;verse=46&amp;version=c&amp;mr=m&amp;qw=q&amp;tp=txt_p&amp;tr=hb&amp;wget=v&amp;qget=v&amp;nget=vt\" title=\"Leviticus 25:46\" sec=\"Leviticus 25:46\">phrase</a>   <span class=\"function\">Pred</span> <span class=\"typ\">VP</span>\n",
       "    </div>\n",
       "    <div class=\"atoms\">\n",
       "\n",
       "<div class=\"word  hl\"  style=\"background-color: gold;\" >\n",
       "<div class=\"h\"><a target=\"_blank\" href=\"https://shebanq.ancient-data.org/hebrew/word?version=c&amp;id=1OBDv\" title=\"show this lexeme in SHEBANQ\">תַּעֲבֹ֑דוּ </a></div>\n",
       "<div class=\"features\"> <span class=\"pdp\"><a href=\"https://shebanq.ancient-data.org/hebrew/text?book=Leviticus&amp;chapter=25&amp;verse=46&amp;version=c&amp;mr=m&amp;qw=q&amp;tp=txt_p&amp;tr=hb&amp;wget=v&amp;qget=v&amp;nget=vt\" title=\"Leviticus 25:46\" sec=\"Leviticus 25:46\">verb</a></span> <span class=\"gloss\">work, serve</span> <span class=\"vs\">qal</span> <span class=\"vt\">impf</span> <span class=\"lex xft\"><span class=\"f\">lex=</span>&lt;BD[</span></div>\n",
       "\n",
       "\n",
       "</div>\n",
       "\n",
       "\n",
       "    </div>\n",
       "\n",
       "\n",
       "</div>\n",
       "\n",
       "\n",
       "    </div>\n",
       "\n",
       "\n",
       "</div>\n",
       "\n",
       "\n",
       "</div>\n"
      ],
      "text/plain": [
       "<IPython.core.display.HTML object>"
      ]
     },
     "metadata": {},
     "output_type": "display_data"
    }
   ],
   "source": [
    "print(n)\n",
    "show(cases[n])\n",
    "n+=1"
   ]
  },
  {
   "cell_type": "markdown",
   "metadata": {},
   "source": [
    "#### Changes\n",
    "\n",
    "The review above shows that some annotations need to be changed because of local factors. These factors include different uses of a lexeme in a particular context, and those and similar cases will be accounted for here.\n",
    "\n",
    "We create a dictionary to store the changes:"
   ]
  },
  {
   "cell_type": "code",
   "execution_count": 28,
   "metadata": {},
   "outputs": [],
   "source": [
    "changes = {}"
   ]
  },
  {
   "cell_type": "markdown",
   "metadata": {},
   "source": [
    "##### <BR \"pass\""
   ]
  },
  {
   "cell_type": "markdown",
   "metadata": {},
   "source": [
    "The verb <BR \"pass\" is used in a technical sense with the object shofar where it seems to indicate a simple activity rather than a caused activity."
   ]
  },
  {
   "cell_type": "code",
   "execution_count": 29,
   "metadata": {
    "scrolled": true
   },
   "outputs": [],
   "source": [
    "#show(('<BR[','hif'))"
   ]
  },
  {
   "cell_type": "code",
   "execution_count": 30,
   "metadata": {},
   "outputs": [],
   "source": [
    "changes[67309] = ('nan','act')\n",
    "changes[67327] = ('nan','act')"
   ]
  },
  {
   "cell_type": "markdown",
   "metadata": {},
   "source": [
    "##### JSP \"add\""
   ]
  },
  {
   "cell_type": "markdown",
   "metadata": {},
   "source": [
    "JSP \"add\" sometimes means add (causative stative) but sometimes just \"continue\", which is likely an activity:"
   ]
  },
  {
   "cell_type": "code",
   "execution_count": 31,
   "metadata": {},
   "outputs": [],
   "source": [
    "#show(('JSP[','qal'))"
   ]
  },
  {
   "cell_type": "code",
   "execution_count": 32,
   "metadata": {},
   "outputs": [],
   "source": [
    "changes[68444] = ('nan','act')"
   ]
  },
  {
   "cell_type": "markdown",
   "metadata": {},
   "source": [
    "##### M<L \"be unfaithful\"\n",
    "\n",
    "In the present case M<L \"be unfaithful\" seems to refer to a specific act suggested by the relative which refers to some concrete deeds being performed. Therefore active in this particular case:"
   ]
  },
  {
   "cell_type": "code",
   "execution_count": 33,
   "metadata": {},
   "outputs": [],
   "source": [
    "#show(('M<L[','qal'))"
   ]
  },
  {
   "cell_type": "code",
   "execution_count": 34,
   "metadata": {},
   "outputs": [],
   "source": [
    "changes[68816] = ('nan','act')"
   ]
  },
  {
   "cell_type": "markdown",
   "metadata": {},
   "source": [
    "##### NF> \"lift\"\n",
    "\n",
    "The meaning of \"lifting sin\" seems come close to \"be responsible\", therefore stative."
   ]
  },
  {
   "cell_type": "code",
   "execution_count": 35,
   "metadata": {},
   "outputs": [],
   "source": [
    "#show(('NF>[','hif'))"
   ]
  },
  {
   "cell_type": "markdown",
   "metadata": {},
   "source": [
    "Another case is \"lift a poor man's face\" which seem to be a causative stative, causing the poor man's face to be exalted."
   ]
  },
  {
   "cell_type": "code",
   "execution_count": 36,
   "metadata": {},
   "outputs": [],
   "source": [
    "#show(('NF>[','qal'))"
   ]
  },
  {
   "cell_type": "code",
   "execution_count": 37,
   "metadata": {},
   "outputs": [],
   "source": [
    "changes[65642] = ('caus','sta')\n",
    "changes[63390] = ('nan','sta')\n",
    "changes[63916] = ('nan','sta')\n",
    "changes[64031] = ('caus','sta')\n",
    "changes[64067] = ('nan','sta')\n",
    "changes[64745] = ('nan','sta')\n",
    "changes[64786] = ('nan','sta')\n",
    "changes[64797] = ('nan','sta')\n",
    "changes[65525] = ('nan','sta')\n",
    "changes[67035] = ('nan','sta')"
   ]
  },
  {
   "cell_type": "markdown",
   "metadata": {},
   "source": [
    "##### NKH \"strike\"\n",
    "\n",
    "In many cases, NKH \"strike\" does not only mean \"blow\" or \"hit\" but strik to death. Therefore it is causative of becomining not-being. The counter-example is Lev 26:24 where the verb certainly does not imply murder."
   ]
  },
  {
   "cell_type": "code",
   "execution_count": 38,
   "metadata": {
    "scrolled": true
   },
   "outputs": [],
   "source": [
    "#show(('NKH[','hif'))"
   ]
  },
  {
   "cell_type": "code",
   "execution_count": 39,
   "metadata": {},
   "outputs": [],
   "source": [
    "changes[67062] = ('caus','sta')\n",
    "changes[67069] = ('caus','sta')\n",
    "changes[67109] = ('caus','sta')\n",
    "changes[67113] = ('caus','sta')"
   ]
  },
  {
   "cell_type": "markdown",
   "metadata": {},
   "source": [
    "##### QDC \"be holy\"\n",
    "\n",
    "In one case, the verb QDC in *Piel* does not indicate causing someone to be holy but merely regarding someone as being holy, therefore only stative:"
   ]
  },
  {
   "cell_type": "code",
   "execution_count": 40,
   "metadata": {},
   "outputs": [],
   "source": [
    "#show(('QDC[','piel'))"
   ]
  },
  {
   "cell_type": "code",
   "execution_count": 41,
   "metadata": {},
   "outputs": [],
   "source": [
    "changes[65085] = ('nan','sta')"
   ]
  },
  {
   "cell_type": "markdown",
   "metadata": {},
   "source": [
    "##### QWM \"be high\"\n",
    "\n",
    "In the two cases of QWM \"be high\" in the causative, the object is in fact not affected but rather effected. The verb should probably be translated \"erected\" and is a construction verb, where the Undergoer is effected. Therefore, an activity:"
   ]
  },
  {
   "cell_type": "code",
   "execution_count": 42,
   "metadata": {
    "scrolled": true
   },
   "outputs": [],
   "source": [
    "#show(('QWM[','hif'))"
   ]
  },
  {
   "cell_type": "code",
   "execution_count": 43,
   "metadata": {},
   "outputs": [],
   "source": [
    "changes[68156] = ('nan','act')\n",
    "changes[68292] = ('nan','act')"
   ]
  },
  {
   "cell_type": "markdown",
   "metadata": {},
   "source": [
    "In another case, QWM refers to an event of standing up in front of elderly people (Lev 19:32)"
   ]
  },
  {
   "cell_type": "code",
   "execution_count": 44,
   "metadata": {},
   "outputs": [],
   "source": [
    "changes[64300] = ('nan','act')"
   ]
  },
  {
   "cell_type": "markdown",
   "metadata": {},
   "source": [
    "##### RYH= \"pay off\"\n",
    "\n",
    "In most cases it seems right to treat RYH \"be acceptable\" as a stative. In some cases, however, the verb seems to have an active sense of \"paying off\", that is, doing something because of their sin."
   ]
  },
  {
   "cell_type": "code",
   "execution_count": 45,
   "metadata": {
    "scrolled": true
   },
   "outputs": [],
   "source": [
    "#show(('RYH=[','qal'))"
   ]
  },
  {
   "cell_type": "code",
   "execution_count": 46,
   "metadata": {},
   "outputs": [],
   "source": [
    "changes[68845] = ('nan','act')\n",
    "changes[68882] = ('nan','act')"
   ]
  },
  {
   "cell_type": "markdown",
   "metadata": {},
   "source": [
    "##### XV> \"miss\"\n",
    "\n",
    "In these two cases, the verb refers to an activity:"
   ]
  },
  {
   "cell_type": "code",
   "execution_count": 47,
   "metadata": {
    "scrolled": true
   },
   "outputs": [],
   "source": [
    "#show(('XV>[','qal'))"
   ]
  },
  {
   "cell_type": "code",
   "execution_count": 48,
   "metadata": {},
   "outputs": [],
   "source": [
    "changes[64160] = ('nan','act')\n",
    "changes[64167] = ('nan','act')"
   ]
  },
  {
   "cell_type": "markdown",
   "metadata": {},
   "source": [
    "##### NQP \"go around\"\n",
    "\n",
    "The verb seems to be a simple activity in this case."
   ]
  },
  {
   "cell_type": "code",
   "execution_count": 49,
   "metadata": {},
   "outputs": [],
   "source": [
    "#show(('NQP[','hif'))"
   ]
  },
  {
   "cell_type": "code",
   "execution_count": 50,
   "metadata": {},
   "outputs": [],
   "source": [
    "changes[64231] = ('nan','act')"
   ]
  },
  {
   "cell_type": "markdown",
   "metadata": {},
   "source": [
    "## Export as TF-feature"
   ]
  },
  {
   "cell_type": "markdown",
   "metadata": {},
   "source": [
    "#### Create dictionary\n",
    "\n",
    "First, we create a dictionary containing each word node and its corresponding annotation:"
   ]
  },
  {
   "cell_type": "code",
   "execution_count": 51,
   "metadata": {
    "scrolled": true
   },
   "outputs": [
    {
     "data": {
      "text/html": [
       "<div>\n",
       "<style scoped>\n",
       "    .dataframe tbody tr th:only-of-type {\n",
       "        vertical-align: middle;\n",
       "    }\n",
       "\n",
       "    .dataframe tbody tr th {\n",
       "        vertical-align: top;\n",
       "    }\n",
       "\n",
       "    .dataframe thead th {\n",
       "        text-align: right;\n",
       "    }\n",
       "</style>\n",
       "<table border=\"1\" class=\"dataframe\">\n",
       "  <thead>\n",
       "    <tr style=\"text-align: right;\">\n",
       "      <th></th>\n",
       "      <th></th>\n",
       "      <th>caus</th>\n",
       "      <th>dyn</th>\n",
       "      <th>Aktionsart</th>\n",
       "    </tr>\n",
       "  </thead>\n",
       "  <tbody>\n",
       "    <tr>\n",
       "      <th>&lt;BD[</th>\n",
       "      <th>qal</th>\n",
       "      <td>nan</td>\n",
       "      <td>act</td>\n",
       "      <td>act</td>\n",
       "    </tr>\n",
       "    <tr>\n",
       "      <th rowspan=\"2\" valign=\"top\">&lt;BR[</th>\n",
       "      <th>hif</th>\n",
       "      <td>caus</td>\n",
       "      <td>act</td>\n",
       "      <td>caus act</td>\n",
       "    </tr>\n",
       "    <tr>\n",
       "      <th>qal</th>\n",
       "      <td>nan</td>\n",
       "      <td>act</td>\n",
       "      <td>act</td>\n",
       "    </tr>\n",
       "    <tr>\n",
       "      <th>&lt;CQ[</th>\n",
       "      <th>qal</th>\n",
       "      <td>caus</td>\n",
       "      <td>sta</td>\n",
       "      <td>caus sta</td>\n",
       "    </tr>\n",
       "    <tr>\n",
       "      <th>&lt;FH[</th>\n",
       "      <th>nif</th>\n",
       "      <td>nan</td>\n",
       "      <td>act</td>\n",
       "      <td>act</td>\n",
       "    </tr>\n",
       "    <tr>\n",
       "      <th>...</th>\n",
       "      <th>...</th>\n",
       "      <td>...</td>\n",
       "      <td>...</td>\n",
       "      <td>...</td>\n",
       "    </tr>\n",
       "    <tr>\n",
       "      <th>ZNH[</th>\n",
       "      <th>qal</th>\n",
       "      <td>nan</td>\n",
       "      <td>act</td>\n",
       "      <td>act</td>\n",
       "    </tr>\n",
       "    <tr>\n",
       "      <th>ZR&lt;[</th>\n",
       "      <th>qal</th>\n",
       "      <td>nan</td>\n",
       "      <td>act</td>\n",
       "      <td>act</td>\n",
       "    </tr>\n",
       "    <tr>\n",
       "      <th>ZRH[</th>\n",
       "      <th>piel</th>\n",
       "      <td>caus</td>\n",
       "      <td>sta</td>\n",
       "      <td>caus sta</td>\n",
       "    </tr>\n",
       "    <tr>\n",
       "      <th>ZRQ[</th>\n",
       "      <th>qal</th>\n",
       "      <td>caus</td>\n",
       "      <td>act</td>\n",
       "      <td>caus act</td>\n",
       "    </tr>\n",
       "    <tr>\n",
       "      <th>ZWB[</th>\n",
       "      <th>qal</th>\n",
       "      <td>nan</td>\n",
       "      <td>sta</td>\n",
       "      <td>sta</td>\n",
       "    </tr>\n",
       "  </tbody>\n",
       "</table>\n",
       "<p>231 rows × 3 columns</p>\n",
       "</div>"
      ],
      "text/plain": [
       "           caus  dyn Aktionsart\n",
       "<BD[ qal    nan  act        act\n",
       "<BR[ hif   caus  act   caus act\n",
       "     qal    nan  act        act\n",
       "<CQ[ qal   caus  sta   caus sta\n",
       "<FH[ nif    nan  act        act\n",
       "...         ...  ...        ...\n",
       "ZNH[ qal    nan  act        act\n",
       "ZR<[ qal    nan  act        act\n",
       "ZRH[ piel  caus  sta   caus sta\n",
       "ZRQ[ qal   caus  act   caus act\n",
       "ZWB[ qal    nan  sta        sta\n",
       "\n",
       "[231 rows x 3 columns]"
      ]
     },
     "execution_count": 51,
     "metadata": {},
     "output_type": "execute_result"
    }
   ],
   "source": [
    "review_df"
   ]
  },
  {
   "cell_type": "code",
   "execution_count": 52,
   "metadata": {},
   "outputs": [],
   "source": [
    "last_word = L.d(T.nodeFromSection(('2_Kings',25,30)), 'word')[-1]\n",
    "   \n",
    "word_dict = collections.defaultdict()\n",
    "\n",
    "for n in range(1, last_word+1):\n",
    "    if F.pdp.v(n) == 'verb' and F.function.v(L.u(n, 'phrase')[0]) in ['Pred','PreS','PreO','PreC','PtcO']:\n",
    "        lex = F.lex.v(n)\n",
    "        stem = F.vs.v(n)\n",
    "\n",
    "        if (lex, stem) in review_df.index:\n",
    "            caus = review_df[(review_df.index.get_level_values(0)==lex) \n",
    "                             & (review_df.index.get_level_values(1)==stem)]['caus'].item()\n",
    "            dyna = review_df[(review_df.index.get_level_values(0)==lex) \n",
    "                             & (review_df.index.get_level_values(1)==stem)]['dyn'].item()\n",
    "                \n",
    "            word_dict[n] = (caus, dyna)"
   ]
  },
  {
   "cell_type": "code",
   "execution_count": 53,
   "metadata": {},
   "outputs": [
    {
     "data": {
      "text/plain": [
       "defaultdict(None,\n",
       "            {15: ('nan', 'sta'),\n",
       "             33: ('nan', 'act'),\n",
       "             35: ('nan', 'sta'),\n",
       "             38: ('nan', 'sta'),\n",
       "             41: ('nan', 'sta'),\n",
       "             49: ('caus', 'sta'),\n",
       "             59: ('nan', 'act'),\n",
       "             69: ('nan', 'act'),\n",
       "             72: ('nan', 'sta'),\n",
       "             75: ('nan', 'sta'),\n",
       "             80: ('nan', 'act'),\n",
       "             82: ('nan', 'sta'),\n",
       "             89: ('nan', 'sta'),\n",
       "             90: ('caus', 'sta'),\n",
       "             96: ('nan', 'act'),\n",
       "             102: ('caus', 'sta'),\n",
       "             123: ('nan', 'sta'),\n",
       "             126: ('nan', 'act'),\n",
       "             133: ('nan', 'sta'),\n",
       "             136: ('nan', 'sta'),\n",
       "             141: ('nan', 'act'),\n",
       "             158: ('nan', 'sta'),\n",
       "             161: ('nan', 'act'),\n",
       "             172: ('nan', 'act'),\n",
       "             175: ('nan', 'sta'),\n",
       "             180: ('nan', 'act'),\n",
       "             191: ('nan', 'act'),\n",
       "             202: ('nan', 'sta'),\n",
       "             205: ('caus', 'act'),\n",
       "             216: ('nan', 'act'),\n",
       "             224: ('nan', 'sta'),\n",
       "             229: ('nan', 'sta'),\n",
       "             232: ('nan', 'sta'),\n",
       "             237: ('nan', 'act'),\n",
       "             239: ('nan', 'sta'),\n",
       "             246: ('caus', 'sta'),\n",
       "             255: ('nan', 'sta'),\n",
       "             267: ('nan', 'sta'),\n",
       "             280: ('nan', 'sta'),\n",
       "             283: ('nan', 'act'),\n",
       "             315: ('caus', 'sta'),\n",
       "             339: ('caus', 'sta'),\n",
       "             348: ('nan', 'sta'),\n",
       "             353: ('nan', 'sta'),\n",
       "             356: ('nan', 'sta'),\n",
       "             361: ('nan', 'act'),\n",
       "             395: ('nan', 'act'),\n",
       "             410: ('nan', 'sta'),\n",
       "             419: ('nan', 'act'),\n",
       "             424: ('nan', 'sta'),\n",
       "             439: ('nan', 'sta'),\n",
       "             442: ('nan', 'sta'),\n",
       "             447: ('nan', 'act'),\n",
       "             449: ('caus', 'act'),\n",
       "             465: ('nan', 'sta'),\n",
       "             468: ('nan', 'act'),\n",
       "             491: ('nan', 'sta'),\n",
       "             496: ('nan', 'act'),\n",
       "             498: ('nan', 'act'),\n",
       "             505: ('caus', 'sta'),\n",
       "             530: ('nan', 'act'),\n",
       "             557: ('nan', 'act'),\n",
       "             564: ('nan', 'sta'),\n",
       "             571: ('caus', 'sta'),\n",
       "             586: ('nan', 'act'),\n",
       "             591: ('nan', 'act'),\n",
       "             594: ('caus', 'sta'),\n",
       "             599: ('nan', 'act'),\n",
       "             616: ('nan', 'act'),\n",
       "             619: ('nan', 'sta'),\n",
       "             652: ('nan', 'sta'),\n",
       "             655: ('nan', 'sta'),\n",
       "             660: ('nan', 'act'),\n",
       "             666: ('nan', 'sta'),\n",
       "             669: ('nan', 'sta'),\n",
       "             685: ('caus', 'sta'),\n",
       "             694: ('nan', 'act'),\n",
       "             696: ('nan', 'sta'),\n",
       "             706: ('nan', 'act'),\n",
       "             715: ('caus', 'sta'),\n",
       "             719: ('nan', 'sta'),\n",
       "             727: ('nan', 'act'),\n",
       "             739: ('nan', 'act'),\n",
       "             751: ('nan', 'sta'),\n",
       "             774: ('nan', 'act'),\n",
       "             780: ('nan', 'act'),\n",
       "             809: ('nan', 'sta'),\n",
       "             816: ('caus', 'sta'),\n",
       "             825: ('caus', 'sta'),\n",
       "             865: ('nan', 'act'),\n",
       "             878: ('nan', 'sta'),\n",
       "             935: ('nan', 'act'),\n",
       "             946: ('caus', 'sta'),\n",
       "             953: ('caus', 'sta'),\n",
       "             958: ('nan', 'act'),\n",
       "             961: ('nan', 'act'),\n",
       "             963: ('caus', 'act'),\n",
       "             970: ('nan', 'act'),\n",
       "             977: ('nan', 'act'),\n",
       "             987: ('nan', 'act'),\n",
       "             992: ('nan', 'act'),\n",
       "             995: ('nan', 'sta'),\n",
       "             997: ('nan', 'act'),\n",
       "             1002: ('nan', 'sta'),\n",
       "             1007: ('nan', 'act'),\n",
       "             1030: ('caus', 'act'),\n",
       "             1035: ('nan', 'sta'),\n",
       "             1037: ('nan', 'act'),\n",
       "             1042: ('nan', 'act'),\n",
       "             1051: ('nan', 'act'),\n",
       "             1074: ('nan', 'act'),\n",
       "             1089: ('caus', 'sta'),\n",
       "             1105: ('caus', 'sta'),\n",
       "             1112: ('caus', 'act'),\n",
       "             1117: ('nan', 'act'),\n",
       "             1141: ('caus', 'sta'),\n",
       "             1153: ('nan', 'sta'),\n",
       "             1158: ('nan', 'sta'),\n",
       "             1171: ('nan', 'sta'),\n",
       "             1179: ('nan', 'act'),\n",
       "             1183: ('nan', 'act'),\n",
       "             1189: ('nan', 'act'),\n",
       "             1192: ('nan', 'act'),\n",
       "             1199: ('nan', 'act'),\n",
       "             1210: ('nan', 'act'),\n",
       "             1221: ('nan', 'act'),\n",
       "             1224: ('nan', 'act'),\n",
       "             1228: ('nan', 'act'),\n",
       "             1231: ('nan', 'sta'),\n",
       "             1233: ('nan', 'act'),\n",
       "             1241: ('nan', 'sta'),\n",
       "             1243: ('nan', 'sta'),\n",
       "             1248: ('nan', 'act'),\n",
       "             1254: ('nan', 'sta'),\n",
       "             1262: ('nan', 'sta'),\n",
       "             1285: ('caus', 'sta'),\n",
       "             1289: ('nan', 'act'),\n",
       "             1291: ('caus', 'sta'),\n",
       "             1297: ('nan', 'act'),\n",
       "             1303: ('nan', 'sta'),\n",
       "             1312: ('nan', 'act'),\n",
       "             1316: ('nan', 'sta'),\n",
       "             1345: ('nan', 'act'),\n",
       "             1352: ('nan', 'act'),\n",
       "             1356: ('nan', 'act'),\n",
       "             1359: ('nan', 'sta'),\n",
       "             1364: ('nan', 'sta'),\n",
       "             1371: ('nan', 'act'),\n",
       "             1383: ('caus', 'act'),\n",
       "             1386: ('nan', 'act'),\n",
       "             1388: ('nan', 'act'),\n",
       "             1390: ('nan', 'act'),\n",
       "             1396: ('caus', 'sta'),\n",
       "             1399: ('caus', 'sta'),\n",
       "             1405: ('nan', 'act'),\n",
       "             1407: ('nan', 'act'),\n",
       "             1415: ('nan', 'act'),\n",
       "             1417: ('nan', 'act'),\n",
       "             1424: ('nan', 'act'),\n",
       "             1426: ('nan', 'act'),\n",
       "             1433: ('nan', 'act'),\n",
       "             1449: ('nan', 'act'),\n",
       "             1452: ('nan', 'act'),\n",
       "             1480: ('nan', 'act'),\n",
       "             1482: ('caus', 'sta'),\n",
       "             1501: ('nan', 'act'),\n",
       "             1503: ('nan', 'sta'),\n",
       "             1508: ('nan', 'act'),\n",
       "             1513: ('caus', 'act'),\n",
       "             1515: ('nan', 'act'),\n",
       "             1517: ('nan', 'act'),\n",
       "             1526: ('nan', 'act'),\n",
       "             1537: ('nan', 'act'),\n",
       "             1545: ('nan', 'act'),\n",
       "             1548: ('nan', 'act'),\n",
       "             1561: ('nan', 'act'),\n",
       "             1563: ('nan', 'act'),\n",
       "             1571: ('nan', 'sta'),\n",
       "             1576: ('nan', 'act'),\n",
       "             1589: ('nan', 'act'),\n",
       "             1595: ('nan', 'sta'),\n",
       "             1600: ('nan', 'sta'),\n",
       "             1610: ('caus', 'sta'),\n",
       "             1617: ('nan', 'act'),\n",
       "             1619: ('nan', 'sta'),\n",
       "             1623: ('caus', 'act'),\n",
       "             1630: ('nan', 'act'),\n",
       "             1661: ('nan', 'act'),\n",
       "             1670: ('nan', 'sta'),\n",
       "             1681: ('nan', 'act'),\n",
       "             1687: ('caus', 'sta'),\n",
       "             1695: ('nan', 'sta'),\n",
       "             1701: ('nan', 'sta'),\n",
       "             1705: ('nan', 'sta'),\n",
       "             1710: ('caus', 'act'),\n",
       "             1721: ('caus', 'act'),\n",
       "             1752: ('nan', 'sta'),\n",
       "             1755: ('nan', 'act'),\n",
       "             1764: ('nan', 'sta'),\n",
       "             1788: ('nan', 'act'),\n",
       "             1794: ('nan', 'sta'),\n",
       "             1796: ('nan', 'sta'),\n",
       "             1801: ('nan', 'act'),\n",
       "             1807: ('caus', 'sta'),\n",
       "             1809: ('nan', 'act'),\n",
       "             1817: ('nan', 'act'),\n",
       "             1819: ('nan', 'sta'),\n",
       "             1821: ('nan', 'act'),\n",
       "             1825: ('nan', 'act'),\n",
       "             1827: ('nan', 'act'),\n",
       "             1848: ('caus', 'sta'),\n",
       "             1855: ('nan', 'act'),\n",
       "             1860: ('caus', 'sta'),\n",
       "             1861: ('caus', 'sta'),\n",
       "             1867: ('nan', 'sta'),\n",
       "             1872: ('nan', 'act'),\n",
       "             1879: ('caus', 'act'),\n",
       "             1895: ('nan', 'sta'),\n",
       "             1903: ('nan', 'sta'),\n",
       "             1905: ('nan', 'act'),\n",
       "             1906: ('caus', 'sta'),\n",
       "             1908: ('nan', 'act'),\n",
       "             1913: ('caus', 'sta'),\n",
       "             1918: ('caus', 'sta'),\n",
       "             1925: ('nan', 'act'),\n",
       "             1930: ('nan', 'act'),\n",
       "             1937: ('nan', 'sta'),\n",
       "             1944: ('nan', 'sta'),\n",
       "             1955: ('nan', 'sta'),\n",
       "             1959: ('nan', 'act'),\n",
       "             1989: ('caus', 'sta'),\n",
       "             2009: ('nan', 'sta'),\n",
       "             2020: ('nan', 'sta'),\n",
       "             2045: ('nan', 'act'),\n",
       "             2052: ('nan', 'sta'),\n",
       "             2060: ('caus', 'sta'),\n",
       "             2077: ('nan', 'sta'),\n",
       "             2086: ('nan', 'act'),\n",
       "             2099: ('caus', 'sta'),\n",
       "             2109: ('nan', 'act'),\n",
       "             2116: ('nan', 'act'),\n",
       "             2132: ('nan', 'act'),\n",
       "             2142: ('nan', 'act'),\n",
       "             2150: ('nan', 'sta'),\n",
       "             2157: ('caus', 'act'),\n",
       "             2163: ('nan', 'act'),\n",
       "             2168: ('nan', 'sta'),\n",
       "             2172: ('caus', 'act'),\n",
       "             2179: ('caus', 'act'),\n",
       "             2184: ('nan', 'sta'),\n",
       "             2189: ('nan', 'sta'),\n",
       "             2197: ('nan', 'sta'),\n",
       "             2199: ('nan', 'sta'),\n",
       "             2207: ('caus', 'act'),\n",
       "             2211: ('nan', 'sta'),\n",
       "             2214: ('caus', 'act'),\n",
       "             2224: ('caus', 'act'),\n",
       "             2229: ('nan', 'sta'),\n",
       "             2241: ('nan', 'sta'),\n",
       "             2243: ('nan', 'sta'),\n",
       "             2248: ('caus', 'act'),\n",
       "             2252: ('nan', 'sta'),\n",
       "             2255: ('caus', 'act'),\n",
       "             2266: ('caus', 'act'),\n",
       "             2271: ('nan', 'sta'),\n",
       "             2282: ('nan', 'sta'),\n",
       "             2284: ('nan', 'sta'),\n",
       "             2289: ('caus', 'act'),\n",
       "             2293: ('nan', 'sta'),\n",
       "             2296: ('caus', 'act'),\n",
       "             2306: ('caus', 'act'),\n",
       "             2311: ('nan', 'sta'),\n",
       "             2322: ('nan', 'sta'),\n",
       "             2324: ('nan', 'sta'),\n",
       "             2332: ('caus', 'act'),\n",
       "             2336: ('nan', 'sta'),\n",
       "             2339: ('caus', 'act'),\n",
       "             2349: ('caus', 'act'),\n",
       "             2354: ('nan', 'sta'),\n",
       "             2367: ('nan', 'sta'),\n",
       "             2369: ('nan', 'sta'),\n",
       "             2379: ('caus', 'act'),\n",
       "             2383: ('nan', 'sta'),\n",
       "             2386: ('caus', 'act'),\n",
       "             2393: ('caus', 'act'),\n",
       "             2398: ('nan', 'sta'),\n",
       "             2411: ('nan', 'sta'),\n",
       "             2413: ('nan', 'sta'),\n",
       "             2420: ('caus', 'act'),\n",
       "             2430: ('caus', 'act'),\n",
       "             2437: ('caus', 'act'),\n",
       "             2442: ('nan', 'sta'),\n",
       "             2463: ('caus', 'sta'),\n",
       "             2467: ('nan', 'sta'),\n",
       "             2477: ('caus', 'act'),\n",
       "             2481: ('nan', 'sta'),\n",
       "             2484: ('caus', 'act'),\n",
       "             2496: ('caus', 'act'),\n",
       "             2501: ('nan', 'sta'),\n",
       "             2514: ('nan', 'sta'),\n",
       "             2516: ('nan', 'sta'),\n",
       "             2526: ('caus', 'act'),\n",
       "             2529: ('nan', 'act'),\n",
       "             2534: ('nan', 'act'),\n",
       "             2550: ('nan', 'sta'),\n",
       "             2553: ('caus', 'act'),\n",
       "             2565: ('caus', 'act'),\n",
       "             2570: ('nan', 'sta'),\n",
       "             2583: ('nan', 'sta'),\n",
       "             2585: ('nan', 'sta'),\n",
       "             2592: ('caus', 'act'),\n",
       "             2602: ('nan', 'sta'),\n",
       "             2604: ('caus', 'sta'),\n",
       "             2618: ('nan', 'sta'),\n",
       "             2630: ('caus', 'sta'),\n",
       "             2638: ('nan', 'act'),\n",
       "             2654: ('nan', 'sta'),\n",
       "             2662: ('nan', 'sta'),\n",
       "             2676: ('nan', 'act'),\n",
       "             2697: ('nan', 'sta'),\n",
       "             2721: ('nan', 'act'),\n",
       "             2733: ('nan', 'act'),\n",
       "             2760: ('nan', 'act'),\n",
       "             2763: ('nan', 'act'),\n",
       "             2775: ('nan', 'sta'),\n",
       "             2784: ('caus', 'act'),\n",
       "             2809: ('nan', 'sta'),\n",
       "             2818: ('caus', 'sta'),\n",
       "             2827: ('nan', 'act'),\n",
       "             2834: ('nan', 'act'),\n",
       "             2838: ('nan', 'sta'),\n",
       "             2846: ('caus', 'sta'),\n",
       "             2850: ('nan', 'act'),\n",
       "             2856: ('nan', 'act'),\n",
       "             2874: ('nan', 'act'),\n",
       "             2890: ('nan', 'act'),\n",
       "             2897: ('caus', 'sta'),\n",
       "             2907: ('caus', 'sta'),\n",
       "             2912: ('nan', 'act'),\n",
       "             2916: ('caus', 'act'),\n",
       "             2943: ('caus', 'act'),\n",
       "             2948: ('nan', 'act'),\n",
       "             2972: ('caus', 'act'),\n",
       "             2982: ('nan', 'sta'),\n",
       "             3004: ('nan', 'act'),\n",
       "             3010: ('caus', 'sta'),\n",
       "             3016: ('nan', 'act'),\n",
       "             3018: ('caus', 'sta'),\n",
       "             3021: ('nan', 'sta'),\n",
       "             3028: ('nan', 'act'),\n",
       "             3033: ('caus', 'act'),\n",
       "             3037: ('nan', 'act'),\n",
       "             3039: ('nan', 'act'),\n",
       "             3043: ('nan', 'act'),\n",
       "             3053: ('nan', 'sta'),\n",
       "             3068: ('caus', 'sta'),\n",
       "             3127: ('nan', 'act'),\n",
       "             3134: ('nan', 'act'),\n",
       "             3139: ('caus', 'act'),\n",
       "             3150: ('nan', 'sta'),\n",
       "             3156: ('nan', 'act'),\n",
       "             3193: ('nan', 'act'),\n",
       "             3199: ('nan', 'act'),\n",
       "             3210: ('caus', 'act'),\n",
       "             3215: ('nan', 'sta'),\n",
       "             3224: ('nan', 'sta'),\n",
       "             3264: ('nan', 'sta'),\n",
       "             3281: ('nan', 'act'),\n",
       "             3320: ('nan', 'act'),\n",
       "             3337: ('nan', 'act'),\n",
       "             3355: ('nan', 'act'),\n",
       "             3362: ('nan', 'act'),\n",
       "             3365: ('caus', 'act'),\n",
       "             3373: ('nan', 'sta'),\n",
       "             3386: ('caus', 'act'),\n",
       "             3407: ('nan', 'act'),\n",
       "             3453: ('nan', 'act'),\n",
       "             3495: ('nan', 'sta'),\n",
       "             3524: ('nan', 'sta'),\n",
       "             3545: ('nan', 'sta'),\n",
       "             3565: ('caus', 'act'),\n",
       "             3591: ('nan', 'act'),\n",
       "             3633: ('nan', 'sta'),\n",
       "             3655: ('nan', 'sta'),\n",
       "             3668: ('nan', 'act'),\n",
       "             3670: ('caus', 'act'),\n",
       "             3675: ('nan', 'act'),\n",
       "             3688: ('caus', 'act'),\n",
       "             3695: ('nan', 'sta'),\n",
       "             3707: ('nan', 'act'),\n",
       "             3715: ('nan', 'act'),\n",
       "             3731: ('caus', 'sta'),\n",
       "             3733: ('caus', 'act'),\n",
       "             3746: ('caus', 'sta'),\n",
       "             3747: ('caus', 'act'),\n",
       "             3755: ('nan', 'act'),\n",
       "             3770: ('nan', 'sta'),\n",
       "             3787: ('caus', 'act'),\n",
       "             3793: ('caus', 'sta'),\n",
       "             3794: ('nan', 'act'),\n",
       "             3798: ('nan', 'sta'),\n",
       "             3828: ('nan', 'sta'),\n",
       "             3853: ('nan', 'act'),\n",
       "             3858: ('nan', 'act'),\n",
       "             3859: ('nan', 'act'),\n",
       "             3893: ('nan', 'act'),\n",
       "             3897: ('caus', 'act'),\n",
       "             3912: ('nan', 'act'),\n",
       "             3933: ('nan', 'act'),\n",
       "             3939: ('nan', 'act'),\n",
       "             3950: ('caus', 'sta'),\n",
       "             3965: ('nan', 'act'),\n",
       "             3971: ('nan', 'act'),\n",
       "             3978: ('nan', 'act'),\n",
       "             3983: ('caus', 'sta'),\n",
       "             3985: ('nan', 'act'),\n",
       "             4004: ('caus', 'sta'),\n",
       "             4007: ('nan', 'act'),\n",
       "             4013: ('nan', 'act'),\n",
       "             4035: ('nan', 'sta'),\n",
       "             4045: ('nan', 'act'),\n",
       "             4051: ('nan', 'sta'),\n",
       "             4059: ('nan', 'sta'),\n",
       "             4074: ('nan', 'act'),\n",
       "             4085: ('caus', 'sta'),\n",
       "             4092: ('nan', 'sta'),\n",
       "             4098: ('caus', 'sta'),\n",
       "             4108: ('nan', 'act'),\n",
       "             4148: ('nan', 'act'),\n",
       "             4165: ('nan', 'act'),\n",
       "             4174: ('nan', 'act'),\n",
       "             4178: ('caus', 'act'),\n",
       "             4209: ('nan', 'act'),\n",
       "             4218: ('caus', 'act'),\n",
       "             4234: ('nan', 'sta'),\n",
       "             4242: ('nan', 'act'),\n",
       "             4250: ('caus', 'sta'),\n",
       "             4266: ('caus', 'sta'),\n",
       "             4271: ('nan', 'sta'),\n",
       "             4281: ('nan', 'sta'),\n",
       "             4283: ('nan', 'act'),\n",
       "             4296: ('nan', 'sta'),\n",
       "             4313: ('nan', 'sta'),\n",
       "             4324: ('nan', 'sta'),\n",
       "             4331: ('nan', 'sta'),\n",
       "             4333: ('nan', 'sta'),\n",
       "             4351: ('nan', 'act'),\n",
       "             4360: ('caus', 'act'),\n",
       "             4371: ('nan', 'sta'),\n",
       "             4375: ('nan', 'act'),\n",
       "             4401: ('caus', 'sta'),\n",
       "             4407: ('caus', 'sta'),\n",
       "             4422: ('nan', 'sta'),\n",
       "             4438: ('caus', 'sta'),\n",
       "             4446: ('caus', 'sta'),\n",
       "             4451: ('nan', 'act'),\n",
       "             4454: ('caus', 'sta'),\n",
       "             4465: ('nan', 'sta'),\n",
       "             4472: ('nan', 'sta'),\n",
       "             4475: ('nan', 'act'),\n",
       "             4481: ('nan', 'act'),\n",
       "             4486: ('nan', 'sta'),\n",
       "             4490: ('nan', 'act'),\n",
       "             4496: ('nan', 'sta'),\n",
       "             4510: ('nan', 'sta'),\n",
       "             4515: ('nan', 'sta'),\n",
       "             4527: ('nan', 'sta'),\n",
       "             4538: ('nan', 'sta'),\n",
       "             4636: ('caus', 'sta'),\n",
       "             4638: ('nan', 'sta'),\n",
       "             4644: ('nan', 'sta'),\n",
       "             4661: ('nan', 'sta'),\n",
       "             4679: ('nan', 'act'),\n",
       "             4725: ('nan', 'act'),\n",
       "             4784: ('nan', 'sta'),\n",
       "             4790: ('nan', 'act'),\n",
       "             4794: ('nan', 'act'),\n",
       "             4926: ('nan', 'sta'),\n",
       "             4930: ('nan', 'act'),\n",
       "             4967: ('nan', 'sta'),\n",
       "             4977: ('nan', 'sta'),\n",
       "             4983: ('nan', 'act'),\n",
       "             4989: ('nan', 'sta'),\n",
       "             4992: ('nan', 'act'),\n",
       "             5000: ('caus', 'sta'),\n",
       "             5004: ('nan', 'sta'),\n",
       "             5013: ('nan', 'sta'),\n",
       "             5019: ('nan', 'act'),\n",
       "             5032: ('nan', 'act'),\n",
       "             5046: ('nan', 'sta'),\n",
       "             5060: ('nan', 'act'),\n",
       "             5072: ('caus', 'sta'),\n",
       "             5074: ('nan', 'act'),\n",
       "             5084: ('nan', 'act'),\n",
       "             5088: ('nan', 'act'),\n",
       "             5093: ('nan', 'sta'),\n",
       "             5116: ('nan', 'act'),\n",
       "             5121: ('nan', 'act'),\n",
       "             5145: ('caus', 'act'),\n",
       "             5153: ('nan', 'sta'),\n",
       "             5156: ('caus', 'act'),\n",
       "             5163: ('caus', 'act'),\n",
       "             5169: ('nan', 'sta'),\n",
       "             5175: ('caus', 'act'),\n",
       "             5179: ('nan', 'sta'),\n",
       "             5182: ('caus', 'act'),\n",
       "             5192: ('caus', 'act'),\n",
       "             5198: ('nan', 'sta'),\n",
       "             5202: ('caus', 'act'),\n",
       "             5206: ('nan', 'sta'),\n",
       "             5209: ('caus', 'act'),\n",
       "             5219: ('caus', 'act'),\n",
       "             5224: ('nan', 'sta'),\n",
       "             5231: ('caus', 'act'),\n",
       "             5235: ('nan', 'sta'),\n",
       "             5238: ('caus', 'act'),\n",
       "             5248: ('caus', 'act'),\n",
       "             5253: ('nan', 'sta'),\n",
       "             5258: ('caus', 'act'),\n",
       "             5262: ('nan', 'sta'),\n",
       "             5265: ('caus', 'act'),\n",
       "             5274: ('caus', 'act'),\n",
       "             5279: ('nan', 'sta'),\n",
       "             5286: ('caus', 'act'),\n",
       "             5290: ('nan', 'sta'),\n",
       "             5293: ('caus', 'act'),\n",
       "             5302: ('caus', 'act'),\n",
       "             5307: ('nan', 'sta'),\n",
       "             5312: ('caus', 'act'),\n",
       "             5316: ('nan', 'sta'),\n",
       "             5319: ('caus', 'act'),\n",
       "             5325: ('caus', 'act'),\n",
       "             5330: ('nan', 'sta'),\n",
       "             5337: ('caus', 'act'),\n",
       "             5341: ('nan', 'sta'),\n",
       "             5344: ('caus', 'act'),\n",
       "             5354: ('caus', 'act'),\n",
       "             5359: ('nan', 'sta'),\n",
       "             5364: ('caus', 'act'),\n",
       "             5377: ('caus', 'act'),\n",
       "             5387: ('caus', 'act'),\n",
       "             5391: ('nan', 'sta'),\n",
       "             5404: ('caus', 'sta'),\n",
       "             5427: ('nan', 'sta'),\n",
       "             5434: ('caus', 'sta'),\n",
       "             5454: ('nan', 'act'),\n",
       "             5460: ('nan', 'act'),\n",
       "             5464: ('nan', 'act'),\n",
       "             5468: ('nan', 'sta'),\n",
       "             5471: ('nan', 'sta'),\n",
       "             5480: ('nan', 'sta'),\n",
       "             5485: ('nan', 'act'),\n",
       "             5489: ('nan', 'act'),\n",
       "             5506: ('nan', 'act'),\n",
       "             5516: ('nan', 'sta'),\n",
       "             5532: ('nan', 'act'),\n",
       "             5536: ('nan', 'act'),\n",
       "             5540: ('nan', 'act'),\n",
       "             5552: ('nan', 'act'),\n",
       "             5556: ('caus', 'sta'),\n",
       "             5577: ('nan', 'act'),\n",
       "             5581: ('nan', 'act'),\n",
       "             5583: ('nan', 'act'),\n",
       "             5587: ('nan', 'act'),\n",
       "             5591: ('nan', 'act'),\n",
       "             5615: ('nan', 'act'),\n",
       "             5618: ('caus', 'sta'),\n",
       "             5661: ('nan', 'act'),\n",
       "             5674: ('nan', 'sta'),\n",
       "             5684: ('nan', 'sta'),\n",
       "             5694: ('nan', 'sta'),\n",
       "             5697: ('caus', 'act'),\n",
       "             5699: ('nan', 'act'),\n",
       "             5702: ('nan', 'act'),\n",
       "             5708: ('nan', 'sta'),\n",
       "             5715: ('nan', 'sta'),\n",
       "             5717: ('nan', 'sta'),\n",
       "             5722: ('nan', 'act'),\n",
       "             5726: ('caus', 'sta'),\n",
       "             5731: ('nan', 'act'),\n",
       "             5741: ('nan', 'sta'),\n",
       "             5746: ('nan', 'sta'),\n",
       "             5748: ('nan', 'act'),\n",
       "             5752: ('nan', 'sta'),\n",
       "             5763: ('nan', 'sta'),\n",
       "             5785: ('nan', 'sta'),\n",
       "             5816: ('nan', 'act'),\n",
       "             5821: ('nan', 'act'),\n",
       "             5824: ('nan', 'act'),\n",
       "             5834: ('nan', 'act'),\n",
       "             5838: ('caus', 'sta'),\n",
       "             5847: ('caus', 'sta'),\n",
       "             5849: ('nan', 'act'),\n",
       "             5851: ('caus', 'act'),\n",
       "             5856: ('caus', 'act'),\n",
       "             5867: ('nan', 'act'),\n",
       "             5898: ('nan', 'act'),\n",
       "             5910: ('nan', 'sta'),\n",
       "             5927: ('nan', 'act'),\n",
       "             5933: ('nan', 'act'),\n",
       "             5944: ('nan', 'act'),\n",
       "             5947: ('nan', 'sta'),\n",
       "             5955: ('caus', 'act'),\n",
       "             5960: ('nan', 'sta'),\n",
       "             5963: ('nan', 'sta'),\n",
       "             5970: ('nan', 'sta'),\n",
       "             5973: ('nan', 'sta'),\n",
       "             5991: ('nan', 'sta'),\n",
       "             5996: ('nan', 'act'),\n",
       "             6002: ('nan', 'sta'),\n",
       "             6040: ('caus', 'act'),\n",
       "             6045: ('nan', 'sta'),\n",
       "             6069: ('nan', 'act'),\n",
       "             6092: ('nan', 'sta'),\n",
       "             6098: ('nan', 'sta'),\n",
       "             6118: ('nan', 'act'),\n",
       "             6126: ('caus', 'act'),\n",
       "             6130: ('nan', 'sta'),\n",
       "             6151: ('nan', 'sta'),\n",
       "             6153: ('caus', 'sta'),\n",
       "             6160: ('caus', 'sta'),\n",
       "             6180: ('nan', 'act'),\n",
       "             6192: ('caus', 'sta'),\n",
       "             6197: ('nan', 'act'),\n",
       "             6199: ('nan', 'sta'),\n",
       "             6213: ('nan', 'sta'),\n",
       "             6229: ('nan', 'act'),\n",
       "             6266: ('nan', 'act'),\n",
       "             6279: ('nan', 'act'),\n",
       "             6287: ('nan', 'act'),\n",
       "             6319: ('nan', 'act'),\n",
       "             6321: ('nan', 'act'),\n",
       "             6327: ('nan', 'act'),\n",
       "             6339: ('nan', 'sta'),\n",
       "             6343: ('nan', 'act'),\n",
       "             6361: ('caus', 'sta'),\n",
       "             6397: ('nan', 'act'),\n",
       "             6403: ('nan', 'sta'),\n",
       "             6409: ('nan', 'act'),\n",
       "             6411: ('caus', 'sta'),\n",
       "             6423: ('nan', 'act'),\n",
       "             6425: ('caus', 'sta'),\n",
       "             6435: ('nan', 'act'),\n",
       "             6438: ('nan', 'sta'),\n",
       "             6442: ('nan', 'act'),\n",
       "             6470: ('nan', 'sta'),\n",
       "             6476: ('caus', 'act'),\n",
       "             6487: ('caus', 'act'),\n",
       "             6498: ('nan', 'act'),\n",
       "             6500: ('caus', 'act'),\n",
       "             6509: ('caus', 'act'),\n",
       "             6521: ('caus', 'act'),\n",
       "             6532: ('nan', 'act'),\n",
       "             6538: ('nan', 'act'),\n",
       "             6540: ('nan', 'act'),\n",
       "             6560: ('caus', 'act'),\n",
       "             6573: ('nan', 'act'),\n",
       "             6593: ('caus', 'sta'),\n",
       "             6599: ('nan', 'act'),\n",
       "             6604: ('caus', 'sta'),\n",
       "             6611: ('caus', 'sta'),\n",
       "             6614: ('nan', 'act'),\n",
       "             6619: ('caus', 'sta'),\n",
       "             6638: ('caus', 'sta'),\n",
       "             6645: ('nan', 'act'),\n",
       "             6653: ('nan', 'act'),\n",
       "             6661: ('nan', 'act'),\n",
       "             6668: ('caus', 'sta'),\n",
       "             6675: ('nan', 'sta'),\n",
       "             6684: ('nan', 'act'),\n",
       "             6686: ('nan', 'sta'),\n",
       "             6695: ('nan', 'act'),\n",
       "             6700: ('caus', 'sta'),\n",
       "             6704: ('nan', 'act'),\n",
       "             6714: ('nan', 'act'),\n",
       "             6719: ('caus', 'sta'),\n",
       "             6725: ('nan', 'sta'),\n",
       "             6733: ('nan', 'act'),\n",
       "             6735: ('nan', 'sta'),\n",
       "             6740: ('nan', 'act'),\n",
       "             6744: ('nan', 'sta'),\n",
       "             6746: ('caus', 'act'),\n",
       "             6751: ('nan', 'act'),\n",
       "             6757: ('nan', 'act'),\n",
       "             6763: ('nan', 'act'),\n",
       "             6766: ('nan', 'act'),\n",
       "             6769: ('nan', 'sta'),\n",
       "             6780: ('nan', 'act'),\n",
       "             6785: ('caus', 'act'),\n",
       "             6790: ('caus', 'sta'),\n",
       "             6798: ('nan', 'sta'),\n",
       "             6800: ('nan', 'act'),\n",
       "             6805: ('nan', 'sta'),\n",
       "             6807: ('nan', 'sta'),\n",
       "             6809: ('nan', 'act'),\n",
       "             6811: ('caus', 'sta'),\n",
       "             6826: ('caus', 'sta'),\n",
       "             6838: ('caus', 'sta'),\n",
       "             6862: ('nan', 'sta'),\n",
       "             6866: ('nan', 'act'),\n",
       "             6869: ('nan', 'sta'),\n",
       "             6877: ('nan', 'sta'),\n",
       "             6880: ('nan', 'act'),\n",
       "             6884: ('nan', 'sta'),\n",
       "             6887: ('nan', 'sta'),\n",
       "             6894: ('nan', 'act'),\n",
       "             6896: ('caus', 'sta'),\n",
       "             6907: ('nan', 'act'),\n",
       "             6913: ('nan', 'act'),\n",
       "             6919: ('nan', 'act'),\n",
       "             6931: ('nan', 'act'),\n",
       "             6942: ('nan', 'sta'),\n",
       "             6945: ('nan', 'act'),\n",
       "             6948: ('nan', 'sta'),\n",
       "             6957: ('nan', 'act'),\n",
       "             6974: ('nan', 'act'),\n",
       "             6977: ('caus', 'sta'),\n",
       "             7047: ('nan', 'act'),\n",
       "             7057: ('nan', 'act'),\n",
       "             7065: ('nan', 'sta'),\n",
       "             7071: ('caus', 'sta'),\n",
       "             7085: ('nan', 'sta'),\n",
       "             7091: ('caus', 'sta'),\n",
       "             7100: ('nan', 'act'),\n",
       "             7106: ('nan', 'sta'),\n",
       "             7115: ('nan', 'act'),\n",
       "             7122: ('caus', 'sta'),\n",
       "             7127: ('nan', 'sta'),\n",
       "             7134: ('nan', 'act'),\n",
       "             7140: ('nan', 'act'),\n",
       "             7148: ('nan', 'act'),\n",
       "             7155: ('caus', 'sta'),\n",
       "             7162: ('nan', 'act'),\n",
       "             7179: ('nan', 'act'),\n",
       "             7186: ('nan', 'act'),\n",
       "             7189: ('nan', 'act'),\n",
       "             7191: ('nan', 'act'),\n",
       "             7199: ('nan', 'act'),\n",
       "             7203: ('nan', 'act'),\n",
       "             7211: ('nan', 'act'),\n",
       "             7216: ('caus', 'sta'),\n",
       "             7225: ('nan', 'act'),\n",
       "             7235: ('nan', 'act'),\n",
       "             7239: ('nan', 'sta'),\n",
       "             7245: ('nan', 'sta'),\n",
       "             7263: ('nan', 'act'),\n",
       "             7273: ('nan', 'act'),\n",
       "             7277: ('nan', 'sta'),\n",
       "             7279: ('nan', 'sta'),\n",
       "             7282: ('nan', 'act'),\n",
       "             7301: ('nan', 'act'),\n",
       "             7325: ('nan', 'sta'),\n",
       "             7339: ('nan', 'act'),\n",
       "             7348: ('nan', 'sta'),\n",
       "             7351: ('caus', 'sta'),\n",
       "             7357: ('caus', 'sta'),\n",
       "             7363: ('nan', 'sta'),\n",
       "             7368: ('nan', 'act'),\n",
       "             7372: ('nan', 'act'),\n",
       "             7378: ('nan', 'sta'),\n",
       "             7391: ('nan', 'sta'),\n",
       "             7398: ('caus', 'sta'),\n",
       "             7400: ('caus', 'sta'),\n",
       "             7406: ('caus', 'sta'),\n",
       "             7412: ('nan', 'act'),\n",
       "             7414: ('caus', 'act'),\n",
       "             7430: ('nan', 'sta'),\n",
       "             7439: ('caus', 'sta'),\n",
       "             7456: ('nan', 'sta'),\n",
       "             7461: ('nan', 'act'),\n",
       "             7469: ('nan', 'act'),\n",
       "             7479: ('nan', 'act'),\n",
       "             7497: ('nan', 'sta'),\n",
       "             7536: ('nan', 'sta'),\n",
       "             7562: ('caus', 'sta'),\n",
       "             7564: ('nan', 'act'),\n",
       "             7571: ('nan', 'act'),\n",
       "             7583: ('caus', 'sta'),\n",
       "             7590: ('nan', 'sta'),\n",
       "             7596: ('nan', 'sta'),\n",
       "             7598: ('nan', 'sta'),\n",
       "             7605: ('nan', 'act'),\n",
       "             7623: ('nan', 'act'),\n",
       "             7630: ('nan', 'sta'),\n",
       "             7634: ('nan', 'act'),\n",
       "             7643: ('nan', 'act'),\n",
       "             7648: ('caus', 'act'),\n",
       "             7661: ('nan', 'sta'),\n",
       "             7666: ('caus', 'sta'),\n",
       "             7669: ('caus', 'sta'),\n",
       "             7677: ('caus', 'act'),\n",
       "             7679: ('caus', 'sta'),\n",
       "             7686: ('caus', 'act'),\n",
       "             7704: ('caus', 'sta'),\n",
       "             7706: ('nan', 'act'),\n",
       "             7709: ('nan', 'act'),\n",
       "             7715: ('caus', 'sta'),\n",
       "             7749: ('nan', 'act'),\n",
       "             7810: ('nan', 'sta'),\n",
       "             7819: ('caus', 'act'),\n",
       "             7822: ('nan', 'sta'),\n",
       "             7830: ('nan', 'sta'),\n",
       "             7840: ('nan', 'act'),\n",
       "             7843: ('nan', 'act'),\n",
       "             7847: ('nan', 'act'),\n",
       "             7853: ('nan', 'act'),\n",
       "             7862: ('caus', 'sta'),\n",
       "             7870: ('caus', 'sta'),\n",
       "             7877: ('nan', 'act'),\n",
       "             7881: ('nan', 'act'),\n",
       "             7885: ('nan', 'act'),\n",
       "             7887: ('nan', 'act'),\n",
       "             7890: ('nan', 'act'),\n",
       "             7899: ('nan', 'act'),\n",
       "             7907: ('nan', 'act'),\n",
       "             7916: ('caus', 'sta'),\n",
       "             7923: ('caus', 'sta'),\n",
       "             7930: ('nan', 'act'),\n",
       "             7933: ('caus', 'sta'),\n",
       "             7942: ('nan', 'act'),\n",
       "             7944: ('caus', 'sta'),\n",
       "             7949: ('nan', 'sta'),\n",
       "             7955: ('nan', 'act'),\n",
       "             7957: ('nan', 'act'),\n",
       "             7963: ('nan', 'act'),\n",
       "             7969: ('nan', 'act'),\n",
       "             7971: ('nan', 'act'),\n",
       "             7985: ('nan', 'sta'),\n",
       "             7997: ('nan', 'act'),\n",
       "             8003: ('nan', 'sta'),\n",
       "             8016: ('nan', 'act'),\n",
       "             8019: ('nan', 'sta'),\n",
       "             8026: ('nan', 'act'),\n",
       "             8035: ('nan', 'act'),\n",
       "             8051: ('nan', 'act'),\n",
       "             8062: ('nan', 'act'),\n",
       "             8065: ('nan', 'act'),\n",
       "             8069: ('nan', 'sta'),\n",
       "             8071: ('nan', 'act'),\n",
       "             8076: ('nan', 'act'),\n",
       "             8088: ('nan', 'act'),\n",
       "             8091: ('caus', 'act'),\n",
       "             8094: ('nan', 'act'),\n",
       "             8096: ('caus', 'sta'),\n",
       "             8102: ('nan', 'act'),\n",
       "             8106: ('nan', 'sta'),\n",
       "             8120: ('nan', 'sta'),\n",
       "             8123: ('caus', 'act'),\n",
       "             8131: ('nan', 'act'),\n",
       "             8135: ('nan', 'act'),\n",
       "             8140: ('caus', 'act'),\n",
       "             8146: ('nan', 'act'),\n",
       "             8149: ('nan', 'act'),\n",
       "             8165: ('nan', 'sta'),\n",
       "             8170: ('nan', 'act'),\n",
       "             8172: ('nan', 'act'),\n",
       "             8177: ('nan', 'sta'),\n",
       "             8179: ('nan', 'act'),\n",
       "             8185: ('nan', 'act'),\n",
       "             8190: ('nan', 'sta'),\n",
       "             8195: ('nan', 'act'),\n",
       "             8198: ('nan', 'act'),\n",
       "             8218: ('caus', 'act'),\n",
       "             8232: ('nan', 'act'),\n",
       "             8239: ('caus', 'sta'),\n",
       "             8244: ('nan', 'sta'),\n",
       "             8259: ('nan', 'act'),\n",
       "             8262: ('nan', 'act'),\n",
       "             8265: ('nan', 'act'),\n",
       "             8275: ('caus', 'act'),\n",
       "             8286: ('nan', 'act'),\n",
       "             8291: ('nan', 'act'),\n",
       "             8306: ('caus', 'sta'),\n",
       "             8314: ('nan', 'act'),\n",
       "             8316: ('caus', 'sta'),\n",
       "             8318: ('nan', 'act'),\n",
       "             8324: ('caus', 'sta'),\n",
       "             8327: ('nan', 'act'),\n",
       "             8330: ('nan', 'act'),\n",
       "             8336: ('nan', 'act'),\n",
       "             8338: ('nan', 'act'),\n",
       "             8344: ('nan', 'act'),\n",
       "             8351: ('nan', 'act'),\n",
       "             8357: ('nan', 'act'),\n",
       "             8359: ('nan', 'act'),\n",
       "             8361: ('nan', 'act'),\n",
       "             8365: ('nan', 'act'),\n",
       "             8370: ('nan', 'act'),\n",
       "             8378: ('nan', 'act'),\n",
       "             8380: ('caus', 'sta'),\n",
       "             8386: ('nan', 'act'),\n",
       "             8393: ('nan', 'act'),\n",
       "             8402: ('nan', 'act'),\n",
       "             8404: ('caus', 'sta'),\n",
       "             8410: ('nan', 'act'),\n",
       "             8414: ('caus', 'sta'),\n",
       "             8416: ('nan', 'act'),\n",
       "             8421: ('nan', 'act'),\n",
       "             8425: ('nan', 'act'),\n",
       "             8435: ('nan', 'sta'),\n",
       "             8440: ('nan', 'sta'),\n",
       "             8443: ('nan', 'act'),\n",
       "             8447: ('nan', 'act'),\n",
       "             8451: ('nan', 'act'),\n",
       "             8461: ('nan', 'sta'),\n",
       "             8463: ('caus', 'sta'),\n",
       "             8468: ('nan', 'act'),\n",
       "             8472: ('nan', 'act'),\n",
       "             8478: ('nan', 'sta'),\n",
       "             8487: ('nan', 'act'),\n",
       "             8491: ('nan', 'act'),\n",
       "             8496: ('nan', 'act'),\n",
       "             8498: ('nan', 'act'),\n",
       "             8500: ('nan', 'sta'),\n",
       "             8522: ('nan', 'act'),\n",
       "             8526: ('nan', 'act'),\n",
       "             8532: ('nan', 'act'),\n",
       "             8536: ('caus', 'act'),\n",
       "             8539: ('nan', 'sta'),\n",
       "             8542: ('nan', 'act'),\n",
       "             8553: ('nan', 'act'),\n",
       "             8565: ('nan', 'sta'),\n",
       "             8567: ('caus', 'act'),\n",
       "             8572: ('nan', 'act'),\n",
       "             8586: ('nan', 'act'),\n",
       "             8591: ('nan', 'act'),\n",
       "             8596: ('nan', 'act'),\n",
       "             8597: ('nan', 'act'),\n",
       "             8600: ('nan', 'act'),\n",
       "             8603: ('nan', 'act'),\n",
       "             8605: ('nan', 'sta'),\n",
       "             8607: ('nan', 'act'),\n",
       "             8622: ('nan', 'act'),\n",
       "             8624: ('caus', 'sta'),\n",
       "             8634: ('caus', 'act'),\n",
       "             8653: ('nan', 'act'),\n",
       "             8665: ('nan', 'act'),\n",
       "             8669: ('nan', 'act'),\n",
       "             8690: ('caus', 'act'),\n",
       "             8695: ('caus', 'sta'),\n",
       "             8709: ('caus', 'act'),\n",
       "             8714: ('nan', 'act'),\n",
       "             8717: ('nan', 'act'),\n",
       "             8723: ('nan', 'act'),\n",
       "             8724: ('nan', 'act'),\n",
       "             8725: ('nan', 'act'),\n",
       "             8732: ('caus', 'sta'),\n",
       "             8738: ('nan', 'sta'),\n",
       "             8748: ('nan', 'act'),\n",
       "             8756: ('nan', 'act'),\n",
       "             8757: ('nan', 'act'),\n",
       "             8758: ('caus', 'sta'),\n",
       "             8776: ('caus', 'sta'),\n",
       "             8795: ('caus', 'act'),\n",
       "             8797: ('caus', 'sta'),\n",
       "             8804: ('nan', 'sta'),\n",
       "             8806: ('caus', 'act'),\n",
       "             8811: ('nan', 'act'),\n",
       "             8820: ('nan', 'sta'),\n",
       "             8831: ('nan', 'act'),\n",
       "             8839: ('nan', 'act'),\n",
       "             8848: ('nan', 'act'),\n",
       "             8867: ('nan', 'sta'),\n",
       "             8876: ('nan', 'act'),\n",
       "             8889: ('nan', 'sta'),\n",
       "             8892: ('nan', 'act'),\n",
       "             8895: ('caus', 'act'),\n",
       "             8910: ('nan', 'act'),\n",
       "             8918: ('nan', 'act'),\n",
       "             8921: ('nan', 'act'),\n",
       "             8925: ('nan', 'act'),\n",
       "             8932: ('nan', 'act'),\n",
       "             8938: ('nan', 'act'),\n",
       "             8985: ('nan', 'sta'),\n",
       "             8998: ('nan', 'sta'),\n",
       "             9018: ('nan', 'sta'),\n",
       "             9021: ('nan', 'act'),\n",
       "             9030: ('nan', 'sta'),\n",
       "             9039: ('nan', 'sta'),\n",
       "             9044: ('caus', 'act'),\n",
       "             9057: ('nan', 'sta'),\n",
       "             9061: ('nan', 'act'),\n",
       "             9066: ('nan', 'sta'),\n",
       "             9075: ('nan', 'sta'),\n",
       "             9077: ('nan', 'sta'),\n",
       "             9081: ('nan', 'sta'),\n",
       "             9090: ('nan', 'act'),\n",
       "             9105: ('nan', 'act'),\n",
       "             9112: ('nan', 'act'),\n",
       "             9118: ('nan', 'sta'),\n",
       "             9135: ('nan', 'act'),\n",
       "             9139: ('nan', 'sta'),\n",
       "             9144: ('nan', 'sta'),\n",
       "             9146: ('nan', 'sta'),\n",
       "             9149: ('nan', 'act'),\n",
       "             9151: ('nan', 'sta'),\n",
       "             9155: ('nan', 'act'),\n",
       "             9162: ('nan', 'sta'),\n",
       "             9172: ('nan', 'act'),\n",
       "             9173: ('nan', 'sta'),\n",
       "             ...})"
      ]
     },
     "execution_count": 53,
     "metadata": {},
     "output_type": "execute_result"
    }
   ],
   "source": [
    "word_dict"
   ]
  },
  {
   "cell_type": "markdown",
   "metadata": {},
   "source": [
    "#### Update 1\n",
    "\n",
    "The next step is to add the remaining verbs (6 verbs) to each of this dictionaries. We therefore need to retrieve the word nodes for each of the verb+stem combinations and add the annotation to the dictionaries. We have only looked at these particular verbs in the context of Lev 17-26 so we will restrict the annotation to the few cases in Leviticus:"
   ]
  },
  {
   "cell_type": "code",
   "execution_count": 54,
   "metadata": {
    "scrolled": true
   },
   "outputs": [
    {
     "data": {
      "text/plain": [
       "{'KRT[_nif': ('caus', 'sta'),\n",
       " 'VM>[_hit': ('caus', 'sta'),\n",
       " 'QDC[_hit': ('caus', 'sta'),\n",
       " 'JLD[_nif': ('nan', 'sta'),\n",
       " 'HLK[_hit': ('nan', 'act'),\n",
       " 'CLX[_hif': ('caus', 'act')}"
      ]
     },
     "execution_count": 54,
     "metadata": {},
     "output_type": "execute_result"
    }
   ],
   "source": [
    "annotation"
   ]
  },
  {
   "cell_type": "code",
   "execution_count": 55,
   "metadata": {},
   "outputs": [
    {
     "name": "stdout",
     "output_type": "stream",
     "text": [
      "  1.64s 936 results\n"
     ]
    }
   ],
   "source": [
    "query = '''\n",
    "book book=Leviticus\n",
    " chapter chapter=17|18|19|20|21|22|23|24|25|26\n",
    "  clause\n",
    "   phrase function=Pred|PreO|PreS|PreC|PtcO\n",
    "     word pdp=verb\n",
    "'''\n",
    "Lev_verbs = A.search(query)"
   ]
  },
  {
   "cell_type": "code",
   "execution_count": 56,
   "metadata": {},
   "outputs": [
    {
     "name": "stdout",
     "output_type": "stream",
     "text": [
      "  1.50s 936 results\n"
     ]
    }
   ],
   "source": [
    "#Extract lexemes from dictionary\n",
    "lexemes = [getLexStem(n)[0] for n in annotation]\n",
    "\n",
    "#Using the previously written query to extract these particular lexemes from Lev 17-26:\n",
    "results = A.search(query.format('|'.join(lexemes)))"
   ]
  },
  {
   "cell_type": "markdown",
   "metadata": {},
   "source": [
    "Having found all instances of the five lexemes in Lev 17-26 we now check whether the lexemes are of the right stem. If so, the word node and the annotation are added to the dictionary:"
   ]
  },
  {
   "cell_type": "code",
   "execution_count": 57,
   "metadata": {},
   "outputs": [
    {
     "name": "stdout",
     "output_type": "stream",
     "text": [
      "Updates made:\n",
      "\n",
      "**************************************\n",
      "\n",
      "63086 (KRT[ nif): ('caus', 'sta')\n",
      "63202 (KRT[ nif): ('caus', 'sta')\n",
      "63350 (KRT[ nif): ('caus', 'sta')\n",
      "63690 (VM>[ hit): ('caus', 'sta')\n",
      "63793 (KRT[ nif): ('caus', 'sta')\n",
      "63818 (VM>[ hit): ('caus', 'sta')\n",
      "63923 (KRT[ nif): ('caus', 'sta')\n",
      "64554 (QDC[ hit): ('caus', 'sta')\n",
      "64736 (KRT[ nif): ('caus', 'sta')\n",
      "64767 (KRT[ nif): ('caus', 'sta')\n",
      "64984 (VM>[ hit): ('caus', 'sta')\n",
      "65022 (VM>[ hit): ('caus', 'sta')\n",
      "65024 (VM>[ hit): ('caus', 'sta')\n",
      "65160 (VM>[ hit): ('caus', 'sta')\n",
      "65411 (KRT[ nif): ('caus', 'sta')\n",
      "65850 (JLD[ nif): ('nan', 'sta')\n",
      "66467 (KRT[ nif): ('caus', 'sta')\n",
      "68317 (HLK[ hit): ('nan', 'act')\n",
      "68507 (CLX[ hif): ('caus', 'act')\n",
      "\n",
      "**************************************\n"
     ]
    }
   ],
   "source": [
    "print('Updates made:\\n\\n**************************************\\n')\n",
    "\n",
    "for r in results:\n",
    "    lex = F.lex.v(r[4])\n",
    "    stem = F.vs.v(r[4])\n",
    "    \n",
    "    lex_stem = f'{lex}_{stem}'\n",
    "    \n",
    "    if lex_stem in annotation:\n",
    "        \n",
    "        #We add the word node and annotation to the dictionary:\n",
    "        word_dict[r[4]] = annotation[lex_stem]\n",
    "        print(f'{r[4]} ({lex} {stem}): {annotation[lex_stem]}')\n",
    "        \n",
    "print('\\n**************************************')"
   ]
  },
  {
   "cell_type": "markdown",
   "metadata": {},
   "source": [
    "#### Update 2\n",
    "\n",
    "Next, we update both dictionaries (\"dyna\" and \"caus\") with the changes made previously:"
   ]
  },
  {
   "cell_type": "code",
   "execution_count": 58,
   "metadata": {
    "scrolled": true
   },
   "outputs": [
    {
     "data": {
      "text/plain": [
       "{67309: ('nan', 'act'),\n",
       " 67327: ('nan', 'act'),\n",
       " 68444: ('nan', 'act'),\n",
       " 68816: ('nan', 'act'),\n",
       " 65642: ('caus', 'sta'),\n",
       " 63390: ('nan', 'sta'),\n",
       " 63916: ('nan', 'sta'),\n",
       " 64031: ('caus', 'sta'),\n",
       " 64067: ('nan', 'sta'),\n",
       " 64745: ('nan', 'sta'),\n",
       " 64786: ('nan', 'sta'),\n",
       " 64797: ('nan', 'sta'),\n",
       " 65525: ('nan', 'sta'),\n",
       " 67035: ('nan', 'sta'),\n",
       " 67062: ('caus', 'sta'),\n",
       " 67069: ('caus', 'sta'),\n",
       " 67109: ('caus', 'sta'),\n",
       " 67113: ('caus', 'sta'),\n",
       " 65085: ('nan', 'sta'),\n",
       " 68156: ('nan', 'act'),\n",
       " 68292: ('nan', 'act'),\n",
       " 64300: ('nan', 'act'),\n",
       " 68845: ('nan', 'act'),\n",
       " 68882: ('nan', 'act'),\n",
       " 64160: ('nan', 'act'),\n",
       " 64167: ('nan', 'act'),\n",
       " 64231: ('nan', 'act')}"
      ]
     },
     "execution_count": 58,
     "metadata": {},
     "output_type": "execute_result"
    }
   ],
   "source": [
    "changes"
   ]
  },
  {
   "cell_type": "markdown",
   "metadata": {},
   "source": [
    "We update the dictionary with the changes:"
   ]
  },
  {
   "cell_type": "code",
   "execution_count": 59,
   "metadata": {},
   "outputs": [],
   "source": [
    "for w in changes:\n",
    "    word_dict[w] = changes[w]"
   ]
  },
  {
   "cell_type": "markdown",
   "metadata": {},
   "source": [
    "Finally, we transform the dictionary into two dictionaries, containing either of the two annotations. This is a necessary step for exporting as TF-features:"
   ]
  },
  {
   "cell_type": "code",
   "execution_count": 60,
   "metadata": {},
   "outputs": [],
   "source": [
    "caus = {}\n",
    "dyna = {}\n",
    "\n",
    "for w in word_dict:\n",
    "    if word_dict[w][0] != 'nan':\n",
    "        caus[w] = word_dict[w][0]\n",
    "    dyna[w] = word_dict[w][1]"
   ]
  },
  {
   "cell_type": "markdown",
   "metadata": {},
   "source": [
    "### TF export\n",
    "\n",
    "We can now export the *Aktionsart* annotations as TF-features. First, we assign TF version names and paths to ensure the right storage of the features:"
   ]
  },
  {
   "cell_type": "code",
   "execution_count": 61,
   "metadata": {},
   "outputs": [],
   "source": [
    "if 'SCRIPT' not in locals():\n",
    "    SCRIPT = False\n",
    "    FORCE = True\n",
    "    CORE_NAME = 'bhsa'\n",
    "    NAME = 'Aktionsart'\n",
    "    VERSION= 'c'\n",
    "    CORE_MODULE = 'core'"
   ]
  },
  {
   "cell_type": "code",
   "execution_count": 62,
   "metadata": {},
   "outputs": [],
   "source": [
    "repoBase = os.path.expanduser('~/text-fabric-data/etcbc')\n",
    "coreTf = '{}/{}/tf/{}'.format(repoBase, CORE_NAME, VERSION) #Path of the core TF datasets\n",
    "thisTf = '~Feature_sets/{}/tf/{}'.format(NAME, VERSION) #Path of actor datasets"
   ]
  },
  {
   "cell_type": "markdown",
   "metadata": {},
   "source": [
    "#### Causation"
   ]
  },
  {
   "cell_type": "code",
   "execution_count": 63,
   "metadata": {},
   "outputs": [
    {
     "data": {
      "text/plain": [
       "True"
      ]
     },
     "execution_count": 63,
     "metadata": {},
     "output_type": "execute_result"
    }
   ],
   "source": [
    "nodeFeatures = dict(caus=caus)\n",
    "metaData = dict(\n",
    "    caus=dict(\n",
    "        valueType='str',\n",
    "        description=\"Causation annotations for verbs\",\n",
    "        coreData='BHSA',\n",
    "        coreVersion=VERSION\n",
    "    )\n",
    ")\n",
    "TF.save(nodeFeatures=nodeFeatures, metaData=metaData, module='c')"
   ]
  },
  {
   "cell_type": "markdown",
   "metadata": {},
   "source": [
    "#### Dynamicity"
   ]
  },
  {
   "cell_type": "code",
   "execution_count": 64,
   "metadata": {},
   "outputs": [
    {
     "data": {
      "text/plain": [
       "True"
      ]
     },
     "execution_count": 64,
     "metadata": {},
     "output_type": "execute_result"
    }
   ],
   "source": [
    "nodeFeatures = dict(dyna=dyna)\n",
    "metaData = dict(\n",
    "    dyna=dict(\n",
    "        valueType='str',\n",
    "        description=\"Dynamicity annotations for verbs\",\n",
    "        coreData='BHSA',\n",
    "        coreVersion=VERSION\n",
    "    )\n",
    ")\n",
    "TF.save(nodeFeatures=nodeFeatures, metaData=metaData, module='c')"
   ]
  }
 ],
 "metadata": {
  "kernelspec": {
   "display_name": "Python 3",
   "language": "python",
   "name": "python3"
  },
  "language_info": {
   "codemirror_mode": {
    "name": "ipython",
    "version": 3
   },
   "file_extension": ".py",
   "mimetype": "text/x-python",
   "name": "python",
   "nbconvert_exporter": "python",
   "pygments_lexer": "ipython3",
   "version": "3.7.3"
  }
 },
 "nbformat": 4,
 "nbformat_minor": 2
}

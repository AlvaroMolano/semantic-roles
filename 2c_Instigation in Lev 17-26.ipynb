{
 "cells": [
  {
   "cell_type": "markdown",
   "metadata": {},
   "source": [
    "# Instigation in Lev 17-26"
   ]
  },
  {
   "cell_type": "code",
   "execution_count": 1,
   "metadata": {},
   "outputs": [],
   "source": [
    "#Dataset path\n",
    "PATH = 'datasets/'\n",
    "\n",
    "from IPython.display import clear_output\n",
    "\n",
    "import collections\n",
    "import pandas as pd\n",
    "import numpy as np\n",
    "\n",
    "from tf.app import use"
   ]
  },
  {
   "cell_type": "code",
   "execution_count": 3,
   "metadata": {
    "scrolled": false
   },
   "outputs": [
    {
     "name": "stdout",
     "output_type": "stream",
     "text": [
      "Using TF-app in C:\\Users\\Ejer/text-fabric-data/annotation/app-bhsa/code:\n",
      "\trv1.3=#f38d56bd757e87fe12d0c125e1ca52ee4376127b offline under ~/text-fabric-data (local release)\n",
      "rate limit is 60 requests per hour, with 60 left for this hour\n"
     ]
    },
    {
     "name": "stderr",
     "output_type": "stream",
     "text": [
      "To increase the rate,see https://annotation.github.io/text-fabric/Api/Repo/\n"
     ]
    },
    {
     "name": "stdout",
     "output_type": "stream",
     "text": [
      "\tconnecting to online GitHub repo etcbc/bhsa ... connected\n",
      "Using data in C:\\Users\\Ejer/text-fabric-data/etcbc/bhsa/tf/c:\n",
      "\trv1.6=#bac4a9f5a2bbdede96ba6caea45e762fe88f88c5 (latest release)\n",
      "rate limit is 60 requests per hour, with 55 left for this hour\n"
     ]
    },
    {
     "name": "stderr",
     "output_type": "stream",
     "text": [
      "To increase the rate,see https://annotation.github.io/text-fabric/Api/Repo/\n"
     ]
    },
    {
     "name": "stdout",
     "output_type": "stream",
     "text": [
      "\tconnecting to online GitHub repo etcbc/phono ... connected\n",
      "Using data in C:\\Users\\Ejer/text-fabric-data/etcbc/phono/tf/c:\n",
      "\tr1.2=#1ac68e976ee4a7f23eb6bb4c6f401a033d0ec169 (latest release)\n",
      "rate limit is 60 requests per hour, with 50 left for this hour\n"
     ]
    },
    {
     "name": "stderr",
     "output_type": "stream",
     "text": [
      "To increase the rate,see https://annotation.github.io/text-fabric/Api/Repo/\n"
     ]
    },
    {
     "name": "stdout",
     "output_type": "stream",
     "text": [
      "\tconnecting to online GitHub repo etcbc/parallels ... connected\n",
      "Using data in C:\\Users\\Ejer/text-fabric-data/etcbc/parallels/tf/c:\n",
      "\tr1.2=#395dfe2cb69c261862fab9f0289e594a52121d5c (latest release)\n",
      "rate limit is 60 requests per hour, with 45 left for this hour\n"
     ]
    },
    {
     "name": "stderr",
     "output_type": "stream",
     "text": [
      "To increase the rate,see https://annotation.github.io/text-fabric/Api/Repo/\n"
     ]
    },
    {
     "name": "stdout",
     "output_type": "stream",
     "text": [
      "\tconnecting to online GitHub repo etcbc/heads ... connected\n",
      "Using data in C:\\Users\\Ejer/text-fabric-data/etcbc/heads/tf/c:\n",
      "\trv.1.3.1=#6efbd7adb3ccfd3d4dcd780f76c5f86672395eb8 (latest release)\n",
      "rate limit is 60 requests per hour, with 40 left for this hour\n"
     ]
    },
    {
     "name": "stderr",
     "output_type": "stream",
     "text": [
      "To increase the rate,see https://annotation.github.io/text-fabric/Api/Repo/\n"
     ]
    },
    {
     "name": "stdout",
     "output_type": "stream",
     "text": [
      "\tconnecting to online GitHub repo ch-jensen/semantic-roles ... connected\n",
      "\tdownloading https://github.com/ch-jensen/semantic-roles/releases/download/1.7/Aktionsart-tf-c.zip ... \n",
      "\tunzipping ... \n",
      "\tsaving data\n",
      "Using data in C:\\Users\\Ejer/text-fabric-data/ch-jensen/semantic-roles/Aktionsart/tf/c:\n",
      "\tr1.7=#d02e3ec4bcd1b46a50b5033efc63010d0efac886 (latest release)\n",
      "   |     0.00s No structure info in otext, the structure part of the T-API cannot be used\n"
     ]
    },
    {
     "data": {
      "text/html": [
       "<b>Documentation:</b> <a target=\"_blank\" href=\"https://etcbc.github.io/bhsa\" title=\"provenance of BHSA = Biblia Hebraica Stuttgartensia Amstelodamensis\">BHSA</a> <a target=\"_blank\" href=\"https://annotation.github.io/text-fabric/Writing/Hebrew\" title=\"('Hebrew characters and transcriptions',)\">Character table</a> <a target=\"_blank\" href=\"https://etcbc.github.io/bhsa/features/0_home\" title=\"BHSA feature documentation\">Feature docs</a> <a target=\"_blank\" href=\"https://github.com/annotation/app-bhsa\" title=\"bhsa API documentation\">bhsa API</a> <a target=\"_blank\" href=\"https://annotation.github.io/text-fabric/Api/Fabric/\" title=\"text-fabric-api\">Text-Fabric API 7.11.0</a> <a target=\"_blank\" href=\"https://annotation.github.io/text-fabric/Use/Search/\" title=\"Search Templates Introduction and Reference\">Search Reference</a><details open><summary><b>Loaded features</b>:</summary>\n",
       "<p><b>BHSA = Biblia Hebraica Stuttgartensia Amstelodamensis</b>: <a target=\"_blank\" href=\"https://etcbc.github.io/bhsa/features/book\" title=\"C:\\Users\\Ejer/text-fabric-data/etcbc/bhsa/tf/c/book.tf\">book</a>  <a target=\"_blank\" href=\"https://etcbc.github.io/bhsa/features/book@ll\" title=\"C:\\Users\\Ejer/text-fabric-data/etcbc/bhsa/tf/c/book@am.tf\">book@ll</a>  <a target=\"_blank\" href=\"https://etcbc.github.io/bhsa/features/chapter\" title=\"C:\\Users\\Ejer/text-fabric-data/etcbc/bhsa/tf/c/chapter.tf\">chapter</a>  <a target=\"_blank\" href=\"https://etcbc.github.io/bhsa/features/code\" title=\"C:\\Users\\Ejer/text-fabric-data/etcbc/bhsa/tf/c/code.tf\">code</a>  <a target=\"_blank\" href=\"https://etcbc.github.io/bhsa/features/det\" title=\"C:\\Users\\Ejer/text-fabric-data/etcbc/bhsa/tf/c/det.tf\">det</a>  <a target=\"_blank\" href=\"https://etcbc.github.io/bhsa/features/domain\" title=\"C:\\Users\\Ejer/text-fabric-data/etcbc/bhsa/tf/c/domain.tf\">domain</a>  <a target=\"_blank\" href=\"https://etcbc.github.io/bhsa/features/freq_lex\" title=\"C:\\Users\\Ejer/text-fabric-data/etcbc/bhsa/tf/c/freq_lex.tf\">freq_lex</a>  <a target=\"_blank\" href=\"https://etcbc.github.io/bhsa/features/function\" title=\"C:\\Users\\Ejer/text-fabric-data/etcbc/bhsa/tf/c/function.tf\">function</a>  <a target=\"_blank\" href=\"https://etcbc.github.io/bhsa/features/g_cons\" title=\"C:\\Users\\Ejer/text-fabric-data/etcbc/bhsa/tf/c/g_cons.tf\">g_cons</a>  <a target=\"_blank\" href=\"https://etcbc.github.io/bhsa/features/g_cons_utf8\" title=\"C:\\Users\\Ejer/text-fabric-data/etcbc/bhsa/tf/c/g_cons_utf8.tf\">g_cons_utf8</a>  <a target=\"_blank\" href=\"https://etcbc.github.io/bhsa/features/g_lex\" title=\"C:\\Users\\Ejer/text-fabric-data/etcbc/bhsa/tf/c/g_lex.tf\">g_lex</a>  <a target=\"_blank\" href=\"https://etcbc.github.io/bhsa/features/g_lex_utf8\" title=\"C:\\Users\\Ejer/text-fabric-data/etcbc/bhsa/tf/c/g_lex_utf8.tf\">g_lex_utf8</a>  <a target=\"_blank\" href=\"https://etcbc.github.io/bhsa/features/g_word\" title=\"C:\\Users\\Ejer/text-fabric-data/etcbc/bhsa/tf/c/g_word.tf\">g_word</a>  <a target=\"_blank\" href=\"https://etcbc.github.io/bhsa/features/g_word_utf8\" title=\"C:\\Users\\Ejer/text-fabric-data/etcbc/bhsa/tf/c/g_word_utf8.tf\">g_word_utf8</a>  <a target=\"_blank\" href=\"https://etcbc.github.io/bhsa/features/gloss\" title=\"C:\\Users\\Ejer/text-fabric-data/etcbc/bhsa/tf/c/gloss.tf\">gloss</a>  <a target=\"_blank\" href=\"https://etcbc.github.io/bhsa/features/gn\" title=\"C:\\Users\\Ejer/text-fabric-data/etcbc/bhsa/tf/c/gn.tf\">gn</a>  <a target=\"_blank\" href=\"https://etcbc.github.io/bhsa/features/label\" title=\"C:\\Users\\Ejer/text-fabric-data/etcbc/bhsa/tf/c/label.tf\">label</a>  <a target=\"_blank\" href=\"https://etcbc.github.io/bhsa/features/language\" title=\"C:\\Users\\Ejer/text-fabric-data/etcbc/bhsa/tf/c/language.tf\">language</a>  <a target=\"_blank\" href=\"https://etcbc.github.io/bhsa/features/lex\" title=\"C:\\Users\\Ejer/text-fabric-data/etcbc/bhsa/tf/c/lex.tf\">lex</a>  <a target=\"_blank\" href=\"https://etcbc.github.io/bhsa/features/lex_utf8\" title=\"C:\\Users\\Ejer/text-fabric-data/etcbc/bhsa/tf/c/lex_utf8.tf\">lex_utf8</a>  <a target=\"_blank\" href=\"https://etcbc.github.io/bhsa/features/ls\" title=\"C:\\Users\\Ejer/text-fabric-data/etcbc/bhsa/tf/c/ls.tf\">ls</a>  <a target=\"_blank\" href=\"https://etcbc.github.io/bhsa/features/nametype\" title=\"C:\\Users\\Ejer/text-fabric-data/etcbc/bhsa/tf/c/nametype.tf\">nametype</a>  <a target=\"_blank\" href=\"https://etcbc.github.io/bhsa/features/nme\" title=\"C:\\Users\\Ejer/text-fabric-data/etcbc/bhsa/tf/c/nme.tf\">nme</a>  <a target=\"_blank\" href=\"https://etcbc.github.io/bhsa/features/nu\" title=\"C:\\Users\\Ejer/text-fabric-data/etcbc/bhsa/tf/c/nu.tf\">nu</a>  <a target=\"_blank\" href=\"https://etcbc.github.io/bhsa/features/number\" title=\"C:\\Users\\Ejer/text-fabric-data/etcbc/bhsa/tf/c/number.tf\">number</a>  <a target=\"_blank\" href=\"https://etcbc.github.io/bhsa/features/otype\" title=\"C:\\Users\\Ejer/text-fabric-data/etcbc/bhsa/tf/c/otype.tf\">otype</a>  <a target=\"_blank\" href=\"https://etcbc.github.io/bhsa/features/pargr\" title=\"C:\\Users\\Ejer/text-fabric-data/etcbc/bhsa/tf/c/pargr.tf\">pargr</a>  <a target=\"_blank\" href=\"https://etcbc.github.io/bhsa/features/pdp\" title=\"C:\\Users\\Ejer/text-fabric-data/etcbc/bhsa/tf/c/pdp.tf\">pdp</a>  <a target=\"_blank\" href=\"https://etcbc.github.io/bhsa/features/pfm\" title=\"C:\\Users\\Ejer/text-fabric-data/etcbc/bhsa/tf/c/pfm.tf\">pfm</a>  <a target=\"_blank\" href=\"https://etcbc.github.io/bhsa/features/prs\" title=\"C:\\Users\\Ejer/text-fabric-data/etcbc/bhsa/tf/c/prs.tf\">prs</a>  <a target=\"_blank\" href=\"https://etcbc.github.io/bhsa/features/prs_gn\" title=\"C:\\Users\\Ejer/text-fabric-data/etcbc/bhsa/tf/c/prs_gn.tf\">prs_gn</a>  <a target=\"_blank\" href=\"https://etcbc.github.io/bhsa/features/prs_nu\" title=\"C:\\Users\\Ejer/text-fabric-data/etcbc/bhsa/tf/c/prs_nu.tf\">prs_nu</a>  <a target=\"_blank\" href=\"https://etcbc.github.io/bhsa/features/prs_ps\" title=\"C:\\Users\\Ejer/text-fabric-data/etcbc/bhsa/tf/c/prs_ps.tf\">prs_ps</a>  <a target=\"_blank\" href=\"https://etcbc.github.io/bhsa/features/ps\" title=\"C:\\Users\\Ejer/text-fabric-data/etcbc/bhsa/tf/c/ps.tf\">ps</a>  <a target=\"_blank\" href=\"https://etcbc.github.io/bhsa/features/qere\" title=\"C:\\Users\\Ejer/text-fabric-data/etcbc/bhsa/tf/c/qere.tf\">qere</a>  <a target=\"_blank\" href=\"https://etcbc.github.io/bhsa/features/qere_trailer\" title=\"C:\\Users\\Ejer/text-fabric-data/etcbc/bhsa/tf/c/qere_trailer.tf\">qere_trailer</a>  <a target=\"_blank\" href=\"https://etcbc.github.io/bhsa/features/qere_trailer_utf8\" title=\"C:\\Users\\Ejer/text-fabric-data/etcbc/bhsa/tf/c/qere_trailer_utf8.tf\">qere_trailer_utf8</a>  <a target=\"_blank\" href=\"https://etcbc.github.io/bhsa/features/qere_utf8\" title=\"C:\\Users\\Ejer/text-fabric-data/etcbc/bhsa/tf/c/qere_utf8.tf\">qere_utf8</a>  <a target=\"_blank\" href=\"https://etcbc.github.io/bhsa/features/rank_lex\" title=\"C:\\Users\\Ejer/text-fabric-data/etcbc/bhsa/tf/c/rank_lex.tf\">rank_lex</a>  <a target=\"_blank\" href=\"https://etcbc.github.io/bhsa/features/rela\" title=\"C:\\Users\\Ejer/text-fabric-data/etcbc/bhsa/tf/c/rela.tf\">rela</a>  <a target=\"_blank\" href=\"https://etcbc.github.io/bhsa/features/sp\" title=\"C:\\Users\\Ejer/text-fabric-data/etcbc/bhsa/tf/c/sp.tf\">sp</a>  <a target=\"_blank\" href=\"https://etcbc.github.io/bhsa/features/st\" title=\"C:\\Users\\Ejer/text-fabric-data/etcbc/bhsa/tf/c/st.tf\">st</a>  <a target=\"_blank\" href=\"https://etcbc.github.io/bhsa/features/tab\" title=\"C:\\Users\\Ejer/text-fabric-data/etcbc/bhsa/tf/c/tab.tf\">tab</a>  <a target=\"_blank\" href=\"https://etcbc.github.io/bhsa/features/trailer\" title=\"C:\\Users\\Ejer/text-fabric-data/etcbc/bhsa/tf/c/trailer.tf\">trailer</a>  <a target=\"_blank\" href=\"https://etcbc.github.io/bhsa/features/trailer_utf8\" title=\"C:\\Users\\Ejer/text-fabric-data/etcbc/bhsa/tf/c/trailer_utf8.tf\">trailer_utf8</a>  <a target=\"_blank\" href=\"https://etcbc.github.io/bhsa/features/txt\" title=\"C:\\Users\\Ejer/text-fabric-data/etcbc/bhsa/tf/c/txt.tf\">txt</a>  <a target=\"_blank\" href=\"https://etcbc.github.io/bhsa/features/typ\" title=\"C:\\Users\\Ejer/text-fabric-data/etcbc/bhsa/tf/c/typ.tf\">typ</a>  <a target=\"_blank\" href=\"https://etcbc.github.io/bhsa/features/uvf\" title=\"C:\\Users\\Ejer/text-fabric-data/etcbc/bhsa/tf/c/uvf.tf\">uvf</a>  <a target=\"_blank\" href=\"https://etcbc.github.io/bhsa/features/vbe\" title=\"C:\\Users\\Ejer/text-fabric-data/etcbc/bhsa/tf/c/vbe.tf\">vbe</a>  <a target=\"_blank\" href=\"https://etcbc.github.io/bhsa/features/vbs\" title=\"C:\\Users\\Ejer/text-fabric-data/etcbc/bhsa/tf/c/vbs.tf\">vbs</a>  <a target=\"_blank\" href=\"https://etcbc.github.io/bhsa/features/verse\" title=\"C:\\Users\\Ejer/text-fabric-data/etcbc/bhsa/tf/c/verse.tf\">verse</a>  <a target=\"_blank\" href=\"https://etcbc.github.io/bhsa/features/voc_lex\" title=\"C:\\Users\\Ejer/text-fabric-data/etcbc/bhsa/tf/c/voc_lex.tf\">voc_lex</a>  <a target=\"_blank\" href=\"https://etcbc.github.io/bhsa/features/voc_lex_utf8\" title=\"C:\\Users\\Ejer/text-fabric-data/etcbc/bhsa/tf/c/voc_lex_utf8.tf\">voc_lex_utf8</a>  <a target=\"_blank\" href=\"https://etcbc.github.io/bhsa/features/vs\" title=\"C:\\Users\\Ejer/text-fabric-data/etcbc/bhsa/tf/c/vs.tf\">vs</a>  <a target=\"_blank\" href=\"https://etcbc.github.io/bhsa/features/vt\" title=\"C:\\Users\\Ejer/text-fabric-data/etcbc/bhsa/tf/c/vt.tf\">vt</a>  <b><i><a target=\"_blank\" href=\"https://etcbc.github.io/bhsa/features/mother\" title=\"C:\\Users\\Ejer/text-fabric-data/etcbc/bhsa/tf/c/mother.tf\">mother</a></i></b>  <b><i><a target=\"_blank\" href=\"https://etcbc.github.io/bhsa/features/oslots\" title=\"C:\\Users\\Ejer/text-fabric-data/etcbc/bhsa/tf/c/oslots.tf\">oslots</a></i></b> </p><p><b>ch-jensen/semantic-roles/Aktionsart/tf</b>: <a target=\"_blank\" href=\"https://github.com/ch-jensen/semantic-roles/tree/master/Aktionsart/tf\" title=\"C:\\Users\\Ejer/text-fabric-data/ch-jensen/semantic-roles/Aktionsart/tf/c/caus.tf\">caus</a>  <a target=\"_blank\" href=\"https://github.com/ch-jensen/semantic-roles/tree/master/Aktionsart/tf\" title=\"C:\\Users\\Ejer/text-fabric-data/ch-jensen/semantic-roles/Aktionsart/tf/c/dyna.tf\">dyna</a> </p><p><b>etcbc/heads/tf</b>: <a target=\"_blank\" href=\"https://github.com/etcbc/heads/tree/master/tf\" title=\"C:\\Users\\Ejer/text-fabric-data/etcbc/heads/tf/c/sem_set.tf\">sem_set</a>  <b><i><a target=\"_blank\" href=\"https://github.com/etcbc/heads/tree/master/tf\" title=\"C:\\Users\\Ejer/text-fabric-data/etcbc/heads/tf/c/head.tf\">head</a></i></b>  <b><i><a target=\"_blank\" href=\"https://github.com/etcbc/heads/tree/master/tf\" title=\"C:\\Users\\Ejer/text-fabric-data/etcbc/heads/tf/c/nhead.tf\">nhead</a></i></b>  <b><i><a target=\"_blank\" href=\"https://github.com/etcbc/heads/tree/master/tf\" title=\"C:\\Users\\Ejer/text-fabric-data/etcbc/heads/tf/c/obj_prep.tf\">obj_prep</a></i></b> </p><p><b>Parallel Passages</b>: <b><i><a target=\"_blank\" href=\"https://nbviewer.jupyter.org/github/etcbc/parallels/blob/master/programs/parallels.ipynb\" title=\"C:\\Users\\Ejer/text-fabric-data/etcbc/parallels/tf/c/crossref.tf\">crossref</a></i></b> </p><p><b>Phonetic Transcriptions</b>: <a target=\"_blank\" href=\"https://nbviewer.jupyter.org/github/etcbc/phono/blob/master/programs/phono.ipynb\" title=\"C:\\Users\\Ejer/text-fabric-data/etcbc/phono/tf/c/phono.tf\">phono</a>  <a target=\"_blank\" href=\"https://nbviewer.jupyter.org/github/etcbc/phono/blob/master/programs/phono.ipynb\" title=\"C:\\Users\\Ejer/text-fabric-data/etcbc/phono/tf/c/phono_trailer.tf\">phono_trailer</a> </p></details>"
      ],
      "text/plain": [
       "<IPython.core.display.HTML object>"
      ]
     },
     "metadata": {},
     "output_type": "display_data"
    },
    {
     "data": {
      "text/html": [
       "<style>\n",
       "@font-face {\n",
       "  font-family: \"Ezra SIL\";\n",
       "  src:\n",
       "    local(\"SILEOT.ttf\"),\n",
       "    url(\"https://github.com/annotation/text-fabric/blob/master/tf/server/static/fonts/SILEOT.woff?raw=true\");\n",
       "}\n",
       ".features {\n",
       "    font-family: monospace;\n",
       "    font-size: medium;\n",
       "    font-weight: bold;\n",
       "    color: #0a6611;\n",
       "    display: flex;\n",
       "    flex-flow: column nowrap;\n",
       "    padding: 0.1em;\n",
       "    margin: 0.1em;\n",
       "    direction: ltr;\n",
       "}\n",
       ".features div,.features span {\n",
       "    padding: 0;\n",
       "    margin: -0.1rem 0;\n",
       "}\n",
       ".features .f {\n",
       "    font-family: sans-serif;\n",
       "    font-size: x-small;\n",
       "    font-weight: normal;\n",
       "    color: #5555bb;\n",
       "}\n",
       ".features .xft {\n",
       "  color: #000000;\n",
       "  background-color: #eeeeee;\n",
       "  font-size: medium;\n",
       "  margin: 0.1em 0em;\n",
       "}\n",
       ".features .xft .f {\n",
       "  color: #000000;\n",
       "  background-color: #eeeeee;\n",
       "  font-style: italic;\n",
       "  font-size: small;\n",
       "  font-weight: normal;\n",
       "}\n",
       ".ltr {\n",
       "    direction: ltr ! important;\n",
       "}\n",
       ".verse {\n",
       "    display: flex;\n",
       "    flex-flow: row wrap;\n",
       "    direction: rtl;\n",
       "}\n",
       ".vl {\n",
       "    display: flex;\n",
       "    flex-flow: column nowrap;\n",
       "    justify-content: flex-end;\n",
       "    align-items: flex-end;\n",
       "    direction: ltr;\n",
       "    width: 100%;\n",
       "}\n",
       ".outeritem {\n",
       "    display: flex;\n",
       "    flex-flow: row wrap;\n",
       "    direction: rtl;\n",
       "}\n",
       ".sentence,.clause,.phrase {\n",
       "    margin-top: -1.2em;\n",
       "    margin-left: 1em;\n",
       "    background: #ffffff none repeat scroll 0 0;\n",
       "    padding: 0 0.3em;\n",
       "    border-style: solid;\n",
       "    border-radius: 0.2em;\n",
       "    font-size: small;\n",
       "    display: block;\n",
       "    width: fit-content;\n",
       "    max-width: fit-content;\n",
       "    direction: ltr;\n",
       "}\n",
       ".atoms {\n",
       "    display: flex;\n",
       "    flex-flow: row wrap;\n",
       "    margin: 0.3em;\n",
       "    padding: 0.3em;\n",
       "    direction: rtl;\n",
       "    background-color: #ffffff;\n",
       "}\n",
       ".satom,.catom,.patom {\n",
       "    margin: 0.3em;\n",
       "    padding: 0.3em;\n",
       "    border-radius: 0.3em;\n",
       "    border-style: solid;\n",
       "    display: flex;\n",
       "    flex-flow: column nowrap;\n",
       "    direction: rtl;\n",
       "    background-color: #ffffff;\n",
       "}\n",
       ".sentence {\n",
       "    border-color: #aa3333;\n",
       "    border-width: 1px;\n",
       "}\n",
       ".clause {\n",
       "    border-color: #aaaa33;\n",
       "    border-width: 1px;\n",
       "}\n",
       ".phrase {\n",
       "    border-color: #33aaaa;\n",
       "    border-width: 1px;\n",
       "}\n",
       ".satom {\n",
       "    border-color: #aa3333;\n",
       "    border-width: 4px;\n",
       "}\n",
       ".catom {\n",
       "    border-color: #aaaa33;\n",
       "    border-width: 3px;\n",
       "}\n",
       ".patom {\n",
       "    border-color: #33aaaa;\n",
       "    border-width: 3px;\n",
       "}\n",
       ".word {\n",
       "    padding: 0.1em;\n",
       "    margin: 0.1em;\n",
       "    border-radius: 0.1em;\n",
       "    border: 1px solid #cccccc;\n",
       "    display: flex;\n",
       "    flex-flow: column nowrap;\n",
       "    direction: rtl;\n",
       "    background-color: #ffffff;\n",
       "}\n",
       ".lextp {\n",
       "    padding: 0.1em;\n",
       "    margin: 0.1em;\n",
       "    border-radius: 0.1em;\n",
       "    border: 2px solid #888888;\n",
       "    width: fit-content;\n",
       "    display: flex;\n",
       "    flex-flow: column nowrap;\n",
       "    direction: rtl;\n",
       "    background-color: #ffffff;\n",
       "}\n",
       ".occs {\n",
       "    font-size: x-small;\n",
       "}\n",
       ".satom.l,.catom.l,.patom.l {\n",
       "    border-left-style: dotted\n",
       "}\n",
       ".satom.r,.catom.r,.patom.r {\n",
       "    border-right-style: dotted\n",
       "}\n",
       ".satom.lno,.catom.lno,.patom.lno {\n",
       "    border-left-style: none\n",
       "}\n",
       ".satom.rno,.catom.rno,.patom.rno {\n",
       "    border-right-style: none\n",
       "}\n",
       ".tr,.tr a:visited,.tr a:link {\n",
       "    font-family: sans-serif;\n",
       "    font-size: large;\n",
       "    color: #000044;\n",
       "    direction: ltr;\n",
       "    text-decoration: none;\n",
       "}\n",
       ".trb,.trb a:visited,.trb a:link {\n",
       "    font-family: sans-serif;\n",
       "    font-size: normal;\n",
       "    direction: ltr;\n",
       "    text-decoration: none;\n",
       "}\n",
       ".prb,.prb a:visited,.prb a:link {\n",
       "    font-family: sans-serif;\n",
       "    font-size: large;\n",
       "    direction: ltr;\n",
       "    text-decoration: none;\n",
       "}\n",
       ".h,.h a:visited,.h a:link {\n",
       "    font-family: \"Ezra SIL\", \"SBL Hebrew\", sans-serif;\n",
       "    font-size: large;\n",
       "    color: #000044;\n",
       "    direction: rtl;\n",
       "    text-decoration: none;\n",
       "}\n",
       ".hb,.hb a:visited,.hb a:link {\n",
       "    font-family: \"Ezra SIL\", \"SBL Hebrew\", sans-serif;\n",
       "    font-size: large;\n",
       "    line-height: 2;\n",
       "    direction: rtl;\n",
       "    text-decoration: none;\n",
       "}\n",
       ".vn {\n",
       "  font-size: small !important;\n",
       "  padding-right: 1em;\n",
       "}\n",
       ".rela,.function,.typ {\n",
       "    font-family: monospace;\n",
       "    font-size: small;\n",
       "    color: #0000bb;\n",
       "}\n",
       ".pdp,.pdp a:visited,.pdp a:link {\n",
       "    font-family: monospace;\n",
       "    font-size: medium;\n",
       "    color: #0000bb;\n",
       "    text-decoration: none;\n",
       "}\n",
       ".voc_lex {\n",
       "    font-family: monospace;\n",
       "    font-size: medium;\n",
       "    color: #0000bb;\n",
       "}\n",
       ".vs {\n",
       "    font-family: monospace;\n",
       "    font-size: medium;\n",
       "    font-weight: bold;\n",
       "    color: #0000bb;\n",
       "}\n",
       ".vt {\n",
       "    font-family: monospace;\n",
       "    font-size: medium;\n",
       "    font-weight: bold;\n",
       "    color: #0000bb;\n",
       "}\n",
       ".gloss {\n",
       "    font-family: sans-serif;\n",
       "    font-size: small;\n",
       "    font-weight: normal;\n",
       "    color: #444444;\n",
       "}\n",
       ".vrs {\n",
       "    font-family: sans-serif;\n",
       "    font-size: small;\n",
       "    font-weight: bold;\n",
       "    color: #444444;\n",
       "}\n",
       ".nd {\n",
       "    font-family: monospace;\n",
       "    font-size: x-small;\n",
       "    color: #999999;\n",
       "}\n",
       ".hl {\n",
       "    background-color: #ffee66;\n",
       "}\n",
       "\n",
       "tr.tf, td.tf, th.tf {\n",
       "  text-align: left;\n",
       "}\n",
       "\n",
       "span.hldot {\n",
       "\tbackground-color: var(--hl-strong);\n",
       "\tborder: 0.2rem solid var(--hl-rim);\n",
       "\tborder-radius: 0.4rem;\n",
       "\t/*\n",
       "\tdisplay: inline-block;\n",
       "\twidth: 0.8rem;\n",
       "\theight: 0.8rem;\n",
       "\t*/\n",
       "}\n",
       "span.hl {\n",
       "\tbackground-color: var(--hl-strong);\n",
       "\tborder-width: 0;\n",
       "\tborder-radius: 0.1rem;\n",
       "\tborder-style: solid;\n",
       "}\n",
       "\n",
       "span.hlup {\n",
       "\tborder-color: var(--hl-dark);\n",
       "\tborder-width: 0.1rem;\n",
       "\tborder-style: solid;\n",
       "\tborder-radius: 0.2rem;\n",
       "  padding: 0.2rem;\n",
       "}\n",
       "\n",
       ":root {\n",
       "\t--hl-strong:        hsla( 60, 100%,  70%, 0.9  );\n",
       "\t--hl-rim:           hsla( 55, 100%,  60%, 0.9  );\n",
       "\t--hl-dark:          hsla( 55, 100%,  40%, 0.9  );\n",
       "}\n",
       "</style>"
      ],
      "text/plain": [
       "<IPython.core.display.HTML object>"
      ]
     },
     "metadata": {},
     "output_type": "display_data"
    },
    {
     "data": {
      "text/html": [
       "<details open><summary><b>API members</b>:</summary>\n",
       "<a target=\"_blank\" href=\"https://annotation.github.io/text-fabric/Api/Computed/#computed-data\" title=\"doc\">C Computed</a>, <a target=\"_blank\" href=\"https://annotation.github.io/text-fabric/Api/Computed/#computed-data\" title=\"doc\">Call AllComputeds</a>, <a target=\"_blank\" href=\"https://annotation.github.io/text-fabric/Api/Computed/#computed-data\" title=\"doc\">Cs ComputedString</a><br/>\n",
       "<a target=\"_blank\" href=\"https://annotation.github.io/text-fabric/Api/Features/#edge-features\" title=\"doc\">E Edge</a>, <a target=\"_blank\" href=\"https://annotation.github.io/text-fabric/Api/Features/#edge-features\" title=\"doc\">Eall AllEdges</a>, <a target=\"_blank\" href=\"https://annotation.github.io/text-fabric/Api/Features/#edge-features\" title=\"doc\">Es EdgeString</a><br/>\n",
       "<a target=\"_blank\" href=\"https://annotation.github.io/text-fabric/Api/Fabric/#loading\" title=\"doc\">ensureLoaded</a>, <a target=\"_blank\" href=\"https://annotation.github.io/text-fabric/Api/Fabric/#loading\" title=\"doc\">TF</a>, <a target=\"_blank\" href=\"https://annotation.github.io/text-fabric/Api/Fabric/#loading\" title=\"doc\">ignored</a>, <a target=\"_blank\" href=\"https://annotation.github.io/text-fabric/Api/Fabric/#loading\" title=\"doc\">loadLog</a><br/>\n",
       "<a target=\"_blank\" href=\"https://annotation.github.io/text-fabric/Api/Locality/#locality\" title=\"doc\">L Locality</a><br/>\n",
       "<a target=\"_blank\" href=\"https://annotation.github.io/text-fabric/Api/Misc/#messaging\" title=\"doc\">cache</a>, <a target=\"_blank\" href=\"https://annotation.github.io/text-fabric/Api/Misc/#messaging\" title=\"doc\">error</a>, <a target=\"_blank\" href=\"https://annotation.github.io/text-fabric/Api/Misc/#messaging\" title=\"doc\">indent</a>, <a target=\"_blank\" href=\"https://annotation.github.io/text-fabric/Api/Misc/#messaging\" title=\"doc\">info</a>, <a target=\"_blank\" href=\"https://annotation.github.io/text-fabric/Api/Misc/#messaging\" title=\"doc\">isSilent</a>, <a target=\"_blank\" href=\"https://annotation.github.io/text-fabric/Api/Misc/#messaging\" title=\"doc\">reset</a>, <a target=\"_blank\" href=\"https://annotation.github.io/text-fabric/Api/Misc/#messaging\" title=\"doc\">setSilent</a>, <a target=\"_blank\" href=\"https://annotation.github.io/text-fabric/Api/Misc/#messaging\" title=\"doc\">silentOff</a>, <a target=\"_blank\" href=\"https://annotation.github.io/text-fabric/Api/Misc/#messaging\" title=\"doc\">silentOn</a>, <a target=\"_blank\" href=\"https://annotation.github.io/text-fabric/Api/Misc/#messaging\" title=\"doc\">warning</a><br/>\n",
       "<a target=\"_blank\" href=\"https://annotation.github.io/text-fabric/Api/Nodes/#navigating-nodes\" title=\"doc\">N Nodes</a>, <a target=\"_blank\" href=\"https://annotation.github.io/text-fabric/Api/Nodes/#navigating-nodes\" title=\"doc\">sortKey</a>, <a target=\"_blank\" href=\"https://annotation.github.io/text-fabric/Api/Nodes/#navigating-nodes\" title=\"doc\">sortKeyTuple</a>, <a target=\"_blank\" href=\"https://annotation.github.io/text-fabric/Api/Nodes/#navigating-nodes\" title=\"doc\">otypeRank</a>, <a target=\"_blank\" href=\"https://annotation.github.io/text-fabric/Api/Nodes/#navigating-nodes\" title=\"doc\">sortNodes</a><br/>\n",
       "<a target=\"_blank\" href=\"https://annotation.github.io/text-fabric/Api/Features/#node-features\" title=\"doc\">F Feature</a>, <a target=\"_blank\" href=\"https://annotation.github.io/text-fabric/Api/Features/#node-features\" title=\"doc\">Fall AllFeatures</a>, <a target=\"_blank\" href=\"https://annotation.github.io/text-fabric/Api/Features/#node-features\" title=\"doc\">Fs FeatureString</a><br/>\n",
       "<a target=\"_blank\" href=\"https://annotation.github.io/text-fabric/Api/Search/#search\" title=\"doc\">S Search</a><br/>\n",
       "<a target=\"_blank\" href=\"https://annotation.github.io/text-fabric/Api/Text/#text\" title=\"doc\">T Text</a></details>"
      ],
      "text/plain": [
       "<IPython.core.display.HTML object>"
      ]
     },
     "metadata": {},
     "output_type": "display_data"
    }
   ],
   "source": [
    "A = use('bhsa:local', hoist=globals(), mod='etcbc/heads/tf,''ch-jensen/semantic-roles/Aktionsart/tf')"
   ]
  },
  {
   "cell_type": "code",
   "execution_count": 4,
   "metadata": {},
   "outputs": [
    {
     "name": "stdout",
     "output_type": "stream",
     "text": [
      "  1.70s 936 results\n"
     ]
    }
   ],
   "source": [
    "all_verbs = '''\n",
    "book book=Leviticus\n",
    "  chapter chapter=17|18|19|20|21|22|23|24|25|26\n",
    "    clause\n",
    "       phrase function=Pred|PreO|PreS|PreC|PtcO\n",
    "          word pdp=verb\n",
    "'''\n",
    "\n",
    "all_verbs = A.search(all_verbs)"
   ]
  },
  {
   "cell_type": "markdown",
   "metadata": {},
   "source": [
    "## Active verbs\n",
    "\n",
    "We can assume that active and causative verbs (in terms of aspect) are instigating. Stative verbs may be rendered dynamic by dynamic contexts. These need manual inspection as well as do passive verbs. We can therefore isolate those cases and extract the relevant phrase nodes for annotation."
   ]
  },
  {
   "cell_type": "code",
   "execution_count": 6,
   "metadata": {},
   "outputs": [
    {
     "name": "stdout",
     "output_type": "stream",
     "text": [
      "Number of active verbs: 316\n",
      "Number of stative verbs: 186\n",
      "Number of causative verbs: 350\n",
      "Number of passive verbs: 84\n"
     ]
    }
   ],
   "source": [
    "passive = {'nif','pual','hof','ptcp'}\n",
    "\n",
    "active_verbs = []\n",
    "passive_verbs = []\n",
    "causative_verbs = []\n",
    "stative_verbs = []\n",
    "\n",
    "for r in all_verbs:\n",
    "    if (F.vs.v(r[4]) not in passive) and (F.vt.v(r[4]) not in passive): #passive verbs are excluded\n",
    "        if F.dyna.v(r[4]) == 'sta' and not F.caus.v(r[4]): #Skipping verbs that are stative and not causative\n",
    "            stative_verbs.append(r[2])\n",
    "        elif F.caus.v(r[4]) == 'caus':\n",
    "            causative_verbs.append(r[2])\n",
    "        else:\n",
    "            active_verbs.append(r[2]) #Appending all other verbs, that is, active, causative stative, and causative active.\n",
    "    else:\n",
    "        passive_verbs.append(r[2])\n",
    "    \n",
    "print(f'Number of active verbs: {len(active_verbs)}')\n",
    "print(f'Number of stative verbs: {len(stative_verbs)}')\n",
    "print(f'Number of causative verbs: {len(causative_verbs)}')\n",
    "print(f'Number of passive verbs: {len(passive_verbs)}')"
   ]
  },
  {
   "cell_type": "markdown",
   "metadata": {},
   "source": [
    "These verbs should be annotated as instigating, either the predicate itself (implicit subject) or the explicit subject of the clause."
   ]
  },
  {
   "cell_type": "code",
   "execution_count": 7,
   "metadata": {},
   "outputs": [
    {
     "data": {
      "text/plain": [
       "316"
      ]
     },
     "execution_count": 7,
     "metadata": {},
     "output_type": "execute_result"
    }
   ],
   "source": [
    "inst_lst = []\n",
    "\n",
    "for cl in active_verbs:\n",
    "    \n",
    "    inst = int()\n",
    "       \n",
    "    phrases = L.d(cl, 'phrase')\n",
    "    for ph in phrases:\n",
    "        if F.function.v(ph) == 'Subj':\n",
    "            inst = ph\n",
    "            break\n",
    "        elif F.function.v(ph) in {'Pred','PreS','PreO','PreC','PtcO'}:\n",
    "            inst = ph\n",
    "    \n",
    "    inst_lst.append(inst)\n",
    "    \n",
    "len(inst_lst)"
   ]
  },
  {
   "cell_type": "markdown",
   "metadata": {},
   "source": [
    "## Stative verbs\n",
    "\n",
    "Stative verbs may be rendered dynamic by dynamic contexts, e.g. imperatives. We therefore need to inspect all stative verbs manually."
   ]
  },
  {
   "cell_type": "code",
   "execution_count": null,
   "metadata": {},
   "outputs": [],
   "source": [
    "anno = 'y n ?'.split()\n",
    "\n",
    "STOP = 'stop'\n",
    "error_message = \"Input is invalid\""
   ]
  },
  {
   "cell_type": "code",
   "execution_count": null,
   "metadata": {},
   "outputs": [],
   "source": [
    "def input_loop(question, right_answer):\n",
    "    '''\n",
    "    input_loop is used when the user is required to make an input. Question has to be a string,\n",
    "    while right_answer is a list of accepted answer(s).\n",
    "    '''\n",
    "    while True:\n",
    "        test = input(f'{question} ({\",\".join(right_answer)})') #The user is required to respond to message.\n",
    "        if test in right_answer:\n",
    "            return test\n",
    "        elif test in [STOP]: #Input is accepted\n",
    "            return test\n",
    "        else: #Input is wrong and the user has respond again.\n",
    "            print(error_message)\n",
    "\n",
    "def get_head(ph):\n",
    "    nom_head = E.nhead.t(ph)\n",
    "    if len(nom_head) > 0:\n",
    "        return nom_head[0]\n",
    "    else:\n",
    "        return E.head.t(ph)[0]"
   ]
  },
  {
   "cell_type": "code",
   "execution_count": null,
   "metadata": {},
   "outputs": [],
   "source": [
    "def user_input(clauses):\n",
    "    \n",
    "    annotations = {}\n",
    "    \n",
    "    for clause_node in clauses:\n",
    "    \n",
    "        clear_output()\n",
    "        \n",
    "        Act = ''\n",
    "        Act_Inst = ''\n",
    "\n",
    "        #Defining possible Actor and Undergoer syntactic functions\n",
    "        functions = ['Subj','Pred','PreS','PreO','PtcO','PreC','PtcO']\n",
    "\n",
    "        test = ''\n",
    "\n",
    "        for ph in L.d(clause_node, 'phrase'):\n",
    "\n",
    "            head = get_head(ph) #Find nominal or prepositional head.\n",
    "\n",
    "            #Annotate Actor\n",
    "            if F.function.v(ph) in functions:\n",
    "\n",
    "                #Visualize clause and highlight headword\n",
    "                A.pretty(clause_node, highlights = {head: 'gold'})\n",
    "\n",
    "                #1. test\n",
    "                test = input_loop(\"Actor\", anno)\n",
    "\n",
    "                if test == 'y':\n",
    "                    Act = ph\n",
    "\n",
    "                    test = input_loop(\"Instigation\", anno)\n",
    "\n",
    "                    if test in anno:\n",
    "                        Act_Inst = test\n",
    "\n",
    "                    elif test == STOP: break\n",
    "\n",
    "                elif test == '?':\n",
    "                    Act = '?'\n",
    "                    break\n",
    "\n",
    "                elif test == 'n': continue\n",
    "\n",
    "                elif test == STOP: break\n",
    "\n",
    "        if test != STOP:\n",
    "            \n",
    "            comment = input('Make comment')\n",
    "        \n",
    "        if test == STOP:\n",
    "            return annotations\n",
    "        else:\n",
    "            annotations[clause_node] = [Act, Act_Inst, comment]\n",
    "            \n",
    "    return annotations"
   ]
  },
  {
   "cell_type": "code",
   "execution_count": null,
   "metadata": {},
   "outputs": [],
   "source": [
    "datasets = []\n",
    "\n",
    "prev_runs = []\n",
    "\n",
    "def Clauses(total_clauses, datasets, prev_runs):\n",
    "        \n",
    "    annotated_clauses = []\n",
    "    remaining_clauses = []\n",
    "    \n",
    "    ##1. Check annotated datasets\n",
    "    for csv in datasets:\n",
    "        data = pd.read_csv(csv)\n",
    "        annotated_clauses += list(data.iloc[:,0])\n",
    "        \n",
    "    ##2. Check previous runs (dictionaries with annotations)\n",
    "    for r in prev_runs:\n",
    "        for cl in r:\n",
    "            annotated_clauses.append(cl)\n",
    "            \n",
    "    ##3. Determine the remaining clauses\n",
    "    for cl in total_clauses:\n",
    "        if not cl in annotated_clauses:\n",
    "            remaining_clauses.append(cl)\n",
    "    \n",
    "    return remaining_clauses\n",
    "        \n",
    "remaining_clauses = Clauses(stative_verbs, datasets, prev_runs)\n",
    "len(remaining_clauses)"
   ]
  },
  {
   "cell_type": "code",
   "execution_count": null,
   "metadata": {},
   "outputs": [],
   "source": [
    "run6 = user_input(remaining_clauses)"
   ]
  },
  {
   "cell_type": "code",
   "execution_count": null,
   "metadata": {},
   "outputs": [],
   "source": [
    "outputs = [run1, run2, run3, run4, run5, run6]\n",
    "\n",
    "new_dict = {}\n",
    "for r in outputs:\n",
    "    for lex in r:\n",
    "        new_dict[lex] = r[lex]\n",
    "        \n",
    "df = pd.DataFrame(new_dict).T\n",
    "df.insert(0, 'clause', df.index)\n",
    "df.columns = ['clause','actor','anno','comment']\n",
    "df.head()"
   ]
  },
  {
   "cell_type": "code",
   "execution_count": null,
   "metadata": {},
   "outputs": [],
   "source": [
    "df.to_csv(f'{PATH}Lev17-26.Instigation_stative_verbs.csv', index=None)"
   ]
  },
  {
   "cell_type": "markdown",
   "metadata": {},
   "source": [
    "### Explore stative verbs in dynamic contexts"
   ]
  },
  {
   "cell_type": "code",
   "execution_count": 8,
   "metadata": {},
   "outputs": [],
   "source": [
    "st_verbs = pd.read_csv(f'{PATH}Lev17-26.Instigation_stative_verbs.csv')"
   ]
  },
  {
   "cell_type": "code",
   "execution_count": 10,
   "metadata": {},
   "outputs": [],
   "source": [
    "stative_verbs = st_verbs[st_verbs.anno == 'y']\n",
    "stative_verbs = stative_verbs[['clause','actor','anno']]\n",
    "stative_verbs.actor = stative_verbs.actor.astype('int') #Changing the phrase numbers to integers\n",
    "stative_verbs.columns = ['clause','phr','Inst']"
   ]
  },
  {
   "cell_type": "code",
   "execution_count": 11,
   "metadata": {
    "scrolled": true
   },
   "outputs": [
    {
     "name": "stdout",
     "output_type": "stream",
     "text": [
      "Number of stative verbs in dynamic contexts: 32\n"
     ]
    }
   ],
   "source": [
    "print(f'Number of stative verbs in dynamic contexts: {len(stative_verbs)}')"
   ]
  },
  {
   "cell_type": "code",
   "execution_count": 12,
   "metadata": {},
   "outputs": [
    {
     "data": {
      "text/plain": [
       "defaultdict(str,\n",
       "            {'שׁכב qal lie down': '18:22; 19:20; 20:11; 20:12; 20:13; 20:18; 20:20; ',\n",
       "             'עמד qal stand': '18:23; ',\n",
       "             'היה qal be': '19:2; 20:7; 20:26; 21:6; 21:6; ',\n",
       "             'ירא qal fear': '19:3; 19:14; 19:30; 19:32; 25:17; 25:36; 25:43; 26:2; ',\n",
       "             'שׂנא qal hate': '19:17; ',\n",
       "             'נטר qal be angry': '19:18; ',\n",
       "             'אהב qal love': '19:18; 19:34; ',\n",
       "             'שׁבת qal cease': '23:32; ',\n",
       "             'ישׁב qal sit': '23:42; 23:42; ',\n",
       "             'שׁמע qal hear': '26:14; 26:18; 26:21; 26:27; '})"
      ]
     },
     "execution_count": 12,
     "metadata": {},
     "output_type": "execute_result"
    }
   ],
   "source": [
    "def getRefs(df):\n",
    "\n",
    "    dic = collections.defaultdict(str)\n",
    "\n",
    "    for n, row in df.iterrows():\n",
    "        for w in L.d(row.clause, 'word'):\n",
    "            if F.sp.v(w) == 'verb':\n",
    "                bo, ch, ve = T.sectionFromNode(w)\n",
    "                gloss = F.gloss.v(L.u(w, 'lex')[0])\n",
    "                dic[f'{F.lex_utf8.v(w)} {F.vs.v(w)} {gloss}'] += f'{ch}:{ve}; '\n",
    "            \n",
    "    return dic\n",
    "\n",
    "getRefs(stative_verbs)"
   ]
  },
  {
   "cell_type": "markdown",
   "metadata": {},
   "source": [
    "## Causative verbs\n",
    "\n",
    "Causative verbs are most likely to involve an instigating causer. However, in some cases the the caused event may be occasioned by a non-intervening actor, e.g. something happens because the \"causer\" did not prevent it from happening, or it happened by accident. Therefore, we need to review all the causative events manually.\n",
    "\n",
    "Only causatives with no instigating causer are annotated with instigation = \"n\""
   ]
  },
  {
   "cell_type": "code",
   "execution_count": null,
   "metadata": {},
   "outputs": [],
   "source": [
    "T.nodeFromSection(('Leviticus', 26,10))"
   ]
  },
  {
   "cell_type": "code",
   "execution_count": null,
   "metadata": {},
   "outputs": [],
   "source": [
    "L.d(1417888, 'clause')"
   ]
  },
  {
   "cell_type": "code",
   "execution_count": null,
   "metadata": {},
   "outputs": [],
   "source": [
    "datasets = []\n",
    "prev_runs = []\n",
    "\n",
    "caus_verbs1 = [cl for cl in causative_verbs if cl > 440690]\n",
    "\n",
    "remaining_clauses = Clauses(caus_verbs1, datasets, prev_runs)\n",
    "len(remaining_clauses)"
   ]
  },
  {
   "cell_type": "code",
   "execution_count": null,
   "metadata": {},
   "outputs": [],
   "source": [
    "run1 = user_input(remaining_clauses)"
   ]
  },
  {
   "cell_type": "markdown",
   "metadata": {},
   "source": [
    "### Explore causative verbs"
   ]
  },
  {
   "cell_type": "code",
   "execution_count": 13,
   "metadata": {},
   "outputs": [
    {
     "data": {
      "text/html": [
       "<div>\n",
       "<style scoped>\n",
       "    .dataframe tbody tr th:only-of-type {\n",
       "        vertical-align: middle;\n",
       "    }\n",
       "\n",
       "    .dataframe tbody tr th {\n",
       "        vertical-align: top;\n",
       "    }\n",
       "\n",
       "    .dataframe thead th {\n",
       "        text-align: right;\n",
       "    }\n",
       "</style>\n",
       "<table border=\"1\" class=\"dataframe\">\n",
       "  <thead>\n",
       "    <tr style=\"text-align: right;\">\n",
       "      <th></th>\n",
       "      <th>clause</th>\n",
       "      <th>actor</th>\n",
       "      <th>anno</th>\n",
       "    </tr>\n",
       "  </thead>\n",
       "  <tbody>\n",
       "    <tr>\n",
       "      <th>0</th>\n",
       "      <td>439655</td>\n",
       "      <td>688360</td>\n",
       "      <td>y</td>\n",
       "    </tr>\n",
       "    <tr>\n",
       "      <th>1</th>\n",
       "      <td>439658</td>\n",
       "      <td>688364</td>\n",
       "      <td>y</td>\n",
       "    </tr>\n",
       "    <tr>\n",
       "      <th>2</th>\n",
       "      <td>439659</td>\n",
       "      <td>688369</td>\n",
       "      <td>y</td>\n",
       "    </tr>\n",
       "    <tr>\n",
       "      <th>3</th>\n",
       "      <td>439660</td>\n",
       "      <td>688374</td>\n",
       "      <td>y</td>\n",
       "    </tr>\n",
       "    <tr>\n",
       "      <th>4</th>\n",
       "      <td>439661</td>\n",
       "      <td>688375</td>\n",
       "      <td>y</td>\n",
       "    </tr>\n",
       "  </tbody>\n",
       "</table>\n",
       "</div>"
      ],
      "text/plain": [
       "   clause   actor anno\n",
       "0  439655  688360    y\n",
       "1  439658  688364    y\n",
       "2  439659  688369    y\n",
       "3  439660  688374    y\n",
       "4  439661  688375    y"
      ]
     },
     "execution_count": 13,
     "metadata": {},
     "output_type": "execute_result"
    }
   ],
   "source": [
    "caus_verbs = pd.read_csv(f'{PATH}Lev17-26.Instigation_causative_verbs.csv')\n",
    "caus_verbs.head()"
   ]
  },
  {
   "cell_type": "code",
   "execution_count": 14,
   "metadata": {},
   "outputs": [],
   "source": [
    "causative_verbs = caus_verbs[caus_verbs.anno == 'n']\n",
    "causative_verbs = causative_verbs[['clause','actor','anno']]\n",
    "causative_verbs.actor = causative_verbs.actor.astype('int') #Changing the phrase numbers to integers\n",
    "causative_verbs.columns = ['clause','phr','Inst']"
   ]
  },
  {
   "cell_type": "code",
   "execution_count": 15,
   "metadata": {
    "scrolled": true
   },
   "outputs": [
    {
     "name": "stdout",
     "output_type": "stream",
     "text": [
      "Number of causative verbs with a non-instigating causer: 0\n"
     ]
    }
   ],
   "source": [
    "print(f'Number of causative verbs with a non-instigating causer: {len(causative_verbs)}')"
   ]
  },
  {
   "cell_type": "markdown",
   "metadata": {},
   "source": [
    "## Passive verbs\n",
    "\n",
    "The passive verbs need to be manually inspected since they include reflexive and reciprocal meanings, both of which are instigating. Pure passives are not instigating, but they may be instigated by a complement phrase, expressing the Agent."
   ]
  },
  {
   "cell_type": "code",
   "execution_count": null,
   "metadata": {},
   "outputs": [],
   "source": [
    "remaining_clauses = Clauses(passive_verbs, datasets, prev_runs)\n",
    "len(remaining_clauses)"
   ]
  },
  {
   "cell_type": "code",
   "execution_count": null,
   "metadata": {},
   "outputs": [],
   "source": [
    "run1 = user_input(remaining_clauses)"
   ]
  },
  {
   "cell_type": "markdown",
   "metadata": {},
   "source": [
    "### Merge outputs"
   ]
  },
  {
   "cell_type": "code",
   "execution_count": null,
   "metadata": {},
   "outputs": [],
   "source": [
    "outputs = [run1]\n",
    "\n",
    "new_dict = {}\n",
    "for r in outputs:\n",
    "    for lex in r:\n",
    "        new_dict[lex] = r[lex]\n",
    "        \n",
    "df = pd.DataFrame(new_dict).T\n",
    "df.insert(0, 'clause', df.index)\n",
    "df.columns = ['clause','actor','anno','comment']\n",
    "df.head()"
   ]
  },
  {
   "cell_type": "code",
   "execution_count": null,
   "metadata": {},
   "outputs": [],
   "source": [
    "df.to_csv(f'{PATH}Lev17-26.Instigation_passive_verbs.csv')"
   ]
  },
  {
   "cell_type": "markdown",
   "metadata": {},
   "source": [
    "### Review annotations\n",
    "\n",
    "We review ambigious cases marked with '?':"
   ]
  },
  {
   "cell_type": "code",
   "execution_count": 16,
   "metadata": {},
   "outputs": [],
   "source": [
    "df = pd.read_csv(f'{PATH}Lev17-26.Instigation_passive_verbs.csv')"
   ]
  },
  {
   "cell_type": "code",
   "execution_count": 17,
   "metadata": {},
   "outputs": [],
   "source": [
    "ambig_cases = list(df[(df.anno == '?') | (df.comment == '?')].clause)\n",
    "#ambig_cases"
   ]
  },
  {
   "cell_type": "code",
   "execution_count": 18,
   "metadata": {},
   "outputs": [],
   "source": [
    "def show(cl):\n",
    "    display(df[df.clause == cl])\n",
    "    \n",
    "    A.pretty(cl)"
   ]
  },
  {
   "cell_type": "markdown",
   "metadata": {},
   "source": [
    "#### MKR \"sell\""
   ]
  },
  {
   "cell_type": "code",
   "execution_count": null,
   "metadata": {},
   "outputs": [],
   "source": [
    "show(ambig_cases[0])"
   ]
  },
  {
   "cell_type": "markdown",
   "metadata": {},
   "source": [
    "While many translations and commentaries render this case (and the following three cases) reflexive, according to Milgrom this temptation \"must be resisted\" (Milgrom, p. 2219). A reflexive meaning is rendered in Deut 26:68 with Hitphael (see also 1 Kings for more examples) and all other cases of Niphal is passive. We therefore retain a passive use of the verb."
   ]
  },
  {
   "cell_type": "code",
   "execution_count": null,
   "metadata": {
    "scrolled": true
   },
   "outputs": [],
   "source": [
    "MKR = '''\n",
    "clause\n",
    "  phrase function=Pred|PreO|PreS|PreC|PtcO\n",
    "    word lex=MKR[ vs=nif|hit\n",
    "'''\n",
    "\n",
    "MKR = A.search(MKR)\n",
    "A.show(MKR)"
   ]
  },
  {
   "cell_type": "markdown",
   "metadata": {},
   "source": [
    "The other examples in Leviticus 25 are similar:"
   ]
  },
  {
   "cell_type": "code",
   "execution_count": null,
   "metadata": {},
   "outputs": [],
   "source": [
    "show(ambig_cases[1])"
   ]
  },
  {
   "cell_type": "code",
   "execution_count": null,
   "metadata": {},
   "outputs": [],
   "source": [
    "show(ambig_cases[2])"
   ]
  },
  {
   "cell_type": "code",
   "execution_count": null,
   "metadata": {},
   "outputs": [],
   "source": [
    "show(ambig_cases[3])"
   ]
  },
  {
   "cell_type": "markdown",
   "metadata": {},
   "source": [
    "#### KN< \"be humble\"\n",
    "\n",
    "In Lev 26:41 the clause is frequently being translated \"and then their uncircumcised heart will humble itself\", but it could also simply be translated \"is humbled\" (NRSV) or \"has become humbled\". We will therefore retain the passive meaning."
   ]
  },
  {
   "cell_type": "code",
   "execution_count": null,
   "metadata": {},
   "outputs": [],
   "source": [
    "show(ambig_cases[4])"
   ]
  },
  {
   "cell_type": "markdown",
   "metadata": {},
   "source": [
    "To sum up, no changes to the original annotation were made in this review, and we can continue to the final export."
   ]
  },
  {
   "cell_type": "code",
   "execution_count": 19,
   "metadata": {},
   "outputs": [],
   "source": [
    "df1 = df[df.anno == 'y']\n",
    "df1 = df1[['clause','actor','anno']]\n",
    "df1.actor = df1.actor.astype('int') #Changing the phrase numbers to integers\n",
    "df1.columns = ['clause','phr','Inst']"
   ]
  },
  {
   "cell_type": "code",
   "execution_count": 20,
   "metadata": {},
   "outputs": [
    {
     "name": "stdout",
     "output_type": "stream",
     "text": [
      "Number of passive verbs with a reflexive/reciprocal meaning: 10\n"
     ]
    }
   ],
   "source": [
    "print(f'Number of passive verbs with a reflexive/reciprocal meaning: {len(df1)}')"
   ]
  },
  {
   "cell_type": "code",
   "execution_count": 21,
   "metadata": {},
   "outputs": [
    {
     "data": {
      "text/plain": [
       "defaultdict(str,\n",
       "            {'שׁבע nif swear': '19:12; ',\n",
       "             'גרשׁ qal drive out': '21:7; ',\n",
       "             'ענה pual be lowly': '23:29; ',\n",
       "             'נצה nif decay': '24:10; ',\n",
       "             'גאל nif redeem': '25:49; ',\n",
       "             'חוה hsht bow down': '26:1; ',\n",
       "             'יסר nif admonish': '26:23; ',\n",
       "             'אסף nif gather': '26:25; ',\n",
       "             'עזב nif leave': '26:43; ',\n",
       "             'שׁמם hof be desolate': '26:43; '})"
      ]
     },
     "execution_count": 21,
     "metadata": {},
     "output_type": "execute_result"
    }
   ],
   "source": [
    "getRefs(df1)"
   ]
  },
  {
   "cell_type": "markdown",
   "metadata": {},
   "source": [
    "## Export\n",
    "\n",
    "At this stage we should be ready to combine all annotations for both active and passive verbs. First, however, we will check for missing cases:"
   ]
  },
  {
   "cell_type": "code",
   "execution_count": 22,
   "metadata": {},
   "outputs": [
    {
     "data": {
      "text/html": [
       "<div>\n",
       "<style scoped>\n",
       "    .dataframe tbody tr th:only-of-type {\n",
       "        vertical-align: middle;\n",
       "    }\n",
       "\n",
       "    .dataframe tbody tr th {\n",
       "        vertical-align: top;\n",
       "    }\n",
       "\n",
       "    .dataframe thead th {\n",
       "        text-align: right;\n",
       "    }\n",
       "</style>\n",
       "<table border=\"1\" class=\"dataframe\">\n",
       "  <thead>\n",
       "    <tr style=\"text-align: right;\">\n",
       "      <th></th>\n",
       "      <th>Unnamed: 0</th>\n",
       "      <th>clause</th>\n",
       "      <th>actor</th>\n",
       "      <th>anno</th>\n",
       "      <th>comment</th>\n",
       "    </tr>\n",
       "  </thead>\n",
       "  <tbody>\n",
       "    <tr>\n",
       "      <th>0</th>\n",
       "      <td>439673</td>\n",
       "      <td>439673</td>\n",
       "      <td>NaN</td>\n",
       "      <td>NaN</td>\n",
       "      <td>NaN</td>\n",
       "    </tr>\n",
       "    <tr>\n",
       "      <th>1</th>\n",
       "      <td>439676</td>\n",
       "      <td>439676</td>\n",
       "      <td>NaN</td>\n",
       "      <td>NaN</td>\n",
       "      <td>NaN</td>\n",
       "    </tr>\n",
       "    <tr>\n",
       "      <th>2</th>\n",
       "      <td>439682</td>\n",
       "      <td>439682</td>\n",
       "      <td>NaN</td>\n",
       "      <td>NaN</td>\n",
       "      <td>NaN</td>\n",
       "    </tr>\n",
       "    <tr>\n",
       "      <th>3</th>\n",
       "      <td>439696</td>\n",
       "      <td>439696</td>\n",
       "      <td>NaN</td>\n",
       "      <td>NaN</td>\n",
       "      <td>NaN</td>\n",
       "    </tr>\n",
       "    <tr>\n",
       "      <th>4</th>\n",
       "      <td>439698</td>\n",
       "      <td>439698</td>\n",
       "      <td>NaN</td>\n",
       "      <td>NaN</td>\n",
       "      <td>NaN</td>\n",
       "    </tr>\n",
       "  </tbody>\n",
       "</table>\n",
       "</div>"
      ],
      "text/plain": [
       "   Unnamed: 0  clause actor anno comment\n",
       "0      439673  439673   NaN  NaN     NaN\n",
       "1      439676  439676   NaN  NaN     NaN\n",
       "2      439682  439682   NaN  NaN     NaN\n",
       "3      439696  439696   NaN  NaN     NaN\n",
       "4      439698  439698   NaN  NaN     NaN"
      ]
     },
     "execution_count": 22,
     "metadata": {},
     "output_type": "execute_result"
    }
   ],
   "source": [
    "stative_verbs = pd.read_csv(f'{PATH}Lev17-26.Instigation_stative_verbs.csv')\n",
    "stative_verbs.head()"
   ]
  },
  {
   "cell_type": "code",
   "execution_count": 23,
   "metadata": {},
   "outputs": [
    {
     "name": "stdout",
     "output_type": "stream",
     "text": [
      "Number of cases not annotated or reviewed: 350\n"
     ]
    }
   ],
   "source": [
    "remaining_verbs = set()\n",
    "\n",
    "clause_list = [L.u(ph, 'clause')[0] for ph in inst_lst] #Changing phrase-nodes of inst_lst to clause nodes for comparison\n",
    "\n",
    "for r in all_verbs:\n",
    "    \n",
    "    if r[2] in clause_list: #Check if clause exists in annotation of active verbs\n",
    "        continue\n",
    "        \n",
    "    elif r[2] in list(stative_verbs.clause):\n",
    "        continue\n",
    "        \n",
    "    elif r[2] in list(causative_verbs.clause):\n",
    "        continue\n",
    "        \n",
    "    elif r[2] in list(df.clause): #Check if clause exists in annotation of passive verbs\n",
    "        continue\n",
    "        \n",
    "    else:\n",
    "        remaining_verbs.add(r[2])\n",
    "        \n",
    "print(f'Number of cases not annotated or reviewed: {len(remaining_verbs)}')"
   ]
  },
  {
   "cell_type": "markdown",
   "metadata": {},
   "source": [
    "The remaining verbs are all causative verbs with an instigating actor.\n",
    "\n",
    "There are no mismatches to review, so we can continue to the final export of this annotation. We therefore create a dataframe containing the data needed. We begin by adjusting the dataframe of stative verbs:"
   ]
  },
  {
   "cell_type": "code",
   "execution_count": 24,
   "metadata": {},
   "outputs": [],
   "source": [
    "stative_verbs1 = stative_verbs[stative_verbs.anno == 'y']\n",
    "stative_verbs1 = stative_verbs1[['clause','actor','anno']]\n",
    "stative_verbs1.actor = stative_verbs1.actor.astype('int') #Changing the phrase numbers to integers\n",
    "stative_verbs1.columns = ['clause','phr','Inst']"
   ]
  },
  {
   "cell_type": "markdown",
   "metadata": {},
   "source": [
    "We do the same for the passive verbs dataset:"
   ]
  },
  {
   "cell_type": "code",
   "execution_count": 25,
   "metadata": {},
   "outputs": [],
   "source": [
    "#df.head()"
   ]
  },
  {
   "cell_type": "code",
   "execution_count": 26,
   "metadata": {},
   "outputs": [],
   "source": [
    "df1 = df[df.anno == 'y']\n",
    "df1 = df1[['clause','actor','anno']]\n",
    "df1.actor = df1.actor.astype('int') #Changing the phrase numbers to integers\n",
    "df1.columns = ['clause','phr','Inst']"
   ]
  },
  {
   "cell_type": "code",
   "execution_count": 27,
   "metadata": {},
   "outputs": [
    {
     "data": {
      "text/html": [
       "<div>\n",
       "<style scoped>\n",
       "    .dataframe tbody tr th:only-of-type {\n",
       "        vertical-align: middle;\n",
       "    }\n",
       "\n",
       "    .dataframe tbody tr th {\n",
       "        vertical-align: top;\n",
       "    }\n",
       "\n",
       "    .dataframe thead th {\n",
       "        text-align: right;\n",
       "    }\n",
       "</style>\n",
       "<table border=\"1\" class=\"dataframe\">\n",
       "  <thead>\n",
       "    <tr style=\"text-align: right;\">\n",
       "      <th></th>\n",
       "      <th>clause</th>\n",
       "      <th>phr</th>\n",
       "      <th>Inst</th>\n",
       "    </tr>\n",
       "  </thead>\n",
       "  <tbody>\n",
       "    <tr>\n",
       "      <th>14</th>\n",
       "      <td>439854</td>\n",
       "      <td>688937</td>\n",
       "      <td>y</td>\n",
       "    </tr>\n",
       "    <tr>\n",
       "      <th>34</th>\n",
       "      <td>440088</td>\n",
       "      <td>689652</td>\n",
       "      <td>y</td>\n",
       "    </tr>\n",
       "    <tr>\n",
       "      <th>49</th>\n",
       "      <td>440352</td>\n",
       "      <td>690433</td>\n",
       "      <td>y</td>\n",
       "    </tr>\n",
       "    <tr>\n",
       "      <th>51</th>\n",
       "      <td>440419</td>\n",
       "      <td>690645</td>\n",
       "      <td>y</td>\n",
       "    </tr>\n",
       "    <tr>\n",
       "      <th>66</th>\n",
       "      <td>440640</td>\n",
       "      <td>691335</td>\n",
       "      <td>y</td>\n",
       "    </tr>\n",
       "  </tbody>\n",
       "</table>\n",
       "</div>"
      ],
      "text/plain": [
       "    clause     phr Inst\n",
       "14  439854  688937    y\n",
       "34  440088  689652    y\n",
       "49  440352  690433    y\n",
       "51  440419  690645    y\n",
       "66  440640  691335    y"
      ]
     },
     "execution_count": 27,
     "metadata": {},
     "output_type": "execute_result"
    }
   ],
   "source": [
    "df1.head()"
   ]
  },
  {
   "cell_type": "markdown",
   "metadata": {},
   "source": [
    "And for the causative dataset:"
   ]
  },
  {
   "cell_type": "code",
   "execution_count": 28,
   "metadata": {},
   "outputs": [],
   "source": [
    "causative_verbs1 = caus_verbs[caus_verbs.anno == 'y']\n",
    "causative_verbs1 = causative_verbs1[['clause','actor','anno']]\n",
    "causative_verbs1.actor = causative_verbs1.actor.astype('int') #Changing the phrase numbers to integers\n",
    "causative_verbs1.columns = ['clause','phr','Inst']"
   ]
  },
  {
   "cell_type": "code",
   "execution_count": 29,
   "metadata": {},
   "outputs": [
    {
     "data": {
      "text/html": [
       "<div>\n",
       "<style scoped>\n",
       "    .dataframe tbody tr th:only-of-type {\n",
       "        vertical-align: middle;\n",
       "    }\n",
       "\n",
       "    .dataframe tbody tr th {\n",
       "        vertical-align: top;\n",
       "    }\n",
       "\n",
       "    .dataframe thead th {\n",
       "        text-align: right;\n",
       "    }\n",
       "</style>\n",
       "<table border=\"1\" class=\"dataframe\">\n",
       "  <thead>\n",
       "    <tr style=\"text-align: right;\">\n",
       "      <th></th>\n",
       "      <th>clause</th>\n",
       "      <th>phr</th>\n",
       "      <th>Inst</th>\n",
       "    </tr>\n",
       "  </thead>\n",
       "  <tbody>\n",
       "    <tr>\n",
       "      <th>0</th>\n",
       "      <td>439655</td>\n",
       "      <td>688360</td>\n",
       "      <td>y</td>\n",
       "    </tr>\n",
       "    <tr>\n",
       "      <th>1</th>\n",
       "      <td>439658</td>\n",
       "      <td>688364</td>\n",
       "      <td>y</td>\n",
       "    </tr>\n",
       "    <tr>\n",
       "      <th>2</th>\n",
       "      <td>439659</td>\n",
       "      <td>688369</td>\n",
       "      <td>y</td>\n",
       "    </tr>\n",
       "    <tr>\n",
       "      <th>3</th>\n",
       "      <td>439660</td>\n",
       "      <td>688374</td>\n",
       "      <td>y</td>\n",
       "    </tr>\n",
       "    <tr>\n",
       "      <th>4</th>\n",
       "      <td>439661</td>\n",
       "      <td>688375</td>\n",
       "      <td>y</td>\n",
       "    </tr>\n",
       "  </tbody>\n",
       "</table>\n",
       "</div>"
      ],
      "text/plain": [
       "   clause     phr Inst\n",
       "0  439655  688360    y\n",
       "1  439658  688364    y\n",
       "2  439659  688369    y\n",
       "3  439660  688374    y\n",
       "4  439661  688375    y"
      ]
     },
     "execution_count": 29,
     "metadata": {},
     "output_type": "execute_result"
    }
   ],
   "source": [
    "causative_verbs1.head()"
   ]
  },
  {
   "cell_type": "markdown",
   "metadata": {},
   "source": [
    "Secondly, we transform the 'inst_lst' to a similar format by retrieving the clause node for each phrase:"
   ]
  },
  {
   "cell_type": "code",
   "execution_count": 30,
   "metadata": {},
   "outputs": [
    {
     "data": {
      "text/html": [
       "<div>\n",
       "<style scoped>\n",
       "    .dataframe tbody tr th:only-of-type {\n",
       "        vertical-align: middle;\n",
       "    }\n",
       "\n",
       "    .dataframe tbody tr th {\n",
       "        vertical-align: top;\n",
       "    }\n",
       "\n",
       "    .dataframe thead th {\n",
       "        text-align: right;\n",
       "    }\n",
       "</style>\n",
       "<table border=\"1\" class=\"dataframe\">\n",
       "  <thead>\n",
       "    <tr style=\"text-align: right;\">\n",
       "      <th></th>\n",
       "      <th>clause</th>\n",
       "      <th>phr</th>\n",
       "      <th>Inst</th>\n",
       "    </tr>\n",
       "  </thead>\n",
       "  <tbody>\n",
       "    <tr>\n",
       "      <th>439650</th>\n",
       "      <td>439650</td>\n",
       "      <td>688348</td>\n",
       "      <td>y</td>\n",
       "    </tr>\n",
       "    <tr>\n",
       "      <th>439651</th>\n",
       "      <td>439651</td>\n",
       "      <td>688350</td>\n",
       "      <td>y</td>\n",
       "    </tr>\n",
       "    <tr>\n",
       "      <th>439652</th>\n",
       "      <td>439652</td>\n",
       "      <td>688351</td>\n",
       "      <td>y</td>\n",
       "    </tr>\n",
       "    <tr>\n",
       "      <th>439653</th>\n",
       "      <td>439653</td>\n",
       "      <td>688354</td>\n",
       "      <td>y</td>\n",
       "    </tr>\n",
       "    <tr>\n",
       "      <th>439656</th>\n",
       "      <td>439656</td>\n",
       "      <td>688361</td>\n",
       "      <td>y</td>\n",
       "    </tr>\n",
       "  </tbody>\n",
       "</table>\n",
       "</div>"
      ],
      "text/plain": [
       "        clause     phr Inst\n",
       "439650  439650  688348    y\n",
       "439651  439651  688350    y\n",
       "439652  439652  688351    y\n",
       "439653  439653  688354    y\n",
       "439656  439656  688361    y"
      ]
     },
     "execution_count": 30,
     "metadata": {},
     "output_type": "execute_result"
    }
   ],
   "source": [
    "inst_dict = {}\n",
    "\n",
    "for ph in inst_lst:\n",
    "    clause = L.u(ph, 'clause')[0]\n",
    "    anno = 'y'\n",
    "    \n",
    "    inst_dict[clause] = [ph, anno]\n",
    "    \n",
    "df2 = pd.DataFrame(inst_dict).T\n",
    "df2.insert(0, 'clause', df2.index)\n",
    "df2.columns = ['clause','phr','Inst']\n",
    "df2.head()"
   ]
  },
  {
   "cell_type": "code",
   "execution_count": 31,
   "metadata": {},
   "outputs": [
    {
     "data": {
      "text/html": [
       "<div>\n",
       "<style scoped>\n",
       "    .dataframe tbody tr th:only-of-type {\n",
       "        vertical-align: middle;\n",
       "    }\n",
       "\n",
       "    .dataframe tbody tr th {\n",
       "        vertical-align: top;\n",
       "    }\n",
       "\n",
       "    .dataframe thead th {\n",
       "        text-align: right;\n",
       "    }\n",
       "</style>\n",
       "<table border=\"1\" class=\"dataframe\">\n",
       "  <thead>\n",
       "    <tr style=\"text-align: right;\">\n",
       "      <th></th>\n",
       "      <th>clause</th>\n",
       "      <th>phr</th>\n",
       "      <th>Inst</th>\n",
       "    </tr>\n",
       "  </thead>\n",
       "  <tbody>\n",
       "    <tr>\n",
       "      <th>439650</th>\n",
       "      <td>439650</td>\n",
       "      <td>688348</td>\n",
       "      <td>y</td>\n",
       "    </tr>\n",
       "    <tr>\n",
       "      <th>439651</th>\n",
       "      <td>439651</td>\n",
       "      <td>688350</td>\n",
       "      <td>y</td>\n",
       "    </tr>\n",
       "    <tr>\n",
       "      <th>439652</th>\n",
       "      <td>439652</td>\n",
       "      <td>688351</td>\n",
       "      <td>y</td>\n",
       "    </tr>\n",
       "    <tr>\n",
       "      <th>439653</th>\n",
       "      <td>439653</td>\n",
       "      <td>688354</td>\n",
       "      <td>y</td>\n",
       "    </tr>\n",
       "    <tr>\n",
       "      <th>0</th>\n",
       "      <td>439655</td>\n",
       "      <td>688360</td>\n",
       "      <td>y</td>\n",
       "    </tr>\n",
       "  </tbody>\n",
       "</table>\n",
       "</div>"
      ],
      "text/plain": [
       "        clause     phr Inst\n",
       "439650  439650  688348    y\n",
       "439651  439651  688350    y\n",
       "439652  439652  688351    y\n",
       "439653  439653  688354    y\n",
       "0       439655  688360    y"
      ]
     },
     "execution_count": 31,
     "metadata": {},
     "output_type": "execute_result"
    }
   ],
   "source": [
    "final_df = stative_verbs1.append(df1)\n",
    "final_df = final_df.append(df2)\n",
    "final_df = final_df.append(causative_verbs1)\n",
    "final_df = final_df.sort_values(by='clause')\n",
    "final_df.head()"
   ]
  },
  {
   "cell_type": "code",
   "execution_count": 32,
   "metadata": {},
   "outputs": [
    {
     "data": {
      "text/plain": [
       "708"
      ]
     },
     "execution_count": 32,
     "metadata": {},
     "output_type": "execute_result"
    }
   ],
   "source": [
    "len(final_df)"
   ]
  },
  {
   "cell_type": "code",
   "execution_count": 33,
   "metadata": {},
   "outputs": [],
   "source": [
    "final_df.to_csv(f'{PATH}Lev17-26.Instigation_final.csv', index=False)"
   ]
  }
 ],
 "metadata": {
  "kernelspec": {
   "display_name": "Python 3",
   "language": "python",
   "name": "python3"
  },
  "language_info": {
   "codemirror_mode": {
    "name": "ipython",
    "version": 3
   },
   "file_extension": ".py",
   "mimetype": "text/x-python",
   "name": "python",
   "nbconvert_exporter": "python",
   "pygments_lexer": "ipython3",
   "version": "3.7.3"
  }
 },
 "nbformat": 4,
 "nbformat_minor": 2
}

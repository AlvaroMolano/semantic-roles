{
 "cells": [
  {
   "cell_type": "markdown",
   "metadata": {},
   "source": [
    "# Annotating agency for Lev 17-26"
   ]
  },
  {
   "cell_type": "markdown",
   "metadata": {},
   "source": [
    "#### Annotated files\n",
    "\n",
    "* Original annotation: [Lev17-26.Volition_Affectedness_all.csv](datasets/Lev17-26.Volition_Affectedness_all.csv)\n",
    "* First check: Checking cases that are commented ore question-marked: [Lev17-26.Volition_Affectedness_all_cor_1.csv](datasets/Lev17-26.Volition_Affectedness_all_cor_1.csv)\n",
    "* Second check: Checking verbs for which Actor and Undergoer(s) are annotated differently: [Lev17-26.Volition_Affectedness_all_cor_2.csv](datasets/Lev17-26.Volition_Affectedness_all_cor_2.csv)\n",
    "* Third check: Manual inspection of all complement phrases in Lev 16-27: [Lev17-26.Volition_Affectedness_all_cor_3.csv](datasets/Lev17-26.Volition_Affectedness_all_cor_3.csv)"
   ]
  },
  {
   "cell_type": "code",
   "execution_count": 1,
   "metadata": {},
   "outputs": [],
   "source": [
    "#Dataset path\n",
    "PATH = 'datasets/'"
   ]
  },
  {
   "cell_type": "code",
   "execution_count": 3,
   "metadata": {},
   "outputs": [],
   "source": [
    "from IPython.display import clear_output\n",
    "\n",
    "import collections\n",
    "from operator import itemgetter\n",
    "import pandas as pd\n",
    "\n",
    "from tf.app import use"
   ]
  },
  {
   "cell_type": "code",
   "execution_count": 4,
   "metadata": {},
   "outputs": [
    {
     "name": "stdout",
     "output_type": "stream",
     "text": [
      "TF app is up-to-date.\n",
      "Using annotation/app-bhsa commit 5fdf1778d51d938bfe80b37b415e36618e50190c (=latest)\n",
      "  in C:\\Users\\Ejer/text-fabric-data/__apps__/bhsa.\n",
      "Using etcbc/bhsa/tf - c r1.4 in C:\\Users\\Ejer/text-fabric-data\n",
      "Using etcbc/phono/tf - c r1.1 in C:\\Users\\Ejer/text-fabric-data\n",
      "Using etcbc/parallels/tf - c r1.1 in C:\\Users\\Ejer/text-fabric-data\n",
      "Using etcbc/heads/tf - c rv.1.11 in C:\\Users\\Ejer/text-fabric-data\n"
     ]
    },
    {
     "data": {
      "text/html": [
       "<b>Documentation:</b> <a target=\"_blank\" href=\"https://etcbc.github.io/bhsa\" title=\"provenance of BHSA = Biblia Hebraica Stuttgartensia Amstelodamensis\">BHSA</a> <a target=\"_blank\" href=\"https://annotation.github.io/text-fabric/Writing/Hebrew\" title=\"('Hebrew characters and transcriptions',)\">Character table</a> <a target=\"_blank\" href=\"https://etcbc.github.io/bhsa/features/0_home\" title=\"BHSA feature documentation\">Feature docs</a> <a target=\"_blank\" href=\"https://github.com/annotation/app-bhsa\" title=\"bhsa API documentation\">bhsa API</a> <a target=\"_blank\" href=\"https://annotation.github.io/text-fabric/Api/Fabric/\" title=\"text-fabric-api\">Text-Fabric API 7.5.4</a> <a target=\"_blank\" href=\"https://annotation.github.io/text-fabric/Use/Search/\" title=\"Search Templates Introduction and Reference\">Search Reference</a><details open><summary><b>Loaded features</b>:</summary>\n",
       "<p><b>BHSA = Biblia Hebraica Stuttgartensia Amstelodamensis</b>: <a target=\"_blank\" href=\"https://etcbc.github.io/bhsa/features/book\" title=\"C:\\Users\\Ejer/text-fabric-data/etcbc/bhsa/tf/c\\book.tf\">book</a>  <a target=\"_blank\" href=\"https://etcbc.github.io/bhsa/features/book@ll\" title=\"C:\\Users\\Ejer/text-fabric-data/etcbc/bhsa/tf/c\\book@am.tf\">book@ll</a>  <a target=\"_blank\" href=\"https://etcbc.github.io/bhsa/features/chapter\" title=\"C:\\Users\\Ejer/text-fabric-data/etcbc/bhsa/tf/c\\chapter.tf\">chapter</a>  <a target=\"_blank\" href=\"https://etcbc.github.io/bhsa/features/code\" title=\"C:\\Users\\Ejer/text-fabric-data/etcbc/bhsa/tf/c\\code.tf\">code</a>  <a target=\"_blank\" href=\"https://etcbc.github.io/bhsa/features/det\" title=\"C:\\Users\\Ejer/text-fabric-data/etcbc/bhsa/tf/c\\det.tf\">det</a>  <a target=\"_blank\" href=\"https://etcbc.github.io/bhsa/features/domain\" title=\"C:\\Users\\Ejer/text-fabric-data/etcbc/bhsa/tf/c\\domain.tf\">domain</a>  <a target=\"_blank\" href=\"https://etcbc.github.io/bhsa/features/freq_lex\" title=\"C:\\Users\\Ejer/text-fabric-data/etcbc/bhsa/tf/c\\freq_lex.tf\">freq_lex</a>  <a target=\"_blank\" href=\"https://etcbc.github.io/bhsa/features/function\" title=\"C:\\Users\\Ejer/text-fabric-data/etcbc/bhsa/tf/c\\function.tf\">function</a>  <a target=\"_blank\" href=\"https://etcbc.github.io/bhsa/features/g_cons\" title=\"C:\\Users\\Ejer/text-fabric-data/etcbc/bhsa/tf/c\\g_cons.tf\">g_cons</a>  <a target=\"_blank\" href=\"https://etcbc.github.io/bhsa/features/g_cons_utf8\" title=\"C:\\Users\\Ejer/text-fabric-data/etcbc/bhsa/tf/c\\g_cons_utf8.tf\">g_cons_utf8</a>  <a target=\"_blank\" href=\"https://etcbc.github.io/bhsa/features/g_lex\" title=\"C:\\Users\\Ejer/text-fabric-data/etcbc/bhsa/tf/c\\g_lex.tf\">g_lex</a>  <a target=\"_blank\" href=\"https://etcbc.github.io/bhsa/features/g_lex_utf8\" title=\"C:\\Users\\Ejer/text-fabric-data/etcbc/bhsa/tf/c\\g_lex_utf8.tf\">g_lex_utf8</a>  <a target=\"_blank\" href=\"https://etcbc.github.io/bhsa/features/g_word\" title=\"C:\\Users\\Ejer/text-fabric-data/etcbc/bhsa/tf/c\\g_word.tf\">g_word</a>  <a target=\"_blank\" href=\"https://etcbc.github.io/bhsa/features/g_word_utf8\" title=\"C:\\Users\\Ejer/text-fabric-data/etcbc/bhsa/tf/c\\g_word_utf8.tf\">g_word_utf8</a>  <a target=\"_blank\" href=\"https://etcbc.github.io/bhsa/features/gloss\" title=\"C:\\Users\\Ejer/text-fabric-data/etcbc/bhsa/tf/c\\gloss.tf\">gloss</a>  <a target=\"_blank\" href=\"https://etcbc.github.io/bhsa/features/gn\" title=\"C:\\Users\\Ejer/text-fabric-data/etcbc/bhsa/tf/c\\gn.tf\">gn</a>  <a target=\"_blank\" href=\"https://etcbc.github.io/bhsa/features/label\" title=\"C:\\Users\\Ejer/text-fabric-data/etcbc/bhsa/tf/c\\label.tf\">label</a>  <a target=\"_blank\" href=\"https://etcbc.github.io/bhsa/features/language\" title=\"C:\\Users\\Ejer/text-fabric-data/etcbc/bhsa/tf/c\\language.tf\">language</a>  <a target=\"_blank\" href=\"https://etcbc.github.io/bhsa/features/lex\" title=\"C:\\Users\\Ejer/text-fabric-data/etcbc/bhsa/tf/c\\lex.tf\">lex</a>  <a target=\"_blank\" href=\"https://etcbc.github.io/bhsa/features/lex_utf8\" title=\"C:\\Users\\Ejer/text-fabric-data/etcbc/bhsa/tf/c\\lex_utf8.tf\">lex_utf8</a>  <a target=\"_blank\" href=\"https://etcbc.github.io/bhsa/features/ls\" title=\"C:\\Users\\Ejer/text-fabric-data/etcbc/bhsa/tf/c\\ls.tf\">ls</a>  <a target=\"_blank\" href=\"https://etcbc.github.io/bhsa/features/nametype\" title=\"C:\\Users\\Ejer/text-fabric-data/etcbc/bhsa/tf/c\\nametype.tf\">nametype</a>  <a target=\"_blank\" href=\"https://etcbc.github.io/bhsa/features/nme\" title=\"C:\\Users\\Ejer/text-fabric-data/etcbc/bhsa/tf/c\\nme.tf\">nme</a>  <a target=\"_blank\" href=\"https://etcbc.github.io/bhsa/features/nu\" title=\"C:\\Users\\Ejer/text-fabric-data/etcbc/bhsa/tf/c\\nu.tf\">nu</a>  <a target=\"_blank\" href=\"https://etcbc.github.io/bhsa/features/number\" title=\"C:\\Users\\Ejer/text-fabric-data/etcbc/bhsa/tf/c\\number.tf\">number</a>  <a target=\"_blank\" href=\"https://etcbc.github.io/bhsa/features/otype\" title=\"C:\\Users\\Ejer/text-fabric-data/etcbc/bhsa/tf/c\\otype.tf\">otype</a>  <a target=\"_blank\" href=\"https://etcbc.github.io/bhsa/features/pargr\" title=\"C:\\Users\\Ejer/text-fabric-data/etcbc/bhsa/tf/c\\pargr.tf\">pargr</a>  <a target=\"_blank\" href=\"https://etcbc.github.io/bhsa/features/pdp\" title=\"C:\\Users\\Ejer/text-fabric-data/etcbc/bhsa/tf/c\\pdp.tf\">pdp</a>  <a target=\"_blank\" href=\"https://etcbc.github.io/bhsa/features/pfm\" title=\"C:\\Users\\Ejer/text-fabric-data/etcbc/bhsa/tf/c\\pfm.tf\">pfm</a>  <a target=\"_blank\" href=\"https://etcbc.github.io/bhsa/features/prs\" title=\"C:\\Users\\Ejer/text-fabric-data/etcbc/bhsa/tf/c\\prs.tf\">prs</a>  <a target=\"_blank\" href=\"https://etcbc.github.io/bhsa/features/prs_gn\" title=\"C:\\Users\\Ejer/text-fabric-data/etcbc/bhsa/tf/c\\prs_gn.tf\">prs_gn</a>  <a target=\"_blank\" href=\"https://etcbc.github.io/bhsa/features/prs_nu\" title=\"C:\\Users\\Ejer/text-fabric-data/etcbc/bhsa/tf/c\\prs_nu.tf\">prs_nu</a>  <a target=\"_blank\" href=\"https://etcbc.github.io/bhsa/features/prs_ps\" title=\"C:\\Users\\Ejer/text-fabric-data/etcbc/bhsa/tf/c\\prs_ps.tf\">prs_ps</a>  <a target=\"_blank\" href=\"https://etcbc.github.io/bhsa/features/ps\" title=\"C:\\Users\\Ejer/text-fabric-data/etcbc/bhsa/tf/c\\ps.tf\">ps</a>  <a target=\"_blank\" href=\"https://etcbc.github.io/bhsa/features/qere\" title=\"C:\\Users\\Ejer/text-fabric-data/etcbc/bhsa/tf/c\\qere.tf\">qere</a>  <a target=\"_blank\" href=\"https://etcbc.github.io/bhsa/features/qere_trailer\" title=\"C:\\Users\\Ejer/text-fabric-data/etcbc/bhsa/tf/c\\qere_trailer.tf\">qere_trailer</a>  <a target=\"_blank\" href=\"https://etcbc.github.io/bhsa/features/qere_trailer_utf8\" title=\"C:\\Users\\Ejer/text-fabric-data/etcbc/bhsa/tf/c\\qere_trailer_utf8.tf\">qere_trailer_utf8</a>  <a target=\"_blank\" href=\"https://etcbc.github.io/bhsa/features/qere_utf8\" title=\"C:\\Users\\Ejer/text-fabric-data/etcbc/bhsa/tf/c\\qere_utf8.tf\">qere_utf8</a>  <a target=\"_blank\" href=\"https://etcbc.github.io/bhsa/features/rank_lex\" title=\"C:\\Users\\Ejer/text-fabric-data/etcbc/bhsa/tf/c\\rank_lex.tf\">rank_lex</a>  <a target=\"_blank\" href=\"https://etcbc.github.io/bhsa/features/rela\" title=\"C:\\Users\\Ejer/text-fabric-data/etcbc/bhsa/tf/c\\rela.tf\">rela</a>  <a target=\"_blank\" href=\"https://etcbc.github.io/bhsa/features/sp\" title=\"C:\\Users\\Ejer/text-fabric-data/etcbc/bhsa/tf/c\\sp.tf\">sp</a>  <a target=\"_blank\" href=\"https://etcbc.github.io/bhsa/features/st\" title=\"C:\\Users\\Ejer/text-fabric-data/etcbc/bhsa/tf/c\\st.tf\">st</a>  <a target=\"_blank\" href=\"https://etcbc.github.io/bhsa/features/tab\" title=\"C:\\Users\\Ejer/text-fabric-data/etcbc/bhsa/tf/c\\tab.tf\">tab</a>  <a target=\"_blank\" href=\"https://etcbc.github.io/bhsa/features/trailer\" title=\"C:\\Users\\Ejer/text-fabric-data/etcbc/bhsa/tf/c\\trailer.tf\">trailer</a>  <a target=\"_blank\" href=\"https://etcbc.github.io/bhsa/features/trailer_utf8\" title=\"C:\\Users\\Ejer/text-fabric-data/etcbc/bhsa/tf/c\\trailer_utf8.tf\">trailer_utf8</a>  <a target=\"_blank\" href=\"https://etcbc.github.io/bhsa/features/txt\" title=\"C:\\Users\\Ejer/text-fabric-data/etcbc/bhsa/tf/c\\txt.tf\">txt</a>  <a target=\"_blank\" href=\"https://etcbc.github.io/bhsa/features/typ\" title=\"C:\\Users\\Ejer/text-fabric-data/etcbc/bhsa/tf/c\\typ.tf\">typ</a>  <a target=\"_blank\" href=\"https://etcbc.github.io/bhsa/features/uvf\" title=\"C:\\Users\\Ejer/text-fabric-data/etcbc/bhsa/tf/c\\uvf.tf\">uvf</a>  <a target=\"_blank\" href=\"https://etcbc.github.io/bhsa/features/vbe\" title=\"C:\\Users\\Ejer/text-fabric-data/etcbc/bhsa/tf/c\\vbe.tf\">vbe</a>  <a target=\"_blank\" href=\"https://etcbc.github.io/bhsa/features/vbs\" title=\"C:\\Users\\Ejer/text-fabric-data/etcbc/bhsa/tf/c\\vbs.tf\">vbs</a>  <a target=\"_blank\" href=\"https://etcbc.github.io/bhsa/features/verse\" title=\"C:\\Users\\Ejer/text-fabric-data/etcbc/bhsa/tf/c\\verse.tf\">verse</a>  <a target=\"_blank\" href=\"https://etcbc.github.io/bhsa/features/voc_lex\" title=\"C:\\Users\\Ejer/text-fabric-data/etcbc/bhsa/tf/c\\voc_lex.tf\">voc_lex</a>  <a target=\"_blank\" href=\"https://etcbc.github.io/bhsa/features/voc_lex_utf8\" title=\"C:\\Users\\Ejer/text-fabric-data/etcbc/bhsa/tf/c\\voc_lex_utf8.tf\">voc_lex_utf8</a>  <a target=\"_blank\" href=\"https://etcbc.github.io/bhsa/features/vs\" title=\"C:\\Users\\Ejer/text-fabric-data/etcbc/bhsa/tf/c\\vs.tf\">vs</a>  <a target=\"_blank\" href=\"https://etcbc.github.io/bhsa/features/vt\" title=\"C:\\Users\\Ejer/text-fabric-data/etcbc/bhsa/tf/c\\vt.tf\">vt</a>  <b><i><a target=\"_blank\" href=\"https://etcbc.github.io/bhsa/features/mother\" title=\"C:\\Users\\Ejer/text-fabric-data/etcbc/bhsa/tf/c\\mother.tf\">mother</a></i></b>  <b><i><a target=\"_blank\" href=\"https://etcbc.github.io/bhsa/features/oslots\" title=\"C:\\Users\\Ejer/text-fabric-data/etcbc/bhsa/tf/c\\oslots.tf\">oslots</a></i></b> </p><p><b>etcbc/heads/tf</b>: <a target=\"_blank\" href=\"https://github.com/etcbc/heads/tree/master/tf\" title=\"C:\\Users\\Ejer/text-fabric-data/etcbc/heads/tf/c\\sem_set.tf\">sem_set</a>  <b><i><a target=\"_blank\" href=\"https://github.com/etcbc/heads/tree/master/tf\" title=\"C:\\Users\\Ejer/text-fabric-data/etcbc/heads/tf/c\\head.tf\">head</a></i></b>  <b><i><a target=\"_blank\" href=\"https://github.com/etcbc/heads/tree/master/tf\" title=\"C:\\Users\\Ejer/text-fabric-data/etcbc/heads/tf/c\\nhead.tf\">nhead</a></i></b>  <b><i><a target=\"_blank\" href=\"https://github.com/etcbc/heads/tree/master/tf\" title=\"C:\\Users\\Ejer/text-fabric-data/etcbc/heads/tf/c\\obj_prep.tf\">obj_prep</a></i></b> </p><p><b>Parallel Passages</b>: <b><i><a target=\"_blank\" href=\"https://nbviewer.jupyter.org/github/etcbc/parallels/blob/master/programs/parallels.ipynb\" title=\"C:\\Users\\Ejer/text-fabric-data/etcbc/parallels/tf/c\\crossref.tf\">crossref</a></i></b> </p><p><b>Phonetic Transcriptions</b>: <a target=\"_blank\" href=\"https://nbviewer.jupyter.org/github/etcbc/phono/blob/master/programs/phono.ipynb\" title=\"C:\\Users\\Ejer/text-fabric-data/etcbc/phono/tf/c\\phono.tf\">phono</a>  <a target=\"_blank\" href=\"https://nbviewer.jupyter.org/github/etcbc/phono/blob/master/programs/phono.ipynb\" title=\"C:\\Users\\Ejer/text-fabric-data/etcbc/phono/tf/c\\phono_trailer.tf\">phono_trailer</a> </p></details>"
      ],
      "text/plain": [
       "<IPython.core.display.HTML object>"
      ]
     },
     "metadata": {},
     "output_type": "display_data"
    },
    {
     "data": {
      "text/html": [
       "<style>\n",
       "@font-face {\n",
       "  font-family: \"Ezra SIL\";\n",
       "  src:\n",
       "    local(\"SILEOT.ttf\"),\n",
       "    url(\"https://github.com/annotation/text-fabric/blob/master/tf/server/static/fonts/SILEOT.woff?raw=true\");\n",
       "}\n",
       ".features {\n",
       "    font-family: monospace;\n",
       "    font-size: medium;\n",
       "    font-weight: bold;\n",
       "    color: #0a6611;\n",
       "    display: flex;\n",
       "    flex-flow: column nowrap;\n",
       "    padding: 0.1em;\n",
       "    margin: 0.1em;\n",
       "    direction: ltr;\n",
       "}\n",
       ".features div,.features span {\n",
       "    padding: 0;\n",
       "    margin: -0.1rem 0;\n",
       "}\n",
       ".features .f {\n",
       "    font-family: sans-serif;\n",
       "    font-size: x-small;\n",
       "    font-weight: normal;\n",
       "    color: #5555bb;\n",
       "}\n",
       ".features .xft {\n",
       "  color: #000000;\n",
       "  background-color: #eeeeee;\n",
       "  font-size: medium;\n",
       "  margin: 0.1em 0em;\n",
       "}\n",
       ".features .xft .f {\n",
       "  color: #000000;\n",
       "  background-color: #eeeeee;\n",
       "  font-style: italic;\n",
       "  font-size: small;\n",
       "  font-weight: normal;\n",
       "}\n",
       ".ltr {\n",
       "    direction: ltr ! important;\n",
       "}\n",
       ".verse {\n",
       "    display: flex;\n",
       "    flex-flow: row wrap;\n",
       "    direction: rtl;\n",
       "}\n",
       ".vl {\n",
       "    display: flex;\n",
       "    flex-flow: column nowrap;\n",
       "    justify-content: flex-end;\n",
       "    align-items: flex-end;\n",
       "    direction: ltr;\n",
       "    width: 100%;\n",
       "}\n",
       ".outeritem {\n",
       "    display: flex;\n",
       "    flex-flow: row wrap;\n",
       "    direction: rtl;\n",
       "}\n",
       ".sentence,.clause,.phrase {\n",
       "    margin-top: -1.2em;\n",
       "    margin-left: 1em;\n",
       "    background: #ffffff none repeat scroll 0 0;\n",
       "    padding: 0 0.3em;\n",
       "    border-style: solid;\n",
       "    border-radius: 0.2em;\n",
       "    font-size: small;\n",
       "    display: block;\n",
       "    width: fit-content;\n",
       "    max-width: fit-content;\n",
       "    direction: ltr;\n",
       "}\n",
       ".atoms {\n",
       "    display: flex;\n",
       "    flex-flow: row wrap;\n",
       "    margin: 0.3em;\n",
       "    padding: 0.3em;\n",
       "    direction: rtl;\n",
       "    background-color: #ffffff;\n",
       "}\n",
       ".satom,.catom,.patom {\n",
       "    margin: 0.3em;\n",
       "    padding: 0.3em;\n",
       "    border-radius: 0.3em;\n",
       "    border-style: solid;\n",
       "    display: flex;\n",
       "    flex-flow: column nowrap;\n",
       "    direction: rtl;\n",
       "    background-color: #ffffff;\n",
       "}\n",
       ".sentence {\n",
       "    border-color: #aa3333;\n",
       "    border-width: 1px;\n",
       "}\n",
       ".clause {\n",
       "    border-color: #aaaa33;\n",
       "    border-width: 1px;\n",
       "}\n",
       ".phrase {\n",
       "    border-color: #33aaaa;\n",
       "    border-width: 1px;\n",
       "}\n",
       ".satom {\n",
       "    border-color: #aa3333;\n",
       "    border-width: 4px;\n",
       "}\n",
       ".catom {\n",
       "    border-color: #aaaa33;\n",
       "    border-width: 3px;\n",
       "}\n",
       ".patom {\n",
       "    border-color: #33aaaa;\n",
       "    border-width: 3px;\n",
       "}\n",
       ".word {\n",
       "    padding: 0.1em;\n",
       "    margin: 0.1em;\n",
       "    border-radius: 0.1em;\n",
       "    border: 1px solid #cccccc;\n",
       "    display: flex;\n",
       "    flex-flow: column nowrap;\n",
       "    direction: rtl;\n",
       "    background-color: #ffffff;\n",
       "}\n",
       ".lextp {\n",
       "    padding: 0.1em;\n",
       "    margin: 0.1em;\n",
       "    border-radius: 0.1em;\n",
       "    border: 2px solid #888888;\n",
       "    width: fit-content;\n",
       "    display: flex;\n",
       "    flex-flow: column nowrap;\n",
       "    direction: rtl;\n",
       "    background-color: #ffffff;\n",
       "}\n",
       ".occs {\n",
       "    font-size: x-small;\n",
       "}\n",
       ".satom.l,.catom.l,.patom.l {\n",
       "    border-left-style: dotted\n",
       "}\n",
       ".satom.r,.catom.r,.patom.r {\n",
       "    border-right-style: dotted\n",
       "}\n",
       ".satom.lno,.catom.lno,.patom.lno {\n",
       "    border-left-style: none\n",
       "}\n",
       ".satom.rno,.catom.rno,.patom.rno {\n",
       "    border-right-style: none\n",
       "}\n",
       ".tr,.tr a:visited,.tr a:link {\n",
       "    font-family: sans-serif;\n",
       "    font-size: large;\n",
       "    color: #000044;\n",
       "    direction: ltr;\n",
       "    text-decoration: none;\n",
       "}\n",
       ".trb,.trb a:visited,.trb a:link {\n",
       "    font-family: sans-serif;\n",
       "    font-size: normal;\n",
       "    direction: ltr;\n",
       "    text-decoration: none;\n",
       "}\n",
       ".prb,.prb a:visited,.prb a:link {\n",
       "    font-family: sans-serif;\n",
       "    font-size: large;\n",
       "    direction: ltr;\n",
       "    text-decoration: none;\n",
       "}\n",
       ".h,.h a:visited,.h a:link {\n",
       "    font-family: \"Ezra SIL\", \"SBL Hebrew\", sans-serif;\n",
       "    font-size: large;\n",
       "    color: #000044;\n",
       "    direction: rtl;\n",
       "    text-decoration: none;\n",
       "}\n",
       ".hb,.hb a:visited,.hb a:link {\n",
       "    font-family: \"Ezra SIL\", \"SBL Hebrew\", sans-serif;\n",
       "    font-size: large;\n",
       "    line-height: 2;\n",
       "    direction: rtl;\n",
       "    text-decoration: none;\n",
       "}\n",
       ".vn {\n",
       "  font-size: small !important;\n",
       "  padding-right: 1em;\n",
       "}\n",
       ".rela,.function,.typ {\n",
       "    font-family: monospace;\n",
       "    font-size: small;\n",
       "    color: #0000bb;\n",
       "}\n",
       ".pdp,.pdp a:visited,.pdp a:link {\n",
       "    font-family: monospace;\n",
       "    font-size: medium;\n",
       "    color: #0000bb;\n",
       "    text-decoration: none;\n",
       "}\n",
       ".voc_lex {\n",
       "    font-family: monospace;\n",
       "    font-size: medium;\n",
       "    color: #0000bb;\n",
       "}\n",
       ".vs {\n",
       "    font-family: monospace;\n",
       "    font-size: medium;\n",
       "    font-weight: bold;\n",
       "    color: #0000bb;\n",
       "}\n",
       ".vt {\n",
       "    font-family: monospace;\n",
       "    font-size: medium;\n",
       "    font-weight: bold;\n",
       "    color: #0000bb;\n",
       "}\n",
       ".gloss {\n",
       "    font-family: sans-serif;\n",
       "    font-size: small;\n",
       "    font-weight: normal;\n",
       "    color: #444444;\n",
       "}\n",
       ".vrs {\n",
       "    font-family: sans-serif;\n",
       "    font-size: small;\n",
       "    font-weight: bold;\n",
       "    color: #444444;\n",
       "}\n",
       ".nd {\n",
       "    font-family: monospace;\n",
       "    font-size: x-small;\n",
       "    color: #999999;\n",
       "}\n",
       ".hl {\n",
       "    background-color: #ffee66;\n",
       "}\n",
       "\n",
       "tr.tf, td.tf, th.tf {\n",
       "  text-align: left;\n",
       "}\n",
       "\n",
       "span.hldot {\n",
       "\tbackground-color: var(--hl-strong);\n",
       "\tborder: 0.2rem solid var(--hl-rim);\n",
       "\tborder-radius: 0.4rem;\n",
       "\t/*\n",
       "\tdisplay: inline-block;\n",
       "\twidth: 0.8rem;\n",
       "\theight: 0.8rem;\n",
       "\t*/\n",
       "}\n",
       "span.hl {\n",
       "\tbackground-color: var(--hl-strong);\n",
       "\tborder-width: 0;\n",
       "\tborder-radius: 0.1rem;\n",
       "\tborder-style: solid;\n",
       "}\n",
       "\n",
       "span.hlup {\n",
       "\tborder-color: var(--hl-dark);\n",
       "\tborder-width: 0.1rem;\n",
       "\tborder-style: solid;\n",
       "\tborder-radius: 0.2rem;\n",
       "  padding: 0.2rem;\n",
       "}\n",
       "\n",
       ":root {\n",
       "\t--hl-strong:        hsla( 60, 100%,  70%, 0.9  );\n",
       "\t--hl-rim:           hsla( 55, 100%,  60%, 0.9  );\n",
       "\t--hl-dark:          hsla( 55, 100%,  40%, 0.9  );\n",
       "}\n",
       "</style>"
      ],
      "text/plain": [
       "<IPython.core.display.HTML object>"
      ]
     },
     "metadata": {},
     "output_type": "display_data"
    },
    {
     "data": {
      "text/html": [
       "<details open><summary><b>API members</b>:</summary>\n",
       "<a target=\"_blank\" href=\"https://annotation.github.io/text-fabric/Api/Computed/#computed-data\" title=\"doc\">C Computed</a>, <a target=\"_blank\" href=\"https://annotation.github.io/text-fabric/Api/Computed/#computed-data\" title=\"doc\">Call AllComputeds</a>, <a target=\"_blank\" href=\"https://annotation.github.io/text-fabric/Api/Computed/#computed-data\" title=\"doc\">Cs ComputedString</a><br/>\n",
       "<a target=\"_blank\" href=\"https://annotation.github.io/text-fabric/Api/Features/#edge-features\" title=\"doc\">E Edge</a>, <a target=\"_blank\" href=\"https://annotation.github.io/text-fabric/Api/Features/#edge-features\" title=\"doc\">Eall AllEdges</a>, <a target=\"_blank\" href=\"https://annotation.github.io/text-fabric/Api/Features/#edge-features\" title=\"doc\">Es EdgeString</a><br/>\n",
       "<a target=\"_blank\" href=\"https://annotation.github.io/text-fabric/Api/Fabric/#loading\" title=\"doc\">ensureLoaded</a>, <a target=\"_blank\" href=\"https://annotation.github.io/text-fabric/Api/Fabric/#loading\" title=\"doc\">TF</a>, <a target=\"_blank\" href=\"https://annotation.github.io/text-fabric/Api/Fabric/#loading\" title=\"doc\">ignored</a>, <a target=\"_blank\" href=\"https://annotation.github.io/text-fabric/Api/Fabric/#loading\" title=\"doc\">loadLog</a><br/>\n",
       "<a target=\"_blank\" href=\"https://annotation.github.io/text-fabric/Api/Locality/#locality\" title=\"doc\">L Locality</a><br/>\n",
       "<a target=\"_blank\" href=\"https://annotation.github.io/text-fabric/Api/Misc/#messaging\" title=\"doc\">cache</a>, <a target=\"_blank\" href=\"https://annotation.github.io/text-fabric/Api/Misc/#messaging\" title=\"doc\">error</a>, <a target=\"_blank\" href=\"https://annotation.github.io/text-fabric/Api/Misc/#messaging\" title=\"doc\">indent</a>, <a target=\"_blank\" href=\"https://annotation.github.io/text-fabric/Api/Misc/#messaging\" title=\"doc\">info</a>, <a target=\"_blank\" href=\"https://annotation.github.io/text-fabric/Api/Misc/#messaging\" title=\"doc\">reset</a><br/>\n",
       "<a target=\"_blank\" href=\"https://annotation.github.io/text-fabric/Api/Nodes/#navigating-nodes\" title=\"doc\">N Nodes</a>, <a target=\"_blank\" href=\"https://annotation.github.io/text-fabric/Api/Nodes/#navigating-nodes\" title=\"doc\">sortKey</a>, <a target=\"_blank\" href=\"https://annotation.github.io/text-fabric/Api/Nodes/#navigating-nodes\" title=\"doc\">sortKeyTuple</a>, <a target=\"_blank\" href=\"https://annotation.github.io/text-fabric/Api/Nodes/#navigating-nodes\" title=\"doc\">otypeRank</a>, <a target=\"_blank\" href=\"https://annotation.github.io/text-fabric/Api/Nodes/#navigating-nodes\" title=\"doc\">sortNodes</a><br/>\n",
       "<a target=\"_blank\" href=\"https://annotation.github.io/text-fabric/Api/Features/#node-features\" title=\"doc\">F Feature</a>, <a target=\"_blank\" href=\"https://annotation.github.io/text-fabric/Api/Features/#node-features\" title=\"doc\">Fall AllFeatures</a>, <a target=\"_blank\" href=\"https://annotation.github.io/text-fabric/Api/Features/#node-features\" title=\"doc\">Fs FeatureString</a><br/>\n",
       "<a target=\"_blank\" href=\"https://annotation.github.io/text-fabric/Api/Search/#search\" title=\"doc\">S Search</a><br/>\n",
       "<a target=\"_blank\" href=\"https://annotation.github.io/text-fabric/Api/Text/#text\" title=\"doc\">T Text</a></details>"
      ],
      "text/plain": [
       "<IPython.core.display.HTML object>"
      ]
     },
     "metadata": {},
     "output_type": "display_data"
    }
   ],
   "source": [
    "A = use('bhsa', hoist=globals(), mod='etcbc/heads/tf')"
   ]
  },
  {
   "cell_type": "code",
   "execution_count": 3,
   "metadata": {},
   "outputs": [
    {
     "name": "stdout",
     "output_type": "stream",
     "text": [
      "  1.28s 936 results\n"
     ]
    }
   ],
   "source": [
    "all_verbs = '''\n",
    "book book=Leviticus\n",
    " chapter chapter=17|18|19|20|21|22|23|24|25|26\n",
    "  clause\n",
    "   phrase function=Pred|PreO|PreS|PreC|PtcO\n",
    "     word pdp=verb\n",
    "'''\n",
    "\n",
    "all_verbs = A.search(all_verbs)"
   ]
  },
  {
   "cell_type": "code",
   "execution_count": 4,
   "metadata": {},
   "outputs": [
    {
     "data": {
      "text/plain": [
       "936"
      ]
     },
     "execution_count": 4,
     "metadata": {},
     "output_type": "execute_result"
    }
   ],
   "source": [
    "total_clauses = [r[2] for r in all_verbs]\n",
    "len(set(total_clauses))"
   ]
  },
  {
   "cell_type": "markdown",
   "metadata": {},
   "source": [
    "## Annotating Volition and Affectedness"
   ]
  },
  {
   "cell_type": "markdown",
   "metadata": {},
   "source": [
    "#### Initial functions and variables"
   ]
  },
  {
   "cell_type": "code",
   "execution_count": 5,
   "metadata": {},
   "outputs": [],
   "source": [
    "anno = 'y n ?'.split()\n",
    "\n",
    "STOP = 'stop'\n",
    "error_message = \"Input is invalid\""
   ]
  },
  {
   "cell_type": "code",
   "execution_count": 6,
   "metadata": {},
   "outputs": [],
   "source": [
    "import subprocess\n",
    "\n",
    "def LogosLink(node, bible='bhssesb'):\n",
    "    bo, ch, ve = T.sectionFromNode(node)\n",
    "    logos_link = f'logosres:{bible};ref=BibleBHS.{bo}{ch}.{ve}'\n",
    "    \n",
    "    #Open Logos\n",
    "    path='C:/Users/Ejer/AppData/Local/Logos/'\n",
    "    p = subprocess.Popen([f'{path}Logos.exe', logos_link])\n",
    "\n",
    "#LogosLink(250000)"
   ]
  },
  {
   "cell_type": "code",
   "execution_count": 7,
   "metadata": {},
   "outputs": [],
   "source": [
    "def input_loop(question, right_answer):\n",
    "    '''\n",
    "    input_loop is used when the user is required to make an input. Question has to be a string,\n",
    "    while right_answer is a list of accepted answer(s).\n",
    "    '''\n",
    "    while True:\n",
    "        test = input(f'{question} ({\",\".join(right_answer)})') #The user is required to respond to message.\n",
    "        if test in right_answer:\n",
    "            return test\n",
    "        elif test in [STOP]: #Input is accepted\n",
    "            return test\n",
    "        else: #Input is wrong and the user has respond again.\n",
    "            print(error_message)\n",
    "\n",
    "def get_head(ph):\n",
    "    nom_head = E.nhead.t(ph)\n",
    "    if len(nom_head) > 0:\n",
    "        return nom_head[0]\n",
    "    else:\n",
    "        return E.head.t(ph)[0]"
   ]
  },
  {
   "cell_type": "code",
   "execution_count": 23,
   "metadata": {},
   "outputs": [],
   "source": [
    "def user_input(clauses):\n",
    "    \n",
    "    annotations = {}\n",
    "    \n",
    "    for clause_node in clauses:\n",
    "    \n",
    "        clear_output()\n",
    "        \n",
    "        Act = ''\n",
    "        Act_Vol = ''\n",
    "        Act_Aff = ''\n",
    "        Und1 = ''\n",
    "        Und1_Vol = ''\n",
    "        Und1_Aff = ''\n",
    "        Und2 = ''\n",
    "        Und2_Vol = ''\n",
    "        Und2_Aff = ''\n",
    "\n",
    "        #Defining possible Actor and Undergoer syntactic functions\n",
    "        Actor = ['Subj','Pred','PreS','PreO','PreC','PtcO','Rela']\n",
    "        Undergoer1 = ['Objc','PreO','PtcO','Cmpl','Rela']\n",
    "        Undergoer2 = ['Objc','PreO','PtcO','Cmpl','Rela']\n",
    "\n",
    "        #If passive voice, Actor and Undergoer are inverted\n",
    "        for ph in L.d(clause_node, 'phrase'):\n",
    "            if F.function.v(ph) in ['Pred','PreS','PreO','PreC','PtcO']:\n",
    "                for w in L.d(ph, 'word'):\n",
    "                    if F.pdp.v(w) == 'verb' and F.vs.v(w) in ['nif','pual','hof']:\n",
    "                        Actor = ['Objc','PreO','PtcO','Cmpl','Rela']\n",
    "                        Undergoer1 = ['Subj','Pred','PreS','PreO','PreC','PtcO','Rela']   \n",
    "\n",
    "        test = ''\n",
    "\n",
    "        LogosLink(clause_node)\n",
    "\n",
    "        for ph in L.d(clause_node, 'phrase'):\n",
    "\n",
    "            head = get_head(ph) #Find nominal or prepositional head.\n",
    "\n",
    "            #Annotate Actor\n",
    "            if F.function.v(ph) in Actor:\n",
    "\n",
    "                #Visualize clause and highlight headword\n",
    "                A.pretty(clause_node, highlights = {head: 'gold'})\n",
    "\n",
    "                #1. test\n",
    "                test = input_loop(\"Actor\", anno)\n",
    "\n",
    "                if test == 'y':\n",
    "                    Act = ph\n",
    "\n",
    "                    test = input_loop(\"Volition\", anno)\n",
    "\n",
    "                    if test in anno:\n",
    "                        Act_Vol = test\n",
    "\n",
    "                        test = input_loop(\"Affectedness\", anno)\n",
    "                        if test in anno:\n",
    "                            Act_Aff = test\n",
    "                            break\n",
    "\n",
    "                        elif test == STOP: break\n",
    "\n",
    "                    elif test == STOP: break\n",
    "\n",
    "                elif test == '?':\n",
    "                    Act = '?'\n",
    "                    break\n",
    "\n",
    "                elif test == 'n': continue\n",
    "\n",
    "                elif test == STOP: break\n",
    "\n",
    "        if test != STOP:\n",
    "            for ph in L.d(clause_node, 'phrase'):\n",
    "\n",
    "                head = get_head(ph) #Find nominal or prepositional head.\n",
    "\n",
    "                #Annotate Undergoer1\n",
    "                if test != STOP and F.function.v(ph) in Undergoer1:\n",
    "\n",
    "                    #Visualize clause and highlight headword\n",
    "                    A.pretty(clause_node, highlights = {head: 'salmon'})\n",
    "\n",
    "                    #1. test\n",
    "                    test = input_loop(\"Undergoer 1\", ['y','n','?'])\n",
    "\n",
    "                    if test == 'y':\n",
    "                        Und1 = ph\n",
    "\n",
    "                        test = input_loop(\"Volition\", anno)\n",
    "\n",
    "                        if test in anno:\n",
    "                            Und1_Vol = test\n",
    "\n",
    "                            test = input_loop(\"Affectedness\", anno)\n",
    "                            if test in anno:\n",
    "                                Und1_Aff = test\n",
    "                                break\n",
    "\n",
    "                            elif test == STOP: break\n",
    "\n",
    "                        elif test == STOP: break\n",
    "\n",
    "                    elif test == '?':\n",
    "                        Und1 = '?'\n",
    "                        break\n",
    "\n",
    "                    elif test == 'n': continue\n",
    "\n",
    "                    elif test == STOP: break\n",
    "\n",
    "        if test != STOP:\n",
    "            for ph in L.d(clause_node, 'phrase'):\n",
    "\n",
    "                head = get_head(ph) #Find nominal or prepositional head.\n",
    "\n",
    "                #Annotate Undergoer2\n",
    "                if test != STOP and F.function.v(ph) in Undergoer1:\n",
    "\n",
    "                    #Visualize clause and highlight headword\n",
    "                    A.pretty(clause_node, highlights = {head: 'salmon'})\n",
    "\n",
    "                    #1. test\n",
    "                    test = input_loop(\"Undergoer 2\", ['y','n','?'])\n",
    "\n",
    "                    if test == 'y':\n",
    "                        Und2 = ph\n",
    "\n",
    "                        test = input_loop(\"Volition\", anno)\n",
    "\n",
    "                        if test in anno:\n",
    "                            Und2_Vol = test\n",
    "\n",
    "                            test = input_loop(\"Affectedness\", anno)\n",
    "                            if test in anno:\n",
    "                                Und2_Aff = test\n",
    "                                break\n",
    "\n",
    "                            elif test == STOP: break\n",
    "\n",
    "                        elif test == STOP: break\n",
    "\n",
    "                    elif test == '?':\n",
    "                        Und1 = '?'\n",
    "                        break\n",
    "\n",
    "                    elif test == 'n': continue\n",
    "\n",
    "                    elif test == STOP: break\n",
    "\n",
    "        if test != STOP:\n",
    "            \n",
    "            comment = input('Make comment')\n",
    "        \n",
    "        if test == STOP:\n",
    "            return annotations\n",
    "        else:\n",
    "            annotations[clause_node] = [Act, Act_Vol, Act_Aff, Und1, Und1_Vol, Und1_Aff, Und2, Und2_Vol, Und2_Aff, comment]\n",
    "            \n",
    "    return annotations"
   ]
  },
  {
   "cell_type": "code",
   "execution_count": 32,
   "metadata": {},
   "outputs": [],
   "source": [
    "datasets = ['Lev17-26.Volition_Affectedness_chap18-20.csv',\n",
    "            'Lev17-26.Volition_Affectedness_chap21-23.csv','Lev17-26.Volition_Affectedness_chap24-25.csv',\n",
    "            'Lev17-26.Volition_Affectedness_chap26a.csv','Lev17-26.Volition_Affectedness_chap26b.csv']\n",
    "\n",
    "prev_runs = [run4]\n",
    "\n",
    "def Clauses(total_clauses, datasets, prev_runs):\n",
    "        \n",
    "    annotated_clauses = []\n",
    "    remaining_clauses = []\n",
    "    \n",
    "    ##1. Check annotated datasets\n",
    "    for csv in datasets:\n",
    "        data = pd.read_csv(csv)\n",
    "        annotated_clauses += list(data.iloc[:,0])\n",
    "        \n",
    "    ##2. Check previous runs (dictionaries with annotations)\n",
    "    for r in prev_runs:\n",
    "        for cl in r:\n",
    "            annotated_clauses.append(cl)\n",
    "            \n",
    "    ##3. Determine the remaining clauses\n",
    "    for cl in total_clauses:\n",
    "        if not cl in annotated_clauses:\n",
    "            remaining_clauses.append(cl)\n",
    "    \n",
    "    return remaining_clauses\n",
    "        \n",
    "remaining_clauses = Clauses(total_clauses, datasets, prev_runs)"
   ]
  },
  {
   "cell_type": "code",
   "execution_count": 33,
   "metadata": {},
   "outputs": [
    {
     "data": {
      "text/plain": [
       "0"
      ]
     },
     "execution_count": 33,
     "metadata": {},
     "output_type": "execute_result"
    }
   ],
   "source": [
    "len(remaining_clauses)"
   ]
  },
  {
   "cell_type": "code",
   "execution_count": 31,
   "metadata": {
    "scrolled": false
   },
   "outputs": [
    {
     "data": {
      "text/html": [
       "<a href=\"https://shebanq.ancient-data.org/hebrew/text?book=Leviticus&amp;chapter=17&amp;verse=16&amp;version=c&amp;mr=m&amp;qw=q&amp;tp=txt_p&amp;tr=hb&amp;wget=v&amp;qget=v&amp;nget=vt\" title=\"show this passage in SHEBANQ\" sec=\"Leviticus 17:16\">Leviticus 17:16</a>\n",
       "<div class=\"atoms  \" >\n",
       "\n",
       "\n",
       "\n",
       "<div class=\"catom  \" >\n",
       "\n",
       "    <div class=\"clause \" >\n",
       "        <a href=\"https://shebanq.ancient-data.org/hebrew/text?book=Leviticus&amp;chapter=17&amp;verse=16&amp;version=c&amp;mr=m&amp;qw=q&amp;tp=txt_p&amp;tr=hb&amp;wget=v&amp;qget=v&amp;nget=vt\" title=\"Leviticus 17:16\" sec=\"Leviticus 17:16\">clause</a>   <span class=\"typ\">WQt0</span>\n",
       "    </div>\n",
       "    <div class=\"atoms\">\n",
       "\n",
       "<div class=\"patom  \" >\n",
       "\n",
       "    <div class=\"phrase \" >\n",
       "        <a href=\"https://shebanq.ancient-data.org/hebrew/text?book=Leviticus&amp;chapter=17&amp;verse=16&amp;version=c&amp;mr=m&amp;qw=q&amp;tp=txt_p&amp;tr=hb&amp;wget=v&amp;qget=v&amp;nget=vt\" title=\"Leviticus 17:16\" sec=\"Leviticus 17:16\">phrase</a>   <span class=\"function\">Conj</span> <span class=\"typ\">CP</span>\n",
       "    </div>\n",
       "    <div class=\"atoms\">\n",
       "\n",
       "<div class=\"word  \" >\n",
       "<div class=\"h\"><a target=\"_blank\" href=\"https://shebanq.ancient-data.org/hebrew/word?version=c&amp;id=1W\" title=\"show this lexeme in SHEBANQ\">וְ</a></div>\n",
       "<div class=\"features\"> <span class=\"pdp\"><a href=\"https://shebanq.ancient-data.org/hebrew/text?book=Leviticus&amp;chapter=17&amp;verse=16&amp;version=c&amp;mr=m&amp;qw=q&amp;tp=txt_p&amp;tr=hb&amp;wget=v&amp;qget=v&amp;nget=vt\" title=\"Leviticus 17:16\" sec=\"Leviticus 17:16\">conj</a></span> <span class=\"gloss\">and</span></div>\n",
       "\n",
       "\n",
       "</div>\n",
       "\n",
       "\n",
       "    </div>\n",
       "\n",
       "\n",
       "</div>\n",
       "\n",
       "<div class=\"patom  \" >\n",
       "\n",
       "    <div class=\"phrase \" >\n",
       "        <a href=\"https://shebanq.ancient-data.org/hebrew/text?book=Leviticus&amp;chapter=17&amp;verse=16&amp;version=c&amp;mr=m&amp;qw=q&amp;tp=txt_p&amp;tr=hb&amp;wget=v&amp;qget=v&amp;nget=vt\" title=\"Leviticus 17:16\" sec=\"Leviticus 17:16\">phrase</a>   <span class=\"function\">Pred</span> <span class=\"typ\">VP</span>\n",
       "    </div>\n",
       "    <div class=\"atoms\">\n",
       "\n",
       "<div class=\"word  hl\"  style=\"background-color: gold;\" >\n",
       "<div class=\"h\"><a target=\"_blank\" href=\"https://shebanq.ancient-data.org/hebrew/word?version=c&amp;id=1NFAv\" title=\"show this lexeme in SHEBANQ\">נָשָׂ֖א </a></div>\n",
       "<div class=\"features\"> <span class=\"pdp\"><a href=\"https://shebanq.ancient-data.org/hebrew/text?book=Leviticus&amp;chapter=17&amp;verse=16&amp;version=c&amp;mr=m&amp;qw=q&amp;tp=txt_p&amp;tr=hb&amp;wget=v&amp;qget=v&amp;nget=vt\" title=\"Leviticus 17:16\" sec=\"Leviticus 17:16\">verb</a></span> <span class=\"gloss\">lift</span> <span class=\"vs\">qal</span> <span class=\"vt\">perf</span></div>\n",
       "\n",
       "\n",
       "</div>\n",
       "\n",
       "\n",
       "    </div>\n",
       "\n",
       "\n",
       "</div>\n",
       "\n",
       "<div class=\"patom  \" >\n",
       "\n",
       "    <div class=\"phrase \" >\n",
       "        <a href=\"https://shebanq.ancient-data.org/hebrew/text?book=Leviticus&amp;chapter=17&amp;verse=16&amp;version=c&amp;mr=m&amp;qw=q&amp;tp=txt_p&amp;tr=hb&amp;wget=v&amp;qget=v&amp;nget=vt\" title=\"Leviticus 17:16\" sec=\"Leviticus 17:16\">phrase</a>   <span class=\"function\">Objc</span> <span class=\"typ\">NP</span>\n",
       "    </div>\n",
       "    <div class=\"atoms\">\n",
       "\n",
       "<div class=\"word  \" >\n",
       "<div class=\"h\"><a target=\"_blank\" href=\"https://shebanq.ancient-data.org/hebrew/word?version=c&amp;id=1OWNn\" title=\"show this lexeme in SHEBANQ\">עֲוֹנֹֽו׃ פ </a></div>\n",
       "<div class=\"features\"> <span class=\"pdp\"><a href=\"https://shebanq.ancient-data.org/hebrew/text?book=Leviticus&amp;chapter=17&amp;verse=16&amp;version=c&amp;mr=m&amp;qw=q&amp;tp=txt_p&amp;tr=hb&amp;wget=v&amp;qget=v&amp;nget=vt\" title=\"Leviticus 17:16\" sec=\"Leviticus 17:16\">subs</a></span> <span class=\"gloss\">sin</span></div>\n",
       "\n",
       "\n",
       "</div>\n",
       "\n",
       "\n",
       "    </div>\n",
       "\n",
       "\n",
       "</div>\n",
       "\n",
       "\n",
       "    </div>\n",
       "\n",
       "\n",
       "</div>\n",
       "\n",
       "\n",
       "</div>\n"
      ],
      "text/plain": [
       "<IPython.core.display.HTML object>"
      ]
     },
     "metadata": {},
     "output_type": "display_data"
    },
    {
     "name": "stdout",
     "output_type": "stream",
     "text": [
      "Actor (y,n,?)y\n",
      "Volition (y,n,?)n\n",
      "Affectedness (y,n,?)y\n"
     ]
    },
    {
     "data": {
      "text/html": [
       "<a href=\"https://shebanq.ancient-data.org/hebrew/text?book=Leviticus&amp;chapter=17&amp;verse=16&amp;version=c&amp;mr=m&amp;qw=q&amp;tp=txt_p&amp;tr=hb&amp;wget=v&amp;qget=v&amp;nget=vt\" title=\"show this passage in SHEBANQ\" sec=\"Leviticus 17:16\">Leviticus 17:16</a>\n",
       "<div class=\"atoms  \" >\n",
       "\n",
       "\n",
       "\n",
       "<div class=\"catom  \" >\n",
       "\n",
       "    <div class=\"clause \" >\n",
       "        <a href=\"https://shebanq.ancient-data.org/hebrew/text?book=Leviticus&amp;chapter=17&amp;verse=16&amp;version=c&amp;mr=m&amp;qw=q&amp;tp=txt_p&amp;tr=hb&amp;wget=v&amp;qget=v&amp;nget=vt\" title=\"Leviticus 17:16\" sec=\"Leviticus 17:16\">clause</a>   <span class=\"typ\">WQt0</span>\n",
       "    </div>\n",
       "    <div class=\"atoms\">\n",
       "\n",
       "<div class=\"patom  \" >\n",
       "\n",
       "    <div class=\"phrase \" >\n",
       "        <a href=\"https://shebanq.ancient-data.org/hebrew/text?book=Leviticus&amp;chapter=17&amp;verse=16&amp;version=c&amp;mr=m&amp;qw=q&amp;tp=txt_p&amp;tr=hb&amp;wget=v&amp;qget=v&amp;nget=vt\" title=\"Leviticus 17:16\" sec=\"Leviticus 17:16\">phrase</a>   <span class=\"function\">Conj</span> <span class=\"typ\">CP</span>\n",
       "    </div>\n",
       "    <div class=\"atoms\">\n",
       "\n",
       "<div class=\"word  \" >\n",
       "<div class=\"h\"><a target=\"_blank\" href=\"https://shebanq.ancient-data.org/hebrew/word?version=c&amp;id=1W\" title=\"show this lexeme in SHEBANQ\">וְ</a></div>\n",
       "<div class=\"features\"> <span class=\"pdp\"><a href=\"https://shebanq.ancient-data.org/hebrew/text?book=Leviticus&amp;chapter=17&amp;verse=16&amp;version=c&amp;mr=m&amp;qw=q&amp;tp=txt_p&amp;tr=hb&amp;wget=v&amp;qget=v&amp;nget=vt\" title=\"Leviticus 17:16\" sec=\"Leviticus 17:16\">conj</a></span> <span class=\"gloss\">and</span></div>\n",
       "\n",
       "\n",
       "</div>\n",
       "\n",
       "\n",
       "    </div>\n",
       "\n",
       "\n",
       "</div>\n",
       "\n",
       "<div class=\"patom  \" >\n",
       "\n",
       "    <div class=\"phrase \" >\n",
       "        <a href=\"https://shebanq.ancient-data.org/hebrew/text?book=Leviticus&amp;chapter=17&amp;verse=16&amp;version=c&amp;mr=m&amp;qw=q&amp;tp=txt_p&amp;tr=hb&amp;wget=v&amp;qget=v&amp;nget=vt\" title=\"Leviticus 17:16\" sec=\"Leviticus 17:16\">phrase</a>   <span class=\"function\">Pred</span> <span class=\"typ\">VP</span>\n",
       "    </div>\n",
       "    <div class=\"atoms\">\n",
       "\n",
       "<div class=\"word  \" >\n",
       "<div class=\"h\"><a target=\"_blank\" href=\"https://shebanq.ancient-data.org/hebrew/word?version=c&amp;id=1NFAv\" title=\"show this lexeme in SHEBANQ\">נָשָׂ֖א </a></div>\n",
       "<div class=\"features\"> <span class=\"pdp\"><a href=\"https://shebanq.ancient-data.org/hebrew/text?book=Leviticus&amp;chapter=17&amp;verse=16&amp;version=c&amp;mr=m&amp;qw=q&amp;tp=txt_p&amp;tr=hb&amp;wget=v&amp;qget=v&amp;nget=vt\" title=\"Leviticus 17:16\" sec=\"Leviticus 17:16\">verb</a></span> <span class=\"gloss\">lift</span> <span class=\"vs\">qal</span> <span class=\"vt\">perf</span></div>\n",
       "\n",
       "\n",
       "</div>\n",
       "\n",
       "\n",
       "    </div>\n",
       "\n",
       "\n",
       "</div>\n",
       "\n",
       "<div class=\"patom  \" >\n",
       "\n",
       "    <div class=\"phrase \" >\n",
       "        <a href=\"https://shebanq.ancient-data.org/hebrew/text?book=Leviticus&amp;chapter=17&amp;verse=16&amp;version=c&amp;mr=m&amp;qw=q&amp;tp=txt_p&amp;tr=hb&amp;wget=v&amp;qget=v&amp;nget=vt\" title=\"Leviticus 17:16\" sec=\"Leviticus 17:16\">phrase</a>   <span class=\"function\">Objc</span> <span class=\"typ\">NP</span>\n",
       "    </div>\n",
       "    <div class=\"atoms\">\n",
       "\n",
       "<div class=\"word  hl\"  style=\"background-color: salmon;\" >\n",
       "<div class=\"h\"><a target=\"_blank\" href=\"https://shebanq.ancient-data.org/hebrew/word?version=c&amp;id=1OWNn\" title=\"show this lexeme in SHEBANQ\">עֲוֹנֹֽו׃ פ </a></div>\n",
       "<div class=\"features\"> <span class=\"pdp\"><a href=\"https://shebanq.ancient-data.org/hebrew/text?book=Leviticus&amp;chapter=17&amp;verse=16&amp;version=c&amp;mr=m&amp;qw=q&amp;tp=txt_p&amp;tr=hb&amp;wget=v&amp;qget=v&amp;nget=vt\" title=\"Leviticus 17:16\" sec=\"Leviticus 17:16\">subs</a></span> <span class=\"gloss\">sin</span></div>\n",
       "\n",
       "\n",
       "</div>\n",
       "\n",
       "\n",
       "    </div>\n",
       "\n",
       "\n",
       "</div>\n",
       "\n",
       "\n",
       "    </div>\n",
       "\n",
       "\n",
       "</div>\n",
       "\n",
       "\n",
       "</div>\n"
      ],
      "text/plain": [
       "<IPython.core.display.HTML object>"
      ]
     },
     "metadata": {},
     "output_type": "display_data"
    },
    {
     "name": "stdout",
     "output_type": "stream",
     "text": [
      "Undergoer 1 (y,n,?)y\n",
      "Volition (y,n,?)n\n",
      "Affectedness (y,n,?)n\n"
     ]
    },
    {
     "data": {
      "text/html": [
       "<a href=\"https://shebanq.ancient-data.org/hebrew/text?book=Leviticus&amp;chapter=17&amp;verse=16&amp;version=c&amp;mr=m&amp;qw=q&amp;tp=txt_p&amp;tr=hb&amp;wget=v&amp;qget=v&amp;nget=vt\" title=\"show this passage in SHEBANQ\" sec=\"Leviticus 17:16\">Leviticus 17:16</a>\n",
       "<div class=\"atoms  \" >\n",
       "\n",
       "\n",
       "\n",
       "<div class=\"catom  \" >\n",
       "\n",
       "    <div class=\"clause \" >\n",
       "        <a href=\"https://shebanq.ancient-data.org/hebrew/text?book=Leviticus&amp;chapter=17&amp;verse=16&amp;version=c&amp;mr=m&amp;qw=q&amp;tp=txt_p&amp;tr=hb&amp;wget=v&amp;qget=v&amp;nget=vt\" title=\"Leviticus 17:16\" sec=\"Leviticus 17:16\">clause</a>   <span class=\"typ\">WQt0</span>\n",
       "    </div>\n",
       "    <div class=\"atoms\">\n",
       "\n",
       "<div class=\"patom  \" >\n",
       "\n",
       "    <div class=\"phrase \" >\n",
       "        <a href=\"https://shebanq.ancient-data.org/hebrew/text?book=Leviticus&amp;chapter=17&amp;verse=16&amp;version=c&amp;mr=m&amp;qw=q&amp;tp=txt_p&amp;tr=hb&amp;wget=v&amp;qget=v&amp;nget=vt\" title=\"Leviticus 17:16\" sec=\"Leviticus 17:16\">phrase</a>   <span class=\"function\">Conj</span> <span class=\"typ\">CP</span>\n",
       "    </div>\n",
       "    <div class=\"atoms\">\n",
       "\n",
       "<div class=\"word  \" >\n",
       "<div class=\"h\"><a target=\"_blank\" href=\"https://shebanq.ancient-data.org/hebrew/word?version=c&amp;id=1W\" title=\"show this lexeme in SHEBANQ\">וְ</a></div>\n",
       "<div class=\"features\"> <span class=\"pdp\"><a href=\"https://shebanq.ancient-data.org/hebrew/text?book=Leviticus&amp;chapter=17&amp;verse=16&amp;version=c&amp;mr=m&amp;qw=q&amp;tp=txt_p&amp;tr=hb&amp;wget=v&amp;qget=v&amp;nget=vt\" title=\"Leviticus 17:16\" sec=\"Leviticus 17:16\">conj</a></span> <span class=\"gloss\">and</span></div>\n",
       "\n",
       "\n",
       "</div>\n",
       "\n",
       "\n",
       "    </div>\n",
       "\n",
       "\n",
       "</div>\n",
       "\n",
       "<div class=\"patom  \" >\n",
       "\n",
       "    <div class=\"phrase \" >\n",
       "        <a href=\"https://shebanq.ancient-data.org/hebrew/text?book=Leviticus&amp;chapter=17&amp;verse=16&amp;version=c&amp;mr=m&amp;qw=q&amp;tp=txt_p&amp;tr=hb&amp;wget=v&amp;qget=v&amp;nget=vt\" title=\"Leviticus 17:16\" sec=\"Leviticus 17:16\">phrase</a>   <span class=\"function\">Pred</span> <span class=\"typ\">VP</span>\n",
       "    </div>\n",
       "    <div class=\"atoms\">\n",
       "\n",
       "<div class=\"word  \" >\n",
       "<div class=\"h\"><a target=\"_blank\" href=\"https://shebanq.ancient-data.org/hebrew/word?version=c&amp;id=1NFAv\" title=\"show this lexeme in SHEBANQ\">נָשָׂ֖א </a></div>\n",
       "<div class=\"features\"> <span class=\"pdp\"><a href=\"https://shebanq.ancient-data.org/hebrew/text?book=Leviticus&amp;chapter=17&amp;verse=16&amp;version=c&amp;mr=m&amp;qw=q&amp;tp=txt_p&amp;tr=hb&amp;wget=v&amp;qget=v&amp;nget=vt\" title=\"Leviticus 17:16\" sec=\"Leviticus 17:16\">verb</a></span> <span class=\"gloss\">lift</span> <span class=\"vs\">qal</span> <span class=\"vt\">perf</span></div>\n",
       "\n",
       "\n",
       "</div>\n",
       "\n",
       "\n",
       "    </div>\n",
       "\n",
       "\n",
       "</div>\n",
       "\n",
       "<div class=\"patom  \" >\n",
       "\n",
       "    <div class=\"phrase \" >\n",
       "        <a href=\"https://shebanq.ancient-data.org/hebrew/text?book=Leviticus&amp;chapter=17&amp;verse=16&amp;version=c&amp;mr=m&amp;qw=q&amp;tp=txt_p&amp;tr=hb&amp;wget=v&amp;qget=v&amp;nget=vt\" title=\"Leviticus 17:16\" sec=\"Leviticus 17:16\">phrase</a>   <span class=\"function\">Objc</span> <span class=\"typ\">NP</span>\n",
       "    </div>\n",
       "    <div class=\"atoms\">\n",
       "\n",
       "<div class=\"word  hl\"  style=\"background-color: salmon;\" >\n",
       "<div class=\"h\"><a target=\"_blank\" href=\"https://shebanq.ancient-data.org/hebrew/word?version=c&amp;id=1OWNn\" title=\"show this lexeme in SHEBANQ\">עֲוֹנֹֽו׃ פ </a></div>\n",
       "<div class=\"features\"> <span class=\"pdp\"><a href=\"https://shebanq.ancient-data.org/hebrew/text?book=Leviticus&amp;chapter=17&amp;verse=16&amp;version=c&amp;mr=m&amp;qw=q&amp;tp=txt_p&amp;tr=hb&amp;wget=v&amp;qget=v&amp;nget=vt\" title=\"Leviticus 17:16\" sec=\"Leviticus 17:16\">subs</a></span> <span class=\"gloss\">sin</span></div>\n",
       "\n",
       "\n",
       "</div>\n",
       "\n",
       "\n",
       "    </div>\n",
       "\n",
       "\n",
       "</div>\n",
       "\n",
       "\n",
       "    </div>\n",
       "\n",
       "\n",
       "</div>\n",
       "\n",
       "\n",
       "</div>\n"
      ],
      "text/plain": [
       "<IPython.core.display.HTML object>"
      ]
     },
     "metadata": {},
     "output_type": "display_data"
    },
    {
     "name": "stdout",
     "output_type": "stream",
     "text": [
      "Undergoer 2 (y,n,?)n\n",
      "Make commentUndergoer1 is abstract so therefore not affected. The Actor is affected because he is in effect accountable for sin.\n"
     ]
    }
   ],
   "source": [
    "run4 = user_input(remaining_clauses)"
   ]
  },
  {
   "cell_type": "markdown",
   "metadata": {},
   "source": [
    "#### Merge outputs"
   ]
  },
  {
   "cell_type": "code",
   "execution_count": 34,
   "metadata": {
    "scrolled": true
   },
   "outputs": [
    {
     "data": {
      "text/html": [
       "<div>\n",
       "<style scoped>\n",
       "    .dataframe tbody tr th:only-of-type {\n",
       "        vertical-align: middle;\n",
       "    }\n",
       "\n",
       "    .dataframe tbody tr th {\n",
       "        vertical-align: top;\n",
       "    }\n",
       "\n",
       "    .dataframe thead th {\n",
       "        text-align: right;\n",
       "    }\n",
       "</style>\n",
       "<table border=\"1\" class=\"dataframe\">\n",
       "  <thead>\n",
       "    <tr style=\"text-align: right;\">\n",
       "      <th></th>\n",
       "      <th>0</th>\n",
       "      <th>1</th>\n",
       "      <th>2</th>\n",
       "      <th>3</th>\n",
       "      <th>4</th>\n",
       "      <th>5</th>\n",
       "      <th>6</th>\n",
       "      <th>7</th>\n",
       "      <th>8</th>\n",
       "      <th>9</th>\n",
       "    </tr>\n",
       "  </thead>\n",
       "  <tbody>\n",
       "    <tr>\n",
       "      <th>439650</th>\n",
       "      <td>688348</td>\n",
       "      <td>y</td>\n",
       "      <td>n</td>\n",
       "      <td>688349</td>\n",
       "      <td>n</td>\n",
       "      <td>n</td>\n",
       "      <td></td>\n",
       "      <td></td>\n",
       "      <td></td>\n",
       "      <td></td>\n",
       "    </tr>\n",
       "    <tr>\n",
       "      <th>439651</th>\n",
       "      <td>688350</td>\n",
       "      <td>y</td>\n",
       "      <td>n</td>\n",
       "      <td></td>\n",
       "      <td></td>\n",
       "      <td></td>\n",
       "      <td></td>\n",
       "      <td></td>\n",
       "      <td></td>\n",
       "      <td></td>\n",
       "    </tr>\n",
       "    <tr>\n",
       "      <th>439652</th>\n",
       "      <td>688351</td>\n",
       "      <td>y</td>\n",
       "      <td>n</td>\n",
       "      <td>688352</td>\n",
       "      <td>n</td>\n",
       "      <td>n</td>\n",
       "      <td></td>\n",
       "      <td></td>\n",
       "      <td></td>\n",
       "      <td></td>\n",
       "    </tr>\n",
       "    <tr>\n",
       "      <th>439653</th>\n",
       "      <td>688354</td>\n",
       "      <td>y</td>\n",
       "      <td>n</td>\n",
       "      <td>688355</td>\n",
       "      <td>n</td>\n",
       "      <td>n</td>\n",
       "      <td></td>\n",
       "      <td></td>\n",
       "      <td></td>\n",
       "      <td></td>\n",
       "    </tr>\n",
       "    <tr>\n",
       "      <th>439655</th>\n",
       "      <td>688360</td>\n",
       "      <td>y</td>\n",
       "      <td>n</td>\n",
       "      <td>688358</td>\n",
       "      <td>n</td>\n",
       "      <td>n</td>\n",
       "      <td></td>\n",
       "      <td></td>\n",
       "      <td></td>\n",
       "      <td></td>\n",
       "    </tr>\n",
       "  </tbody>\n",
       "</table>\n",
       "</div>"
      ],
      "text/plain": [
       "             0  1  2       3  4  5 6 7 8 9\n",
       "439650  688348  y  n  688349  n  n        \n",
       "439651  688350  y  n                      \n",
       "439652  688351  y  n  688352  n  n        \n",
       "439653  688354  y  n  688355  n  n        \n",
       "439655  688360  y  n  688358  n  n        "
      ]
     },
     "execution_count": 34,
     "metadata": {},
     "output_type": "execute_result"
    }
   ],
   "source": [
    "outputs = [run4]\n",
    "\n",
    "new_dict = {}\n",
    "for r in outputs:\n",
    "    for lex in r:\n",
    "        new_dict[lex] = r[lex]\n",
    "        \n",
    "df = pd.DataFrame(new_dict).T\n",
    "df.head()"
   ]
  },
  {
   "cell_type": "code",
   "execution_count": 35,
   "metadata": {},
   "outputs": [],
   "source": [
    "df.to_csv(f'{PATH}Lev17-26.Volition_Affectedness_chap17.csv')"
   ]
  },
  {
   "cell_type": "markdown",
   "metadata": {},
   "source": [
    "#### Merge exports\n",
    "\n",
    "Having completed the annotation, all annotated files can now be combined into one CSV-file:"
   ]
  },
  {
   "cell_type": "code",
   "execution_count": 7,
   "metadata": {},
   "outputs": [
    {
     "data": {
      "text/plain": [
       "936"
      ]
     },
     "execution_count": 7,
     "metadata": {},
     "output_type": "execute_result"
    }
   ],
   "source": [
    "datasets = ['Lev17-26.Volition_Affectedness_chap17.csv','Lev17-26.Volition_Affectedness_chap18-20.csv',\n",
    "            'Lev17-26.Volition_Affectedness_chap21-23.csv','Lev17-26.Volition_Affectedness_chap24-25.csv',\n",
    "            'Lev17-26.Volition_Affectedness_chap26a.csv','Lev17-26.Volition_Affectedness_chap26b.csv']\n",
    "\n",
    "new_df = pd.DataFrame()\n",
    "\n",
    "for csv in datasets:\n",
    "    df = pd.read_csv(csv)\n",
    "    new_df = new_df.append(df)\n",
    "    \n",
    "len(new_df)"
   ]
  },
  {
   "cell_type": "code",
   "execution_count": 48,
   "metadata": {},
   "outputs": [
    {
     "data": {
      "text/html": [
       "<div>\n",
       "<style scoped>\n",
       "    .dataframe tbody tr th:only-of-type {\n",
       "        vertical-align: middle;\n",
       "    }\n",
       "\n",
       "    .dataframe tbody tr th {\n",
       "        vertical-align: top;\n",
       "    }\n",
       "\n",
       "    .dataframe thead th {\n",
       "        text-align: right;\n",
       "    }\n",
       "</style>\n",
       "<table border=\"1\" class=\"dataframe\">\n",
       "  <thead>\n",
       "    <tr style=\"text-align: right;\">\n",
       "      <th></th>\n",
       "      <th>clause</th>\n",
       "      <th>Act_phr</th>\n",
       "      <th>Act_vol</th>\n",
       "      <th>Act_aff</th>\n",
       "      <th>Und1_phr</th>\n",
       "      <th>Und1_vol</th>\n",
       "      <th>Und1_aff</th>\n",
       "      <th>Und2_phr</th>\n",
       "      <th>Und2_vol</th>\n",
       "      <th>Und2_aff</th>\n",
       "      <th>comment</th>\n",
       "    </tr>\n",
       "  </thead>\n",
       "  <tbody>\n",
       "    <tr>\n",
       "      <th>0</th>\n",
       "      <td>439650</td>\n",
       "      <td>688348</td>\n",
       "      <td>y</td>\n",
       "      <td>n</td>\n",
       "      <td>688349</td>\n",
       "      <td>n</td>\n",
       "      <td>n</td>\n",
       "      <td>NaN</td>\n",
       "      <td>NaN</td>\n",
       "      <td>NaN</td>\n",
       "      <td>NaN</td>\n",
       "    </tr>\n",
       "    <tr>\n",
       "      <th>1</th>\n",
       "      <td>439651</td>\n",
       "      <td>688350</td>\n",
       "      <td>y</td>\n",
       "      <td>n</td>\n",
       "      <td>NaN</td>\n",
       "      <td>NaN</td>\n",
       "      <td>NaN</td>\n",
       "      <td>NaN</td>\n",
       "      <td>NaN</td>\n",
       "      <td>NaN</td>\n",
       "      <td>NaN</td>\n",
       "    </tr>\n",
       "    <tr>\n",
       "      <th>2</th>\n",
       "      <td>439652</td>\n",
       "      <td>688351</td>\n",
       "      <td>y</td>\n",
       "      <td>n</td>\n",
       "      <td>688352</td>\n",
       "      <td>n</td>\n",
       "      <td>n</td>\n",
       "      <td>NaN</td>\n",
       "      <td>NaN</td>\n",
       "      <td>NaN</td>\n",
       "      <td>NaN</td>\n",
       "    </tr>\n",
       "    <tr>\n",
       "      <th>3</th>\n",
       "      <td>439653</td>\n",
       "      <td>688354</td>\n",
       "      <td>y</td>\n",
       "      <td>n</td>\n",
       "      <td>688355</td>\n",
       "      <td>n</td>\n",
       "      <td>n</td>\n",
       "      <td>NaN</td>\n",
       "      <td>NaN</td>\n",
       "      <td>NaN</td>\n",
       "      <td>NaN</td>\n",
       "    </tr>\n",
       "    <tr>\n",
       "      <th>4</th>\n",
       "      <td>439655</td>\n",
       "      <td>688360</td>\n",
       "      <td>y</td>\n",
       "      <td>n</td>\n",
       "      <td>688358</td>\n",
       "      <td>n</td>\n",
       "      <td>n</td>\n",
       "      <td>NaN</td>\n",
       "      <td>NaN</td>\n",
       "      <td>NaN</td>\n",
       "      <td>NaN</td>\n",
       "    </tr>\n",
       "  </tbody>\n",
       "</table>\n",
       "</div>"
      ],
      "text/plain": [
       "   clause Act_phr Act_vol Act_aff Und1_phr Und1_vol Und1_aff  Und2_phr  \\\n",
       "0  439650  688348       y       n   688349        n        n       NaN   \n",
       "1  439651  688350       y       n      NaN      NaN      NaN       NaN   \n",
       "2  439652  688351       y       n   688352        n        n       NaN   \n",
       "3  439653  688354       y       n   688355        n        n       NaN   \n",
       "4  439655  688360       y       n   688358        n        n       NaN   \n",
       "\n",
       "  Und2_vol Und2_aff comment  \n",
       "0      NaN      NaN     NaN  \n",
       "1      NaN      NaN     NaN  \n",
       "2      NaN      NaN     NaN  \n",
       "3      NaN      NaN     NaN  \n",
       "4      NaN      NaN     NaN  "
      ]
     },
     "execution_count": 48,
     "metadata": {},
     "output_type": "execute_result"
    }
   ],
   "source": [
    "new_df.columns = ['clause','Act_phr','Act_vol','Act_aff','Und1_phr','Und1_vol','Und1_aff','Und2_phr','Und2_vol','Und2_aff',\n",
    "                 'comment']\n",
    "\n",
    "new_df.head()"
   ]
  },
  {
   "cell_type": "code",
   "execution_count": 49,
   "metadata": {},
   "outputs": [],
   "source": [
    "new_df.to_csv('Lev17-26.Volition_Affectedness_all.csv')"
   ]
  },
  {
   "cell_type": "markdown",
   "metadata": {},
   "source": [
    "### Reviewing annotation"
   ]
  },
  {
   "cell_type": "code",
   "execution_count": 8,
   "metadata": {},
   "outputs": [
    {
     "data": {
      "text/html": [
       "<div>\n",
       "<style scoped>\n",
       "    .dataframe tbody tr th:only-of-type {\n",
       "        vertical-align: middle;\n",
       "    }\n",
       "\n",
       "    .dataframe tbody tr th {\n",
       "        vertical-align: top;\n",
       "    }\n",
       "\n",
       "    .dataframe thead th {\n",
       "        text-align: right;\n",
       "    }\n",
       "</style>\n",
       "<table border=\"1\" class=\"dataframe\">\n",
       "  <thead>\n",
       "    <tr style=\"text-align: right;\">\n",
       "      <th></th>\n",
       "      <th>Unnamed: 0</th>\n",
       "      <th>clause</th>\n",
       "      <th>Act_phr</th>\n",
       "      <th>Act_vol</th>\n",
       "      <th>Act_aff</th>\n",
       "      <th>Und1_phr</th>\n",
       "      <th>Und1_vol</th>\n",
       "      <th>Und1_aff</th>\n",
       "      <th>Und2_phr</th>\n",
       "      <th>Und2_vol</th>\n",
       "      <th>Und2_aff</th>\n",
       "      <th>comment</th>\n",
       "    </tr>\n",
       "  </thead>\n",
       "  <tbody>\n",
       "    <tr>\n",
       "      <th>0</th>\n",
       "      <td>0</td>\n",
       "      <td>439650</td>\n",
       "      <td>688348</td>\n",
       "      <td>y</td>\n",
       "      <td>n</td>\n",
       "      <td>688349</td>\n",
       "      <td>n</td>\n",
       "      <td>n</td>\n",
       "      <td>NaN</td>\n",
       "      <td>NaN</td>\n",
       "      <td>NaN</td>\n",
       "      <td>NaN</td>\n",
       "    </tr>\n",
       "    <tr>\n",
       "      <th>1</th>\n",
       "      <td>1</td>\n",
       "      <td>439651</td>\n",
       "      <td>688350</td>\n",
       "      <td>y</td>\n",
       "      <td>n</td>\n",
       "      <td>NaN</td>\n",
       "      <td>NaN</td>\n",
       "      <td>NaN</td>\n",
       "      <td>NaN</td>\n",
       "      <td>NaN</td>\n",
       "      <td>NaN</td>\n",
       "      <td>NaN</td>\n",
       "    </tr>\n",
       "    <tr>\n",
       "      <th>2</th>\n",
       "      <td>2</td>\n",
       "      <td>439652</td>\n",
       "      <td>688351</td>\n",
       "      <td>y</td>\n",
       "      <td>n</td>\n",
       "      <td>688352</td>\n",
       "      <td>n</td>\n",
       "      <td>n</td>\n",
       "      <td>NaN</td>\n",
       "      <td>NaN</td>\n",
       "      <td>NaN</td>\n",
       "      <td>NaN</td>\n",
       "    </tr>\n",
       "    <tr>\n",
       "      <th>3</th>\n",
       "      <td>3</td>\n",
       "      <td>439653</td>\n",
       "      <td>688354</td>\n",
       "      <td>y</td>\n",
       "      <td>n</td>\n",
       "      <td>688355</td>\n",
       "      <td>n</td>\n",
       "      <td>n</td>\n",
       "      <td>NaN</td>\n",
       "      <td>NaN</td>\n",
       "      <td>NaN</td>\n",
       "      <td>NaN</td>\n",
       "    </tr>\n",
       "    <tr>\n",
       "      <th>4</th>\n",
       "      <td>4</td>\n",
       "      <td>439655</td>\n",
       "      <td>688360</td>\n",
       "      <td>y</td>\n",
       "      <td>n</td>\n",
       "      <td>688358</td>\n",
       "      <td>n</td>\n",
       "      <td>n</td>\n",
       "      <td>NaN</td>\n",
       "      <td>NaN</td>\n",
       "      <td>NaN</td>\n",
       "      <td>NaN</td>\n",
       "    </tr>\n",
       "  </tbody>\n",
       "</table>\n",
       "</div>"
      ],
      "text/plain": [
       "   Unnamed: 0  clause  Act_phr Act_vol Act_aff  Und1_phr Und1_vol Und1_aff  \\\n",
       "0           0  439650   688348       y       n    688349        n        n   \n",
       "1           1  439651   688350       y       n       NaN      NaN      NaN   \n",
       "2           2  439652   688351       y       n    688352        n        n   \n",
       "3           3  439653   688354       y       n    688355        n        n   \n",
       "4           4  439655   688360       y       n    688358        n        n   \n",
       "\n",
       "   Und2_phr Und2_vol Und2_aff comment  \n",
       "0       NaN      NaN      NaN     NaN  \n",
       "1       NaN      NaN      NaN     NaN  \n",
       "2       NaN      NaN      NaN     NaN  \n",
       "3       NaN      NaN      NaN     NaN  \n",
       "4       NaN      NaN      NaN     NaN  "
      ]
     },
     "execution_count": 8,
     "metadata": {},
     "output_type": "execute_result"
    }
   ],
   "source": [
    "#A dictionary of columns to be imported as integers.\n",
    "int_cols = {col:'Int64' for col in ['clause','Act_phr','Und1_phr','Und2_phr']}\n",
    "\n",
    "data = pd.read_csv(f'{PATH}Lev17-26.Volition_Affectedness_all.csv', dtype=int_cols)\n",
    "\n",
    "data.head()"
   ]
  },
  {
   "cell_type": "code",
   "execution_count": 6,
   "metadata": {},
   "outputs": [],
   "source": [
    "lexemes = []\n",
    "\n",
    "for cl in list(data.clause):\n",
    "    for w in L.d(cl, 'word'):\n",
    "        if F.pdp.v(w) == 'verb':\n",
    "            lexemes.append(F.lex.v(w))\n",
    "            \n",
    "len(lexemes)\n",
    "\n",
    "#Insert as new column\n",
    "data.insert(2, \"lex\", lexemes)"
   ]
  },
  {
   "cell_type": "code",
   "execution_count": 7,
   "metadata": {},
   "outputs": [
    {
     "data": {
      "text/html": [
       "<div>\n",
       "<style scoped>\n",
       "    .dataframe tbody tr th:only-of-type {\n",
       "        vertical-align: middle;\n",
       "    }\n",
       "\n",
       "    .dataframe tbody tr th {\n",
       "        vertical-align: top;\n",
       "    }\n",
       "\n",
       "    .dataframe thead th {\n",
       "        text-align: right;\n",
       "    }\n",
       "</style>\n",
       "<table border=\"1\" class=\"dataframe\">\n",
       "  <thead>\n",
       "    <tr style=\"text-align: right;\">\n",
       "      <th></th>\n",
       "      <th>Unnamed: 0</th>\n",
       "      <th>clause</th>\n",
       "      <th>lex</th>\n",
       "      <th>Act_phr</th>\n",
       "      <th>Act_vol</th>\n",
       "      <th>Act_aff</th>\n",
       "      <th>Und1_phr</th>\n",
       "      <th>Und1_vol</th>\n",
       "      <th>Und1_aff</th>\n",
       "      <th>Und2_phr</th>\n",
       "      <th>Und2_vol</th>\n",
       "      <th>Und2_aff</th>\n",
       "      <th>comment</th>\n",
       "    </tr>\n",
       "  </thead>\n",
       "  <tbody>\n",
       "    <tr>\n",
       "      <th>0</th>\n",
       "      <td>0</td>\n",
       "      <td>439650</td>\n",
       "      <td>DBR[</td>\n",
       "      <td>688348</td>\n",
       "      <td>y</td>\n",
       "      <td>n</td>\n",
       "      <td>688349</td>\n",
       "      <td>n</td>\n",
       "      <td>n</td>\n",
       "      <td>NaN</td>\n",
       "      <td>NaN</td>\n",
       "      <td>NaN</td>\n",
       "      <td>NaN</td>\n",
       "    </tr>\n",
       "    <tr>\n",
       "      <th>1</th>\n",
       "      <td>1</td>\n",
       "      <td>439651</td>\n",
       "      <td>&gt;MR[</td>\n",
       "      <td>688350</td>\n",
       "      <td>y</td>\n",
       "      <td>n</td>\n",
       "      <td>NaN</td>\n",
       "      <td>NaN</td>\n",
       "      <td>NaN</td>\n",
       "      <td>NaN</td>\n",
       "      <td>NaN</td>\n",
       "      <td>NaN</td>\n",
       "      <td>NaN</td>\n",
       "    </tr>\n",
       "    <tr>\n",
       "      <th>2</th>\n",
       "      <td>2</td>\n",
       "      <td>439652</td>\n",
       "      <td>DBR[</td>\n",
       "      <td>688351</td>\n",
       "      <td>y</td>\n",
       "      <td>n</td>\n",
       "      <td>688352</td>\n",
       "      <td>n</td>\n",
       "      <td>n</td>\n",
       "      <td>NaN</td>\n",
       "      <td>NaN</td>\n",
       "      <td>NaN</td>\n",
       "      <td>NaN</td>\n",
       "    </tr>\n",
       "    <tr>\n",
       "      <th>3</th>\n",
       "      <td>3</td>\n",
       "      <td>439653</td>\n",
       "      <td>&gt;MR[</td>\n",
       "      <td>688354</td>\n",
       "      <td>y</td>\n",
       "      <td>n</td>\n",
       "      <td>688355</td>\n",
       "      <td>n</td>\n",
       "      <td>n</td>\n",
       "      <td>NaN</td>\n",
       "      <td>NaN</td>\n",
       "      <td>NaN</td>\n",
       "      <td>NaN</td>\n",
       "    </tr>\n",
       "    <tr>\n",
       "      <th>4</th>\n",
       "      <td>4</td>\n",
       "      <td>439655</td>\n",
       "      <td>YWH[</td>\n",
       "      <td>688360</td>\n",
       "      <td>y</td>\n",
       "      <td>n</td>\n",
       "      <td>688358</td>\n",
       "      <td>n</td>\n",
       "      <td>n</td>\n",
       "      <td>NaN</td>\n",
       "      <td>NaN</td>\n",
       "      <td>NaN</td>\n",
       "      <td>NaN</td>\n",
       "    </tr>\n",
       "  </tbody>\n",
       "</table>\n",
       "</div>"
      ],
      "text/plain": [
       "   Unnamed: 0  clause   lex  Act_phr Act_vol Act_aff  Und1_phr Und1_vol  \\\n",
       "0           0  439650  DBR[   688348       y       n    688349        n   \n",
       "1           1  439651  >MR[   688350       y       n       NaN      NaN   \n",
       "2           2  439652  DBR[   688351       y       n    688352        n   \n",
       "3           3  439653  >MR[   688354       y       n    688355        n   \n",
       "4           4  439655  YWH[   688360       y       n    688358        n   \n",
       "\n",
       "  Und1_aff  Und2_phr Und2_vol Und2_aff comment  \n",
       "0        n       NaN      NaN      NaN     NaN  \n",
       "1      NaN       NaN      NaN      NaN     NaN  \n",
       "2        n       NaN      NaN      NaN     NaN  \n",
       "3        n       NaN      NaN      NaN     NaN  \n",
       "4        n       NaN      NaN      NaN     NaN  "
      ]
     },
     "execution_count": 7,
     "metadata": {},
     "output_type": "execute_result"
    }
   ],
   "source": [
    "data.head()"
   ]
  },
  {
   "cell_type": "markdown",
   "metadata": {},
   "source": [
    "We now subset all rows with a question mark and/or a comment for further inspection:"
   ]
  },
  {
   "cell_type": "code",
   "execution_count": 8,
   "metadata": {},
   "outputs": [
    {
     "name": "stdout",
     "output_type": "stream",
     "text": [
      "Number of cases: 271\n"
     ]
    }
   ],
   "source": [
    "df = data[(~data.comment.isna()) | (data.Act_vol.isin(['?'])) | (data.Act_aff.isin(['?'])) | (data.Und1_vol.isin(['?']))\n",
    "    | (data.Und1_aff.isin(['?'])) | (data.Und2_vol.isin(['?'])) | (data.Und2_aff.isin(['?']))]\n",
    "\n",
    "print(f'Number of cases: {len(df)}')"
   ]
  },
  {
   "cell_type": "markdown",
   "metadata": {},
   "source": [
    "Which verbs are involved?"
   ]
  },
  {
   "cell_type": "code",
   "execution_count": 9,
   "metadata": {},
   "outputs": [],
   "source": [
    "lexemes = collections.Counter(list(df.lex))"
   ]
  },
  {
   "cell_type": "code",
   "execution_count": 12,
   "metadata": {
    "scrolled": true
   },
   "outputs": [
    {
     "data": {
      "text/plain": [
       "[('HJH[', 27),\n",
       " ('NTN[', 16),\n",
       " ('LQX[', 13),\n",
       " ('VM>[', 12),\n",
       " ('<FH[', 11),\n",
       " ('NF>[', 9),\n",
       " ('BW>[', 6),\n",
       " ('>KL[', 6),\n",
       " ('CKB[', 6),\n",
       " ('QDC[', 6)]"
      ]
     },
     "execution_count": 12,
     "metadata": {},
     "output_type": "execute_result"
    }
   ],
   "source": [
    "lexemes.most_common(10)"
   ]
  },
  {
   "cell_type": "markdown",
   "metadata": {},
   "source": [
    "We will walk through the indiviual verbs as groups although the participants will not necessarily be annotated similarly in all cases. However, some of the ambiguities pertaining to the verbs may be relevant for more cases.\n",
    "\n",
    "To begin with, we skip the \"dummy-verb\" HJH."
   ]
  },
  {
   "cell_type": "code",
   "execution_count": 13,
   "metadata": {},
   "outputs": [],
   "source": [
    "#We create a list of verbs sorted according to frequency. The most common to be reviewed first:\n",
    "lex = list(collections.OrderedDict(sorted(lexemes.items(), key=itemgetter(1), reverse=True)))"
   ]
  },
  {
   "cell_type": "markdown",
   "metadata": {},
   "source": [
    "Only the most important discussions will be provided here. Many choices are explained in the comments in the dataset."
   ]
  },
  {
   "cell_type": "code",
   "execution_count": 267,
   "metadata": {
    "scrolled": false
   },
   "outputs": [],
   "source": [
    "def show(lex, data=df, highlight=str):\n",
    "    \n",
    "    subset = data[data.lex == lex]\n",
    "    clauses = list(subset.clause)\n",
    "    \n",
    "    colormap = {}\n",
    "    if highlight:\n",
    "        colormap = {c:'gold' for c in list(subset[highlight])}\n",
    "\n",
    "    for cl in clauses:\n",
    "        display(subset[subset.clause == cl])\n",
    "        A.pretty(cl, highlights=colormap)\n",
    "\n",
    "#show(lex[1])"
   ]
  },
  {
   "cell_type": "markdown",
   "metadata": {},
   "source": [
    "#### LQX \"take\"\n",
    "\n",
    "General notes:\n",
    "1. It is difficult to know whether the object (a woman) is voluntarily \"taken\", that is, married to a man, or whether she is depicted as indifferent or even agaist her will. The most natural answer would be that the will of the woman is not within the horizon of the text. At least some of the rules seem to express a protection of the woman which suggests that she might not be willing.\n",
    "2. \"To take\" is a transfer where the instigator is also the recipient. For that reason, at a number of occasions the Actor is also marked as affected."
   ]
  },
  {
   "cell_type": "code",
   "execution_count": 460,
   "metadata": {
    "scrolled": false
   },
   "outputs": [],
   "source": [
    "#show(lex[2])"
   ]
  },
  {
   "cell_type": "markdown",
   "metadata": {},
   "source": [
    "#### VM> \"be unclean\"\n",
    "\n",
    "One of the main challenges of annotating VM> is the frequent complement \"with it\" (ב) or \"to it\" (ל), both indicating the source of pollution, or perhaps the instrument for contamination. The usual annotation has been a question mark because it is difficult to assess the specific meaning of this complement. "
   ]
  },
  {
   "cell_type": "code",
   "execution_count": 462,
   "metadata": {
    "scrolled": false
   },
   "outputs": [],
   "source": [
    "#show(lex[3])"
   ]
  },
  {
   "cell_type": "markdown",
   "metadata": {},
   "source": [
    "#### <FH \"make\"\n",
    "\n",
    "The verb frequently occurs with the complement \"for someone\" (ל) which indicates a benefactor. The benefactor is not involved in the event but has an interest in it (in so far it is human) and is indirectly affected by it."
   ]
  },
  {
   "cell_type": "code",
   "execution_count": 463,
   "metadata": {
    "scrolled": false
   },
   "outputs": [],
   "source": [
    "#show(lex[4])"
   ]
  },
  {
   "cell_type": "markdown",
   "metadata": {},
   "source": [
    "#### NF> \"carry\"\n",
    "\n",
    "The verb occurs most often with \"sin\": \"carry his sin\", in other words, \"he is responsible\". I interpret the verb as in non-volitional event because the participant does not want to carry this load. The Undergoer, \"the sin\" is an abstract concept and cannot be affected."
   ]
  },
  {
   "cell_type": "code",
   "execution_count": 80,
   "metadata": {
    "scrolled": true
   },
   "outputs": [],
   "source": [
    "#show(lex[5])"
   ]
  },
  {
   "cell_type": "markdown",
   "metadata": {},
   "source": [
    "#### >KL \"eat\"\n",
    "\n",
    "The verb often occurs with indefinite objects which suggest that the object may not in fact be affected by the event, because there is no real-world meal intended. This phenomenon pertains to other verbs as well, of course."
   ]
  },
  {
   "cell_type": "code",
   "execution_count": 471,
   "metadata": {
    "scrolled": false
   },
   "outputs": [],
   "source": [
    "#show(lex[7])"
   ]
  },
  {
   "cell_type": "markdown",
   "metadata": {},
   "source": [
    "#### CKB \"lie down\"\n",
    "\n",
    "The verb normally means to lie down but here it exclusively means \"to have sex with\". The question is of course wether the other participant (the Undergoer) is willingly engaging or against his/her will. The answer is not provided in the text so all cases have been question marked for Undergoer volition."
   ]
  },
  {
   "cell_type": "code",
   "execution_count": 53,
   "metadata": {
    "scrolled": false
   },
   "outputs": [],
   "source": [
    "#show(lex[8])"
   ]
  },
  {
   "cell_type": "markdown",
   "metadata": {},
   "source": [
    "In the case of adultery expressed by the verb N>P \"commit adultery\", it seems to be intentional for both parties. Here, the Undergoer is probably volitionalּ. Both parties are involved and affected."
   ]
  },
  {
   "cell_type": "code",
   "execution_count": 55,
   "metadata": {},
   "outputs": [],
   "source": [
    "#show(lex[34])"
   ]
  },
  {
   "cell_type": "markdown",
   "metadata": {},
   "source": [
    "See also RB<= \"lie down\":"
   ]
  },
  {
   "cell_type": "code",
   "execution_count": 51,
   "metadata": {},
   "outputs": [],
   "source": [
    "#show(lex[49])"
   ]
  },
  {
   "cell_type": "markdown",
   "metadata": {},
   "source": [
    "#### ZNH \"fornicate\"\n",
    "\n",
    "One of the oblique objects often occuring with ZNH refers to Molok, apparently a god. However, should it be represented as a human being? Perhaps it should in this context because a very concrete, animate verb is used for the relationship between Molok and his worshippers, that of \"fornication\". The object is normally affected and probably also volitional."
   ]
  },
  {
   "cell_type": "code",
   "execution_count": 478,
   "metadata": {
    "scrolled": false
   },
   "outputs": [],
   "source": [
    "#show(lex[10])"
   ]
  },
  {
   "cell_type": "markdown",
   "metadata": {},
   "source": [
    "See also ZBX[ \"slaughter\""
   ]
  },
  {
   "cell_type": "code",
   "execution_count": 510,
   "metadata": {},
   "outputs": [],
   "source": [
    "#show(lex[27])"
   ]
  },
  {
   "cell_type": "markdown",
   "metadata": {},
   "source": [
    "#### NFG \"overtake\"\n",
    "\n",
    "In a few constructions the verb is used to express \"to afford\". In these cases the subject \"the hand\" is taken as referring to the human being and therefore volitional and affected."
   ]
  },
  {
   "cell_type": "code",
   "execution_count": 483,
   "metadata": {},
   "outputs": [],
   "source": [
    "#show(lex[14])"
   ]
  },
  {
   "cell_type": "markdown",
   "metadata": {},
   "source": [
    "See also MY> \"find\":"
   ]
  },
  {
   "cell_type": "code",
   "execution_count": 41,
   "metadata": {},
   "outputs": [],
   "source": [
    "#show(lex[42])"
   ]
  },
  {
   "cell_type": "markdown",
   "metadata": {},
   "source": [
    "#### Harvest terms\n",
    "\n",
    "A number of terms are used for harvest. One of the basic meanings seems to be \"gathering\" of the crops because the addressees of the text are explicitly told to \"leave\" some of the crops to the poor. The issue at stake is therefore not the cutting of the crops itself but the gathering.\n",
    "\n",
    "Therefore, I interpret the verbs primarily as dealing with a transfer where the instigator is also the recipient."
   ]
  },
  {
   "cell_type": "code",
   "execution_count": 504,
   "metadata": {},
   "outputs": [],
   "source": [
    "#show(lex[25])"
   ]
  },
  {
   "cell_type": "code",
   "execution_count": 513,
   "metadata": {},
   "outputs": [],
   "source": [
    "#show(lex[29])"
   ]
  },
  {
   "cell_type": "code",
   "execution_count": 36,
   "metadata": {},
   "outputs": [],
   "source": [
    "#show(lex[39])"
   ]
  },
  {
   "cell_type": "code",
   "execution_count": 59,
   "metadata": {},
   "outputs": [],
   "source": [
    "#show(lex[52])"
   ]
  },
  {
   "cell_type": "markdown",
   "metadata": {},
   "source": [
    "#### RYH \"pay off\"\n",
    "\n",
    "The verb apparently has two meanings in Lev 26. It seems to mean \"enjoy\" (in the context of sabbaths) but also to mean \"pay off\" (in the context of sin). The former case is a fealing and the Actor is then affected. In the latter case, what may be meant by the verb is some kind of \"penitence\" which involves a cognitive process. Therefore, also in this case I regard the Actor is affected. The Undergoers of both meanings are not affected because they are abstract concepts."
   ]
  },
  {
   "cell_type": "code",
   "execution_count": 508,
   "metadata": {},
   "outputs": [],
   "source": [
    "#show(lex[26])"
   ]
  },
  {
   "cell_type": "markdown",
   "metadata": {},
   "source": [
    "#### XLL \"defile\"\n",
    "\n",
    "To defile can both be intentional and unintentional like any other verbs. In practice, however, it is difficult to distinguish unless the text specifies that the defilement happened by accident. In fact, the text seems to accuse the participants for willingly defiling the sanctuary and themselves."
   ]
  },
  {
   "cell_type": "code",
   "execution_count": 21,
   "metadata": {},
   "outputs": [],
   "source": [
    "#show(lex[33])"
   ]
  },
  {
   "cell_type": "markdown",
   "metadata": {},
   "source": [
    "#### JY> \"go out\"\n",
    "\n",
    "The verb often occurs with the complement of deprivation \"from somewhere/someone\". Normally that participant is non-volitionally deprived of the Actor and therefore affected. The annotation will resemble the \"malefactive\"."
   ]
  },
  {
   "cell_type": "code",
   "execution_count": 31,
   "metadata": {},
   "outputs": [],
   "source": [
    "#show(lex[37])"
   ]
  },
  {
   "cell_type": "markdown",
   "metadata": {},
   "source": [
    "#### YWH \"command\"\n",
    "\n",
    "The Undergoer of \"command\" is affected because it senses the utterance and is cognitively activated. The Undergoer is probably also volitional in so far as the command itself is not maleficient to the participant."
   ]
  },
  {
   "cell_type": "code",
   "execution_count": 33,
   "metadata": {},
   "outputs": [],
   "source": [
    "#show(lex[38])"
   ]
  },
  {
   "cell_type": "markdown",
   "metadata": {},
   "source": [
    "#### MKR \"sell\"\n",
    "\n",
    "\"To sell\" involves a seller and a buyer. Both are affected because the seller looses his possession while the buyer comes into possession. In Hebrew both aspects can be emphasized in the text but need not be."
   ]
  },
  {
   "cell_type": "code",
   "execution_count": 39,
   "metadata": {},
   "outputs": [],
   "source": [
    "#show(lex[41])"
   ]
  },
  {
   "cell_type": "markdown",
   "metadata": {},
   "source": [
    "#### GNB \"steal\"\n",
    "\n",
    "Steal involves both a recipient and a source who is deprived of an object. The focus seems to be on the one being deprived and not on the party who benefits from the event."
   ]
  },
  {
   "cell_type": "code",
   "execution_count": 61,
   "metadata": {},
   "outputs": [],
   "source": [
    "#show(lex[53])"
   ]
  },
  {
   "cell_type": "markdown",
   "metadata": {},
   "source": [
    "See also GZL \"tear away\":"
   ]
  },
  {
   "cell_type": "code",
   "execution_count": 67,
   "metadata": {},
   "outputs": [],
   "source": [
    "#show(lex[56])"
   ]
  },
  {
   "cell_type": "markdown",
   "metadata": {},
   "source": [
    "#### <MD \"stand\"\n",
    "\n",
    "In Lev 19:16 the verb is used in peculiar construction: \"You shall not stand upon the blood of your fellow\". The clause has been translated differently, such as \"you shall not profit by the blood of your neighbor\". The Actor is apparently affected in that he gains from the event. The Undergoer is negatively affected."
   ]
  },
  {
   "cell_type": "code",
   "execution_count": 71,
   "metadata": {},
   "outputs": [],
   "source": [
    "#show(lex[59])"
   ]
  },
  {
   "cell_type": "markdown",
   "metadata": {},
   "source": [
    "#### MVH \"totter\"\n",
    "\n",
    "The verb comes with a complement \"with (you)\" that may be interpreted as the orientation of the event: \"and his hand is waving toward you/in your direction\". More likely, however, the complement describes the location, similar to \"in your midst\". In that case the Undergoer described by the complement phrase is not involved in the event nor affected."
   ]
  },
  {
   "cell_type": "code",
   "execution_count": 122,
   "metadata": {},
   "outputs": [],
   "source": [
    "#show(lex[91])"
   ]
  },
  {
   "cell_type": "markdown",
   "metadata": {},
   "source": [
    "A similar example is found with MWK \"grow poor\":"
   ]
  },
  {
   "cell_type": "code",
   "execution_count": 123,
   "metadata": {
    "scrolled": true
   },
   "outputs": [],
   "source": [
    "#show(lex[93])"
   ]
  },
  {
   "cell_type": "markdown",
   "metadata": {},
   "source": [
    "### Next steps\n",
    "\n",
    "1. Cross-check all verbs. If the Actor and Undergoer(s) are annotated differently, then investigate\n",
    "2. Manually check all complement phrases (not marked for Volition and Affectedness)"
   ]
  },
  {
   "cell_type": "markdown",
   "metadata": {},
   "source": [
    "### Cross-checking all verbs\n",
    "\n",
    "In this step of validation of all verbs are investigated as to the annotation of each participant (Actor, Undergoer1 and Undergoer2). That participants may be annotated differently is not a in itself a problem because the role of the participant is a relational feature and not predicated by the verb. Nevertheless, the participants of a particular verb may often share certain features and therefore be annotated similarly.\n",
    "\n",
    "By undertaking this kind of validation, we explore the dataset from a different angle which may avoid biases coming from investigation the dataset from A to Z. "
   ]
  },
  {
   "cell_type": "markdown",
   "metadata": {},
   "source": [
    "We first import the corrected dataset and add a new column with lexemes:"
   ]
  },
  {
   "cell_type": "code",
   "execution_count": 9,
   "metadata": {},
   "outputs": [],
   "source": [
    "#A dictionary of columns to be imported as integers.\n",
    "int_cols = {col:'Int64' for col in ['clause','Act_phr','Und1_phr','Und2_phr']}\n",
    "\n",
    "data = pd.read_csv(f'{PATH}Lev17-26.Volition_Affectedness_all_cor.csv', dtype=int_cols)"
   ]
  },
  {
   "cell_type": "code",
   "execution_count": 148,
   "metadata": {},
   "outputs": [],
   "source": [
    "lexemes = []\n",
    "\n",
    "for cl in list(data.clause):\n",
    "    for w in L.d(cl, 'word'):\n",
    "        if F.pdp.v(w) == 'verb':\n",
    "            lexemes.append(F.lex.v(w))\n",
    "            \n",
    "len(lexemes)\n",
    "\n",
    "#Insert as new column\n",
    "data.insert(2, \"lex\", lexemes)"
   ]
  },
  {
   "cell_type": "code",
   "execution_count": 149,
   "metadata": {},
   "outputs": [
    {
     "data": {
      "text/html": [
       "<div>\n",
       "<style scoped>\n",
       "    .dataframe tbody tr th:only-of-type {\n",
       "        vertical-align: middle;\n",
       "    }\n",
       "\n",
       "    .dataframe tbody tr th {\n",
       "        vertical-align: top;\n",
       "    }\n",
       "\n",
       "    .dataframe thead th {\n",
       "        text-align: right;\n",
       "    }\n",
       "</style>\n",
       "<table border=\"1\" class=\"dataframe\">\n",
       "  <thead>\n",
       "    <tr style=\"text-align: right;\">\n",
       "      <th></th>\n",
       "      <th>Unnamed: 0</th>\n",
       "      <th>clause</th>\n",
       "      <th>lex</th>\n",
       "      <th>Act_phr</th>\n",
       "      <th>Act_vol</th>\n",
       "      <th>Act_aff</th>\n",
       "      <th>Und1_phr</th>\n",
       "      <th>Und1_vol</th>\n",
       "      <th>Und1_aff</th>\n",
       "      <th>Und2_phr</th>\n",
       "      <th>Und2_vol</th>\n",
       "      <th>Und2_aff</th>\n",
       "      <th>comment</th>\n",
       "    </tr>\n",
       "  </thead>\n",
       "  <tbody>\n",
       "    <tr>\n",
       "      <th>0</th>\n",
       "      <td>0</td>\n",
       "      <td>439650</td>\n",
       "      <td>DBR[</td>\n",
       "      <td>688348</td>\n",
       "      <td>y</td>\n",
       "      <td>n</td>\n",
       "      <td>688349</td>\n",
       "      <td>n</td>\n",
       "      <td>n</td>\n",
       "      <td>NaN</td>\n",
       "      <td>NaN</td>\n",
       "      <td>NaN</td>\n",
       "      <td>NaN</td>\n",
       "    </tr>\n",
       "    <tr>\n",
       "      <th>1</th>\n",
       "      <td>1</td>\n",
       "      <td>439651</td>\n",
       "      <td>&gt;MR[</td>\n",
       "      <td>688350</td>\n",
       "      <td>y</td>\n",
       "      <td>n</td>\n",
       "      <td>NaN</td>\n",
       "      <td>NaN</td>\n",
       "      <td>NaN</td>\n",
       "      <td>NaN</td>\n",
       "      <td>NaN</td>\n",
       "      <td>NaN</td>\n",
       "      <td>NaN</td>\n",
       "    </tr>\n",
       "    <tr>\n",
       "      <th>2</th>\n",
       "      <td>2</td>\n",
       "      <td>439652</td>\n",
       "      <td>DBR[</td>\n",
       "      <td>688351</td>\n",
       "      <td>y</td>\n",
       "      <td>n</td>\n",
       "      <td>688352</td>\n",
       "      <td>n</td>\n",
       "      <td>n</td>\n",
       "      <td>NaN</td>\n",
       "      <td>NaN</td>\n",
       "      <td>NaN</td>\n",
       "      <td>NaN</td>\n",
       "    </tr>\n",
       "    <tr>\n",
       "      <th>3</th>\n",
       "      <td>3</td>\n",
       "      <td>439653</td>\n",
       "      <td>&gt;MR[</td>\n",
       "      <td>688354</td>\n",
       "      <td>y</td>\n",
       "      <td>n</td>\n",
       "      <td>688355</td>\n",
       "      <td>n</td>\n",
       "      <td>n</td>\n",
       "      <td>NaN</td>\n",
       "      <td>NaN</td>\n",
       "      <td>NaN</td>\n",
       "      <td>NaN</td>\n",
       "    </tr>\n",
       "    <tr>\n",
       "      <th>4</th>\n",
       "      <td>4</td>\n",
       "      <td>439655</td>\n",
       "      <td>YWH[</td>\n",
       "      <td>688360</td>\n",
       "      <td>y</td>\n",
       "      <td>n</td>\n",
       "      <td>688358</td>\n",
       "      <td>n</td>\n",
       "      <td>n</td>\n",
       "      <td>NaN</td>\n",
       "      <td>NaN</td>\n",
       "      <td>NaN</td>\n",
       "      <td>NaN</td>\n",
       "    </tr>\n",
       "  </tbody>\n",
       "</table>\n",
       "</div>"
      ],
      "text/plain": [
       "   Unnamed: 0  clause   lex  Act_phr Act_vol Act_aff  Und1_phr Und1_vol  \\\n",
       "0           0  439650  DBR[   688348       y       n    688349        n   \n",
       "1           1  439651  >MR[   688350       y       n       NaN      NaN   \n",
       "2           2  439652  DBR[   688351       y       n    688352        n   \n",
       "3           3  439653  >MR[   688354       y       n    688355        n   \n",
       "4           4  439655  YWH[   688360       y       n    688358        n   \n",
       "\n",
       "  Und1_aff  Und2_phr Und2_vol Und2_aff comment  \n",
       "0        n       NaN      NaN      NaN     NaN  \n",
       "1      NaN       NaN      NaN      NaN     NaN  \n",
       "2        n       NaN      NaN      NaN     NaN  \n",
       "3        n       NaN      NaN      NaN     NaN  \n",
       "4        n       NaN      NaN      NaN     NaN  "
      ]
     },
     "execution_count": 149,
     "metadata": {},
     "output_type": "execute_result"
    }
   ],
   "source": [
    "data.head()"
   ]
  },
  {
   "cell_type": "markdown",
   "metadata": {},
   "source": [
    "The resulting dataset is exported:"
   ]
  },
  {
   "cell_type": "code",
   "execution_count": 207,
   "metadata": {},
   "outputs": [],
   "source": [
    "data.to_csv(f'{PATH}Lev17-26.Volition_Affectedness_all_cor_1.csv')"
   ]
  },
  {
   "cell_type": "markdown",
   "metadata": {},
   "source": [
    "We are now ready to evaluate the participants of each lexeme. The procedure is simply to create subsets for each participant in the dataset and to explore whether they contain more than one annotation (excluding empty cells):"
   ]
  },
  {
   "cell_type": "code",
   "execution_count": 176,
   "metadata": {},
   "outputs": [],
   "source": [
    "def evaluate(role, df=data):\n",
    "    mismatches = set()\n",
    "    \n",
    "    for lex in list(df.lex):\n",
    "        subset = df[df.lex == lex]\n",
    "        \n",
    "        aspects = ['vol','aff']\n",
    "        \n",
    "        for asp in aspects:\n",
    "            anno = subset[subset[f'{role}_{asp}'].notna()][f'{role}_{asp}']\n",
    "            anno = set(anno)\n",
    "        \n",
    "            if len(anno) > 1:\n",
    "                mismatches.add(lex)\n",
    "                \n",
    "    return list(mismatches)"
   ]
  },
  {
   "cell_type": "markdown",
   "metadata": {},
   "source": [
    "#### Actor"
   ]
  },
  {
   "cell_type": "code",
   "execution_count": 184,
   "metadata": {},
   "outputs": [
    {
     "data": {
      "text/plain": [
       "47"
      ]
     },
     "execution_count": 184,
     "metadata": {},
     "output_type": "execute_result"
    }
   ],
   "source": [
    "Actor = evaluate('Act')\n",
    "len(Actor)"
   ]
  },
  {
   "cell_type": "markdown",
   "metadata": {},
   "source": [
    "47 verbs are annotated differently with respect to the Actor role. We will explore them one by one and discuss the most important implications here:"
   ]
  },
  {
   "cell_type": "markdown",
   "metadata": {},
   "source": [
    "##### Harvest verbs\n",
    "\n",
    "All harvest verbs are treated as expressing \"gathering\" or \"collecting\", therefore a transfer where the Actor is also the recipient (unless otherwise stated in the clause):"
   ]
  },
  {
   "cell_type": "code",
   "execution_count": 192,
   "metadata": {},
   "outputs": [],
   "source": [
    "#show(Actor[4], data)"
   ]
  },
  {
   "cell_type": "code",
   "execution_count": 193,
   "metadata": {
    "scrolled": false
   },
   "outputs": [],
   "source": [
    "#show(Actor[5], data)"
   ]
  },
  {
   "cell_type": "code",
   "execution_count": 243,
   "metadata": {
    "scrolled": false
   },
   "outputs": [],
   "source": [
    "#show(Actor[44], data)"
   ]
  },
  {
   "cell_type": "markdown",
   "metadata": {},
   "source": [
    "##### *Qal* - *Hiphil* alternations\n",
    "\n",
    "Many differences in the affectedness of the Actor are uncontroversial and stem from the alternation between *Qal* and *Hiphil* where the *Hiphil* expresses a causative situation where the Undergoer is undergoing the event in contrast to *Qal* where the Actor is undergoing the event, e.g. QRB \"approach\":"
   ]
  },
  {
   "cell_type": "code",
   "execution_count": 201,
   "metadata": {},
   "outputs": [],
   "source": [
    "#show(Actor[6], data)"
   ]
  },
  {
   "cell_type": "markdown",
   "metadata": {},
   "source": [
    "##### Human and nonhuman participants\n",
    "\n",
    "One major deviation is caused by the fact that many verbs occur both with human (normally volitional) and nonhuman (nonvolitional) participants, e.g.:"
   ]
  },
  {
   "cell_type": "code",
   "execution_count": 219,
   "metadata": {
    "scrolled": false
   },
   "outputs": [],
   "source": [
    "#show(Actor[21], data)"
   ]
  },
  {
   "cell_type": "markdown",
   "metadata": {},
   "source": [
    "#### Undergoer 1"
   ]
  },
  {
   "cell_type": "code",
   "execution_count": 269,
   "metadata": {},
   "outputs": [
    {
     "name": "stdout",
     "output_type": "stream",
     "text": [
      "Number of verbs to be evaluated: 48\n"
     ]
    }
   ],
   "source": [
    "Und1 = evaluate('Und1')\n",
    "print(f'Number of verbs to be evaluated: {len(Und1)}')"
   ]
  },
  {
   "cell_type": "markdown",
   "metadata": {},
   "source": [
    "##### VM> \"be unclean\"\n",
    "\n",
    "The verb is usually found in combination with a complement phrase denoting either source or instrument. The complement phrase is formed either by ל \"to/by\" or ב \"with\". The prepositions can have meanings, though. Therefore, the usual annotation has been to treat the Undergoers as neutral, that is, not affected and not instigating. It is not obvious to see a woman or a body as an Instrument, because who is handling the \"instrument\". It is better to perceive the complement as denoting a source of contamination, the source itself not being affected because it is already unclean. "
   ]
  },
  {
   "cell_type": "code",
   "execution_count": 289,
   "metadata": {
    "scrolled": false
   },
   "outputs": [],
   "source": [
    "#show(Und1[15], data, highlight='Und1_phr')"
   ]
  },
  {
   "cell_type": "markdown",
   "metadata": {},
   "source": [
    "##### >KL \"eat\"\n",
    "\n",
    "The Undergoer of \"eat\" is usually the thing consumed. Normally, one can expect the Undergoer to be affected because it is eaten. However, many times in this text the Undergoer is not specific as to an amount of food. On the other hand, it is difficult to distinguish specific and unspecific entities because it is a juridical text dealing with hypothetical cases that are assumed to take place.\n",
    "\n",
    "The most promissing distinction is between concrete and abstract entities."
   ]
  },
  {
   "cell_type": "code",
   "execution_count": 302,
   "metadata": {
    "scrolled": true
   },
   "outputs": [],
   "source": [
    "#show(Und1[16], data, highlight='Und1_phr')"
   ]
  },
  {
   "cell_type": "markdown",
   "metadata": {},
   "source": [
    "##### DBR \"speak\"\n",
    "\n",
    "The addressees of \"speak\" are not directly involved in the event. They are, however, affected because they experience the speech. In terms of volition, what is significant for this verb is not so much whether the speech benefits the addressees but that the experience requires a volitional/sentient listener."
   ]
  },
  {
   "cell_type": "code",
   "execution_count": 323,
   "metadata": {
    "scrolled": true
   },
   "outputs": [],
   "source": [
    "#show(Und1[41], data, highlight='Und1_phr')"
   ]
  },
  {
   "cell_type": "markdown",
   "metadata": {},
   "source": [
    "#### Undergoer 2"
   ]
  },
  {
   "cell_type": "code",
   "execution_count": 332,
   "metadata": {},
   "outputs": [
    {
     "name": "stdout",
     "output_type": "stream",
     "text": [
      "Number of verbs to be evaluated: 15\n"
     ]
    }
   ],
   "source": [
    "Und2 = evaluate('Und2')\n",
    "print(f'Number of verbs to be evaluated: {len(Und2)}')"
   ]
  },
  {
   "cell_type": "markdown",
   "metadata": {},
   "source": [
    "##### BDL \"separate\"\n",
    "\n",
    "\"Separate\" can be a physical separation where an Undergoer is taken away from another Undergoer (the latter probably not affected). Or the verb can be \"distinguish\" which is basically a cognitive task and the Undergoers are not affected. "
   ]
  },
  {
   "cell_type": "code",
   "execution_count": 339,
   "metadata": {
    "scrolled": false
   },
   "outputs": [],
   "source": [
    "#show(Und2[1], data, highlight='Und2_phr')"
   ]
  },
  {
   "cell_type": "markdown",
   "metadata": {},
   "source": [
    "##### Locative complements\n",
    "\n",
    "Normally, locative complements are treated as neutral because they merely describe a location of an event, or the source or the endpoint. They are not themselves affected by the event.\n",
    "\n",
    "There are exceptions, however. When YHWH sends plague \"among Israel\", the participant is certainly affected:"
   ]
  },
  {
   "cell_type": "code",
   "execution_count": 350,
   "metadata": {},
   "outputs": [],
   "source": [
    "#show(Und2[7], data, highlight='Und2_phr')"
   ]
  },
  {
   "cell_type": "markdown",
   "metadata": {},
   "source": [
    "And also when YHWH sends fear into the hearts of the people:"
   ]
  },
  {
   "cell_type": "code",
   "execution_count": 352,
   "metadata": {
    "scrolled": false
   },
   "outputs": [],
   "source": [
    "#show(Und2[9], data, highlight='Und2_phr')"
   ]
  },
  {
   "cell_type": "markdown",
   "metadata": {},
   "source": [
    "### Reviewing complement phrases\n",
    "\n",
    "The final validation step involves a manual inspection of all complement phrases in the text not marked for [+VOL] and [+AFF].\n",
    "\n",
    "First we import the latest update of the data:"
   ]
  },
  {
   "cell_type": "code",
   "execution_count": 11,
   "metadata": {},
   "outputs": [
    {
     "data": {
      "text/html": [
       "<div>\n",
       "<style scoped>\n",
       "    .dataframe tbody tr th:only-of-type {\n",
       "        vertical-align: middle;\n",
       "    }\n",
       "\n",
       "    .dataframe tbody tr th {\n",
       "        vertical-align: top;\n",
       "    }\n",
       "\n",
       "    .dataframe thead th {\n",
       "        text-align: right;\n",
       "    }\n",
       "</style>\n",
       "<table border=\"1\" class=\"dataframe\">\n",
       "  <thead>\n",
       "    <tr style=\"text-align: right;\">\n",
       "      <th></th>\n",
       "      <th>Unnamed: 0</th>\n",
       "      <th>Unnamed: 0.1</th>\n",
       "      <th>clause</th>\n",
       "      <th>lex</th>\n",
       "      <th>Act_phr</th>\n",
       "      <th>Act_vol</th>\n",
       "      <th>Act_aff</th>\n",
       "      <th>Und1_phr</th>\n",
       "      <th>Und1_vol</th>\n",
       "      <th>Und1_aff</th>\n",
       "      <th>Und2_phr</th>\n",
       "      <th>Und2_vol</th>\n",
       "      <th>Und2_aff</th>\n",
       "      <th>comment</th>\n",
       "    </tr>\n",
       "  </thead>\n",
       "  <tbody>\n",
       "    <tr>\n",
       "      <th>0</th>\n",
       "      <td>0</td>\n",
       "      <td>0</td>\n",
       "      <td>439650</td>\n",
       "      <td>DBR[</td>\n",
       "      <td>688348</td>\n",
       "      <td>y</td>\n",
       "      <td>n</td>\n",
       "      <td>688349</td>\n",
       "      <td>y</td>\n",
       "      <td>y</td>\n",
       "      <td>NaN</td>\n",
       "      <td>NaN</td>\n",
       "      <td>NaN</td>\n",
       "      <td>NaN</td>\n",
       "    </tr>\n",
       "    <tr>\n",
       "      <th>1</th>\n",
       "      <td>1</td>\n",
       "      <td>1</td>\n",
       "      <td>439651</td>\n",
       "      <td>&gt;MR[</td>\n",
       "      <td>688350</td>\n",
       "      <td>y</td>\n",
       "      <td>n</td>\n",
       "      <td>NaN</td>\n",
       "      <td>NaN</td>\n",
       "      <td>NaN</td>\n",
       "      <td>NaN</td>\n",
       "      <td>NaN</td>\n",
       "      <td>NaN</td>\n",
       "      <td>NaN</td>\n",
       "    </tr>\n",
       "    <tr>\n",
       "      <th>2</th>\n",
       "      <td>2</td>\n",
       "      <td>2</td>\n",
       "      <td>439652</td>\n",
       "      <td>DBR[</td>\n",
       "      <td>688351</td>\n",
       "      <td>y</td>\n",
       "      <td>n</td>\n",
       "      <td>688352</td>\n",
       "      <td>y</td>\n",
       "      <td>y</td>\n",
       "      <td>NaN</td>\n",
       "      <td>NaN</td>\n",
       "      <td>NaN</td>\n",
       "      <td>NaN</td>\n",
       "    </tr>\n",
       "    <tr>\n",
       "      <th>3</th>\n",
       "      <td>3</td>\n",
       "      <td>3</td>\n",
       "      <td>439653</td>\n",
       "      <td>&gt;MR[</td>\n",
       "      <td>688354</td>\n",
       "      <td>y</td>\n",
       "      <td>n</td>\n",
       "      <td>688355</td>\n",
       "      <td>n</td>\n",
       "      <td>n</td>\n",
       "      <td>NaN</td>\n",
       "      <td>NaN</td>\n",
       "      <td>NaN</td>\n",
       "      <td>NaN</td>\n",
       "    </tr>\n",
       "    <tr>\n",
       "      <th>4</th>\n",
       "      <td>4</td>\n",
       "      <td>4</td>\n",
       "      <td>439655</td>\n",
       "      <td>YWH[</td>\n",
       "      <td>688360</td>\n",
       "      <td>y</td>\n",
       "      <td>n</td>\n",
       "      <td>688358</td>\n",
       "      <td>n</td>\n",
       "      <td>n</td>\n",
       "      <td>NaN</td>\n",
       "      <td>NaN</td>\n",
       "      <td>NaN</td>\n",
       "      <td>NaN</td>\n",
       "    </tr>\n",
       "  </tbody>\n",
       "</table>\n",
       "</div>"
      ],
      "text/plain": [
       "   Unnamed: 0  Unnamed: 0.1  clause   lex  Act_phr Act_vol Act_aff  Und1_phr  \\\n",
       "0           0             0  439650  DBR[   688348       y       n    688349   \n",
       "1           1             1  439651  >MR[   688350       y       n       NaN   \n",
       "2           2             2  439652  DBR[   688351       y       n    688352   \n",
       "3           3             3  439653  >MR[   688354       y       n    688355   \n",
       "4           4             4  439655  YWH[   688360       y       n    688358   \n",
       "\n",
       "  Und1_vol Und1_aff  Und2_phr Und2_vol Und2_aff comment  \n",
       "0        y        y       NaN      NaN      NaN     NaN  \n",
       "1      NaN      NaN       NaN      NaN      NaN     NaN  \n",
       "2        y        y       NaN      NaN      NaN     NaN  \n",
       "3        n        n       NaN      NaN      NaN     NaN  \n",
       "4        n        n       NaN      NaN      NaN     NaN  "
      ]
     },
     "execution_count": 11,
     "metadata": {},
     "output_type": "execute_result"
    }
   ],
   "source": [
    "#A dictionary of columns to be imported as integers.\n",
    "int_cols = {col:'Int64' for col in ['clause','Act_phr','Und1_phr','Und2_phr']}\n",
    "\n",
    "data = pd.read_csv(f'{PATH}Lev17-26.Volition_Affectedness_all_cor_2.csv', dtype=int_cols)\n",
    "\n",
    "data.head()"
   ]
  },
  {
   "cell_type": "markdown",
   "metadata": {},
   "source": [
    "We extract all complements in the text (Lev 17-26) and check if they have been annotated:"
   ]
  },
  {
   "cell_type": "code",
   "execution_count": 12,
   "metadata": {},
   "outputs": [
    {
     "name": "stdout",
     "output_type": "stream",
     "text": [
      "  0.45s 481 results\n"
     ]
    }
   ],
   "source": [
    "all_Cmpl = '''\n",
    "book book=Leviticus\n",
    " chapter chapter=17|18|19|20|21|22|23|24|25|26\n",
    "  clause\n",
    "   phrase function=Cmpl\n",
    "'''\n",
    "\n",
    "all_Cmpl = A.search(all_Cmpl)"
   ]
  },
  {
   "cell_type": "code",
   "execution_count": 13,
   "metadata": {},
   "outputs": [
    {
     "name": "stdout",
     "output_type": "stream",
     "text": [
      "Number of annotated complements: 116\n"
     ]
    }
   ],
   "source": [
    "anno_complements = []\n",
    "\n",
    "for r in all_Cmpl:\n",
    "    Cmpl = r[3]\n",
    "    \n",
    "    cols = ['Act', 'Und1', 'Und2']\n",
    "    for c in cols:\n",
    "        \n",
    "        #Check if Cmpl in particular column:\n",
    "        if Cmpl in (list(data[f'{c}_phr'])):\n",
    "            \n",
    "            #check if +Vol and +Aff:\n",
    "            vol = data[data[f'{c}_phr'] == Cmpl][f'{c}_vol'].item()\n",
    "            aff = data[data[f'{c}_phr'] == Cmpl][f'{c}_aff'].item()\n",
    "            \n",
    "            if vol == 'y' and aff == 'y':\n",
    "                anno_complements.append(Cmpl)\n",
    "                \n",
    "print(f'Number of annotated complements: {len(anno_complements)}')"
   ]
  },
  {
   "cell_type": "code",
   "execution_count": 14,
   "metadata": {},
   "outputs": [
    {
     "name": "stdout",
     "output_type": "stream",
     "text": [
      "Number of complements to be annotated/reviewed: 365\n"
     ]
    }
   ],
   "source": [
    "complements = []\n",
    "\n",
    "for r in all_Cmpl:\n",
    "    Cmpl = r[3]\n",
    "    if Cmpl not in anno_complements:\n",
    "        complements.append(Cmpl)\n",
    "        \n",
    "print(f'Number of complements to be annotated/reviewed: {len(complements)}')"
   ]
  },
  {
   "cell_type": "code",
   "execution_count": 15,
   "metadata": {},
   "outputs": [],
   "source": [
    "def showCmpl(Cmpl, data=data):\n",
    "    clause = L.u(Cmpl, 'clause')[0]\n",
    "    print(f'Clause: {clause}\\nPhrase: {Cmpl}')\n",
    "    \n",
    "    cols = ['Act', 'Und1', 'Und2']\n",
    "    for c in cols:\n",
    "        \n",
    "        #Check if Cmpl in particular column:\n",
    "        if Cmpl in (list(data[f'{c}_phr'])):\n",
    "            \n",
    "            #Extract if Vol and Aff:\n",
    "            vol = data[data[f'{c}_phr'] == Cmpl][f'{c}_vol'].item()\n",
    "            aff = data[data[f'{c}_phr'] == Cmpl][f'{c}_aff'].item()\n",
    "            \n",
    "            print(f'Existing annotation: Vol = {vol} and Aff = {aff}')\n",
    "    \n",
    "    A.pretty(clause, highlights={Cmpl: 'gold'})"
   ]
  },
  {
   "cell_type": "markdown",
   "metadata": {},
   "source": [
    "#### \"In my name\"\n",
    "\n",
    "Is God's name affected by the swearing. On the one hand, the name is an abstract and neither volitional nor affective. On the other hand, the name represents the person bearing it and may therefore very well be affected in the sense of having the person's reputation damaged:"
   ]
  },
  {
   "cell_type": "code",
   "execution_count": 463,
   "metadata": {},
   "outputs": [],
   "source": [
    "#showCmpl(complements[56])"
   ]
  },
  {
   "cell_type": "code",
   "execution_count": 331,
   "metadata": {},
   "outputs": [],
   "source": [
    "n = 0"
   ]
  },
  {
   "cell_type": "code",
   "execution_count": 332,
   "metadata": {},
   "outputs": [
    {
     "name": "stdout",
     "output_type": "stream",
     "text": [
      "Case 0\n",
      "Clause: 439653\n",
      "Phrase: 688355\n",
      "Existing annotation: Vol = n and Aff = n\n"
     ]
    },
    {
     "data": {
      "text/html": [
       "<a href=\"https://shebanq.ancient-data.org/hebrew/text?book=Leviticus&amp;chapter=17&amp;verse=2&amp;version=c&amp;mr=m&amp;qw=q&amp;tp=txt_p&amp;tr=hb&amp;wget=v&amp;qget=v&amp;nget=vt\" title=\"show this passage in SHEBANQ\" sec=\"Leviticus 17:2\">Leviticus 17:2</a>\n",
       "<div class=\"atoms  \" >\n",
       "\n",
       "\n",
       "\n",
       "<div class=\"catom  \" >\n",
       "\n",
       "    <div class=\"clause \" >\n",
       "        <a href=\"https://shebanq.ancient-data.org/hebrew/text?book=Leviticus&amp;chapter=17&amp;verse=2&amp;version=c&amp;mr=m&amp;qw=q&amp;tp=txt_p&amp;tr=hb&amp;wget=v&amp;qget=v&amp;nget=vt\" title=\"Leviticus 17:2\" sec=\"Leviticus 17:2\">clause</a>   <span class=\"typ\">WQt0</span>\n",
       "    </div>\n",
       "    <div class=\"atoms\">\n",
       "\n",
       "<div class=\"patom  \" >\n",
       "\n",
       "    <div class=\"phrase \" >\n",
       "        <a href=\"https://shebanq.ancient-data.org/hebrew/text?book=Leviticus&amp;chapter=17&amp;verse=2&amp;version=c&amp;mr=m&amp;qw=q&amp;tp=txt_p&amp;tr=hb&amp;wget=v&amp;qget=v&amp;nget=vt\" title=\"Leviticus 17:2\" sec=\"Leviticus 17:2\">phrase</a>   <span class=\"function\">Conj</span> <span class=\"typ\">CP</span>\n",
       "    </div>\n",
       "    <div class=\"atoms\">\n",
       "\n",
       "<div class=\"word  \" >\n",
       "<div class=\"h\"><a target=\"_blank\" href=\"https://shebanq.ancient-data.org/hebrew/word?version=c&amp;id=1W\" title=\"show this lexeme in SHEBANQ\">וְ</a></div>\n",
       "<div class=\"features\"> <span class=\"pdp\"><a href=\"https://shebanq.ancient-data.org/hebrew/text?book=Leviticus&amp;chapter=17&amp;verse=2&amp;version=c&amp;mr=m&amp;qw=q&amp;tp=txt_p&amp;tr=hb&amp;wget=v&amp;qget=v&amp;nget=vt\" title=\"Leviticus 17:2\" sec=\"Leviticus 17:2\">conj</a></span> <span class=\"gloss\">and</span></div>\n",
       "\n",
       "\n",
       "</div>\n",
       "\n",
       "\n",
       "    </div>\n",
       "\n",
       "\n",
       "</div>\n",
       "\n",
       "<div class=\"patom  \" >\n",
       "\n",
       "    <div class=\"phrase \" >\n",
       "        <a href=\"https://shebanq.ancient-data.org/hebrew/text?book=Leviticus&amp;chapter=17&amp;verse=2&amp;version=c&amp;mr=m&amp;qw=q&amp;tp=txt_p&amp;tr=hb&amp;wget=v&amp;qget=v&amp;nget=vt\" title=\"Leviticus 17:2\" sec=\"Leviticus 17:2\">phrase</a>   <span class=\"function\">Pred</span> <span class=\"typ\">VP</span>\n",
       "    </div>\n",
       "    <div class=\"atoms\">\n",
       "\n",
       "<div class=\"word  \" >\n",
       "<div class=\"h\"><a target=\"_blank\" href=\"https://shebanq.ancient-data.org/hebrew/word?version=c&amp;id=1AMRv\" title=\"show this lexeme in SHEBANQ\">אָמַרְתָּ֖ </a></div>\n",
       "<div class=\"features\"> <span class=\"pdp\"><a href=\"https://shebanq.ancient-data.org/hebrew/text?book=Leviticus&amp;chapter=17&amp;verse=2&amp;version=c&amp;mr=m&amp;qw=q&amp;tp=txt_p&amp;tr=hb&amp;wget=v&amp;qget=v&amp;nget=vt\" title=\"Leviticus 17:2\" sec=\"Leviticus 17:2\">verb</a></span> <span class=\"gloss\">say</span> <span class=\"vs\">qal</span> <span class=\"vt\">perf</span></div>\n",
       "\n",
       "\n",
       "</div>\n",
       "\n",
       "\n",
       "    </div>\n",
       "\n",
       "\n",
       "</div>\n",
       "\n",
       "<div class=\"patom  hl\"  style=\"background-color: gold;\" >\n",
       "\n",
       "    <div class=\"phrase hl\"  style=\"background-color: gold;\" >\n",
       "        <a href=\"https://shebanq.ancient-data.org/hebrew/text?book=Leviticus&amp;chapter=17&amp;verse=2&amp;version=c&amp;mr=m&amp;qw=q&amp;tp=txt_p&amp;tr=hb&amp;wget=v&amp;qget=v&amp;nget=vt\" title=\"Leviticus 17:2\" sec=\"Leviticus 17:2\">phrase</a>   <span class=\"function\">Cmpl</span> <span class=\"typ\">PP</span>\n",
       "    </div>\n",
       "    <div class=\"atoms\">\n",
       "\n",
       "<div class=\"word  \" >\n",
       "<div class=\"h\"><a target=\"_blank\" href=\"https://shebanq.ancient-data.org/hebrew/word?version=c&amp;id=1AL\" title=\"show this lexeme in SHEBANQ\">אֲלֵיהֶ֑ם </a></div>\n",
       "<div class=\"features\"> <span class=\"pdp\"><a href=\"https://shebanq.ancient-data.org/hebrew/text?book=Leviticus&amp;chapter=17&amp;verse=2&amp;version=c&amp;mr=m&amp;qw=q&amp;tp=txt_p&amp;tr=hb&amp;wget=v&amp;qget=v&amp;nget=vt\" title=\"Leviticus 17:2\" sec=\"Leviticus 17:2\">prep</a></span> <span class=\"gloss\">to</span></div>\n",
       "\n",
       "\n",
       "</div>\n",
       "\n",
       "\n",
       "    </div>\n",
       "\n",
       "\n",
       "</div>\n",
       "\n",
       "\n",
       "    </div>\n",
       "\n",
       "\n",
       "</div>\n",
       "\n",
       "\n",
       "</div>\n"
      ],
      "text/plain": [
       "<IPython.core.display.HTML object>"
      ]
     },
     "metadata": {},
     "output_type": "display_data"
    }
   ],
   "source": [
    "print(f'Case {n}')\n",
    "showCmpl(complements[n])\n",
    "n+=1"
   ]
  }
 ],
 "metadata": {
  "kernelspec": {
   "display_name": "Python 3",
   "language": "python",
   "name": "python3"
  },
  "language_info": {
   "codemirror_mode": {
    "name": "ipython",
    "version": 3
   },
   "file_extension": ".py",
   "mimetype": "text/x-python",
   "name": "python",
   "nbconvert_exporter": "python",
   "pygments_lexer": "ipython3",
   "version": "3.7.3"
  }
 },
 "nbformat": 4,
 "nbformat_minor": 2
}
